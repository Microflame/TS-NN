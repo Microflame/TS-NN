{
 "cells": [
  {
   "cell_type": "code",
   "execution_count": 1,
   "metadata": {
    "collapsed": true
   },
   "outputs": [],
   "source": [
    "import torch\n",
    "import time"
   ]
  },
  {
   "cell_type": "code",
   "execution_count": 2,
   "metadata": {},
   "outputs": [
    {
     "name": "stdout",
     "output_type": "stream",
     "text": [
      "Cuda available: True\n"
     ]
    }
   ],
   "source": [
    "print('Cuda available: {}'.format(torch.cuda.is_available()))"
   ]
  },
  {
   "cell_type": "code",
   "execution_count": 3,
   "metadata": {
    "collapsed": true
   },
   "outputs": [],
   "source": [
    "sz = 10000\n",
    "mtx1 = torch.rand((sz, sz)).cuda()\n",
    "mtx2 = torch.rand((sz, sz)).cuda()"
   ]
  },
  {
   "cell_type": "code",
   "execution_count": 6,
   "metadata": {},
   "outputs": [
    {
     "name": "stdout",
     "output_type": "stream",
     "text": [
      "CUDA [10000x10000] Elapsed: 1.1670682430267334 s.\n"
     ]
    }
   ],
   "source": [
    "start = time.time()\n",
    "mean = 0\n",
    "mtx1 = mtx1.cuda()\n",
    "mtx2 = mtx2.cuda()\n",
    "for i in range(100):\n",
    "    mtx1 = mtx1 * mtx2\n",
    "    mean += torch.mean(mtx1)\n",
    "\n",
    "print('CUDA [{}x{}] Elapsed: {} s.'.format(sz, sz, time.time() - start))"
   ]
  },
  {
   "cell_type": "code",
   "execution_count": 5,
   "metadata": {},
   "outputs": [
    {
     "name": "stdout",
     "output_type": "stream",
     "text": [
      "CPU [10000x10000] Elapsed: 22.289085626602173 s.\n"
     ]
    }
   ],
   "source": [
    "start = time.time()\n",
    "mean = 0\n",
    "mtx1 = mtx1.cpu()\n",
    "mtx2 = mtx2.cpu()\n",
    "for i in range(100):\n",
    "    mtx1 = mtx1 * mtx2\n",
    "    mean += torch.mean(mtx1)\n",
    "\n",
    "print('CPU [{}x{}] Elapsed: {} s.'.format(sz, sz, time.time() - start))"
   ]
  },
  {
   "cell_type": "code",
   "execution_count": null,
   "metadata": {
    "collapsed": true
   },
   "outputs": [],
   "source": []
  }
 ],
 "metadata": {
  "kernelspec": {
   "display_name": "Python 3",
   "language": "python",
   "name": "python3"
  },
  "language_info": {
   "codemirror_mode": {
    "name": "ipython",
    "version": 3
   },
   "file_extension": ".py",
   "mimetype": "text/x-python",
   "name": "python",
   "nbconvert_exporter": "python",
   "pygments_lexer": "ipython3",
   "version": "3.5.2"
  }
 },
 "nbformat": 4,
 "nbformat_minor": 2
}
