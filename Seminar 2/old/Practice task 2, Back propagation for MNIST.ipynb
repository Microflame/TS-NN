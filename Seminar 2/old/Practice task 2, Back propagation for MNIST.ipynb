{
 "cells": [
  {
   "cell_type": "markdown",
   "metadata": {},
   "source": [
    "## Семинар 2 \"Распознавание рукописных цифр\""
   ]
  },
  {
   "cell_type": "markdown",
   "metadata": {},
   "source": [
    "ФИО: "
   ]
  },
  {
   "cell_type": "markdown",
   "metadata": {},
   "source": [
    "В этом задании мы используем нейронную сеть из предыдущего семинара для распознавания рукописных цифр. Также мы исследуем как влияет выбор нелинейности и предобработка данных на качество классификации. \n",
    "\n",
    "Чтобы не тратить время на подготовку данных, мы прилагаем готовый код с примером использования для получения обучающей и тестовой выборок. Для запуска скрипта вам понадобится библиотека PyTorch (инструкции по установке можно найти на сайте <a href=\"http://pytorch.org\">pytorch.org</a>)"
   ]
  },
  {
   "cell_type": "code",
   "execution_count": 1,
   "metadata": {
    "collapsed": true
   },
   "outputs": [],
   "source": [
    "import matplotlib.pyplot as plt\n",
    "from torch.utils.data import DataLoader\n",
    "from torchvision.datasets import MNIST\n",
    "from torchvision import transforms\n",
    "import numpy as np\n",
    "%matplotlib inline"
   ]
  },
  {
   "cell_type": "code",
   "execution_count": 133,
   "metadata": {},
   "outputs": [],
   "source": [
    "def fnc(*args1, **args2):\n",
    "    for a in args1:\n",
    "        print(a)"
   ]
  },
  {
   "cell_type": "code",
   "execution_count": 136,
   "metadata": {},
   "outputs": [],
   "source": [
    "to_numpy = lambda x: x.numpy()\n",
    "\n",
    "transform = transforms.Compose([\n",
    "                       transforms.ToTensor(),\n",
    "                       transforms.Normalize((0.1307,), (0.3081,)),\n",
    "                    ])\n",
    "train_dataset = MNIST('.', train=True, download=True, transform=transform)\n",
    "test_dataset = MNIST('.', train=False, transform=transform)\n",
    "\n",
    "train_loader = DataLoader(train_dataset, batch_size=32, shuffle=True)\n",
    "test_loader = DataLoader(test_dataset, batch_size=32, shuffle=True)"
   ]
  },
  {
   "cell_type": "code",
   "execution_count": 137,
   "metadata": {
    "scrolled": false
   },
   "outputs": [],
   "source": [
    "## Usage example:\n",
    "for X, y in train_loader:\n",
    "    X = X.view(X.size(0), -1)\n",
    "    X = X.numpy() ### Converts torch.Tensor to numpy array\n",
    "    y = y.numpy()\n",
    "    pass"
   ]
  },
  {
   "cell_type": "code",
   "execution_count": 118,
   "metadata": {},
   "outputs": [
    {
     "data": {
      "image/png": "[encoded data removed]",
      "text/plain": [
       "<matplotlib.figure.Figure at 0x10fb40ac8>"
      ]
     },
     "metadata": {},
     "output_type": "display_data"
    }
   ],
   "source": [
    "plt.figure(figsize=(6, 7))\n",
    "for i in range(25):\n",
    "    plt.subplot(5, 5, i+1)\n",
    "    plt.imshow(X[i].reshape(28, 28), cmap=plt.cm.Greys_r)\n",
    "    plt.title(y[i])\n",
    "    plt.axis('off')"
   ]
  },
  {
   "cell_type": "markdown",
   "metadata": {},
   "source": [
    "### Часть 1: MNIST\n",
    "Обучите полносвязную нейронную сеть с архитектурой 784-100-100-10 и сигмоидой в качестве нелинейности. Какую точность классификации удалось получить? Нарисуйте график сходимости на обучающей и тестовой выборках. В качестве темпа обучения (learning rate) возьмите 0.01"
   ]
  },
  {
   "cell_type": "code",
   "execution_count": 15,
   "metadata": {},
   "outputs": [
    {
     "name": "stdout",
     "output_type": "stream",
     "text": [
      "The autoreload extension is already loaded. To reload it, use:\n",
      "  %reload_ext autoreload\n"
     ]
    }
   ],
   "source": [
    "%load_ext autoreload"
   ]
  },
  {
   "cell_type": "code",
   "execution_count": 16,
   "metadata": {
    "collapsed": true
   },
   "outputs": [],
   "source": [
    "%autoreload 2"
   ]
  },
  {
   "cell_type": "code",
   "execution_count": 179,
   "metadata": {},
   "outputs": [],
   "source": [
    "from net import NeuralNetwork, Sigmoid, Linear, NLLLoss, ReLU, ELU\n",
    "\n",
    "def train(net, epochs, learning_rate=1e-2, verbose=True):\n",
    "    losses = []\n",
    "    accs = []\n",
    "    for i in range(epochs):\n",
    "        nll = NLLLoss()\n",
    "        for j, (X, y) in enumerate(train_loader):\n",
    "            X = X.view(X.size(0), -1)\n",
    "            X = X.numpy() ### Converts torch.Tensor to numpy array\n",
    "            y = y.numpy()\n",
    "            y_ = nn.forward(X)\n",
    "            loss = nll.forward(y_, y)\n",
    "            dLdy = nll.backward()\n",
    "            nn.backward(dLdy)\n",
    "            nn.step(1e-2)\n",
    "            if j % 500 == 0:\n",
    "                print(j, ': ', loss)\n",
    "        loss = 0\n",
    "        acc = 0\n",
    "        _n = 0\n",
    "        for X, y in train_loader:\n",
    "            X = X.view(X.size(0), -1)\n",
    "            X = X.numpy() ### Converts torch.Tensor to numpy array\n",
    "            y = y.numpy()\n",
    "            y_ = nn.forward(X)\n",
    "            acc += np.mean(np.argmax(y_, axis=1) == y)\n",
    "            loss += nll.forward(y_, y)\n",
    "            _n += 1\n",
    "        loss /= _n\n",
    "        acc /= _n\n",
    "        losses.append(loss)\n",
    "        accs.append(acc)\n",
    "        print('Test at', i, '. Loss:', loss, 'Accuracy:', acc)\n",
    "    return net, losses"
   ]
  },
  {
   "cell_type": "code",
   "execution_count": 176,
   "metadata": {},
   "outputs": [
    {
     "name": "stdout",
     "output_type": "stream",
     "text": [
      "0 :  2.33519992089\n",
      "100 :  0.933673570852\n",
      "200 :  0.55057882038\n",
      "300 :  0.380093288891\n",
      "400 :  0.289258326371\n",
      "500 :  0.367137157808\n",
      "600 :  0.302159345111\n",
      "700 :  0.205046695319\n",
      "800 :  0.143533245843\n",
      "900 :  0.375683130214\n",
      "1000 :  0.312680295789\n",
      "1100 :  0.47621843458\n",
      "1200 :  0.13217702063\n",
      "1300 :  0.347979404323\n",
      "1400 :  0.100112852079\n",
      "1500 :  0.60291489811\n",
      "1600 :  0.337680149457\n",
      "1700 :  0.292379932596\n",
      "1800 :  0.179114841893\n",
      "Test at 0 . Loss: 0.196756771381 Accuracy: 0.94395\n",
      "0 :  0.213844695832\n",
      "100 :  0.149168635432\n",
      "200 :  0.0637341085845\n",
      "300 :  0.0756661359272\n",
      "400 :  0.152971529109\n",
      "500 :  0.164715855944\n",
      "600 :  0.475231764353\n",
      "700 :  0.454688620959\n",
      "800 :  0.331003893738\n",
      "900 :  0.0880082854199\n",
      "1000 :  0.293758619971\n",
      "1100 :  0.164723948472\n",
      "1200 :  0.0839040289556\n",
      "1300 :  0.410208222878\n",
      "1400 :  0.287295781299\n",
      "1500 :  0.157701634783\n",
      "1600 :  0.117457003982\n",
      "1700 :  0.717926827053\n",
      "1800 :  0.0514605111758\n",
      "Test at 1 . Loss: 0.152262483317 Accuracy: 0.957533333333\n",
      "0 :  0.132467598068\n",
      "100 :  0.0176511811754\n",
      "200 :  0.111431771897\n",
      "300 :  0.0752438019779\n",
      "400 :  0.251767297189\n",
      "500 :  0.0566669052193\n",
      "600 :  0.135641411245\n",
      "700 :  0.195940099258\n",
      "800 :  0.256613243967\n",
      "900 :  0.16718459839\n",
      "1000 :  0.106150119442\n",
      "1100 :  0.508039969375\n",
      "1200 :  0.286534362482\n",
      "1300 :  0.175658321385\n",
      "1400 :  0.148438026048\n",
      "1500 :  0.161201948852\n",
      "1600 :  0.223240835377\n",
      "1700 :  0.0929887180445\n",
      "1800 :  0.0438254358031\n",
      "Test at 2 . Loss: 0.130933175712 Accuracy: 0.962316666667\n",
      "0 :  0.0567111925372\n",
      "100 :  0.472615875385\n",
      "200 :  0.0404286288894\n",
      "300 :  0.0496289418873\n",
      "400 :  0.329359185898\n",
      "500 :  0.144444009658\n",
      "600 :  0.139385544024\n",
      "700 :  0.302536090708\n",
      "800 :  0.0972719105754\n",
      "900 :  0.0608689106791\n",
      "1000 :  0.0488912651488\n",
      "1100 :  0.125324254433\n",
      "1200 :  0.0377931225879\n",
      "1300 :  0.123435709142\n",
      "1400 :  0.0770577781542\n",
      "1500 :  0.0470490638622\n",
      "1600 :  0.08064333269\n",
      "1700 :  0.0889684493102\n",
      "1800 :  0.0413980002188\n",
      "Test at 3 . Loss: 0.124185827142 Accuracy: 0.96435\n"
     ]
    }
   ],
   "source": [
    "epochs = 4\n",
    "\n",
    "nn = NeuralNetwork([\n",
    "    Linear(784, 30),\n",
    "    Sigmoid(),\n",
    "    Linear(30, 10),\n",
    "])\n",
    "\n",
    "nn, losses = train(nn, epochs, learning_rate=1e-3)"
   ]
  },
  {
   "cell_type": "code",
   "execution_count": 177,
   "metadata": {},
   "outputs": [
    {
     "data": {
      "text/plain": [
       "[<matplotlib.lines.Line2D at 0x10fb403c8>]"
      ]
     },
     "execution_count": 177,
     "metadata": {},
     "output_type": "execute_result"
    },
    {
     "data": {
      "image/png": "[encoded data removed]",
      "text/plain": [
       "<matplotlib.figure.Figure at 0x113e1ed30>"
      ]
     },
     "metadata": {},
     "output_type": "display_data"
    }
   ],
   "source": [
    "plt.plot(losses[1:])"
   ]
  },
  {
   "cell_type": "markdown",
   "metadata": {},
   "source": [
    "### Часть 2: Нелинейности"
   ]
  },
  {
   "cell_type": "markdown",
   "metadata": {},
   "source": [
    "Обучите нейронную сеть с другими нелинейностями: ReLU и ELU. Сравните скорости сходимости и качество классификации с различными функциями активации."
   ]
  },
  {
   "cell_type": "code",
   "execution_count": 180,
   "metadata": {},
   "outputs": [
    {
     "name": "stdout",
     "output_type": "stream",
     "text": [
      "0 :  2.32871339593\n",
      "500 :  0.404414252692\n",
      "1000 :  1.26362960583\n",
      "1500 :  0.583621831981\n",
      "Test at 0 . Loss: 0.466924265078 Accuracy: 0.875716666667\n",
      "0 :  0.484835879662\n",
      "500 :  0.295502530065\n",
      "1000 :  0.31980136903\n",
      "1500 :  0.281027564676\n",
      "Test at 1 . Loss: 0.396482576308 Accuracy: 0.9048\n",
      "0 :  0.232267323061\n",
      "500 :  0.434973915519\n",
      "1000 :  0.683846642977\n",
      "1500 :  0.579633311476\n",
      "Test at 2 . Loss: 0.295182864692 Accuracy: 0.926566666667\n",
      "0 :  0.368121832006\n",
      "500 :  0.138974291528\n",
      "1000 :  0.851923052562\n",
      "1500 :  0.624612746111\n",
      "Test at 3 . Loss: 0.269086777136 Accuracy: 0.934866666667\n"
     ]
    }
   ],
   "source": [
    "nn = NeuralNetwork([\n",
    "    Linear(784, 30),\n",
    "    ELU(),\n",
    "    Linear(30, 10),\n",
    "])\n",
    "\n",
    "nn, losses = train(nn, epochs, learning_rate=1e-2)"
   ]
  },
  {
   "cell_type": "code",
   "execution_count": 181,
   "metadata": {},
   "outputs": [
    {
     "name": "stdout",
     "output_type": "stream",
     "text": [
      "0 :  2.38384498919\n",
      "500 :  0.297037682725\n",
      "1000 :  0.244623025886\n",
      "1500 :  0.442816087454\n",
      "Test at 0 . Loss: 0.25273128394 Accuracy: 0.927516666667\n",
      "0 :  0.135038967173\n",
      "500 :  0.22680675861\n",
      "1000 :  0.152801399485\n",
      "1500 :  0.156118156598\n",
      "Test at 1 . Loss: 0.217823659956 Accuracy: 0.940583333333\n",
      "0 :  0.484854933073\n",
      "500 :  0.283837480694\n",
      "1000 :  0.338051734918\n",
      "1500 :  0.710148158666\n",
      "Test at 2 . Loss: 0.203036556733 Accuracy: 0.9451\n",
      "0 :  0.398574500935\n",
      "500 :  0.205154262767\n",
      "1000 :  0.51066375453\n",
      "1500 :  0.141243295796\n",
      "Test at 3 . Loss: 0.181175047351 Accuracy: 0.950566666667\n"
     ]
    }
   ],
   "source": [
    "nn = NeuralNetwork([\n",
    "    Linear(784, 30),\n",
    "    ReLU(),\n",
    "    Linear(30, 10),\n",
    "])\n",
    "\n",
    "nn, losses = train(nn, epochs, learning_rate=1e-2)"
   ]
  },
  {
   "cell_type": "markdown",
   "metadata": {},
   "source": [
    "### Часть 3: Предобработка данных"
   ]
  },
  {
   "cell_type": "markdown",
   "metadata": {},
   "source": [
    "Посчитайте на всей обучающей выборке матрицу ковариации и среднее. Нормализуйте данные по схеме: вычесть среднее, декоррелировать, нормировать дисперсию. Сравните графики обучения на одной и той же архитектуре с и без предобработки."
   ]
  },
  {
   "cell_type": "code",
   "execution_count": 191,
   "metadata": {},
   "outputs": [],
   "source": [
    "full_x = np.empty((1875 * 32, 784))\n",
    "\n",
    "# print(len(train_loader))\n",
    "\n",
    "for i, (X, _) in enumerate(train_loader):\n",
    "    X = X.view(X.size(0), -1)\n",
    "    X = X.numpy()\n",
    "    full_x[i:i+32] = X"
   ]
  },
  {
   "cell_type": "code",
   "execution_count": 204,
   "metadata": {},
   "outputs": [],
   "source": [
    "cov_x = np.dot(full_x.T, full_x) / full_x.shape[0]"
   ]
  },
  {
   "cell_type": "code",
   "execution_count": 205,
   "metadata": {},
   "outputs": [],
   "source": [
    "from scipy import linalg\n",
    "decorrel = scipy.linalg.sqrtm(np.linalg.inv(cov_x + np.eye(cov_x.shape[0]))).real"
   ]
  },
  {
   "cell_type": "code",
   "execution_count": 208,
   "metadata": {},
   "outputs": [],
   "source": [
    "def train(net, epochs, learning_rate=1e-2, verbose=True):\n",
    "    losses = []\n",
    "    accs = []\n",
    "    for i in range(epochs):\n",
    "        nll = NLLLoss()\n",
    "        for j, (X, y) in enumerate(train_loader):\n",
    "            X = X.view(X.size(0), -1)\n",
    "            X = X.numpy() ### Converts torch.Tensor to numpy array\n",
    "            y = y.numpy()\n",
    "            X = np.dot(decorrel, X.T).T # np.dot(X, decorrel.T)\n",
    "            y_ = nn.forward(X)\n",
    "            loss = nll.forward(y_, y)\n",
    "            dLdy = nll.backward()\n",
    "            nn.backward(dLdy)\n",
    "            nn.step(1e-2)\n",
    "            if j % 500 == 0:\n",
    "                print(j, ': ', loss)\n",
    "        loss = 0\n",
    "        acc = 0\n",
    "        _n = 0\n",
    "        for X, y in train_loader:\n",
    "            X = X.view(X.size(0), -1)\n",
    "            X = X.numpy() ### Converts torch.Tensor to numpy array\n",
    "            y = y.numpy()\n",
    "            X = np.dot(decorrel, X.T).T # np.dot(X, decorrel.T)\n",
    "            y_ = nn.forward(X)\n",
    "            acc += np.mean(np.argmax(y_, axis=1) == y)\n",
    "            loss += nll.forward(y_, y)\n",
    "            _n += 1\n",
    "        loss /= _n\n",
    "        acc /= _n\n",
    "        losses.append(loss)\n",
    "        accs.append(acc)\n",
    "        print('Test at', i, '. Loss:', loss, 'Accuracy:', acc)\n",
    "    return net, losses"
   ]
  },
  {
   "cell_type": "code",
   "execution_count": 209,
   "metadata": {},
   "outputs": [
    {
     "name": "stdout",
     "output_type": "stream",
     "text": [
      "0 :  2.33558753295\n",
      "500 :  0.213277347409\n",
      "1000 :  0.149198761602\n",
      "1500 :  0.0660924924214\n",
      "Test at 0 . Loss: 0.188992764201 Accuracy: 0.949083333333\n",
      "0 :  0.108603233369\n",
      "500 :  0.0822981819541\n",
      "1000 :  0.0556449776643\n",
      "1500 :  0.070655693687\n",
      "Test at 1 . Loss: 0.147660401 Accuracy: 0.958316666667\n",
      "0 :  0.0653009372384\n",
      "500 :  0.129177872379\n",
      "1000 :  0.100280808537\n",
      "1500 :  0.12759426599\n",
      "Test at 2 . Loss: 0.124477652456 Accuracy: 0.964866666667\n",
      "0 :  0.244714432974\n",
      "500 :  0.0434745813934\n",
      "1000 :  0.0751691053181\n",
      "1500 :  0.157901441009\n",
      "Test at 3 . Loss: 0.108906571462 Accuracy: 0.969266666667\n"
     ]
    }
   ],
   "source": [
    "epochs = 4\n",
    "\n",
    "nn = NeuralNetwork([\n",
    "    Linear(784, 30),\n",
    "    Sigmoid(),\n",
    "    Linear(30, 10),\n",
    "])\n",
    "\n",
    "nn, losses = train(nn, epochs, learning_rate=1e-3)"
   ]
  },
  {
   "cell_type": "markdown",
   "metadata": {},
   "source": [
    "### Часть 4: Выводы\n",
    "Опишите полученные результаты: как влияют выбор нелинейности и предобработка данных на скорость сходимости и итоговое качество?"
   ]
  },
  {
   "cell_type": "code",
   "execution_count": null,
   "metadata": {
    "collapsed": true
   },
   "outputs": [],
   "source": []
  }
 ],
 "metadata": {
  "kernelspec": {
   "display_name": "Python 3",
   "language": "python",
   "name": "python3"
  },
  "language_info": {
   "codemirror_mode": {
    "name": "ipython",
    "version": 3
   },
   "file_extension": ".py",
   "mimetype": "text/x-python",
   "name": "python",
   "nbconvert_exporter": "python",
   "pygments_lexer": "ipython3",
   "version": "3.6.1"
  }
 },
 "nbformat": 4,
 "nbformat_minor": 2
}
