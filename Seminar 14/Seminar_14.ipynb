{
 "cells": [
  {
   "cell_type": "markdown",
   "metadata": {},
   "source": [
    "## Семинар 15: \"Обучение с подкреплением 2\""
   ]
  },
  {
   "cell_type": "markdown",
   "metadata": {},
   "source": [
    "ФИО: Дорожинский Владислав Игоревич"
   ]
  },
  {
   "cell_type": "markdown",
   "metadata": {},
   "source": [
    "###  FrozenLake\n",
    "\n",
    "\n",
    "<img src=\"http://vignette2.wikia.nocookie.net/riseoftheguardians/images/4/4c/Jack's_little_sister_on_the_ice.jpg/revision/latest?cb=20141218030206\" alt=\"a random image to attract attention\" style=\"width: 400px;\"/>\n",
    "\n"
   ]
  },
  {
   "cell_type": "code",
   "execution_count": 2,
   "metadata": {
    "collapsed": true
   },
   "outputs": [],
   "source": [
    "import gym\n",
    "import numpy as np \n",
    "import random\n",
    "import cv2\n",
    "from torch import nn\n",
    "import torch\n",
    "from torch.autograd import Variable\n",
    "import matplotlib.pyplot as plt\n",
    "from collections import deque\n",
    "import time"
   ]
  },
  {
   "cell_type": "code",
   "execution_count": null,
   "metadata": {
    "collapsed": true
   },
   "outputs": [],
   "source": [
    "#create a single game instance\n",
    "env = gym.make(\"FrozenLake-v0\")\n",
    "\n",
    "#start new game\n",
    "env.reset();"
   ]
  },
  {
   "cell_type": "code",
   "execution_count": 2,
   "metadata": {},
   "outputs": [
    {
     "name": "stdout",
     "output_type": "stream",
     "text": [
      "\n",
      "\u001b[41mS\u001b[0mFFF\n",
      "FHFH\n",
      "FFFH\n",
      "HFFG\n"
     ]
    }
   ],
   "source": [
    "# display the game state\n",
    "env.render()"
   ]
  },
  {
   "cell_type": "markdown",
   "metadata": {},
   "source": [
    "### legend\n",
    "\n",
    "![img](https://cdn-images-1.medium.com/max/800/1*MCjDzR-wfMMkS0rPqXSmKw.png)"
   ]
  },
  {
   "cell_type": "markdown",
   "metadata": {},
   "source": [
    "## Задание 1.\n",
    "Подберите значения alpha и epsilon и найдите приближение оптимальной Q-функции для Frozen Lake."
   ]
  },
  {
   "cell_type": "code",
   "execution_count": 133,
   "metadata": {
    "collapsed": true
   },
   "outputs": [],
   "source": [
    "\n",
    "class QLearn:\n",
    "    def __init__(self, actions, epsilon=0.1, alpha=0.2, gamma=0.9):\n",
    "        self.q = {}\n",
    "        self.epsilon = epsilon\n",
    "        self.alpha = alpha\n",
    "        self.gamma = gamma\n",
    "        self.actions = actions\n",
    "\n",
    "    def getQ(self, state, action):\n",
    "        return self.q.get((state, action), 0.0)\n",
    "\n",
    "    def learnQ(self, state, action, reward, value):\n",
    "        oldv = self.q.get((state, action), None)\n",
    "\n",
    "        if oldv is None:\n",
    "            self.q[(state, action)] = reward\n",
    "        else:\n",
    "            self.q[(state, action)] = oldv + self.alpha * (value - oldv)\n",
    "\n",
    "    def chooseAction(self, state, is_eval=False):\n",
    "        if random.random() < self.epsilon and not is_eval:\n",
    "            action = random.choice(self.actions)\n",
    "        else:\n",
    "            q = [self.getQ(state, a) for a in self.actions]\n",
    "            maxQ = max(q)\n",
    "            count = q.count(maxQ)\n",
    "            if count > 1:\n",
    "                best = [i for i in range(len(self.actions)) if q[i] == maxQ]\n",
    "                i = random.choice(best)\n",
    "            else:\n",
    "                i = q.index(maxQ)\n",
    "\n",
    "            action = self.actions[i]\n",
    "        return action\n",
    "\n",
    "    def learn(self, state1, action1, reward, state2):\n",
    "        maxqnew = max([self.getQ(state2, a) for a in self.actions])\n",
    "        self.learnQ(state1, action1, reward, reward + self.gamma*maxqnew)"
   ]
  },
  {
   "cell_type": "code",
   "execution_count": 134,
   "metadata": {
    "collapsed": true
   },
   "outputs": [],
   "source": [
    "def run_episode_qlearn_learn(env, qlearn, gamma=1.0, render=False):\n",
    "    obs = env.reset()\n",
    "    total_reward = 0\n",
    "    step_idx = 0\n",
    "    while True:\n",
    "        if render:\n",
    "            env.render()\n",
    "        action = qlearn.chooseAction(obs)\n",
    "        obs_new, reward, done, _ = env.step(action)\n",
    "        qlearn.learn(obs, action, reward, obs_new)\n",
    "        obs = obs_new\n",
    "        total_reward += (gamma ** step_idx * reward)\n",
    "        step_idx += 1\n",
    "        if done:\n",
    "            break\n",
    "    return total_reward"
   ]
  },
  {
   "cell_type": "code",
   "execution_count": 136,
   "metadata": {
    "collapsed": true
   },
   "outputs": [],
   "source": [
    "def run_episode_qlearn(env, qlearn, gamma=1.0, render=False):\n",
    "    obs = env.reset()\n",
    "    total_reward = 0\n",
    "    step_idx = 0\n",
    "    while True:\n",
    "        if render:\n",
    "            env.render()\n",
    "        action = qlearn.chooseAction(obs, is_eval=True)\n",
    "        obs_new, reward, done, _ = env.step(action)\n",
    "        obs = obs_new\n",
    "        total_reward += (gamma ** step_idx * reward)\n",
    "        step_idx += 1\n",
    "        if done:\n",
    "            break\n",
    "    return total_reward"
   ]
  },
  {
   "cell_type": "code",
   "execution_count": 137,
   "metadata": {
    "collapsed": true
   },
   "outputs": [],
   "source": [
    "def evaluate_qlearn(env, qlearn, gamma=1.0, n=100):\n",
    "    scores = [\n",
    "            run_episode_qlearn(env, qlearn, gamma = gamma, render = False)\n",
    "            for _ in range(n)]\n",
    "    return np.mean(scores)"
   ]
  },
  {
   "cell_type": "code",
   "execution_count": 168,
   "metadata": {
    "collapsed": true
   },
   "outputs": [],
   "source": [
    "GAMMA = 0.99\n",
    "qlearn = QLearn(actions=range(env.env.nA), gamma=GAMMA, epsilon=0.1, alpha=0.3)\n",
    "[run_episode_qlearn_learn(env, qlearn, gamma=GAMMA) for _ in range(1000)];\n"
   ]
  },
  {
   "cell_type": "code",
   "execution_count": 172,
   "metadata": {},
   "outputs": [
    {
     "data": {
      "text/plain": [
       "0.759"
      ]
     },
     "execution_count": 172,
     "metadata": {},
     "output_type": "execute_result"
    }
   ],
   "source": [
    "evaluate_qlearn(env, qlearn, gamma=1.0, n=1000)"
   ]
  },
  {
   "cell_type": "markdown",
   "metadata": {
    "collapsed": true
   },
   "source": [
    "## Задание 2.\n",
    "Обучите сеть DQN для среды http://gym.openai.com/envs/Pong-v0/ "
   ]
  },
  {
   "cell_type": "markdown",
   "metadata": {},
   "source": [
    "* http://www.pinchofintelligence.com/introduction-openai-gym-part-2-building-deep-q-network/\n",
    "* http://www.pinchofintelligence.com/openai-gym-part-3-playing-space-invaders-deep-reinforcement-learning/\n",
    "* https://www.cs.toronto.edu/~vmnih/docs/dqn.pdf"
   ]
  },
  {
   "cell_type": "code",
   "execution_count": 3,
   "metadata": {
    "collapsed": true
   },
   "outputs": [],
   "source": [
    "env = gym.make('Pong-v0')\n",
    "env.reset()\n",
    "actions = env.action_space.n # 0 - idle, 4 - move up, 5 - move down"
   ]
  },
  {
   "cell_type": "code",
   "execution_count": 4,
   "metadata": {
    "collapsed": true
   },
   "outputs": [],
   "source": [
    "act_up, act_down, act_idle = 4, 5, 0\n",
    "actions_mapping = [act_idle, act_up, act_down]"
   ]
  },
  {
   "cell_type": "code",
   "execution_count": 5,
   "metadata": {
    "collapsed": true
   },
   "outputs": [],
   "source": [
    "SHORT_MEMORY_SIZE = 4\n",
    "N_ACTIONS = len(actions_mapping)\n",
    "IMAGE_DIM = 84"
   ]
  },
  {
   "cell_type": "code",
   "execution_count": 6,
   "metadata": {},
   "outputs": [
    {
     "name": "stdout",
     "output_type": "stream",
     "text": [
      "Before processing: (210, 160, 3)\n"
     ]
    },
    {
     "data": {
      "image/png": "[encoded data removed]",
      "text/plain": [
       "<Figure size 432x288 with 1 Axes>"
      ]
     },
     "metadata": {},
     "output_type": "display_data"
    },
    {
     "name": "stdout",
     "output_type": "stream",
     "text": [
      "After processing: (84, 84, 1)\n"
     ]
    },
    {
     "data": {
      "image/png": "[encoded data removed]",
      "text/plain": [
       "<Figure size 432x288 with 1 Axes>"
      ]
     },
     "metadata": {},
     "output_type": "display_data"
    }
   ],
   "source": [
    "def one_hot(x, n_classes, dtype=np.float64):\n",
    "    res = np.zeros([x.shape[0], n_classes], dtype=dtype)\n",
    "    res[np.arange(x.shape[0]), x] = 1\n",
    "    return res\n",
    "\n",
    "def preprocess(observation):\n",
    "    head_cut = 32\n",
    "    tail_cut = 15\n",
    "    target_size = IMAGE_DIM\n",
    "    observation = cv2.cvtColor(observation, cv2.COLOR_BGR2GRAY)\n",
    "    observation = cv2.resize(observation[head_cut:-tail_cut], (target_size, target_size))\n",
    "#     ret, observation = cv2.threshold(observation,80,255,cv2.THRESH_BINARY)\n",
    "    return np.reshape(observation,(target_size,target_size,1))\n",
    "\n",
    "def show(img):\n",
    "    plt.imshow(np.array(np.squeeze(img)), cmap='gray')\n",
    "    plt.show()\n",
    "\n",
    "action0 = 0  # do nothing\n",
    "observation0, reward0, terminal, info = env.step(action0)\n",
    "print(\"Before processing: \" + str(np.array(observation0).shape))\n",
    "plt.imshow(np.array(observation0))\n",
    "plt.show()\n",
    "observation0 = preprocess(observation0)\n",
    "print(\"After processing: \" + str(np.array(observation0).shape))\n",
    "show(observation0)\n"
   ]
  },
  {
   "cell_type": "code",
   "execution_count": 7,
   "metadata": {
    "collapsed": true
   },
   "outputs": [],
   "source": [
    "class DQN(nn.Module):\n",
    "    def __init__(self, in_channels, output_size):\n",
    "        super(DQN, self).__init__()\n",
    "        self.features = nn.Sequential(nn.Conv2d(in_channels, 16, 8, stride=4),\n",
    "                                      nn.BatchNorm2d(16),\n",
    "                                      nn.ReLU(),\n",
    "                                      nn.Conv2d(16, 32, 4, stride=2),\n",
    "                                      nn.BatchNorm2d(32),\n",
    "                                      nn.ReLU(),\n",
    "                                     )\n",
    "        \n",
    "        self.classifier = nn.Sequential(nn.Linear(32 * 9 * 9, 256),\n",
    "                                        nn.BatchNorm1d(256),\n",
    "                                        nn.ReLU(),\n",
    "                                        nn.Linear(256, output_size)\n",
    "                                       )\n",
    "    \n",
    "    def forward(self, x):\n",
    "        x = x.permute(0, 3, 1, 2)\n",
    "        x = self.features(x)\n",
    "        x = x.view(-1, 32 * 9 * 9)\n",
    "        x = self.classifier(x)\n",
    "        return x"
   ]
  },
  {
   "cell_type": "code",
   "execution_count": 19,
   "metadata": {
    "collapsed": true
   },
   "outputs": [],
   "source": [
    "INITIAL_EPSILON = 1.0\n",
    "FINAL_EPSILON = 0.1\n",
    "EXPLORE = 10000\n",
    "REPLAY_MEMORY = 10000\n",
    "BATCH_SIZE = 128\n",
    "PRINT_EVERY = 500\n",
    "GAMMA = 0.95\n",
    "ALPHA = 1.0\n",
    "K = 4\n",
    "\n",
    "class Controller:\n",
    "    def __init__(self, verbose=False):\n",
    "        self.epsilon = INITIAL_EPSILON\n",
    "        self.verbose = verbose\n",
    "        self.dqn = DQN(SHORT_MEMORY_SIZE, N_ACTIONS).cuda()\n",
    "        self.optimizer = torch.optim.Adam(self.dqn.parameters(), lr=0.001)\n",
    "        self.loss_f = nn.MSELoss()\n",
    "        self.step = 0\n",
    "        self.replay = deque()\n",
    "        self.states = deque()\n",
    "    \n",
    "        \n",
    "    def train_step(self):\n",
    "#         print('>>>ENTER TRAIN STEP')\n",
    "        self.dqn.train()\n",
    "        batch_idxs = np.random.randint(SHORT_MEMORY_SIZE, len(self.replay)-1, BATCH_SIZE)\n",
    "        state_batch = np.zeros([BATCH_SIZE, IMAGE_DIM, IMAGE_DIM, SHORT_MEMORY_SIZE], dtype=np.float32)\n",
    "        action_batch = np.zeros([BATCH_SIZE], dtype=np.int32)\n",
    "        term_batch = np.zeros([BATCH_SIZE], dtype=np.int32)\n",
    "        reward_batch = np.zeros([BATCH_SIZE], dtype=np.float32)\n",
    "        y_reward_batch = np.zeros([BATCH_SIZE], dtype=np.float32)\n",
    "        next_state_batch = np.zeros([BATCH_SIZE, IMAGE_DIM, IMAGE_DIM, SHORT_MEMORY_SIZE], dtype=np.float32)\n",
    "        \n",
    "        for i in range(BATCH_SIZE): # todo: vectorize\n",
    "            idx = batch_idxs[i]\n",
    "            action_batch[i] = self.replay[idx][1]\n",
    "            reward_batch[i] = self.replay[idx][2]\n",
    "            term_batch[i] = self.replay[idx][3]\n",
    "            for j in range(SHORT_MEMORY_SIZE):\n",
    "                state_batch[i,:,:,j] = self.states[idx - j - 1]\n",
    "                next_state_batch[i,:,:,j] = self.states[idx - j]\n",
    "        \n",
    "        next_state_batch = Variable(torch.FloatTensor(next_state_batch)).cuda()\n",
    "        reward_batch = torch.FloatTensor(reward_batch).cuda()\n",
    "        term_batch = torch.FloatTensor(term_batch).cuda()\n",
    "        q_values_pred = self.dqn(next_state_batch)\n",
    "        q_values_pred = torch.max(q_values_pred, 1)[0].data\n",
    "#         print('q_values_pred')\n",
    "#         print(q_values_pred)\n",
    "#         print('term_batch')\n",
    "#         print(term_batch)\n",
    "        y_reward_batch = reward_batch + q_values_pred * (1 - term_batch) * GAMMA\n",
    "        y_reward_batch = Variable(y_reward_batch, requires_grad=False)\n",
    "#         print('y_reward_batch')\n",
    "#         print(y_reward_batch)\n",
    "                \n",
    "        action_batch = one_hot(action_batch, N_ACTIONS)\n",
    "        action_batch = torch.FloatTensor(action_batch).cuda()\n",
    "        \n",
    "        state_batch = Variable(torch.FloatTensor(state_batch)).cuda()\n",
    "        q_values_pred = self.dqn(state_batch)\n",
    "        q_act_vales = torch.sum(q_values_pred * action_batch, 1)\n",
    "#         print('q_act_vales')\n",
    "#         print(q_act_vales)\n",
    "        loss = self.loss_f(q_act_vales, y_reward_batch)\n",
    "        loss.backward()\n",
    "        \n",
    "        self.optimizer.step()\n",
    "        self.dqn.zero_grad()\n",
    "        \n",
    "        if self.step % PRINT_EVERY == 0:\n",
    "            rew_true = reward_batch.cpu().data.numpy()\n",
    "#             print(rew_true[:5])\n",
    "            rew_true_mean = np.mean(rew_true)\n",
    "            rew_true_stat = np.min(rew_true), np.max(rew_true)\n",
    "            rew_true = (y_reward_batch.cpu().data.numpy() < -0.5)\n",
    "            true_n = np.sum(rew_true)\n",
    "            rew_pred = q_act_vales.cpu().data.numpy()\n",
    "#             print(rew_pred[:5])\n",
    "#             print(q_values_pred.cpu().data.numpy()[:5])\n",
    "            rew_pred_mean = np.mean(rew_pred)\n",
    "            rew_pred = (rew_pred < -0.5)\n",
    "            pred_n = np.sum(rew_pred)\n",
    "            hit_n = np.sum(rew_true & (rew_pred == rew_true))\n",
    "            res_str = '[{}] Loss: {:.4f} TrueN: {} PredN: {} HitNegN: {} PredRew: {:.4f} ActRew: {:.4f} Eps: {:.3f}'\n",
    "            print(res_str.format(self.step,\n",
    "                                 loss.item(),\n",
    "                                 true_n,\n",
    "                                 pred_n,\n",
    "                                 hit_n,\n",
    "                                 rew_pred_mean,\n",
    "                                 rew_true_mean,\n",
    "                                 self.epsilon\n",
    "                                ))\n",
    "#         print('<<<EXIT TRAIN STEP\\n')\n",
    "\n",
    "            \n",
    "        \n",
    "    def get_action(self):\n",
    "        action = -1\n",
    "        if random.random() <= self.epsilon or len(self.states) < SHORT_MEMORY_SIZE:\n",
    "            action = np.random.randint(N_ACTIONS)\n",
    "        else:\n",
    "            state_batch = np.zeros([1, IMAGE_DIM, IMAGE_DIM, SHORT_MEMORY_SIZE], dtype=np.float32)\n",
    "            idx = len(self.states) - 1\n",
    "            for j in range(SHORT_MEMORY_SIZE):\n",
    "                state_batch[0,:,:,j] = self.states[idx - j]\n",
    "            state_batch = Variable(torch.FloatTensor(state_batch)).cuda()\n",
    "            self.dqn.eval()\n",
    "            qs = self.dqn(state_batch).cpu().data.numpy()[0]\n",
    "            action = np.argmax(qs)\n",
    "        \n",
    "        self.epsilon = INITIAL_EPSILON - (INITIAL_EPSILON - FINAL_EPSILON) \\\n",
    "            * self.step / EXPLORE if self.epsilon > FINAL_EPSILON else FINAL_EPSILON\n",
    "        \n",
    "        return action\n",
    "    \n",
    "    def observe(self, new_obs, action, reward, is_terminal):\n",
    "        self.replay.append((self.step, action, reward, is_terminal))\n",
    "        self.states.append(new_obs)\n",
    "        if len(self.replay) > REPLAY_MEMORY: \n",
    "            self.replay.popleft()\n",
    "            self.states.popleft()\n",
    "        if self.step > 100:\n",
    "            self.train_step()\n",
    "        \n",
    "        self.step += 1"
   ]
  },
  {
   "cell_type": "code",
   "execution_count": 20,
   "metadata": {
    "collapsed": true
   },
   "outputs": [],
   "source": [
    "ctrl = Controller()\n",
    "env.reset();"
   ]
  },
  {
   "cell_type": "code",
   "execution_count": 22,
   "metadata": {
    "scrolled": false
   },
   "outputs": [
    {
     "name": "stdout",
     "output_type": "stream",
     "text": [
      "[25000] Loss: 0.0054 TrueN: 8 PredN: 8 HitNegN: 7 PredRew: 0.0327 ActRew: -0.0625 Eps: 0.100\n",
      "[25500] Loss: 0.0013 TrueN: 3 PredN: 2 HitNegN: 2 PredRew: 0.0605 ActRew: -0.0156 Eps: 0.100\n",
      "[26000] Loss: 0.0012 TrueN: 6 PredN: 6 HitNegN: 6 PredRew: 0.0444 ActRew: -0.0391 Eps: 0.100\n",
      "[26500] Loss: 0.0012 TrueN: 1 PredN: 1 HitNegN: 1 PredRew: 0.0627 ActRew: 0.0000 Eps: 0.100\n",
      "[27000] Loss: 0.0014 TrueN: 5 PredN: 5 HitNegN: 5 PredRew: 0.0591 ActRew: -0.0234 Eps: 0.100\n",
      "[27500] Loss: 0.0026 TrueN: 4 PredN: 4 HitNegN: 4 PredRew: 0.0528 ActRew: -0.0156 Eps: 0.100\n",
      "[28000] Loss: 0.0007 TrueN: 3 PredN: 3 HitNegN: 3 PredRew: 0.0641 ActRew: -0.0234 Eps: 0.100\n",
      "[28500] Loss: 0.0012 TrueN: 1 PredN: 1 HitNegN: 1 PredRew: 0.0686 ActRew: -0.0078 Eps: 0.100\n",
      "[29000] Loss: 0.0019 TrueN: 6 PredN: 6 HitNegN: 6 PredRew: 0.0218 ActRew: -0.0391 Eps: 0.100\n",
      "[29500] Loss: 0.0010 TrueN: 2 PredN: 2 HitNegN: 2 PredRew: 0.0603 ActRew: -0.0156 Eps: 0.100\n",
      "[30000] Loss: 0.0006 TrueN: 4 PredN: 4 HitNegN: 4 PredRew: 0.0504 ActRew: -0.0234 Eps: 0.100\n",
      "[30500] Loss: 0.0008 TrueN: 1 PredN: 1 HitNegN: 1 PredRew: 0.0497 ActRew: -0.0078 Eps: 0.100\n",
      "[31000] Loss: 0.0016 TrueN: 3 PredN: 2 HitNegN: 2 PredRew: 0.0650 ActRew: -0.0156 Eps: 0.100\n",
      "[31500] Loss: 0.0019 TrueN: 5 PredN: 4 HitNegN: 4 PredRew: 0.0339 ActRew: -0.0312 Eps: 0.100\n",
      "[32000] Loss: 0.0071 TrueN: 5 PredN: 5 HitNegN: 4 PredRew: 0.0187 ActRew: -0.0391 Eps: 0.100\n",
      "[32500] Loss: 0.0007 TrueN: 4 PredN: 3 HitNegN: 3 PredRew: 0.0356 ActRew: -0.0234 Eps: 0.100\n",
      "[33000] Loss: 0.0012 TrueN: 0 PredN: 0 HitNegN: 0 PredRew: 0.0278 ActRew: 0.0000 Eps: 0.100\n",
      "[33500] Loss: 0.0014 TrueN: 2 PredN: 2 HitNegN: 2 PredRew: 0.0540 ActRew: -0.0156 Eps: 0.100\n",
      "[34000] Loss: 0.0006 TrueN: 3 PredN: 3 HitNegN: 3 PredRew: 0.0442 ActRew: -0.0156 Eps: 0.100\n",
      "[34500] Loss: 0.0073 TrueN: 3 PredN: 4 HitNegN: 3 PredRew: 0.0255 ActRew: -0.0156 Eps: 0.100\n",
      "[35000] Loss: 0.0048 TrueN: 10 PredN: 8 HitNegN: 8 PredRew: -0.0081 ActRew: -0.0625 Eps: 0.100\n",
      "[35500] Loss: 0.0017 TrueN: 1 PredN: 1 HitNegN: 1 PredRew: 0.0337 ActRew: -0.0078 Eps: 0.100\n",
      "[36000] Loss: 0.0017 TrueN: 3 PredN: 3 HitNegN: 3 PredRew: 0.0420 ActRew: -0.0234 Eps: 0.100\n",
      "[36500] Loss: 0.0009 TrueN: 1 PredN: 2 HitNegN: 1 PredRew: 0.0505 ActRew: 0.0000 Eps: 0.100\n",
      "[37000] Loss: 0.0019 TrueN: 1 PredN: 1 HitNegN: 1 PredRew: 0.0470 ActRew: -0.0078 Eps: 0.100\n",
      "[37500] Loss: 0.0069 TrueN: 4 PredN: 3 HitNegN: 3 PredRew: 0.0260 ActRew: -0.0312 Eps: 0.100\n",
      "[38000] Loss: 0.0016 TrueN: 1 PredN: 1 HitNegN: 1 PredRew: 0.0398 ActRew: -0.0078 Eps: 0.100\n",
      "[38500] Loss: 0.0015 TrueN: 4 PredN: 4 HitNegN: 4 PredRew: 0.0287 ActRew: -0.0312 Eps: 0.100\n",
      "[39000] Loss: 0.0029 TrueN: 4 PredN: 4 HitNegN: 4 PredRew: 0.0167 ActRew: -0.0156 Eps: 0.100\n",
      "[39500] Loss: 0.0010 TrueN: 5 PredN: 5 HitNegN: 5 PredRew: 0.0327 ActRew: -0.0312 Eps: 0.100\n",
      "[40000] Loss: 0.0025 TrueN: 1 PredN: 1 HitNegN: 1 PredRew: 0.0623 ActRew: 0.0000 Eps: 0.100\n",
      "[40500] Loss: 0.0013 TrueN: 3 PredN: 4 HitNegN: 3 PredRew: 0.0234 ActRew: -0.0234 Eps: 0.100\n",
      "[41000] Loss: 0.0106 TrueN: 6 PredN: 4 HitNegN: 4 PredRew: 0.0368 ActRew: -0.0391 Eps: 0.100\n",
      "[41500] Loss: 0.0019 TrueN: 1 PredN: 1 HitNegN: 1 PredRew: 0.0692 ActRew: -0.0078 Eps: 0.100\n",
      "[42000] Loss: 0.0026 TrueN: 5 PredN: 5 HitNegN: 5 PredRew: 0.0131 ActRew: -0.0391 Eps: 0.100\n",
      "[42500] Loss: 0.0013 TrueN: 4 PredN: 4 HitNegN: 4 PredRew: 0.0402 ActRew: -0.0234 Eps: 0.100\n",
      "[43000] Loss: 0.0016 TrueN: 4 PredN: 4 HitNegN: 4 PredRew: 0.0365 ActRew: -0.0312 Eps: 0.100\n",
      "[43500] Loss: 0.0019 TrueN: 3 PredN: 2 HitNegN: 2 PredRew: 0.0436 ActRew: -0.0078 Eps: 0.100\n",
      "[44000] Loss: 0.0023 TrueN: 6 PredN: 6 HitNegN: 6 PredRew: 0.0284 ActRew: -0.0391 Eps: 0.100\n",
      "[44500] Loss: 0.0019 TrueN: 4 PredN: 5 HitNegN: 4 PredRew: 0.0307 ActRew: -0.0312 Eps: 0.100\n",
      "[45000] Loss: 0.0007 TrueN: 1 PredN: 1 HitNegN: 1 PredRew: 0.0420 ActRew: -0.0078 Eps: 0.100\n",
      "[45500] Loss: 0.0033 TrueN: 5 PredN: 5 HitNegN: 5 PredRew: 0.0351 ActRew: -0.0391 Eps: 0.100\n",
      "[46000] Loss: 0.0014 TrueN: 1 PredN: 1 HitNegN: 1 PredRew: 0.0560 ActRew: 0.0000 Eps: 0.100\n",
      "[46500] Loss: 0.0014 TrueN: 5 PredN: 5 HitNegN: 5 PredRew: 0.0264 ActRew: -0.0156 Eps: 0.100\n",
      "[47000] Loss: 0.0017 TrueN: 4 PredN: 4 HitNegN: 4 PredRew: 0.0360 ActRew: -0.0234 Eps: 0.100\n",
      "[47500] Loss: 0.0017 TrueN: 3 PredN: 3 HitNegN: 3 PredRew: 0.0365 ActRew: -0.0234 Eps: 0.100\n",
      "[48000] Loss: 0.0009 TrueN: 1 PredN: 1 HitNegN: 1 PredRew: 0.0787 ActRew: -0.0078 Eps: 0.100\n",
      "[48500] Loss: 0.0035 TrueN: 3 PredN: 2 HitNegN: 2 PredRew: 0.0470 ActRew: -0.0078 Eps: 0.100\n",
      "[49000] Loss: 0.0066 TrueN: 4 PredN: 5 HitNegN: 4 PredRew: 0.0291 ActRew: -0.0312 Eps: 0.100\n",
      "[49500] Loss: 0.0083 TrueN: 7 PredN: 5 HitNegN: 5 PredRew: 0.0203 ActRew: -0.0547 Eps: 0.100\n",
      "[50000] Loss: 0.0015 TrueN: 4 PredN: 2 HitNegN: 2 PredRew: 0.0345 ActRew: -0.0156 Eps: 0.100\n",
      "[50500] Loss: 0.0018 TrueN: 4 PredN: 4 HitNegN: 4 PredRew: 0.0361 ActRew: -0.0312 Eps: 0.100\n",
      "[51000] Loss: 0.0009 TrueN: 3 PredN: 3 HitNegN: 3 PredRew: 0.0327 ActRew: -0.0234 Eps: 0.100\n",
      "[51500] Loss: 0.0019 TrueN: 4 PredN: 3 HitNegN: 3 PredRew: 0.0603 ActRew: -0.0156 Eps: 0.100\n",
      "[52000] Loss: 0.0060 TrueN: 4 PredN: 2 HitNegN: 2 PredRew: 0.0362 ActRew: -0.0156 Eps: 0.100\n",
      "[52500] Loss: 0.0050 TrueN: 5 PredN: 4 HitNegN: 4 PredRew: 0.0494 ActRew: -0.0391 Eps: 0.100\n",
      "[53000] Loss: 0.0020 TrueN: 2 PredN: 1 HitNegN: 1 PredRew: 0.0705 ActRew: 0.0000 Eps: 0.100\n",
      "[53500] Loss: 0.0014 TrueN: 2 PredN: 3 HitNegN: 2 PredRew: 0.0445 ActRew: -0.0156 Eps: 0.100\n",
      "[54000] Loss: 0.0027 TrueN: 4 PredN: 3 HitNegN: 3 PredRew: 0.0614 ActRew: -0.0156 Eps: 0.100\n",
      "[54500] Loss: 0.0017 TrueN: 5 PredN: 5 HitNegN: 5 PredRew: 0.0363 ActRew: -0.0234 Eps: 0.100\n",
      "[55000] Loss: 0.0027 TrueN: 3 PredN: 4 HitNegN: 3 PredRew: 0.0365 ActRew: -0.0234 Eps: 0.100\n",
      "[55500] Loss: 0.0007 TrueN: 1 PredN: 1 HitNegN: 1 PredRew: 0.0674 ActRew: 0.0000 Eps: 0.100\n",
      "[56000] Loss: 0.0020 TrueN: 1 PredN: 1 HitNegN: 1 PredRew: 0.0453 ActRew: -0.0078 Eps: 0.100\n",
      "[56500] Loss: 0.0015 TrueN: 3 PredN: 3 HitNegN: 3 PredRew: 0.0520 ActRew: -0.0234 Eps: 0.100\n",
      "[57000] Loss: 0.0011 TrueN: 1 PredN: 1 HitNegN: 1 PredRew: 0.0321 ActRew: 0.0000 Eps: 0.100\n",
      "[57500] Loss: 0.0019 TrueN: 2 PredN: 2 HitNegN: 2 PredRew: 0.0225 ActRew: -0.0078 Eps: 0.100\n",
      "[58000] Loss: 0.0023 TrueN: 12 PredN: 12 HitNegN: 12 PredRew: -0.0548 ActRew: -0.0859 Eps: 0.100\n",
      "[58500] Loss: 0.0024 TrueN: 0 PredN: 0 HitNegN: 0 PredRew: 0.0557 ActRew: 0.0000 Eps: 0.100\n",
      "[59000] Loss: 0.0038 TrueN: 3 PredN: 2 HitNegN: 2 PredRew: 0.0285 ActRew: -0.0078 Eps: 0.100\n",
      "[59500] Loss: 0.0014 TrueN: 7 PredN: 4 HitNegN: 4 PredRew: 0.0246 ActRew: -0.0234 Eps: 0.100\n",
      "[60000] Loss: 0.0014 TrueN: 5 PredN: 5 HitNegN: 5 PredRew: 0.0375 ActRew: -0.0156 Eps: 0.100\n",
      "[60500] Loss: 0.0021 TrueN: 3 PredN: 4 HitNegN: 3 PredRew: 0.0535 ActRew: -0.0078 Eps: 0.100\n",
      "[61000] Loss: 0.0017 TrueN: 3 PredN: 3 HitNegN: 3 PredRew: 0.0630 ActRew: -0.0234 Eps: 0.100\n",
      "[61500] Loss: 0.0019 TrueN: 2 PredN: 1 HitNegN: 1 PredRew: 0.0543 ActRew: -0.0078 Eps: 0.100\n",
      "[62000] Loss: 0.0013 TrueN: 2 PredN: 2 HitNegN: 2 PredRew: 0.0364 ActRew: -0.0156 Eps: 0.100\n",
      "[62500] Loss: 0.0034 TrueN: 5 PredN: 5 HitNegN: 5 PredRew: 0.0418 ActRew: -0.0391 Eps: 0.100\n",
      "[63000] Loss: 0.0012 TrueN: 3 PredN: 3 HitNegN: 3 PredRew: 0.0435 ActRew: -0.0156 Eps: 0.100\n",
      "[63500] Loss: 0.0016 TrueN: 3 PredN: 3 HitNegN: 3 PredRew: 0.0287 ActRew: -0.0234 Eps: 0.100\n",
      "[64000] Loss: 0.0024 TrueN: 3 PredN: 3 HitNegN: 3 PredRew: 0.0448 ActRew: -0.0078 Eps: 0.100\n",
      "[64500] Loss: 0.0031 TrueN: 4 PredN: 3 HitNegN: 3 PredRew: 0.0456 ActRew: -0.0234 Eps: 0.100\n",
      "[65000] Loss: 0.0058 TrueN: 10 PredN: 10 HitNegN: 9 PredRew: -0.0169 ActRew: -0.0547 Eps: 0.100\n",
      "[65500] Loss: 0.0017 TrueN: 0 PredN: 0 HitNegN: 0 PredRew: 0.0547 ActRew: 0.0000 Eps: 0.100\n",
      "[66000] Loss: 0.0011 TrueN: 2 PredN: 3 HitNegN: 2 PredRew: 0.0536 ActRew: -0.0078 Eps: 0.100\n",
      "[66500] Loss: 0.0012 TrueN: 5 PredN: 5 HitNegN: 5 PredRew: 0.0141 ActRew: -0.0391 Eps: 0.100\n",
      "[67000] Loss: 0.0048 TrueN: 6 PredN: 4 HitNegN: 4 PredRew: 0.0402 ActRew: -0.0391 Eps: 0.100\n",
      "[67500] Loss: 0.0013 TrueN: 4 PredN: 4 HitNegN: 4 PredRew: 0.0367 ActRew: -0.0234 Eps: 0.100\n",
      "[68000] Loss: 0.0008 TrueN: 3 PredN: 3 HitNegN: 3 PredRew: 0.0233 ActRew: -0.0156 Eps: 0.100\n",
      "[68500] Loss: 0.0027 TrueN: 4 PredN: 3 HitNegN: 3 PredRew: 0.0183 ActRew: -0.0234 Eps: 0.100\n",
      "[69000] Loss: 0.0045 TrueN: 5 PredN: 4 HitNegN: 3 PredRew: 0.0221 ActRew: -0.0312 Eps: 0.100\n"
     ]
    },
    {
     "name": "stdout",
     "output_type": "stream",
     "text": [
      "[69500] Loss: 0.0029 TrueN: 3 PredN: 2 HitNegN: 2 PredRew: 0.0204 ActRew: -0.0078 Eps: 0.100\n",
      "[70000] Loss: 0.0019 TrueN: 3 PredN: 3 HitNegN: 3 PredRew: 0.0042 ActRew: -0.0156 Eps: 0.100\n",
      "[70500] Loss: 0.0044 TrueN: 5 PredN: 5 HitNegN: 5 PredRew: -0.0041 ActRew: -0.0234 Eps: 0.100\n",
      "[71000] Loss: 0.0025 TrueN: 1 PredN: 1 HitNegN: 1 PredRew: 0.0406 ActRew: 0.0000 Eps: 0.100\n",
      "[71500] Loss: 0.0029 TrueN: 5 PredN: 4 HitNegN: 4 PredRew: -0.0012 ActRew: -0.0312 Eps: 0.100\n",
      "[72000] Loss: 0.0042 TrueN: 10 PredN: 9 HitNegN: 9 PredRew: -0.0286 ActRew: -0.0547 Eps: 0.100\n",
      "[72500] Loss: 0.0041 TrueN: 9 PredN: 8 HitNegN: 8 PredRew: -0.0099 ActRew: -0.0391 Eps: 0.100\n",
      "[73000] Loss: 0.0022 TrueN: 3 PredN: 3 HitNegN: 3 PredRew: 0.0344 ActRew: -0.0078 Eps: 0.100\n",
      "[73500] Loss: 0.0054 TrueN: 3 PredN: 4 HitNegN: 3 PredRew: 0.0286 ActRew: -0.0078 Eps: 0.100\n",
      "[74000] Loss: 0.0022 TrueN: 2 PredN: 1 HitNegN: 1 PredRew: 0.0321 ActRew: -0.0078 Eps: 0.100\n",
      "[74500] Loss: 0.0056 TrueN: 4 PredN: 3 HitNegN: 3 PredRew: 0.0127 ActRew: -0.0234 Eps: 0.100\n",
      "[75000] Loss: 0.0017 TrueN: 6 PredN: 6 HitNegN: 6 PredRew: 0.0065 ActRew: -0.0234 Eps: 0.100\n",
      "[75500] Loss: 0.0026 TrueN: 1 PredN: 1 HitNegN: 1 PredRew: 0.0510 ActRew: -0.0078 Eps: 0.100\n",
      "[76000] Loss: 0.0017 TrueN: 3 PredN: 4 HitNegN: 3 PredRew: 0.0229 ActRew: -0.0078 Eps: 0.100\n",
      "[76500] Loss: 0.0027 TrueN: 3 PredN: 2 HitNegN: 2 PredRew: 0.0175 ActRew: -0.0078 Eps: 0.100\n",
      "[77000] Loss: 0.0018 TrueN: 6 PredN: 5 HitNegN: 5 PredRew: 0.0135 ActRew: -0.0312 Eps: 0.100\n",
      "[77500] Loss: 0.0048 TrueN: 1 PredN: 0 HitNegN: 0 PredRew: 0.0383 ActRew: 0.0000 Eps: 0.100\n",
      "[78000] Loss: 0.0077 TrueN: 5 PredN: 2 HitNegN: 2 PredRew: 0.0084 ActRew: -0.0156 Eps: 0.100\n",
      "[78500] Loss: 0.0018 TrueN: 3 PredN: 4 HitNegN: 3 PredRew: 0.0559 ActRew: -0.0078 Eps: 0.100\n",
      "[79000] Loss: 0.0071 TrueN: 8 PredN: 6 HitNegN: 6 PredRew: 0.0152 ActRew: -0.0547 Eps: 0.100\n",
      "[79500] Loss: 0.0021 TrueN: 5 PredN: 5 HitNegN: 5 PredRew: 0.0439 ActRew: -0.0234 Eps: 0.100\n",
      "[80000] Loss: 0.0055 TrueN: 6 PredN: 5 HitNegN: 5 PredRew: 0.0163 ActRew: -0.0156 Eps: 0.100\n",
      "[80500] Loss: 0.0011 TrueN: 2 PredN: 2 HitNegN: 2 PredRew: 0.0361 ActRew: -0.0078 Eps: 0.100\n",
      "[81000] Loss: 0.0068 TrueN: 5 PredN: 2 HitNegN: 2 PredRew: 0.0437 ActRew: -0.0234 Eps: 0.100\n",
      "[81500] Loss: 0.0090 TrueN: 7 PredN: 4 HitNegN: 4 PredRew: 0.0117 ActRew: -0.0391 Eps: 0.100\n",
      "[82000] Loss: 0.0026 TrueN: 2 PredN: 1 HitNegN: 1 PredRew: 0.0431 ActRew: -0.0078 Eps: 0.100\n",
      "[82500] Loss: 0.0038 TrueN: 3 PredN: 3 HitNegN: 3 PredRew: 0.0379 ActRew: -0.0156 Eps: 0.100\n",
      "[83000] Loss: 0.0026 TrueN: 7 PredN: 7 HitNegN: 7 PredRew: 0.0183 ActRew: -0.0312 Eps: 0.100\n",
      "[83500] Loss: 0.0098 TrueN: 2 PredN: 0 HitNegN: 0 PredRew: 0.0470 ActRew: -0.0078 Eps: 0.100\n",
      "[84000] Loss: 0.0052 TrueN: 1 PredN: 1 HitNegN: 1 PredRew: 0.0560 ActRew: 0.0000 Eps: 0.100\n",
      "[84500] Loss: 0.0015 TrueN: 3 PredN: 3 HitNegN: 3 PredRew: 0.0133 ActRew: -0.0234 Eps: 0.100\n",
      "[85000] Loss: 0.0017 TrueN: 1 PredN: 1 HitNegN: 1 PredRew: 0.0256 ActRew: -0.0078 Eps: 0.100\n",
      "[85500] Loss: 0.0037 TrueN: 2 PredN: 2 HitNegN: 2 PredRew: 0.0586 ActRew: -0.0156 Eps: 0.100\n",
      "[86000] Loss: 0.0010 TrueN: 5 PredN: 5 HitNegN: 5 PredRew: 0.0130 ActRew: -0.0391 Eps: 0.100\n",
      "[86500] Loss: 0.0066 TrueN: 7 PredN: 5 HitNegN: 5 PredRew: 0.0638 ActRew: -0.0234 Eps: 0.100\n",
      "[87000] Loss: 0.0016 TrueN: 4 PredN: 3 HitNegN: 3 PredRew: 0.0516 ActRew: -0.0234 Eps: 0.100\n",
      "[87500] Loss: 0.0025 TrueN: 6 PredN: 6 HitNegN: 6 PredRew: 0.0094 ActRew: -0.0312 Eps: 0.100\n",
      "[88000] Loss: 0.0013 TrueN: 1 PredN: 1 HitNegN: 1 PredRew: 0.0653 ActRew: -0.0078 Eps: 0.100\n",
      "[88500] Loss: 0.0023 TrueN: 2 PredN: 2 HitNegN: 2 PredRew: 0.0522 ActRew: -0.0078 Eps: 0.100\n",
      "[89000] Loss: 0.0039 TrueN: 3 PredN: 2 HitNegN: 2 PredRew: 0.0272 ActRew: -0.0156 Eps: 0.100\n",
      "[89500] Loss: 0.0036 TrueN: 4 PredN: 3 HitNegN: 3 PredRew: 0.0403 ActRew: -0.0078 Eps: 0.100\n",
      "[90000] Loss: 0.0035 TrueN: 2 PredN: 1 HitNegN: 1 PredRew: 0.0341 ActRew: -0.0078 Eps: 0.100\n",
      "[90500] Loss: 0.0037 TrueN: 3 PredN: 3 HitNegN: 3 PredRew: 0.0103 ActRew: -0.0156 Eps: 0.100\n",
      "[91000] Loss: 0.0019 TrueN: 2 PredN: 1 HitNegN: 1 PredRew: -0.0020 ActRew: -0.0078 Eps: 0.100\n",
      "[91500] Loss: 0.0019 TrueN: 2 PredN: 2 HitNegN: 2 PredRew: 0.0337 ActRew: -0.0156 Eps: 0.100\n",
      "[92000] Loss: 0.0033 TrueN: 3 PredN: 3 HitNegN: 3 PredRew: 0.0159 ActRew: -0.0156 Eps: 0.100\n",
      "[92500] Loss: 0.0076 TrueN: 9 PredN: 8 HitNegN: 7 PredRew: -0.0013 ActRew: -0.0547 Eps: 0.100\n",
      "[93000] Loss: 0.0057 TrueN: 3 PredN: 1 HitNegN: 1 PredRew: -0.0016 ActRew: -0.0078 Eps: 0.100\n",
      "[93500] Loss: 0.0026 TrueN: 2 PredN: 2 HitNegN: 2 PredRew: 0.0300 ActRew: -0.0156 Eps: 0.100\n",
      "[94000] Loss: 0.0060 TrueN: 3 PredN: 3 HitNegN: 3 PredRew: 0.0048 ActRew: -0.0234 Eps: 0.100\n",
      "[94500] Loss: 0.0034 TrueN: 3 PredN: 2 HitNegN: 2 PredRew: 0.0130 ActRew: -0.0156 Eps: 0.100\n",
      "[95000] Loss: 0.0025 TrueN: 2 PredN: 2 HitNegN: 2 PredRew: 0.0263 ActRew: -0.0078 Eps: 0.100\n",
      "[95500] Loss: 0.0068 TrueN: 2 PredN: 1 HitNegN: 1 PredRew: 0.0149 ActRew: -0.0156 Eps: 0.100\n",
      "[96000] Loss: 0.0026 TrueN: 6 PredN: 4 HitNegN: 4 PredRew: 0.0197 ActRew: -0.0312 Eps: 0.100\n",
      "[96500] Loss: 0.0050 TrueN: 6 PredN: 5 HitNegN: 4 PredRew: 0.0267 ActRew: -0.0312 Eps: 0.100\n",
      "[97000] Loss: 0.0042 TrueN: 4 PredN: 5 HitNegN: 4 PredRew: 0.0166 ActRew: -0.0312 Eps: 0.100\n",
      "[97500] Loss: 0.0062 TrueN: 6 PredN: 5 HitNegN: 5 PredRew: 0.0257 ActRew: -0.0312 Eps: 0.100\n",
      "[98000] Loss: 0.0058 TrueN: 6 PredN: 4 HitNegN: 4 PredRew: 0.0124 ActRew: -0.0156 Eps: 0.100\n",
      "[98500] Loss: 0.0025 TrueN: 5 PredN: 5 HitNegN: 5 PredRew: 0.0390 ActRew: -0.0234 Eps: 0.100\n",
      "[99000] Loss: 0.0022 TrueN: 3 PredN: 3 HitNegN: 3 PredRew: 0.0079 ActRew: -0.0156 Eps: 0.100\n",
      "[99500] Loss: 0.0069 TrueN: 7 PredN: 6 HitNegN: 6 PredRew: -0.0149 ActRew: -0.0547 Eps: 0.100\n",
      "[100000] Loss: 0.0039 TrueN: 1 PredN: 1 HitNegN: 1 PredRew: 0.0586 ActRew: -0.0078 Eps: 0.100\n",
      "[100500] Loss: 0.0038 TrueN: 3 PredN: 3 HitNegN: 3 PredRew: 0.0570 ActRew: -0.0156 Eps: 0.100\n",
      "[101000] Loss: 0.0028 TrueN: 5 PredN: 5 HitNegN: 5 PredRew: 0.0210 ActRew: -0.0234 Eps: 0.100\n",
      "[101500] Loss: 0.0081 TrueN: 6 PredN: 4 HitNegN: 4 PredRew: 0.0307 ActRew: -0.0312 Eps: 0.100\n",
      "[102000] Loss: 0.0045 TrueN: 6 PredN: 6 HitNegN: 6 PredRew: -0.0073 ActRew: -0.0469 Eps: 0.100\n",
      "[102500] Loss: 0.0032 TrueN: 1 PredN: 1 HitNegN: 1 PredRew: 0.0402 ActRew: 0.0000 Eps: 0.100\n",
      "[103000] Loss: 0.0097 TrueN: 5 PredN: 6 HitNegN: 5 PredRew: 0.0063 ActRew: -0.0391 Eps: 0.100\n",
      "[103500] Loss: 0.0016 TrueN: 5 PredN: 5 HitNegN: 5 PredRew: 0.0466 ActRew: -0.0391 Eps: 0.100\n",
      "[104000] Loss: 0.0059 TrueN: 5 PredN: 4 HitNegN: 4 PredRew: 0.0273 ActRew: -0.0234 Eps: 0.100\n",
      "[104500] Loss: 0.0030 TrueN: 8 PredN: 7 HitNegN: 7 PredRew: 0.0268 ActRew: -0.0391 Eps: 0.100\n",
      "[105000] Loss: 0.0036 TrueN: 7 PredN: 6 HitNegN: 6 PredRew: 0.0289 ActRew: -0.0469 Eps: 0.100\n",
      "[105500] Loss: 0.0099 TrueN: 7 PredN: 5 HitNegN: 5 PredRew: 0.0426 ActRew: -0.0469 Eps: 0.100\n",
      "[106000] Loss: 0.0023 TrueN: 3 PredN: 2 HitNegN: 2 PredRew: 0.0603 ActRew: -0.0078 Eps: 0.100\n",
      "[106500] Loss: 0.0027 TrueN: 1 PredN: 1 HitNegN: 1 PredRew: 0.0500 ActRew: 0.0000 Eps: 0.100\n",
      "[107000] Loss: 0.0030 TrueN: 6 PredN: 6 HitNegN: 6 PredRew: 0.0542 ActRew: -0.0234 Eps: 0.100\n",
      "[107500] Loss: 0.0049 TrueN: 6 PredN: 4 HitNegN: 4 PredRew: 0.0280 ActRew: -0.0312 Eps: 0.100\n",
      "[108000] Loss: 0.0067 TrueN: 9 PredN: 7 HitNegN: 7 PredRew: 0.0258 ActRew: -0.0312 Eps: 0.100\n",
      "[108500] Loss: 0.0015 TrueN: 7 PredN: 7 HitNegN: 7 PredRew: 0.0129 ActRew: -0.0547 Eps: 0.100\n",
      "[109000] Loss: 0.0024 TrueN: 2 PredN: 2 HitNegN: 2 PredRew: 0.0370 ActRew: -0.0078 Eps: 0.100\n",
      "[109500] Loss: 0.0031 TrueN: 3 PredN: 3 HitNegN: 3 PredRew: 0.0636 ActRew: -0.0156 Eps: 0.100\n",
      "[110000] Loss: 0.0036 TrueN: 2 PredN: 3 HitNegN: 2 PredRew: 0.0633 ActRew: -0.0078 Eps: 0.100\n",
      "[110500] Loss: 0.0046 TrueN: 3 PredN: 2 HitNegN: 2 PredRew: 0.0820 ActRew: -0.0156 Eps: 0.100\n",
      "[111000] Loss: 0.0030 TrueN: 3 PredN: 2 HitNegN: 2 PredRew: 0.0386 ActRew: -0.0156 Eps: 0.100\n",
      "[111500] Loss: 0.0018 TrueN: 1 PredN: 1 HitNegN: 1 PredRew: 0.0879 ActRew: -0.0078 Eps: 0.100\n",
      "[112000] Loss: 0.0031 TrueN: 4 PredN: 3 HitNegN: 3 PredRew: 0.0645 ActRew: -0.0078 Eps: 0.100\n",
      "[112500] Loss: 0.0020 TrueN: 3 PredN: 3 HitNegN: 3 PredRew: 0.0337 ActRew: -0.0156 Eps: 0.100\n",
      "[113000] Loss: 0.0055 TrueN: 2 PredN: 1 HitNegN: 1 PredRew: 0.0570 ActRew: -0.0078 Eps: 0.100\n"
     ]
    },
    {
     "name": "stdout",
     "output_type": "stream",
     "text": [
      "[113500] Loss: 0.0027 TrueN: 5 PredN: 5 HitNegN: 5 PredRew: 0.0162 ActRew: -0.0312 Eps: 0.100\n",
      "[114000] Loss: 0.0023 TrueN: 4 PredN: 4 HitNegN: 4 PredRew: 0.0529 ActRew: -0.0156 Eps: 0.100\n",
      "[114500] Loss: 0.0013 TrueN: 3 PredN: 4 HitNegN: 3 PredRew: 0.0664 ActRew: -0.0234 Eps: 0.100\n",
      "[115000] Loss: 0.0029 TrueN: 6 PredN: 5 HitNegN: 5 PredRew: 0.0349 ActRew: -0.0312 Eps: 0.100\n",
      "[115500] Loss: 0.0046 TrueN: 4 PredN: 2 HitNegN: 2 PredRew: 0.0762 ActRew: -0.0078 Eps: 0.100\n",
      "[116000] Loss: 0.0054 TrueN: 2 PredN: 2 HitNegN: 2 PredRew: 0.0619 ActRew: -0.0156 Eps: 0.100\n",
      "[116500] Loss: 0.0051 TrueN: 3 PredN: 4 HitNegN: 3 PredRew: 0.0666 ActRew: -0.0156 Eps: 0.100\n",
      "[117000] Loss: 0.0066 TrueN: 5 PredN: 3 HitNegN: 3 PredRew: 0.0482 ActRew: -0.0312 Eps: 0.100\n",
      "[117500] Loss: 0.0020 TrueN: 4 PredN: 4 HitNegN: 4 PredRew: 0.0822 ActRew: -0.0156 Eps: 0.100\n",
      "[118000] Loss: 0.0023 TrueN: 4 PredN: 4 HitNegN: 4 PredRew: 0.0627 ActRew: -0.0234 Eps: 0.100\n",
      "[118500] Loss: 0.0021 TrueN: 4 PredN: 4 HitNegN: 4 PredRew: 0.0499 ActRew: -0.0156 Eps: 0.100\n",
      "[119000] Loss: 0.0047 TrueN: 4 PredN: 3 HitNegN: 3 PredRew: -0.0098 ActRew: -0.0078 Eps: 0.100\n",
      "[119500] Loss: 0.0021 TrueN: 2 PredN: 2 HitNegN: 2 PredRew: 0.0682 ActRew: -0.0078 Eps: 0.100\n",
      "[120000] Loss: 0.0019 TrueN: 1 PredN: 1 HitNegN: 1 PredRew: 0.0731 ActRew: -0.0078 Eps: 0.100\n",
      "[120500] Loss: 0.0026 TrueN: 4 PredN: 4 HitNegN: 4 PredRew: 0.0794 ActRew: -0.0234 Eps: 0.100\n",
      "[121000] Loss: 0.0117 TrueN: 3 PredN: 1 HitNegN: 1 PredRew: 0.0856 ActRew: -0.0234 Eps: 0.100\n",
      "[121500] Loss: 0.0091 TrueN: 5 PredN: 4 HitNegN: 4 PredRew: 0.0561 ActRew: -0.0391 Eps: 0.100\n",
      "[122000] Loss: 0.0024 TrueN: 7 PredN: 7 HitNegN: 7 PredRew: 0.0716 ActRew: -0.0469 Eps: 0.100\n",
      "[122500] Loss: 0.0028 TrueN: 3 PredN: 3 HitNegN: 3 PredRew: 0.0601 ActRew: -0.0234 Eps: 0.100\n",
      "[123000] Loss: 0.0055 TrueN: 1 PredN: 1 HitNegN: 1 PredRew: 0.0948 ActRew: -0.0078 Eps: 0.100\n",
      "[123500] Loss: 0.0049 TrueN: 2 PredN: 1 HitNegN: 1 PredRew: 0.0769 ActRew: -0.0156 Eps: 0.100\n",
      "[124000] Loss: 0.0040 TrueN: 3 PredN: 4 HitNegN: 3 PredRew: 0.1291 ActRew: -0.0156 Eps: 0.100\n",
      "[124500] Loss: 0.0039 TrueN: 3 PredN: 2 HitNegN: 2 PredRew: 0.1147 ActRew: -0.0078 Eps: 0.100\n",
      "[125000] Loss: 0.0066 TrueN: 7 PredN: 4 HitNegN: 4 PredRew: 0.0685 ActRew: -0.0391 Eps: 0.100\n",
      "[125500] Loss: 0.0030 TrueN: 2 PredN: 2 HitNegN: 2 PredRew: 0.0821 ActRew: -0.0078 Eps: 0.100\n",
      "[126000] Loss: 0.0029 TrueN: 1 PredN: 1 HitNegN: 1 PredRew: 0.0856 ActRew: -0.0078 Eps: 0.100\n",
      "[126500] Loss: 0.0017 TrueN: 3 PredN: 2 HitNegN: 2 PredRew: 0.0751 ActRew: -0.0156 Eps: 0.100\n",
      "[127000] Loss: 0.0060 TrueN: 3 PredN: 2 HitNegN: 2 PredRew: 0.0714 ActRew: -0.0078 Eps: 0.100\n",
      "[127500] Loss: 0.0022 TrueN: 5 PredN: 5 HitNegN: 5 PredRew: 0.0615 ActRew: -0.0234 Eps: 0.100\n",
      "[128000] Loss: 0.0071 TrueN: 6 PredN: 3 HitNegN: 3 PredRew: 0.0581 ActRew: -0.0234 Eps: 0.100\n",
      "[128500] Loss: 0.0058 TrueN: 2 PredN: 3 HitNegN: 2 PredRew: 0.0789 ActRew: -0.0156 Eps: 0.100\n",
      "[129000] Loss: 0.0021 TrueN: 2 PredN: 2 HitNegN: 2 PredRew: 0.0653 ActRew: -0.0078 Eps: 0.100\n",
      "[129500] Loss: 0.0045 TrueN: 5 PredN: 5 HitNegN: 5 PredRew: 0.0523 ActRew: -0.0312 Eps: 0.100\n",
      "[130000] Loss: 0.0023 TrueN: 2 PredN: 2 HitNegN: 2 PredRew: 0.0650 ActRew: -0.0078 Eps: 0.100\n",
      "[130500] Loss: 0.0028 TrueN: 4 PredN: 3 HitNegN: 3 PredRew: 0.0403 ActRew: -0.0234 Eps: 0.100\n",
      "[131000] Loss: 0.0041 TrueN: 1 PredN: 1 HitNegN: 1 PredRew: 0.0421 ActRew: -0.0078 Eps: 0.100\n",
      "[131500] Loss: 0.0028 TrueN: 6 PredN: 5 HitNegN: 5 PredRew: 0.0634 ActRew: -0.0391 Eps: 0.100\n",
      "[132000] Loss: 0.0051 TrueN: 2 PredN: 2 HitNegN: 2 PredRew: 0.0608 ActRew: -0.0078 Eps: 0.100\n",
      "[132500] Loss: 0.0051 TrueN: 3 PredN: 1 HitNegN: 1 PredRew: 0.0286 ActRew: -0.0156 Eps: 0.100\n",
      "[133000] Loss: 0.0095 TrueN: 3 PredN: 1 HitNegN: 1 PredRew: 0.0496 ActRew: -0.0234 Eps: 0.100\n",
      "[133500] Loss: 0.0095 TrueN: 4 PredN: 4 HitNegN: 3 PredRew: 0.0416 ActRew: -0.0312 Eps: 0.100\n",
      "[134000] Loss: 0.0025 TrueN: 6 PredN: 6 HitNegN: 6 PredRew: 0.0573 ActRew: -0.0156 Eps: 0.100\n",
      "[134500] Loss: 0.0034 TrueN: 4 PredN: 3 HitNegN: 3 PredRew: 0.0999 ActRew: -0.0234 Eps: 0.100\n",
      "[135000] Loss: 0.0083 TrueN: 7 PredN: 5 HitNegN: 5 PredRew: 0.0447 ActRew: -0.0234 Eps: 0.100\n",
      "[135500] Loss: 0.0016 TrueN: 4 PredN: 4 HitNegN: 4 PredRew: 0.0368 ActRew: -0.0234 Eps: 0.100\n",
      "[136000] Loss: 0.0027 TrueN: 1 PredN: 1 HitNegN: 1 PredRew: 0.1092 ActRew: -0.0078 Eps: 0.100\n",
      "[136500] Loss: 0.0022 TrueN: 1 PredN: 1 HitNegN: 1 PredRew: 0.0677 ActRew: -0.0078 Eps: 0.100\n",
      "[137000] Loss: 0.0013 TrueN: 4 PredN: 3 HitNegN: 3 PredRew: 0.0612 ActRew: -0.0156 Eps: 0.100\n",
      "[137500] Loss: 0.0023 TrueN: 0 PredN: 0 HitNegN: 0 PredRew: 0.0838 ActRew: 0.0000 Eps: 0.100\n",
      "[138000] Loss: 0.0037 TrueN: 11 PredN: 10 HitNegN: 10 PredRew: 0.0085 ActRew: -0.0391 Eps: 0.100\n",
      "[138500] Loss: 0.0019 TrueN: 5 PredN: 5 HitNegN: 5 PredRew: 0.0506 ActRew: -0.0312 Eps: 0.100\n",
      "[139000] Loss: 0.0087 TrueN: 3 PredN: 1 HitNegN: 1 PredRew: 0.0473 ActRew: -0.0234 Eps: 0.100\n",
      "[139500] Loss: 0.0034 TrueN: 2 PredN: 3 HitNegN: 2 PredRew: 0.0803 ActRew: -0.0156 Eps: 0.100\n",
      "[140000] Loss: 0.0032 TrueN: 2 PredN: 2 HitNegN: 2 PredRew: 0.0541 ActRew: -0.0156 Eps: 0.100\n",
      "[140500] Loss: 0.0028 TrueN: 4 PredN: 5 HitNegN: 4 PredRew: 0.0239 ActRew: -0.0234 Eps: 0.100\n",
      "[141000] Loss: 0.0052 TrueN: 7 PredN: 6 HitNegN: 6 PredRew: 0.0436 ActRew: -0.0469 Eps: 0.100\n",
      "[141500] Loss: 0.0026 TrueN: 6 PredN: 6 HitNegN: 5 PredRew: 0.0451 ActRew: -0.0234 Eps: 0.100\n",
      "[142000] Loss: 0.0027 TrueN: 3 PredN: 2 HitNegN: 2 PredRew: 0.0437 ActRew: -0.0156 Eps: 0.100\n",
      "[142500] Loss: 0.0065 TrueN: 11 PredN: 8 HitNegN: 8 PredRew: 0.0384 ActRew: -0.0547 Eps: 0.100\n",
      "[143000] Loss: 0.0022 TrueN: 5 PredN: 5 HitNegN: 5 PredRew: 0.0194 ActRew: -0.0312 Eps: 0.100\n",
      "[143500] Loss: 0.0027 TrueN: 2 PredN: 2 HitNegN: 2 PredRew: 0.0576 ActRew: -0.0078 Eps: 0.100\n",
      "[144000] Loss: 0.0136 TrueN: 5 PredN: 5 HitNegN: 3 PredRew: 0.0045 ActRew: -0.0312 Eps: 0.100\n",
      "[144500] Loss: 0.0040 TrueN: 5 PredN: 5 HitNegN: 5 PredRew: 0.0557 ActRew: -0.0391 Eps: 0.100\n",
      "[145000] Loss: 0.0046 TrueN: 6 PredN: 5 HitNegN: 5 PredRew: 0.0275 ActRew: -0.0234 Eps: 0.100\n",
      "[145500] Loss: 0.0043 TrueN: 5 PredN: 4 HitNegN: 4 PredRew: 0.0329 ActRew: -0.0312 Eps: 0.100\n",
      "[146000] Loss: 0.0024 TrueN: 3 PredN: 3 HitNegN: 3 PredRew: 0.0498 ActRew: -0.0234 Eps: 0.100\n",
      "[146500] Loss: 0.0023 TrueN: 3 PredN: 3 HitNegN: 3 PredRew: 0.0107 ActRew: -0.0234 Eps: 0.100\n",
      "[147000] Loss: 0.0033 TrueN: 0 PredN: 0 HitNegN: 0 PredRew: 0.0731 ActRew: 0.0000 Eps: 0.100\n",
      "[147500] Loss: 0.0026 TrueN: 3 PredN: 3 HitNegN: 3 PredRew: 0.0764 ActRew: -0.0234 Eps: 0.100\n",
      "[148000] Loss: 0.0033 TrueN: 5 PredN: 5 HitNegN: 5 PredRew: 0.0854 ActRew: -0.0312 Eps: 0.100\n",
      "[148500] Loss: 0.0033 TrueN: 3 PredN: 2 HitNegN: 2 PredRew: 0.0279 ActRew: -0.0156 Eps: 0.100\n",
      "[149000] Loss: 0.0022 TrueN: 6 PredN: 6 HitNegN: 6 PredRew: 0.0407 ActRew: -0.0312 Eps: 0.100\n",
      "[149500] Loss: 0.0030 TrueN: 3 PredN: 4 HitNegN: 3 PredRew: 0.0607 ActRew: -0.0078 Eps: 0.100\n",
      "[150000] Loss: 0.0060 TrueN: 1 PredN: 3 HitNegN: 1 PredRew: 0.0728 ActRew: 0.0000 Eps: 0.100\n",
      "[150500] Loss: 0.0083 TrueN: 3 PredN: 1 HitNegN: 1 PredRew: 0.0673 ActRew: -0.0156 Eps: 0.100\n",
      "[151000] Loss: 0.0038 TrueN: 11 PredN: 10 HitNegN: 10 PredRew: -0.0093 ActRew: -0.0781 Eps: 0.100\n",
      "[151500] Loss: 0.0034 TrueN: 4 PredN: 4 HitNegN: 4 PredRew: 0.0684 ActRew: -0.0312 Eps: 0.100\n",
      "[152000] Loss: 0.0090 TrueN: 8 PredN: 6 HitNegN: 6 PredRew: 0.0532 ActRew: -0.0469 Eps: 0.100\n",
      "[152500] Loss: 0.0041 TrueN: 3 PredN: 3 HitNegN: 3 PredRew: 0.0324 ActRew: -0.0156 Eps: 0.100\n",
      "[153000] Loss: 0.0025 TrueN: 4 PredN: 4 HitNegN: 4 PredRew: 0.0504 ActRew: -0.0156 Eps: 0.100\n",
      "[153500] Loss: 0.0019 TrueN: 2 PredN: 2 HitNegN: 2 PredRew: 0.0884 ActRew: -0.0156 Eps: 0.100\n",
      "[154000] Loss: 0.0024 TrueN: 2 PredN: 2 HitNegN: 2 PredRew: 0.0363 ActRew: -0.0156 Eps: 0.100\n",
      "[154500] Loss: 0.0039 TrueN: 4 PredN: 4 HitNegN: 4 PredRew: 0.0735 ActRew: -0.0312 Eps: 0.100\n",
      "[155000] Loss: 0.0052 TrueN: 4 PredN: 4 HitNegN: 4 PredRew: 0.0358 ActRew: -0.0156 Eps: 0.100\n",
      "[155500] Loss: 0.0024 TrueN: 2 PredN: 2 HitNegN: 2 PredRew: 0.0562 ActRew: -0.0156 Eps: 0.100\n",
      "[156000] Loss: 0.0021 TrueN: 5 PredN: 5 HitNegN: 5 PredRew: 0.0221 ActRew: -0.0391 Eps: 0.100\n",
      "[156500] Loss: 0.0053 TrueN: 4 PredN: 2 HitNegN: 2 PredRew: 0.0197 ActRew: -0.0156 Eps: 0.100\n",
      "[157000] Loss: 0.0052 TrueN: 2 PredN: 2 HitNegN: 2 PredRew: 0.0484 ActRew: -0.0156 Eps: 0.100\n"
     ]
    },
    {
     "name": "stdout",
     "output_type": "stream",
     "text": [
      "[157500] Loss: 0.0094 TrueN: 2 PredN: 2 HitNegN: 1 PredRew: 0.0571 ActRew: 0.0000 Eps: 0.100\n",
      "[158000] Loss: 0.0027 TrueN: 2 PredN: 2 HitNegN: 2 PredRew: 0.0633 ActRew: -0.0156 Eps: 0.100\n",
      "[158500] Loss: 0.0041 TrueN: 3 PredN: 2 HitNegN: 2 PredRew: 0.0743 ActRew: -0.0078 Eps: 0.100\n",
      "[159000] Loss: 0.0024 TrueN: 7 PredN: 7 HitNegN: 7 PredRew: 0.0629 ActRew: -0.0312 Eps: 0.100\n",
      "[159500] Loss: 0.0058 TrueN: 3 PredN: 1 HitNegN: 1 PredRew: 0.0255 ActRew: -0.0156 Eps: 0.100\n",
      "[160000] Loss: 0.0030 TrueN: 6 PredN: 5 HitNegN: 5 PredRew: 0.0173 ActRew: -0.0234 Eps: 0.100\n",
      "[160500] Loss: 0.0072 TrueN: 3 PredN: 1 HitNegN: 1 PredRew: 0.0665 ActRew: -0.0078 Eps: 0.100\n",
      "[161000] Loss: 0.0069 TrueN: 6 PredN: 5 HitNegN: 5 PredRew: -0.0227 ActRew: -0.0391 Eps: 0.100\n",
      "[161500] Loss: 0.0035 TrueN: 5 PredN: 4 HitNegN: 4 PredRew: 0.0188 ActRew: -0.0312 Eps: 0.100\n",
      "[162000] Loss: 0.0035 TrueN: 2 PredN: 2 HitNegN: 2 PredRew: 0.0362 ActRew: -0.0078 Eps: 0.100\n",
      "[162500] Loss: 0.0039 TrueN: 4 PredN: 5 HitNegN: 4 PredRew: -0.0055 ActRew: -0.0156 Eps: 0.100\n",
      "[163000] Loss: 0.0075 TrueN: 6 PredN: 6 HitNegN: 5 PredRew: 0.0215 ActRew: -0.0391 Eps: 0.100\n",
      "[163500] Loss: 0.0026 TrueN: 5 PredN: 4 HitNegN: 4 PredRew: 0.0045 ActRew: -0.0312 Eps: 0.100\n",
      "[164000] Loss: 0.0031 TrueN: 5 PredN: 5 HitNegN: 5 PredRew: 0.0483 ActRew: -0.0312 Eps: 0.100\n",
      "[164500] Loss: 0.0056 TrueN: 3 PredN: 3 HitNegN: 3 PredRew: 0.0457 ActRew: -0.0156 Eps: 0.100\n",
      "[165000] Loss: 0.0030 TrueN: 2 PredN: 2 HitNegN: 2 PredRew: 0.0343 ActRew: -0.0156 Eps: 0.100\n",
      "[165500] Loss: 0.0037 TrueN: 8 PredN: 8 HitNegN: 8 PredRew: 0.0067 ActRew: -0.0469 Eps: 0.100\n",
      "[166000] Loss: 0.0109 TrueN: 4 PredN: 2 HitNegN: 2 PredRew: 0.0233 ActRew: -0.0312 Eps: 0.100\n",
      "[166500] Loss: 0.0039 TrueN: 4 PredN: 4 HitNegN: 4 PredRew: 0.0447 ActRew: -0.0156 Eps: 0.100\n",
      "[167000] Loss: 0.0043 TrueN: 3 PredN: 2 HitNegN: 2 PredRew: 0.0218 ActRew: -0.0156 Eps: 0.100\n",
      "[167500] Loss: 0.0035 TrueN: 7 PredN: 5 HitNegN: 5 PredRew: 0.0020 ActRew: -0.0156 Eps: 0.100\n",
      "[168000] Loss: 0.0026 TrueN: 4 PredN: 4 HitNegN: 4 PredRew: -0.0056 ActRew: -0.0156 Eps: 0.100\n",
      "[168500] Loss: 0.0037 TrueN: 4 PredN: 3 HitNegN: 3 PredRew: 0.0033 ActRew: -0.0156 Eps: 0.100\n",
      "[169000] Loss: 0.0067 TrueN: 7 PredN: 4 HitNegN: 4 PredRew: 0.0168 ActRew: -0.0078 Eps: 0.100\n",
      "[169500] Loss: 0.0042 TrueN: 4 PredN: 3 HitNegN: 3 PredRew: 0.0130 ActRew: -0.0156 Eps: 0.100\n",
      "[170000] Loss: 0.0028 TrueN: 5 PredN: 5 HitNegN: 5 PredRew: 0.0178 ActRew: -0.0312 Eps: 0.100\n",
      "[170500] Loss: 0.0120 TrueN: 5 PredN: 4 HitNegN: 3 PredRew: 0.0204 ActRew: -0.0234 Eps: 0.100\n",
      "[171000] Loss: 0.0033 TrueN: 6 PredN: 6 HitNegN: 6 PredRew: 0.0219 ActRew: -0.0312 Eps: 0.100\n",
      "[171500] Loss: 0.0054 TrueN: 3 PredN: 2 HitNegN: 2 PredRew: 0.0160 ActRew: 0.0000 Eps: 0.100\n",
      "[172000] Loss: 0.0029 TrueN: 5 PredN: 3 HitNegN: 2 PredRew: 0.0402 ActRew: -0.0078 Eps: 0.100\n",
      "[172500] Loss: 0.0032 TrueN: 3 PredN: 3 HitNegN: 3 PredRew: 0.0394 ActRew: -0.0234 Eps: 0.100\n",
      "[173000] Loss: 0.0025 TrueN: 2 PredN: 2 HitNegN: 2 PredRew: 0.0547 ActRew: -0.0078 Eps: 0.100\n",
      "[173500] Loss: 0.0020 TrueN: 1 PredN: 1 HitNegN: 1 PredRew: 0.0340 ActRew: -0.0078 Eps: 0.100\n",
      "[174000] Loss: 0.0040 TrueN: 5 PredN: 5 HitNegN: 5 PredRew: 0.0156 ActRew: -0.0391 Eps: 0.100\n",
      "[174500] Loss: 0.0016 TrueN: 4 PredN: 3 HitNegN: 3 PredRew: 0.0245 ActRew: -0.0234 Eps: 0.100\n",
      "[175000] Loss: 0.0027 TrueN: 3 PredN: 3 HitNegN: 3 PredRew: 0.0344 ActRew: -0.0156 Eps: 0.100\n",
      "[175500] Loss: 0.0047 TrueN: 7 PredN: 6 HitNegN: 6 PredRew: 0.0144 ActRew: -0.0391 Eps: 0.100\n",
      "[176000] Loss: 0.0025 TrueN: 4 PredN: 4 HitNegN: 4 PredRew: 0.0348 ActRew: -0.0312 Eps: 0.100\n",
      "[176500] Loss: 0.0077 TrueN: 2 PredN: 3 HitNegN: 2 PredRew: 0.0705 ActRew: -0.0156 Eps: 0.100\n",
      "[177000] Loss: 0.0089 TrueN: 5 PredN: 4 HitNegN: 4 PredRew: 0.0083 ActRew: -0.0234 Eps: 0.100\n",
      "[177500] Loss: 0.0021 TrueN: 6 PredN: 4 HitNegN: 4 PredRew: 0.0334 ActRew: -0.0312 Eps: 0.100\n",
      "[178000] Loss: 0.0084 TrueN: 2 PredN: 2 HitNegN: 1 PredRew: 0.0235 ActRew: -0.0156 Eps: 0.100\n",
      "[178500] Loss: 0.0143 TrueN: 6 PredN: 4 HitNegN: 4 PredRew: -0.0184 ActRew: -0.0312 Eps: 0.100\n",
      "[179000] Loss: 0.0025 TrueN: 2 PredN: 2 HitNegN: 2 PredRew: -0.0210 ActRew: -0.0156 Eps: 0.100\n",
      "[179500] Loss: 0.0048 TrueN: 3 PredN: 3 HitNegN: 3 PredRew: 0.0134 ActRew: -0.0234 Eps: 0.100\n",
      "[180000] Loss: 0.0063 TrueN: 5 PredN: 2 HitNegN: 2 PredRew: 0.0212 ActRew: -0.0234 Eps: 0.100\n",
      "[180500] Loss: 0.0026 TrueN: 4 PredN: 4 HitNegN: 4 PredRew: 0.0263 ActRew: -0.0234 Eps: 0.100\n",
      "[181000] Loss: 0.0071 TrueN: 10 PredN: 7 HitNegN: 7 PredRew: -0.0103 ActRew: -0.0625 Eps: 0.100\n",
      "[181500] Loss: 0.0051 TrueN: 1 PredN: 2 HitNegN: 1 PredRew: 0.0031 ActRew: -0.0078 Eps: 0.100\n",
      "[182000] Loss: 0.0033 TrueN: 3 PredN: 3 HitNegN: 3 PredRew: -0.0348 ActRew: -0.0234 Eps: 0.100\n",
      "[182500] Loss: 0.0024 TrueN: 2 PredN: 2 HitNegN: 2 PredRew: 0.0041 ActRew: -0.0078 Eps: 0.100\n",
      "[183000] Loss: 0.0047 TrueN: 6 PredN: 6 HitNegN: 6 PredRew: -0.0276 ActRew: -0.0469 Eps: 0.100\n",
      "[183500] Loss: 0.0029 TrueN: 5 PredN: 4 HitNegN: 4 PredRew: -0.0371 ActRew: -0.0312 Eps: 0.100\n",
      "[184000] Loss: 0.0048 TrueN: 4 PredN: 4 HitNegN: 4 PredRew: -0.0238 ActRew: -0.0156 Eps: 0.100\n",
      "[184500] Loss: 0.0016 TrueN: 1 PredN: 1 HitNegN: 1 PredRew: -0.0327 ActRew: -0.0078 Eps: 0.100\n",
      "[185000] Loss: 0.0065 TrueN: 5 PredN: 4 HitNegN: 4 PredRew: -0.0552 ActRew: -0.0234 Eps: 0.100\n",
      "[185500] Loss: 0.0023 TrueN: 3 PredN: 3 HitNegN: 3 PredRew: -0.0648 ActRew: -0.0156 Eps: 0.100\n",
      "[186000] Loss: 0.0043 TrueN: 3 PredN: 3 HitNegN: 3 PredRew: -0.0136 ActRew: -0.0078 Eps: 0.100\n",
      "[186500] Loss: 0.0042 TrueN: 3 PredN: 3 HitNegN: 2 PredRew: -0.0329 ActRew: -0.0078 Eps: 0.100\n",
      "[187000] Loss: 0.0062 TrueN: 2 PredN: 2 HitNegN: 1 PredRew: -0.0307 ActRew: -0.0156 Eps: 0.100\n",
      "[187500] Loss: 0.0041 TrueN: 7 PredN: 7 HitNegN: 7 PredRew: -0.0676 ActRew: -0.0547 Eps: 0.100\n",
      "[188000] Loss: 0.0037 TrueN: 4 PredN: 4 HitNegN: 4 PredRew: -0.1102 ActRew: -0.0312 Eps: 0.100\n",
      "[188500] Loss: 0.0046 TrueN: 5 PredN: 4 HitNegN: 4 PredRew: -0.0343 ActRew: -0.0312 Eps: 0.100\n",
      "[189000] Loss: 0.0059 TrueN: 8 PredN: 5 HitNegN: 5 PredRew: -0.0626 ActRew: -0.0391 Eps: 0.100\n",
      "[189500] Loss: 0.0043 TrueN: 2 PredN: 2 HitNegN: 2 PredRew: 0.0057 ActRew: -0.0156 Eps: 0.100\n",
      "[190000] Loss: 0.0021 TrueN: 1 PredN: 1 HitNegN: 1 PredRew: -0.0373 ActRew: -0.0078 Eps: 0.100\n",
      "[190500] Loss: 0.0051 TrueN: 9 PredN: 7 HitNegN: 7 PredRew: -0.0574 ActRew: -0.0312 Eps: 0.100\n",
      "[191000] Loss: 0.0025 TrueN: 8 PredN: 7 HitNegN: 7 PredRew: -0.0736 ActRew: -0.0391 Eps: 0.100\n",
      "[191500] Loss: 0.0068 TrueN: 4 PredN: 3 HitNegN: 3 PredRew: 0.0178 ActRew: -0.0312 Eps: 0.100\n",
      "[192000] Loss: 0.0057 TrueN: 7 PredN: 7 HitNegN: 7 PredRew: -0.0874 ActRew: -0.0391 Eps: 0.100\n",
      "[192500] Loss: 0.0079 TrueN: 8 PredN: 6 HitNegN: 6 PredRew: -0.0272 ActRew: -0.0469 Eps: 0.100\n",
      "[193000] Loss: 0.0056 TrueN: 3 PredN: 3 HitNegN: 3 PredRew: -0.0523 ActRew: -0.0234 Eps: 0.100\n",
      "[193500] Loss: 0.0067 TrueN: 2 PredN: 1 HitNegN: 1 PredRew: -0.0221 ActRew: -0.0078 Eps: 0.100\n",
      "[194000] Loss: 0.0066 TrueN: 3 PredN: 3 HitNegN: 3 PredRew: -0.0208 ActRew: -0.0156 Eps: 0.100\n",
      "[194500] Loss: 0.0096 TrueN: 6 PredN: 7 HitNegN: 6 PredRew: -0.0185 ActRew: -0.0234 Eps: 0.100\n",
      "[195000] Loss: 0.0043 TrueN: 5 PredN: 5 HitNegN: 5 PredRew: -0.0523 ActRew: -0.0234 Eps: 0.100\n",
      "[195500] Loss: 0.0042 TrueN: 4 PredN: 4 HitNegN: 4 PredRew: -0.0450 ActRew: -0.0312 Eps: 0.100\n",
      "[196000] Loss: 0.0033 TrueN: 6 PredN: 5 HitNegN: 5 PredRew: -0.0509 ActRew: -0.0234 Eps: 0.100\n",
      "[196500] Loss: 0.0043 TrueN: 3 PredN: 3 HitNegN: 3 PredRew: -0.0309 ActRew: -0.0156 Eps: 0.100\n",
      "[197000] Loss: 0.0026 TrueN: 2 PredN: 2 HitNegN: 2 PredRew: -0.0385 ActRew: -0.0156 Eps: 0.100\n",
      "[197500] Loss: 0.0039 TrueN: 5 PredN: 5 HitNegN: 5 PredRew: -0.0681 ActRew: -0.0312 Eps: 0.100\n",
      "[198000] Loss: 0.0027 TrueN: 5 PredN: 4 HitNegN: 4 PredRew: -0.0072 ActRew: -0.0156 Eps: 0.100\n",
      "[198500] Loss: 0.0040 TrueN: 3 PredN: 3 HitNegN: 3 PredRew: -0.0283 ActRew: -0.0156 Eps: 0.100\n",
      "[199000] Loss: 0.0022 TrueN: 7 PredN: 7 HitNegN: 7 PredRew: -0.0676 ActRew: -0.0391 Eps: 0.100\n",
      "[199500] Loss: 0.0028 TrueN: 1 PredN: 1 HitNegN: 1 PredRew: -0.0069 ActRew: -0.0078 Eps: 0.100\n",
      "[200000] Loss: 0.0038 TrueN: 10 PredN: 8 HitNegN: 8 PredRew: -0.0573 ActRew: -0.0391 Eps: 0.100\n",
      "[200500] Loss: 0.0029 TrueN: 5 PredN: 4 HitNegN: 4 PredRew: -0.0617 ActRew: -0.0156 Eps: 0.100\n"
     ]
    },
    {
     "name": "stdout",
     "output_type": "stream",
     "text": [
      "[201000] Loss: 0.0032 TrueN: 4 PredN: 4 HitNegN: 4 PredRew: 0.0078 ActRew: -0.0156 Eps: 0.100\n",
      "[201500] Loss: 0.0050 TrueN: 3 PredN: 4 HitNegN: 3 PredRew: -0.0312 ActRew: -0.0078 Eps: 0.100\n",
      "[202000] Loss: 0.0059 TrueN: 6 PredN: 4 HitNegN: 4 PredRew: 0.0029 ActRew: -0.0312 Eps: 0.100\n",
      "[202500] Loss: 0.0045 TrueN: 3 PredN: 3 HitNegN: 3 PredRew: -0.0611 ActRew: -0.0078 Eps: 0.100\n",
      "[203000] Loss: 0.0059 TrueN: 7 PredN: 6 HitNegN: 6 PredRew: -0.0677 ActRew: -0.0469 Eps: 0.100\n",
      "[203500] Loss: 0.0055 TrueN: 6 PredN: 4 HitNegN: 4 PredRew: -0.0635 ActRew: -0.0312 Eps: 0.100\n",
      "[204000] Loss: 0.0030 TrueN: 4 PredN: 3 HitNegN: 3 PredRew: -0.0206 ActRew: -0.0156 Eps: 0.100\n",
      "[204500] Loss: 0.0050 TrueN: 3 PredN: 3 HitNegN: 3 PredRew: -0.0049 ActRew: -0.0234 Eps: 0.100\n",
      "[205000] Loss: 0.0051 TrueN: 7 PredN: 7 HitNegN: 7 PredRew: -0.0222 ActRew: -0.0391 Eps: 0.100\n",
      "[205500] Loss: 0.0042 TrueN: 3 PredN: 3 HitNegN: 3 PredRew: 0.0023 ActRew: -0.0156 Eps: 0.100\n",
      "[206000] Loss: 0.0084 TrueN: 4 PredN: 4 HitNegN: 3 PredRew: -0.0155 ActRew: -0.0078 Eps: 0.100\n",
      "[206500] Loss: 0.0041 TrueN: 3 PredN: 2 HitNegN: 2 PredRew: -0.0367 ActRew: -0.0078 Eps: 0.100\n",
      "[207000] Loss: 0.0035 TrueN: 0 PredN: 0 HitNegN: 0 PredRew: 0.0477 ActRew: 0.0000 Eps: 0.100\n",
      "[207500] Loss: 0.0102 TrueN: 3 PredN: 2 HitNegN: 2 PredRew: 0.0116 ActRew: -0.0156 Eps: 0.100\n",
      "[208000] Loss: 0.0042 TrueN: 6 PredN: 3 HitNegN: 3 PredRew: -0.0429 ActRew: -0.0234 Eps: 0.100\n",
      "[208500] Loss: 0.0084 TrueN: 8 PredN: 7 HitNegN: 6 PredRew: -0.0454 ActRew: -0.0234 Eps: 0.100\n",
      "[209000] Loss: 0.0045 TrueN: 3 PredN: 4 HitNegN: 3 PredRew: -0.0669 ActRew: -0.0156 Eps: 0.100\n",
      "[209500] Loss: 0.0084 TrueN: 7 PredN: 6 HitNegN: 6 PredRew: -0.0097 ActRew: -0.0547 Eps: 0.100\n",
      "[210000] Loss: 0.0019 TrueN: 5 PredN: 5 HitNegN: 5 PredRew: -0.0253 ActRew: -0.0312 Eps: 0.100\n",
      "[210500] Loss: 0.0031 TrueN: 2 PredN: 2 HitNegN: 2 PredRew: -0.0081 ActRew: -0.0078 Eps: 0.100\n",
      "[211000] Loss: 0.0054 TrueN: 6 PredN: 5 HitNegN: 5 PredRew: -0.0369 ActRew: -0.0234 Eps: 0.100\n",
      "[211500] Loss: 0.0034 TrueN: 5 PredN: 4 HitNegN: 4 PredRew: -0.0125 ActRew: -0.0156 Eps: 0.100\n",
      "[212000] Loss: 0.0030 TrueN: 3 PredN: 3 HitNegN: 3 PredRew: 0.0093 ActRew: -0.0156 Eps: 0.100\n",
      "[212500] Loss: 0.0034 TrueN: 5 PredN: 5 HitNegN: 5 PredRew: 0.0124 ActRew: -0.0156 Eps: 0.100\n",
      "[213000] Loss: 0.0031 TrueN: 5 PredN: 3 HitNegN: 3 PredRew: -0.0139 ActRew: -0.0234 Eps: 0.100\n",
      "[213500] Loss: 0.0080 TrueN: 7 PredN: 6 HitNegN: 6 PredRew: -0.0403 ActRew: -0.0391 Eps: 0.100\n",
      "[214000] Loss: 0.0105 TrueN: 6 PredN: 4 HitNegN: 4 PredRew: -0.0111 ActRew: -0.0391 Eps: 0.100\n",
      "[214500] Loss: 0.0021 TrueN: 1 PredN: 0 HitNegN: 0 PredRew: -0.0483 ActRew: 0.0000 Eps: 0.100\n",
      "[215000] Loss: 0.0092 TrueN: 4 PredN: 3 HitNegN: 2 PredRew: -0.0088 ActRew: -0.0156 Eps: 0.100\n",
      "[215500] Loss: 0.0029 TrueN: 2 PredN: 1 HitNegN: 1 PredRew: -0.0203 ActRew: 0.0000 Eps: 0.100\n",
      "[216000] Loss: 0.0027 TrueN: 3 PredN: 3 HitNegN: 3 PredRew: -0.0161 ActRew: -0.0234 Eps: 0.100\n",
      "[216500] Loss: 0.0037 TrueN: 3 PredN: 3 HitNegN: 3 PredRew: -0.0169 ActRew: -0.0078 Eps: 0.100\n",
      "[217000] Loss: 0.0031 TrueN: 4 PredN: 4 HitNegN: 4 PredRew: -0.0203 ActRew: -0.0234 Eps: 0.100\n",
      "[217500] Loss: 0.0021 TrueN: 1 PredN: 1 HitNegN: 1 PredRew: -0.0143 ActRew: -0.0078 Eps: 0.100\n",
      "[218000] Loss: 0.0038 TrueN: 2 PredN: 0 HitNegN: 0 PredRew: -0.0182 ActRew: 0.0000 Eps: 0.100\n",
      "[218500] Loss: 0.0037 TrueN: 3 PredN: 3 HitNegN: 3 PredRew: -0.0613 ActRew: -0.0234 Eps: 0.100\n",
      "[219000] Loss: 0.0082 TrueN: 7 PredN: 5 HitNegN: 5 PredRew: -0.0450 ActRew: -0.0391 Eps: 0.100\n",
      "[219500] Loss: 0.0017 TrueN: 2 PredN: 2 HitNegN: 2 PredRew: -0.0404 ActRew: -0.0078 Eps: 0.100\n",
      "[220000] Loss: 0.0039 TrueN: 3 PredN: 3 HitNegN: 3 PredRew: -0.0144 ActRew: -0.0156 Eps: 0.100\n",
      "[220500] Loss: 0.0063 TrueN: 4 PredN: 2 HitNegN: 2 PredRew: 0.0012 ActRew: -0.0234 Eps: 0.100\n",
      "[221000] Loss: 0.0035 TrueN: 1 PredN: 1 HitNegN: 1 PredRew: -0.0075 ActRew: 0.0000 Eps: 0.100\n",
      "[221500] Loss: 0.0027 TrueN: 4 PredN: 4 HitNegN: 4 PredRew: -0.0295 ActRew: -0.0156 Eps: 0.100\n",
      "[222000] Loss: 0.0117 TrueN: 6 PredN: 3 HitNegN: 3 PredRew: 0.0060 ActRew: -0.0312 Eps: 0.100\n",
      "[222500] Loss: 0.0057 TrueN: 6 PredN: 6 HitNegN: 6 PredRew: -0.0318 ActRew: -0.0469 Eps: 0.100\n",
      "[223000] Loss: 0.0098 TrueN: 2 PredN: 1 HitNegN: 1 PredRew: 0.0180 ActRew: -0.0156 Eps: 0.100\n",
      "[223500] Loss: 0.0069 TrueN: 3 PredN: 3 HitNegN: 2 PredRew: -0.0157 ActRew: -0.0156 Eps: 0.100\n",
      "[224000] Loss: 0.0113 TrueN: 4 PredN: 4 HitNegN: 3 PredRew: -0.0275 ActRew: -0.0234 Eps: 0.100\n",
      "[224500] Loss: 0.0042 TrueN: 4 PredN: 4 HitNegN: 4 PredRew: -0.0366 ActRew: -0.0312 Eps: 0.100\n",
      "[225000] Loss: 0.0038 TrueN: 3 PredN: 3 HitNegN: 3 PredRew: 0.0096 ActRew: -0.0234 Eps: 0.100\n",
      "[225500] Loss: 0.0027 TrueN: 7 PredN: 7 HitNegN: 7 PredRew: -0.0104 ActRew: -0.0312 Eps: 0.100\n",
      "[226000] Loss: 0.0099 TrueN: 5 PredN: 2 HitNegN: 2 PredRew: 0.0437 ActRew: -0.0234 Eps: 0.100\n",
      "[226500] Loss: 0.0059 TrueN: 5 PredN: 4 HitNegN: 4 PredRew: -0.0202 ActRew: -0.0156 Eps: 0.100\n",
      "[227000] Loss: 0.0035 TrueN: 3 PredN: 3 HitNegN: 3 PredRew: 0.0214 ActRew: -0.0078 Eps: 0.100\n",
      "[227500] Loss: 0.0016 TrueN: 3 PredN: 3 HitNegN: 3 PredRew: -0.0054 ActRew: -0.0156 Eps: 0.100\n",
      "[228000] Loss: 0.0095 TrueN: 4 PredN: 3 HitNegN: 3 PredRew: 0.0259 ActRew: -0.0234 Eps: 0.100\n",
      "[228500] Loss: 0.0075 TrueN: 5 PredN: 3 HitNegN: 3 PredRew: 0.0043 ActRew: -0.0156 Eps: 0.100\n",
      "[229000] Loss: 0.0055 TrueN: 5 PredN: 5 HitNegN: 5 PredRew: -0.0371 ActRew: -0.0234 Eps: 0.100\n",
      "[229500] Loss: 0.0083 TrueN: 4 PredN: 1 HitNegN: 1 PredRew: -0.0050 ActRew: -0.0078 Eps: 0.100\n",
      "[230000] Loss: 0.0022 TrueN: 1 PredN: 1 HitNegN: 1 PredRew: -0.0124 ActRew: -0.0078 Eps: 0.100\n",
      "[230500] Loss: 0.0087 TrueN: 5 PredN: 4 HitNegN: 4 PredRew: 0.0023 ActRew: -0.0312 Eps: 0.100\n",
      "[231000] Loss: 0.0020 TrueN: 1 PredN: 1 HitNegN: 1 PredRew: -0.0182 ActRew: 0.0000 Eps: 0.100\n",
      "[231500] Loss: 0.0063 TrueN: 6 PredN: 6 HitNegN: 6 PredRew: 0.0019 ActRew: -0.0234 Eps: 0.100\n",
      "[232000] Loss: 0.0028 TrueN: 4 PredN: 2 HitNegN: 2 PredRew: 0.0086 ActRew: -0.0078 Eps: 0.100\n",
      "[232500] Loss: 0.0019 TrueN: 3 PredN: 3 HitNegN: 3 PredRew: -0.0223 ActRew: -0.0156 Eps: 0.100\n",
      "[233000] Loss: 0.0105 TrueN: 4 PredN: 4 HitNegN: 2 PredRew: -0.0045 ActRew: -0.0156 Eps: 0.100\n",
      "[233500] Loss: 0.0033 TrueN: 3 PredN: 3 HitNegN: 3 PredRew: -0.0242 ActRew: -0.0078 Eps: 0.100\n",
      "[234000] Loss: 0.0044 TrueN: 1 PredN: 1 HitNegN: 1 PredRew: 0.0233 ActRew: 0.0000 Eps: 0.100\n",
      "[234500] Loss: 0.0047 TrueN: 3 PredN: 3 HitNegN: 3 PredRew: -0.0115 ActRew: -0.0156 Eps: 0.100\n"
     ]
    },
    {
     "ename": "KeyboardInterrupt",
     "evalue": "",
     "output_type": "error",
     "traceback": [
      "\u001b[0;31m---------------------------------------------------------------------------\u001b[0m",
      "\u001b[0;31mKeyboardInterrupt\u001b[0m                         Traceback (most recent call last)",
      "\u001b[0;32m<ipython-input-22-6b4e0c8d8d0f>\u001b[0m in \u001b[0;36m<module>\u001b[0;34m()\u001b[0m\n\u001b[1;32m      9\u001b[0m     \u001b[0;32mif\u001b[0m \u001b[0me\u001b[0m \u001b[0;34m%\u001b[0m \u001b[0mK\u001b[0m \u001b[0;34m==\u001b[0m \u001b[0;36m0\u001b[0m\u001b[0;34m:\u001b[0m\u001b[0;34m\u001b[0m\u001b[0m\n\u001b[1;32m     10\u001b[0m         \u001b[0mnew_obs\u001b[0m \u001b[0;34m=\u001b[0m \u001b[0mpreprocess\u001b[0m\u001b[0;34m(\u001b[0m\u001b[0mnew_obs\u001b[0m\u001b[0;34m)\u001b[0m\u001b[0;34m.\u001b[0m\u001b[0msqueeze\u001b[0m\u001b[0;34m(\u001b[0m\u001b[0;34m)\u001b[0m\u001b[0;34m\u001b[0m\u001b[0m\n\u001b[0;32m---> 11\u001b[0;31m         \u001b[0mctrl\u001b[0m\u001b[0;34m.\u001b[0m\u001b[0mobserve\u001b[0m\u001b[0;34m(\u001b[0m\u001b[0mnew_obs\u001b[0m\u001b[0;34m,\u001b[0m \u001b[0mactionmax\u001b[0m\u001b[0;34m,\u001b[0m \u001b[0mreward\u001b[0m\u001b[0;34m,\u001b[0m \u001b[0mis_term\u001b[0m\u001b[0;34m)\u001b[0m\u001b[0;34m\u001b[0m\u001b[0m\n\u001b[0m",
      "\u001b[0;32m<ipython-input-19-12afa898efdc>\u001b[0m in \u001b[0;36mobserve\u001b[0;34m(self, new_obs, action, reward, is_terminal)\u001b[0m\n\u001b[1;32m    122\u001b[0m             \u001b[0mself\u001b[0m\u001b[0;34m.\u001b[0m\u001b[0mstates\u001b[0m\u001b[0;34m.\u001b[0m\u001b[0mpopleft\u001b[0m\u001b[0;34m(\u001b[0m\u001b[0;34m)\u001b[0m\u001b[0;34m\u001b[0m\u001b[0m\n\u001b[1;32m    123\u001b[0m         \u001b[0;32mif\u001b[0m \u001b[0mself\u001b[0m\u001b[0;34m.\u001b[0m\u001b[0mstep\u001b[0m \u001b[0;34m>\u001b[0m \u001b[0;36m100\u001b[0m\u001b[0;34m:\u001b[0m\u001b[0;34m\u001b[0m\u001b[0m\n\u001b[0;32m--> 124\u001b[0;31m             \u001b[0mself\u001b[0m\u001b[0;34m.\u001b[0m\u001b[0mtrain_step\u001b[0m\u001b[0;34m(\u001b[0m\u001b[0;34m)\u001b[0m\u001b[0;34m\u001b[0m\u001b[0m\n\u001b[0m\u001b[1;32m    125\u001b[0m \u001b[0;34m\u001b[0m\u001b[0m\n\u001b[1;32m    126\u001b[0m         \u001b[0mself\u001b[0m\u001b[0;34m.\u001b[0m\u001b[0mstep\u001b[0m \u001b[0;34m+=\u001b[0m \u001b[0;36m1\u001b[0m\u001b[0;34m\u001b[0m\u001b[0m\n",
      "\u001b[0;32m<ipython-input-19-12afa898efdc>\u001b[0m in \u001b[0;36mtrain_step\u001b[0;34m(self)\u001b[0m\n\u001b[1;32m     38\u001b[0m             \u001b[0mterm_batch\u001b[0m\u001b[0;34m[\u001b[0m\u001b[0mi\u001b[0m\u001b[0;34m]\u001b[0m \u001b[0;34m=\u001b[0m \u001b[0mself\u001b[0m\u001b[0;34m.\u001b[0m\u001b[0mreplay\u001b[0m\u001b[0;34m[\u001b[0m\u001b[0midx\u001b[0m\u001b[0;34m]\u001b[0m\u001b[0;34m[\u001b[0m\u001b[0;36m3\u001b[0m\u001b[0;34m]\u001b[0m\u001b[0;34m\u001b[0m\u001b[0m\n\u001b[1;32m     39\u001b[0m             \u001b[0;32mfor\u001b[0m \u001b[0mj\u001b[0m \u001b[0;32min\u001b[0m \u001b[0mrange\u001b[0m\u001b[0;34m(\u001b[0m\u001b[0mSHORT_MEMORY_SIZE\u001b[0m\u001b[0;34m)\u001b[0m\u001b[0;34m:\u001b[0m\u001b[0;34m\u001b[0m\u001b[0m\n\u001b[0;32m---> 40\u001b[0;31m                 \u001b[0mstate_batch\u001b[0m\u001b[0;34m[\u001b[0m\u001b[0mi\u001b[0m\u001b[0;34m,\u001b[0m\u001b[0;34m:\u001b[0m\u001b[0;34m,\u001b[0m\u001b[0;34m:\u001b[0m\u001b[0;34m,\u001b[0m\u001b[0mj\u001b[0m\u001b[0;34m]\u001b[0m \u001b[0;34m=\u001b[0m \u001b[0mself\u001b[0m\u001b[0;34m.\u001b[0m\u001b[0mstates\u001b[0m\u001b[0;34m[\u001b[0m\u001b[0midx\u001b[0m \u001b[0;34m-\u001b[0m \u001b[0mj\u001b[0m \u001b[0;34m-\u001b[0m \u001b[0;36m1\u001b[0m\u001b[0;34m]\u001b[0m\u001b[0;34m\u001b[0m\u001b[0m\n\u001b[0m\u001b[1;32m     41\u001b[0m                 \u001b[0mnext_state_batch\u001b[0m\u001b[0;34m[\u001b[0m\u001b[0mi\u001b[0m\u001b[0;34m,\u001b[0m\u001b[0;34m:\u001b[0m\u001b[0;34m,\u001b[0m\u001b[0;34m:\u001b[0m\u001b[0;34m,\u001b[0m\u001b[0mj\u001b[0m\u001b[0;34m]\u001b[0m \u001b[0;34m=\u001b[0m \u001b[0mself\u001b[0m\u001b[0;34m.\u001b[0m\u001b[0mstates\u001b[0m\u001b[0;34m[\u001b[0m\u001b[0midx\u001b[0m \u001b[0;34m-\u001b[0m \u001b[0mj\u001b[0m\u001b[0;34m]\u001b[0m\u001b[0;34m\u001b[0m\u001b[0m\n\u001b[1;32m     42\u001b[0m \u001b[0;34m\u001b[0m\u001b[0m\n",
      "\u001b[0;31mKeyboardInterrupt\u001b[0m: "
     ]
    }
   ],
   "source": [
    "actionmax = 0\n",
    "for e in range(1000000):\n",
    "    if e % K == 0:\n",
    "        actionmax = ctrl.get_action()\n",
    "    new_obs, reward, is_term, _ = env.step(actionmax)\n",
    "    if is_term:\n",
    "        new_obs = env.reset()\n",
    "        \n",
    "    if e % K == 0:\n",
    "        new_obs = preprocess(new_obs).squeeze()\n",
    "        ctrl.observe(new_obs, actionmax, reward, is_term)"
   ]
  },
  {
   "cell_type": "code",
   "execution_count": 152,
   "metadata": {
    "collapsed": true
   },
   "outputs": [],
   "source": [
    "obs = env.reset()"
   ]
  },
  {
   "cell_type": "code",
   "execution_count": 23,
   "metadata": {},
   "outputs": [
    {
     "name": "stdout",
     "output_type": "stream",
     "text": [
      "Reward: 0.0, terminal?: False\n"
     ]
    },
    {
     "data": {
      "image/png": "[encoded data removed]",
      "text/plain": [
       "<Figure size 432x288 with 1 Axes>"
      ]
     },
     "metadata": {},
     "output_type": "display_data"
    },
    {
     "data": {
      "image/png": "[encoded data removed]",
      "text/plain": [
       "<Figure size 432x288 with 1 Axes>"
      ]
     },
     "metadata": {},
     "output_type": "display_data"
    }
   ],
   "source": [
    "act = act_idle\n",
    "# act = act_up\n",
    "# act = act_down\n",
    "obs, reward, is_term, _ = env.step(act)\n",
    "print('Reward: {}, terminal?: {}'.format(reward, is_term))\n",
    "show(preprocess(obs))\n",
    "show(obs)"
   ]
  },
  {
   "cell_type": "code",
   "execution_count": 185,
   "metadata": {},
   "outputs": [
    {
     "data": {
      "image/png": "[encoded data removed]",
      "text/plain": [
       "<Figure size 432x288 with 1 Axes>"
      ]
     },
     "metadata": {},
     "output_type": "display_data"
    }
   ],
   "source": [
    "show(obs)"
   ]
  },
  {
   "cell_type": "code",
   "execution_count": null,
   "metadata": {
    "collapsed": true
   },
   "outputs": [],
   "source": []
  },
  {
   "cell_type": "code",
   "execution_count": null,
   "metadata": {
    "collapsed": true
   },
   "outputs": [],
   "source": []
  },
  {
   "cell_type": "code",
   "execution_count": null,
   "metadata": {
    "collapsed": true
   },
   "outputs": [],
   "source": []
  }
 ],
 "metadata": {
  "kernelspec": {
   "display_name": "Python 3",
   "language": "python",
   "name": "python3"
  },
  "language_info": {
   "codemirror_mode": {
    "name": "ipython",
    "version": 3
   },
   "file_extension": ".py",
   "mimetype": "text/x-python",
   "name": "python",
   "nbconvert_exporter": "python",
   "pygments_lexer": "ipython3",
   "version": "3.5.2"
  }
 },
 "nbformat": 4,
 "nbformat_minor": 1
}
