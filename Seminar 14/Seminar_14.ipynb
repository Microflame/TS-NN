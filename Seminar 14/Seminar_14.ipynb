{
 "cells": [
  {
   "cell_type": "markdown",
   "metadata": {},
   "source": [
    "## Семинар 15: \"Обучение с подкреплением 2\""
   ]
  },
  {
   "cell_type": "markdown",
   "metadata": {},
   "source": [
    "ФИО: Дорожинский Владислав Игоревич"
   ]
  },
  {
   "cell_type": "markdown",
   "metadata": {},
   "source": [
    "###  FrozenLake\n",
    "\n",
    "\n",
    "<img src=\"http://vignette2.wikia.nocookie.net/riseoftheguardians/images/4/4c/Jack's_little_sister_on_the_ice.jpg/revision/latest?cb=20141218030206\" alt=\"a random image to attract attention\" style=\"width: 400px;\"/>\n",
    "\n"
   ]
  },
  {
   "cell_type": "code",
   "execution_count": 1,
   "metadata": {
    "collapsed": true
   },
   "outputs": [],
   "source": [
    "import gym\n",
    "import numpy as np \n",
    "import random\n",
    "import cv2\n",
    "from torch import nn\n",
    "import torch\n",
    "from torch.autograd import Variable\n",
    "import matplotlib.pyplot as plt\n",
    "from collections import deque\n",
    "import time"
   ]
  },
  {
   "cell_type": "code",
   "execution_count": null,
   "metadata": {
    "collapsed": true
   },
   "outputs": [],
   "source": [
    "#create a single game instance\n",
    "env = gym.make(\"FrozenLake-v0\")\n",
    "\n",
    "#start new game\n",
    "env.reset();"
   ]
  },
  {
   "cell_type": "code",
   "execution_count": 2,
   "metadata": {},
   "outputs": [
    {
     "name": "stdout",
     "output_type": "stream",
     "text": [
      "\n",
      "\u001b[41mS\u001b[0mFFF\n",
      "FHFH\n",
      "FFFH\n",
      "HFFG\n"
     ]
    }
   ],
   "source": [
    "# display the game state\n",
    "env.render()"
   ]
  },
  {
   "cell_type": "markdown",
   "metadata": {},
   "source": [
    "### legend\n",
    "\n",
    "![img](https://cdn-images-1.medium.com/max/800/1*MCjDzR-wfMMkS0rPqXSmKw.png)"
   ]
  },
  {
   "cell_type": "markdown",
   "metadata": {},
   "source": [
    "## Задание 1.\n",
    "Подберите значения alpha и epsilon и найдите приближение оптимальной Q-функции для Frozen Lake."
   ]
  },
  {
   "cell_type": "code",
   "execution_count": 133,
   "metadata": {
    "collapsed": true
   },
   "outputs": [],
   "source": [
    "\n",
    "class QLearn:\n",
    "    def __init__(self, actions, epsilon=0.1, alpha=0.2, gamma=0.9):\n",
    "        self.q = {}\n",
    "        self.epsilon = epsilon\n",
    "        self.alpha = alpha\n",
    "        self.gamma = gamma\n",
    "        self.actions = actions\n",
    "\n",
    "    def getQ(self, state, action):\n",
    "        return self.q.get((state, action), 0.0)\n",
    "\n",
    "    def learnQ(self, state, action, reward, value):\n",
    "        oldv = self.q.get((state, action), None)\n",
    "\n",
    "        if oldv is None:\n",
    "            self.q[(state, action)] = reward\n",
    "        else:\n",
    "            self.q[(state, action)] = oldv + self.alpha * (value - oldv)\n",
    "\n",
    "    def chooseAction(self, state, is_eval=False):\n",
    "        if random.random() < self.epsilon and not is_eval:\n",
    "            action = random.choice(self.actions)\n",
    "        else:\n",
    "            q = [self.getQ(state, a) for a in self.actions]\n",
    "            maxQ = max(q)\n",
    "            count = q.count(maxQ)\n",
    "            if count > 1:\n",
    "                best = [i for i in range(len(self.actions)) if q[i] == maxQ]\n",
    "                i = random.choice(best)\n",
    "            else:\n",
    "                i = q.index(maxQ)\n",
    "\n",
    "            action = self.actions[i]\n",
    "        return action\n",
    "\n",
    "    def learn(self, state1, action1, reward, state2):\n",
    "        maxqnew = max([self.getQ(state2, a) for a in self.actions])\n",
    "        self.learnQ(state1, action1, reward, reward + self.gamma*maxqnew)"
   ]
  },
  {
   "cell_type": "code",
   "execution_count": 134,
   "metadata": {
    "collapsed": true
   },
   "outputs": [],
   "source": [
    "def run_episode_qlearn_learn(env, qlearn, gamma=1.0, render=False):\n",
    "    obs = env.reset()\n",
    "    total_reward = 0\n",
    "    step_idx = 0\n",
    "    while True:\n",
    "        if render:\n",
    "            env.render()\n",
    "        action = qlearn.chooseAction(obs)\n",
    "        obs_new, reward, done, _ = env.step(action)\n",
    "        qlearn.learn(obs, action, reward, obs_new)\n",
    "        obs = obs_new\n",
    "        total_reward += (gamma ** step_idx * reward)\n",
    "        step_idx += 1\n",
    "        if done:\n",
    "            break\n",
    "    return total_reward"
   ]
  },
  {
   "cell_type": "code",
   "execution_count": 136,
   "metadata": {
    "collapsed": true
   },
   "outputs": [],
   "source": [
    "def run_episode_qlearn(env, qlearn, gamma=1.0, render=False):\n",
    "    obs = env.reset()\n",
    "    total_reward = 0\n",
    "    step_idx = 0\n",
    "    while True:\n",
    "        if render:\n",
    "            env.render()\n",
    "        action = qlearn.chooseAction(obs, is_eval=True)\n",
    "        obs_new, reward, done, _ = env.step(action)\n",
    "        obs = obs_new\n",
    "        total_reward += (gamma ** step_idx * reward)\n",
    "        step_idx += 1\n",
    "        if done:\n",
    "            break\n",
    "    return total_reward"
   ]
  },
  {
   "cell_type": "code",
   "execution_count": 137,
   "metadata": {
    "collapsed": true
   },
   "outputs": [],
   "source": [
    "def evaluate_qlearn(env, qlearn, gamma=1.0, n=100):\n",
    "    scores = [\n",
    "            run_episode_qlearn(env, qlearn, gamma = gamma, render = False)\n",
    "            for _ in range(n)]\n",
    "    return np.mean(scores)"
   ]
  },
  {
   "cell_type": "code",
   "execution_count": 168,
   "metadata": {
    "collapsed": true
   },
   "outputs": [],
   "source": [
    "GAMMA = 0.99\n",
    "qlearn = QLearn(actions=range(env.env.nA), gamma=GAMMA, epsilon=0.1, alpha=0.3)\n",
    "[run_episode_qlearn_learn(env, qlearn, gamma=GAMMA) for _ in range(1000)];\n"
   ]
  },
  {
   "cell_type": "code",
   "execution_count": 172,
   "metadata": {},
   "outputs": [
    {
     "data": {
      "text/plain": [
       "0.759"
      ]
     },
     "execution_count": 172,
     "metadata": {},
     "output_type": "execute_result"
    }
   ],
   "source": [
    "evaluate_qlearn(env, qlearn, gamma=1.0, n=1000)"
   ]
  },
  {
   "cell_type": "markdown",
   "metadata": {
    "collapsed": true
   },
   "source": [
    "## Задание 2.\n",
    "Обучите сеть DQN для среды http://gym.openai.com/envs/Pong-v0/ "
   ]
  },
  {
   "cell_type": "markdown",
   "metadata": {},
   "source": [
    "* http://www.pinchofintelligence.com/introduction-openai-gym-part-2-building-deep-q-network/\n",
    "* http://www.pinchofintelligence.com/openai-gym-part-3-playing-space-invaders-deep-reinforcement-learning/\n",
    "* https://www.cs.toronto.edu/~vmnih/docs/dqn.pdf"
   ]
  },
  {
   "cell_type": "code",
   "execution_count": 2,
   "metadata": {
    "collapsed": true
   },
   "outputs": [],
   "source": [
    "env = gym.make('Pong-v0')\n",
    "env.reset()\n",
    "actions = env.action_space.n # 0 - idle, 4 - move up, 5 - move down"
   ]
  },
  {
   "cell_type": "code",
   "execution_count": 12,
   "metadata": {
    "collapsed": true
   },
   "outputs": [],
   "source": [
    "act_up, act_down, act_idle = 4, 5, 0\n",
    "actions_mapping = [act_idle, act_up, act_down]"
   ]
  },
  {
   "cell_type": "code",
   "execution_count": 15,
   "metadata": {
    "collapsed": true
   },
   "outputs": [],
   "source": [
    "SHORT_MEMORY_SIZE = 4\n",
    "N_ACTIONS = len(actions_mapping)\n",
    "IMAGE_DIM = 84"
   ]
  },
  {
   "cell_type": "code",
   "execution_count": 47,
   "metadata": {},
   "outputs": [
    {
     "name": "stdout",
     "output_type": "stream",
     "text": [
      "Before processing: (210, 160, 3)\n"
     ]
    },
    {
     "data": {
      "image/png": "[encoded data removed]",
      "text/plain": [
       "<Figure size 432x288 with 1 Axes>"
      ]
     },
     "metadata": {},
     "output_type": "display_data"
    },
    {
     "name": "stdout",
     "output_type": "stream",
     "text": [
      "After processing: (84, 84, 1)\n"
     ]
    },
    {
     "data": {
      "image/png": "[encoded data removed]",
      "text/plain": [
       "<Figure size 432x288 with 1 Axes>"
      ]
     },
     "metadata": {},
     "output_type": "display_data"
    }
   ],
   "source": [
    "def one_hot(x, n_classes, dtype=np.float64):\n",
    "    res = np.zeros([x.shape[0], n_classes], dtype=dtype)\n",
    "    res[np.arange(x.shape[0]), x] = 1\n",
    "    return res\n",
    "\n",
    "def preprocess(observation):\n",
    "    head_cut = 32\n",
    "    tail_cut = 15\n",
    "    target_size = IMAGE_DIM\n",
    "    observation = cv2.cvtColor(observation, cv2.COLOR_BGR2GRAY)\n",
    "    observation = cv2.resize(observation[head_cut:-tail_cut], (target_size, target_size))\n",
    "#     ret, observation = cv2.threshold(observation,80,255,cv2.THRESH_BINARY)\n",
    "    return np.reshape(observation,(target_size,target_size,1))\n",
    "\n",
    "def show(img):\n",
    "    plt.imshow(np.array(np.squeeze(img)), cmap='gray')\n",
    "    plt.show()\n",
    "\n",
    "action0 = 0  # do nothing\n",
    "observation0, reward0, terminal, info = env.step(action0)\n",
    "print(\"Before processing: \" + str(np.array(observation0).shape))\n",
    "plt.imshow(np.array(observation0))\n",
    "plt.show()\n",
    "observation0 = preprocess(observation0)\n",
    "print(\"After processing: \" + str(np.array(observation0).shape))\n",
    "show(observation0)\n"
   ]
  },
  {
   "cell_type": "code",
   "execution_count": 62,
   "metadata": {
    "collapsed": true
   },
   "outputs": [],
   "source": [
    "class DQN(nn.Module):\n",
    "    def __init__(self, in_channels, output_size):\n",
    "        super(DQN, self).__init__()\n",
    "        self.features = nn.Sequential(nn.Conv2d(in_channels, 16, 8, stride=4),\n",
    "                                      nn.BatchNorm2d(16),\n",
    "                                      nn.ReLU(),\n",
    "                                      nn.Conv2d(16, 32, 4, stride=2),\n",
    "                                      nn.BatchNorm2d(32),\n",
    "                                      nn.ReLU(),\n",
    "                                     )\n",
    "        \n",
    "        self.classifier = nn.Sequential(nn.Linear(32 * 9 * 9, 256),\n",
    "                                        nn.BatchNorm1d(256),\n",
    "                                        nn.ReLU(),\n",
    "                                        nn.Linear(256, output_size)\n",
    "                                       )\n",
    "    \n",
    "    def forward(self, x):\n",
    "        x = x.permute(0, 3, 1, 2)\n",
    "        x = self.features(x)\n",
    "        x = x.view(-1, 32 * 9 * 9)\n",
    "        x = -self.classifier(x)\n",
    "        return x"
   ]
  },
  {
   "cell_type": "code",
   "execution_count": 63,
   "metadata": {
    "collapsed": true
   },
   "outputs": [],
   "source": [
    "INITIAL_EPSILON = 1.0\n",
    "FINAL_EPSILON = 0.1\n",
    "M = 16\n",
    "EXPLORE = 1000000 // M\n",
    "REPLAY_MEMORY = 1000000 // M\n",
    "BATCH_SIZE = 32 * M\n",
    "PRINT_EVERY = 100\n",
    "GAMMA = 0.9\n",
    "ALPHA = 1.0\n",
    "K = 4\n",
    "\n",
    "class Controller:\n",
    "    def __init__(self, verbose=False):\n",
    "        self.epsilon = INITIAL_EPSILON\n",
    "        self.verbose = verbose\n",
    "        self.dqn = DQN(SHORT_MEMORY_SIZE, N_ACTIONS).cuda()\n",
    "        self.optimizer = torch.optim.RMSprop(self.dqn.parameters(), lr=0.001)\n",
    "        self.loss_f = nn.MSELoss()\n",
    "        self.step = 0\n",
    "        self.backshift = 0\n",
    "        self.replay = deque()\n",
    "        self.states = deque()\n",
    "        \n",
    "        self.cur_obs = np.zeros([IMAGE_DIM, IMAGE_DIM])\n",
    "        \n",
    "    def train_step(self):\n",
    "        self.dqn.train()\n",
    "        batch_idxs = np.random.randint(4, len(self.replay)-1, BATCH_SIZE)\n",
    "        state_batch = np.zeros([BATCH_SIZE, IMAGE_DIM, IMAGE_DIM, SHORT_MEMORY_SIZE], dtype=np.float32)\n",
    "        action_batch = np.zeros([BATCH_SIZE], dtype=np.int32)\n",
    "        term_batch = np.zeros([BATCH_SIZE], dtype=np.int32)\n",
    "        reward_batch = np.zeros([BATCH_SIZE], dtype=np.float32)\n",
    "        y_reward_batch = np.zeros([BATCH_SIZE], dtype=np.float32)\n",
    "        next_state_batch = np.zeros([BATCH_SIZE, IMAGE_DIM, IMAGE_DIM, SHORT_MEMORY_SIZE], dtype=np.float32)\n",
    "        \n",
    "        for i in range(BATCH_SIZE): # todo: vectorize\n",
    "            idx = batch_idxs[i]\n",
    "            action_batch[i] = self.replay[idx][1]\n",
    "            reward_batch[i] = self.replay[idx][2]\n",
    "            term_batch[i] = self.replay[idx][3]\n",
    "            for j in range(SHORT_MEMORY_SIZE):\n",
    "                state_batch[i,:,:,j] = self.states[idx - j]\n",
    "                next_state_batch[i,:,:,j] = self.states[idx - j + 1]\n",
    "        \n",
    "        next_state_batch = Variable(torch.FloatTensor(next_state_batch)).cuda()\n",
    "        reward_batch = torch.FloatTensor(reward_batch).cuda()\n",
    "        term_batch = torch.FloatTensor(term_batch).cuda()\n",
    "        q_values_pred = self.dqn(next_state_batch)\n",
    "        q_values_pred = torch.max(q_values_pred, 1)[0].data\n",
    "        y_reward_batch = reward_batch + q_values_pred * term_batch\n",
    "        y_reward_batch = Variable(y_reward_batch)\n",
    "                \n",
    "        action_batch = one_hot(action_batch, N_ACTIONS)\n",
    "        action_batch = torch.FloatTensor(action_batch).cuda()\n",
    "        state_batch = Variable(torch.FloatTensor(state_batch)).cuda()\n",
    "        \n",
    "        q_values_pred = self.dqn(state_batch)\n",
    "        q_act_vales = torch.sum(q_values_pred * action_batch, 1)\n",
    "        loss = self.loss_f(q_act_vales, y_reward_batch)\n",
    "        loss.backward()\n",
    "        \n",
    "        self.optimizer.step()\n",
    "        self.dqn.zero_grad()\n",
    "        \n",
    "        if self.step % PRINT_EVERY == 0:\n",
    "            rew_true = reward_batch.cpu().data.numpy()\n",
    "            rew_true_mean = np.mean(rew_true)\n",
    "            rew_true_stat = np.min(rew_true), np.max(rew_true)\n",
    "            rew_true = (y_reward_batch.cpu().data.numpy() < -0.5)\n",
    "            true_n = np.sum(rew_true)\n",
    "            rew_pred = q_act_vales.cpu().data.numpy()\n",
    "            rew_pred_mean = np.mean(rew_pred)\n",
    "            rew_pred = (rew_pred < -0.5)\n",
    "            pred_n = np.sum(rew_pred)\n",
    "            hit_n = np.sum(rew_true & (rew_pred == rew_true))\n",
    "            res_str = '[{}] Loss: {:.4f} TrueN: {} PredN: {} HitNegN: {} PredRew: {:.4f} ActRew: {:.4f} Eps: {:.3f}'\n",
    "            print(res_str.format(self.step,\n",
    "                                 loss.item(),\n",
    "                                 true_n,\n",
    "                                 pred_n,\n",
    "                                 hit_n,\n",
    "                                 rew_pred_mean,\n",
    "                                 rew_true_mean,\n",
    "                                 self.epsilon\n",
    "                                ))\n",
    "\n",
    "            \n",
    "        \n",
    "    def get_action(self):\n",
    "        action = -1\n",
    "        if random.random() <= self.epsilon or len(self.states) < SHORT_MEMORY_SIZE:\n",
    "            action = np.random.randint(N_ACTIONS)\n",
    "        else:\n",
    "            state_batch = np.zeros([1, IMAGE_DIM, IMAGE_DIM, SHORT_MEMORY_SIZE], dtype=np.float32)\n",
    "            idx = len(self.states) - 1\n",
    "            for j in range(SHORT_MEMORY_SIZE):\n",
    "                state_batch[0,:,:,j] = self.states[idx - j]\n",
    "            state_batch = Variable(torch.FloatTensor(state_batch)).cuda()\n",
    "            self.dqn.eval()\n",
    "            qs = self.dqn(state_batch).cpu().data.numpy()[0]\n",
    "            action = np.argmax(qs)\n",
    "        \n",
    "        self.epsilon = INITIAL_EPSILON - (INITIAL_EPSILON - FINAL_EPSILON) \\\n",
    "            * self.step / EXPLORE if self.epsilon > FINAL_EPSILON else FINAL_EPSILON\n",
    "        \n",
    "        return action\n",
    "    \n",
    "    def observe(self, new_obs, action, reward, is_terminal):\n",
    "        self.replay.append((self.step, action, reward, is_terminal))\n",
    "        self.states.append(self.cur_obs)\n",
    "        if len(self.replay) > REPLAY_MEMORY: \n",
    "            self.replay.popleft()\n",
    "            self.states.popleft()\n",
    "        if self.step > SHORT_MEMORY_SIZE:\n",
    "            self.train_step()\n",
    "        \n",
    "        self.cur_obs = new_obs\n",
    "        self.step += 1"
   ]
  },
  {
   "cell_type": "code",
   "execution_count": 64,
   "metadata": {
    "collapsed": true
   },
   "outputs": [],
   "source": [
    "ctrl = Controller()\n",
    "env.reset();"
   ]
  },
  {
   "cell_type": "code",
   "execution_count": 65,
   "metadata": {
    "scrolled": false
   },
   "outputs": [
    {
     "name": "stdout",
     "output_type": "stream",
     "text": [
      "[100] Loss: 0.0006 TrueN: 16 PredN: 16 HitNegN: 16 PredRew: -0.0343 ActRew: -0.0312 Eps: 0.999\n",
      "[200] Loss: 0.0011 TrueN: 13 PredN: 13 HitNegN: 13 PredRew: -0.0340 ActRew: -0.0254 Eps: 0.997\n",
      "[300] Loss: 0.0059 TrueN: 15 PredN: 13 HitNegN: 13 PredRew: -0.0214 ActRew: -0.0293 Eps: 0.996\n",
      "[400] Loss: 0.0017 TrueN: 14 PredN: 15 HitNegN: 14 PredRew: -0.0314 ActRew: -0.0273 Eps: 0.994\n",
      "[500] Loss: 0.0029 TrueN: 9 PredN: 10 HitNegN: 9 PredRew: -0.0270 ActRew: -0.0176 Eps: 0.993\n",
      "[600] Loss: 0.0010 TrueN: 14 PredN: 14 HitNegN: 14 PredRew: -0.0317 ActRew: -0.0273 Eps: 0.991\n",
      "[700] Loss: 0.0011 TrueN: 10 PredN: 10 HitNegN: 10 PredRew: -0.0341 ActRew: -0.0195 Eps: 0.990\n",
      "[800] Loss: 0.0021 TrueN: 12 PredN: 12 HitNegN: 12 PredRew: -0.0033 ActRew: -0.0234 Eps: 0.988\n",
      "[900] Loss: 0.0026 TrueN: 10 PredN: 8 HitNegN: 8 PredRew: -0.0155 ActRew: -0.0195 Eps: 0.987\n",
      "[1000] Loss: 0.0016 TrueN: 13 PredN: 12 HitNegN: 12 PredRew: -0.0039 ActRew: -0.0254 Eps: 0.986\n",
      "[1100] Loss: 0.0006 TrueN: 12 PredN: 12 HitNegN: 12 PredRew: -0.0353 ActRew: -0.0234 Eps: 0.984\n",
      "[1200] Loss: 0.0035 TrueN: 11 PredN: 11 HitNegN: 11 PredRew: -0.0227 ActRew: -0.0215 Eps: 0.983\n",
      "[1300] Loss: 0.0008 TrueN: 11 PredN: 11 HitNegN: 11 PredRew: -0.0269 ActRew: -0.0215 Eps: 0.981\n",
      "[1400] Loss: 0.0007 TrueN: 16 PredN: 16 HitNegN: 16 PredRew: -0.0298 ActRew: -0.0312 Eps: 0.980\n",
      "[1500] Loss: 0.0012 TrueN: 15 PredN: 15 HitNegN: 15 PredRew: -0.0300 ActRew: -0.0293 Eps: 0.978\n",
      "[1600] Loss: 0.0006 TrueN: 10 PredN: 10 HitNegN: 10 PredRew: -0.0202 ActRew: -0.0195 Eps: 0.977\n",
      "[1700] Loss: 0.0005 TrueN: 13 PredN: 13 HitNegN: 13 PredRew: -0.0288 ActRew: -0.0254 Eps: 0.976\n",
      "[1800] Loss: 0.0013 TrueN: 9 PredN: 9 HitNegN: 9 PredRew: -0.0380 ActRew: -0.0176 Eps: 0.974\n",
      "[1900] Loss: 0.0010 TrueN: 12 PredN: 13 HitNegN: 12 PredRew: -0.0329 ActRew: -0.0234 Eps: 0.973\n",
      "[2000] Loss: 0.0017 TrueN: 9 PredN: 9 HitNegN: 9 PredRew: -0.0392 ActRew: -0.0176 Eps: 0.971\n",
      "[2100] Loss: 0.0008 TrueN: 8 PredN: 8 HitNegN: 8 PredRew: -0.0205 ActRew: -0.0156 Eps: 0.970\n",
      "[2200] Loss: 0.0009 TrueN: 14 PredN: 14 HitNegN: 14 PredRew: -0.0176 ActRew: -0.0273 Eps: 0.968\n",
      "[2300] Loss: 0.0005 TrueN: 12 PredN: 12 HitNegN: 12 PredRew: -0.0215 ActRew: -0.0234 Eps: 0.967\n",
      "[2400] Loss: 0.0021 TrueN: 16 PredN: 16 HitNegN: 16 PredRew: 0.0020 ActRew: -0.0312 Eps: 0.965\n",
      "[2500] Loss: 0.0015 TrueN: 14 PredN: 12 HitNegN: 12 PredRew: -0.0217 ActRew: -0.0273 Eps: 0.964\n",
      "[2600] Loss: 0.0018 TrueN: 13 PredN: 13 HitNegN: 13 PredRew: -0.0294 ActRew: -0.0254 Eps: 0.963\n",
      "[2700] Loss: 0.0004 TrueN: 10 PredN: 10 HitNegN: 10 PredRew: -0.0084 ActRew: -0.0195 Eps: 0.961\n",
      "[2800] Loss: 0.0004 TrueN: 10 PredN: 10 HitNegN: 10 PredRew: -0.0224 ActRew: -0.0195 Eps: 0.960\n",
      "[2900] Loss: 0.0014 TrueN: 19 PredN: 19 HitNegN: 19 PredRew: -0.0269 ActRew: -0.0371 Eps: 0.958\n",
      "[3000] Loss: 0.0009 TrueN: 15 PredN: 14 HitNegN: 14 PredRew: -0.0264 ActRew: -0.0293 Eps: 0.957\n",
      "[3100] Loss: 0.0010 TrueN: 19 PredN: 18 HitNegN: 18 PredRew: -0.0281 ActRew: -0.0371 Eps: 0.955\n",
      "[3200] Loss: 0.0008 TrueN: 14 PredN: 13 HitNegN: 13 PredRew: -0.0248 ActRew: -0.0273 Eps: 0.954\n",
      "[3300] Loss: 0.0009 TrueN: 10 PredN: 9 HitNegN: 9 PredRew: -0.0181 ActRew: -0.0195 Eps: 0.952\n",
      "[3400] Loss: 0.0003 TrueN: 7 PredN: 7 HitNegN: 7 PredRew: -0.0214 ActRew: -0.0137 Eps: 0.951\n",
      "[3500] Loss: 0.0003 TrueN: 10 PredN: 10 HitNegN: 10 PredRew: -0.0197 ActRew: -0.0195 Eps: 0.950\n",
      "[3600] Loss: 0.0004 TrueN: 12 PredN: 12 HitNegN: 12 PredRew: -0.0252 ActRew: -0.0234 Eps: 0.948\n",
      "[3700] Loss: 0.0016 TrueN: 14 PredN: 13 HitNegN: 13 PredRew: -0.0288 ActRew: -0.0273 Eps: 0.947\n",
      "[3800] Loss: 0.0009 TrueN: 7 PredN: 7 HitNegN: 7 PredRew: -0.0214 ActRew: -0.0137 Eps: 0.945\n",
      "[3900] Loss: 0.0007 TrueN: 13 PredN: 13 HitNegN: 13 PredRew: -0.0202 ActRew: -0.0254 Eps: 0.944\n",
      "[4000] Loss: 0.0001 TrueN: 12 PredN: 12 HitNegN: 12 PredRew: -0.0236 ActRew: -0.0234 Eps: 0.942\n",
      "[4100] Loss: 0.0002 TrueN: 11 PredN: 11 HitNegN: 11 PredRew: -0.0201 ActRew: -0.0215 Eps: 0.941\n",
      "[4200] Loss: 0.0008 TrueN: 11 PredN: 11 HitNegN: 11 PredRew: -0.0189 ActRew: -0.0215 Eps: 0.940\n",
      "[4300] Loss: 0.0001 TrueN: 10 PredN: 10 HitNegN: 10 PredRew: -0.0203 ActRew: -0.0195 Eps: 0.938\n",
      "[4400] Loss: 0.0002 TrueN: 8 PredN: 8 HitNegN: 8 PredRew: -0.0111 ActRew: -0.0156 Eps: 0.937\n",
      "[4500] Loss: 0.0003 TrueN: 7 PredN: 7 HitNegN: 7 PredRew: -0.0225 ActRew: -0.0137 Eps: 0.935\n",
      "[4600] Loss: 0.0003 TrueN: 8 PredN: 8 HitNegN: 8 PredRew: -0.0223 ActRew: -0.0156 Eps: 0.934\n",
      "[4700] Loss: 0.0002 TrueN: 11 PredN: 11 HitNegN: 11 PredRew: -0.0191 ActRew: -0.0215 Eps: 0.932\n",
      "[4800] Loss: 0.0006 TrueN: 5 PredN: 5 HitNegN: 5 PredRew: -0.0201 ActRew: -0.0098 Eps: 0.931\n",
      "[4900] Loss: 0.0009 TrueN: 16 PredN: 16 HitNegN: 16 PredRew: -0.0235 ActRew: -0.0312 Eps: 0.929\n",
      "[5000] Loss: 0.0003 TrueN: 13 PredN: 13 HitNegN: 13 PredRew: -0.0292 ActRew: -0.0254 Eps: 0.928\n",
      "[5100] Loss: 0.0006 TrueN: 9 PredN: 9 HitNegN: 9 PredRew: -0.0204 ActRew: -0.0176 Eps: 0.927\n",
      "[5200] Loss: 0.0003 TrueN: 7 PredN: 7 HitNegN: 7 PredRew: -0.0200 ActRew: -0.0137 Eps: 0.925\n",
      "[5300] Loss: 0.0006 TrueN: 11 PredN: 11 HitNegN: 11 PredRew: -0.0251 ActRew: -0.0215 Eps: 0.924\n",
      "[5400] Loss: 0.0004 TrueN: 9 PredN: 9 HitNegN: 9 PredRew: -0.0128 ActRew: -0.0176 Eps: 0.922\n",
      "[5500] Loss: 0.0001 TrueN: 14 PredN: 14 HitNegN: 14 PredRew: -0.0260 ActRew: -0.0273 Eps: 0.921\n",
      "[5600] Loss: 0.0006 TrueN: 11 PredN: 11 HitNegN: 11 PredRew: -0.0259 ActRew: -0.0215 Eps: 0.919\n",
      "[5700] Loss: 0.0010 TrueN: 10 PredN: 10 HitNegN: 10 PredRew: -0.0216 ActRew: -0.0195 Eps: 0.918\n",
      "[5800] Loss: 0.0006 TrueN: 11 PredN: 11 HitNegN: 11 PredRew: -0.0204 ActRew: -0.0215 Eps: 0.916\n",
      "[5900] Loss: 0.0012 TrueN: 10 PredN: 11 HitNegN: 10 PredRew: -0.0161 ActRew: -0.0195 Eps: 0.915\n",
      "[6000] Loss: 0.0002 TrueN: 6 PredN: 6 HitNegN: 6 PredRew: -0.0092 ActRew: -0.0117 Eps: 0.914\n",
      "[6100] Loss: 0.0005 TrueN: 11 PredN: 11 HitNegN: 11 PredRew: -0.0184 ActRew: -0.0215 Eps: 0.912\n",
      "[6200] Loss: 0.0006 TrueN: 6 PredN: 5 HitNegN: 5 PredRew: -0.0106 ActRew: -0.0117 Eps: 0.911\n",
      "[6300] Loss: 0.0002 TrueN: 8 PredN: 8 HitNegN: 8 PredRew: -0.0179 ActRew: -0.0156 Eps: 0.909\n",
      "[6400] Loss: 0.0001 TrueN: 11 PredN: 11 HitNegN: 11 PredRew: -0.0199 ActRew: -0.0215 Eps: 0.908\n",
      "[6500] Loss: 0.0010 TrueN: 13 PredN: 12 HitNegN: 12 PredRew: -0.0296 ActRew: -0.0254 Eps: 0.906\n",
      "[6600] Loss: 0.0012 TrueN: 11 PredN: 10 HitNegN: 10 PredRew: -0.0217 ActRew: -0.0215 Eps: 0.905\n",
      "[6700] Loss: 0.0002 TrueN: 11 PredN: 11 HitNegN: 11 PredRew: -0.0210 ActRew: -0.0215 Eps: 0.904\n",
      "[6800] Loss: 0.0009 TrueN: 13 PredN: 13 HitNegN: 13 PredRew: -0.0255 ActRew: -0.0254 Eps: 0.902\n",
      "[6900] Loss: 0.0002 TrueN: 13 PredN: 13 HitNegN: 13 PredRew: -0.0257 ActRew: -0.0254 Eps: 0.901\n",
      "[7000] Loss: 0.0008 TrueN: 15 PredN: 15 HitNegN: 15 PredRew: -0.0282 ActRew: -0.0293 Eps: 0.899\n",
      "[7100] Loss: 0.0004 TrueN: 9 PredN: 9 HitNegN: 9 PredRew: -0.0142 ActRew: -0.0176 Eps: 0.898\n",
      "[7200] Loss: 0.0003 TrueN: 4 PredN: 4 HitNegN: 4 PredRew: -0.0076 ActRew: -0.0078 Eps: 0.896\n",
      "[7300] Loss: 0.0013 TrueN: 6 PredN: 8 HitNegN: 6 PredRew: -0.0115 ActRew: -0.0117 Eps: 0.895\n",
      "[7400] Loss: 0.0017 TrueN: 10 PredN: 11 HitNegN: 10 PredRew: -0.0220 ActRew: -0.0195 Eps: 0.893\n",
      "[7500] Loss: 0.0004 TrueN: 12 PredN: 12 HitNegN: 12 PredRew: -0.0268 ActRew: -0.0234 Eps: 0.892\n",
      "[7600] Loss: 0.0010 TrueN: 7 PredN: 6 HitNegN: 6 PredRew: -0.0140 ActRew: -0.0137 Eps: 0.891\n",
      "[7700] Loss: 0.0002 TrueN: 9 PredN: 9 HitNegN: 9 PredRew: -0.0173 ActRew: -0.0176 Eps: 0.889\n",
      "[7800] Loss: 0.0006 TrueN: 10 PredN: 10 HitNegN: 10 PredRew: -0.0206 ActRew: -0.0195 Eps: 0.888\n",
      "[7900] Loss: 0.0001 TrueN: 9 PredN: 9 HitNegN: 9 PredRew: -0.0194 ActRew: -0.0176 Eps: 0.886\n",
      "[8000] Loss: 0.0005 TrueN: 14 PredN: 14 HitNegN: 14 PredRew: -0.0219 ActRew: -0.0273 Eps: 0.885\n",
      "[8100] Loss: 0.0001 TrueN: 5 PredN: 5 HitNegN: 5 PredRew: -0.0126 ActRew: -0.0098 Eps: 0.883\n",
      "[8200] Loss: 0.0009 TrueN: 9 PredN: 8 HitNegN: 8 PredRew: -0.0153 ActRew: -0.0176 Eps: 0.882\n",
      "[8300] Loss: 0.0024 TrueN: 14 PredN: 13 HitNegN: 13 PredRew: -0.0318 ActRew: -0.0273 Eps: 0.880\n",
      "[8400] Loss: 0.0012 TrueN: 12 PredN: 11 HitNegN: 11 PredRew: -0.0212 ActRew: -0.0234 Eps: 0.879\n",
      "[8500] Loss: 0.0007 TrueN: 11 PredN: 10 HitNegN: 10 PredRew: -0.0215 ActRew: -0.0215 Eps: 0.878\n",
      "[8600] Loss: 0.0003 TrueN: 10 PredN: 10 HitNegN: 10 PredRew: -0.0164 ActRew: -0.0195 Eps: 0.876\n",
      "[8700] Loss: 0.0013 TrueN: 9 PredN: 10 HitNegN: 9 PredRew: -0.0272 ActRew: -0.0176 Eps: 0.875\n"
     ]
    },
    {
     "name": "stdout",
     "output_type": "stream",
     "text": [
      "[8800] Loss: 0.0001 TrueN: 6 PredN: 6 HitNegN: 6 PredRew: -0.0143 ActRew: -0.0117 Eps: 0.873\n",
      "[8900] Loss: 0.0005 TrueN: 11 PredN: 11 HitNegN: 11 PredRew: -0.0254 ActRew: -0.0215 Eps: 0.872\n",
      "[9000] Loss: 0.0009 TrueN: 9 PredN: 9 HitNegN: 9 PredRew: -0.0187 ActRew: -0.0176 Eps: 0.870\n"
     ]
    },
    {
     "ename": "KeyboardInterrupt",
     "evalue": "",
     "output_type": "error",
     "traceback": [
      "\u001b[0;31m---------------------------------------------------------------------------\u001b[0m",
      "\u001b[0;31mKeyboardInterrupt\u001b[0m                         Traceback (most recent call last)",
      "\u001b[0;32m<ipython-input-65-34bf646b3683>\u001b[0m in \u001b[0;36m<module>\u001b[0;34m()\u001b[0m\n\u001b[1;32m      5\u001b[0m         \u001b[0mactionmax\u001b[0m \u001b[0;34m=\u001b[0m \u001b[0mnp\u001b[0m\u001b[0;34m.\u001b[0m\u001b[0margmax\u001b[0m\u001b[0;34m(\u001b[0m\u001b[0mnp\u001b[0m\u001b[0;34m.\u001b[0m\u001b[0marray\u001b[0m\u001b[0;34m(\u001b[0m\u001b[0maction\u001b[0m\u001b[0;34m)\u001b[0m\u001b[0;34m)\u001b[0m\u001b[0;34m\u001b[0m\u001b[0m\n\u001b[1;32m      6\u001b[0m \u001b[0;34m\u001b[0m\u001b[0m\n\u001b[0;32m----> 7\u001b[0;31m     \u001b[0mnew_obs\u001b[0m\u001b[0;34m,\u001b[0m \u001b[0mreward\u001b[0m\u001b[0;34m,\u001b[0m \u001b[0mis_term\u001b[0m\u001b[0;34m,\u001b[0m \u001b[0m_\u001b[0m \u001b[0;34m=\u001b[0m \u001b[0menv\u001b[0m\u001b[0;34m.\u001b[0m\u001b[0mstep\u001b[0m\u001b[0;34m(\u001b[0m\u001b[0mactionmax\u001b[0m\u001b[0;34m)\u001b[0m\u001b[0;34m\u001b[0m\u001b[0m\n\u001b[0m\u001b[1;32m      8\u001b[0m     \u001b[0;32mif\u001b[0m \u001b[0mis_term\u001b[0m\u001b[0;34m:\u001b[0m\u001b[0;34m\u001b[0m\u001b[0m\n\u001b[1;32m      9\u001b[0m         \u001b[0mnew_obs\u001b[0m \u001b[0;34m=\u001b[0m \u001b[0menv\u001b[0m\u001b[0;34m.\u001b[0m\u001b[0mreset\u001b[0m\u001b[0;34m(\u001b[0m\u001b[0;34m)\u001b[0m\u001b[0;34m\u001b[0m\u001b[0m\n",
      "\u001b[0;32m~/Documents/MachineLearning/mlenv/lib/python3.5/site-packages/gym/wrappers/time_limit.py\u001b[0m in \u001b[0;36mstep\u001b[0;34m(self, action)\u001b[0m\n\u001b[1;32m     29\u001b[0m     \u001b[0;32mdef\u001b[0m \u001b[0mstep\u001b[0m\u001b[0;34m(\u001b[0m\u001b[0mself\u001b[0m\u001b[0;34m,\u001b[0m \u001b[0maction\u001b[0m\u001b[0;34m)\u001b[0m\u001b[0;34m:\u001b[0m\u001b[0;34m\u001b[0m\u001b[0m\n\u001b[1;32m     30\u001b[0m         \u001b[0;32massert\u001b[0m \u001b[0mself\u001b[0m\u001b[0;34m.\u001b[0m\u001b[0m_episode_started_at\u001b[0m \u001b[0;32mis\u001b[0m \u001b[0;32mnot\u001b[0m \u001b[0;32mNone\u001b[0m\u001b[0;34m,\u001b[0m \u001b[0;34m\"Cannot call env.step() before calling reset()\"\u001b[0m\u001b[0;34m\u001b[0m\u001b[0m\n\u001b[0;32m---> 31\u001b[0;31m         \u001b[0mobservation\u001b[0m\u001b[0;34m,\u001b[0m \u001b[0mreward\u001b[0m\u001b[0;34m,\u001b[0m \u001b[0mdone\u001b[0m\u001b[0;34m,\u001b[0m \u001b[0minfo\u001b[0m \u001b[0;34m=\u001b[0m \u001b[0mself\u001b[0m\u001b[0;34m.\u001b[0m\u001b[0menv\u001b[0m\u001b[0;34m.\u001b[0m\u001b[0mstep\u001b[0m\u001b[0;34m(\u001b[0m\u001b[0maction\u001b[0m\u001b[0;34m)\u001b[0m\u001b[0;34m\u001b[0m\u001b[0m\n\u001b[0m\u001b[1;32m     32\u001b[0m         \u001b[0mself\u001b[0m\u001b[0;34m.\u001b[0m\u001b[0m_elapsed_steps\u001b[0m \u001b[0;34m+=\u001b[0m \u001b[0;36m1\u001b[0m\u001b[0;34m\u001b[0m\u001b[0m\n\u001b[1;32m     33\u001b[0m \u001b[0;34m\u001b[0m\u001b[0m\n",
      "\u001b[0;32m~/Documents/MachineLearning/mlenv/lib/python3.5/site-packages/gym/envs/atari/atari_env.py\u001b[0m in \u001b[0;36mstep\u001b[0;34m(self, a)\u001b[0m\n\u001b[1;32m     73\u001b[0m             \u001b[0mnum_steps\u001b[0m \u001b[0;34m=\u001b[0m \u001b[0mself\u001b[0m\u001b[0;34m.\u001b[0m\u001b[0mnp_random\u001b[0m\u001b[0;34m.\u001b[0m\u001b[0mrandint\u001b[0m\u001b[0;34m(\u001b[0m\u001b[0mself\u001b[0m\u001b[0;34m.\u001b[0m\u001b[0mframeskip\u001b[0m\u001b[0;34m[\u001b[0m\u001b[0;36m0\u001b[0m\u001b[0;34m]\u001b[0m\u001b[0;34m,\u001b[0m \u001b[0mself\u001b[0m\u001b[0;34m.\u001b[0m\u001b[0mframeskip\u001b[0m\u001b[0;34m[\u001b[0m\u001b[0;36m1\u001b[0m\u001b[0;34m]\u001b[0m\u001b[0;34m)\u001b[0m\u001b[0;34m\u001b[0m\u001b[0m\n\u001b[1;32m     74\u001b[0m         \u001b[0;32mfor\u001b[0m \u001b[0m_\u001b[0m \u001b[0;32min\u001b[0m \u001b[0mrange\u001b[0m\u001b[0;34m(\u001b[0m\u001b[0mnum_steps\u001b[0m\u001b[0;34m)\u001b[0m\u001b[0;34m:\u001b[0m\u001b[0;34m\u001b[0m\u001b[0m\n\u001b[0;32m---> 75\u001b[0;31m             \u001b[0mreward\u001b[0m \u001b[0;34m+=\u001b[0m \u001b[0mself\u001b[0m\u001b[0;34m.\u001b[0m\u001b[0male\u001b[0m\u001b[0;34m.\u001b[0m\u001b[0mact\u001b[0m\u001b[0;34m(\u001b[0m\u001b[0maction\u001b[0m\u001b[0;34m)\u001b[0m\u001b[0;34m\u001b[0m\u001b[0m\n\u001b[0m\u001b[1;32m     76\u001b[0m         \u001b[0mob\u001b[0m \u001b[0;34m=\u001b[0m \u001b[0mself\u001b[0m\u001b[0;34m.\u001b[0m\u001b[0m_get_obs\u001b[0m\u001b[0;34m(\u001b[0m\u001b[0;34m)\u001b[0m\u001b[0;34m\u001b[0m\u001b[0m\n\u001b[1;32m     77\u001b[0m \u001b[0;34m\u001b[0m\u001b[0m\n",
      "\u001b[0;32m~/Documents/MachineLearning/mlenv/lib/python3.5/site-packages/atari_py/ale_python_interface.py\u001b[0m in \u001b[0;36mact\u001b[0;34m(self, action)\u001b[0m\n\u001b[1;32m    134\u001b[0m \u001b[0;34m\u001b[0m\u001b[0m\n\u001b[1;32m    135\u001b[0m     \u001b[0;32mdef\u001b[0m \u001b[0mact\u001b[0m\u001b[0;34m(\u001b[0m\u001b[0mself\u001b[0m\u001b[0;34m,\u001b[0m \u001b[0maction\u001b[0m\u001b[0;34m)\u001b[0m\u001b[0;34m:\u001b[0m\u001b[0;34m\u001b[0m\u001b[0m\n\u001b[0;32m--> 136\u001b[0;31m         \u001b[0;32mreturn\u001b[0m \u001b[0male_lib\u001b[0m\u001b[0;34m.\u001b[0m\u001b[0mact\u001b[0m\u001b[0;34m(\u001b[0m\u001b[0mself\u001b[0m\u001b[0;34m.\u001b[0m\u001b[0mobj\u001b[0m\u001b[0;34m,\u001b[0m \u001b[0mint\u001b[0m\u001b[0;34m(\u001b[0m\u001b[0maction\u001b[0m\u001b[0;34m)\u001b[0m\u001b[0;34m)\u001b[0m\u001b[0;34m\u001b[0m\u001b[0m\n\u001b[0m\u001b[1;32m    137\u001b[0m \u001b[0;34m\u001b[0m\u001b[0m\n\u001b[1;32m    138\u001b[0m     \u001b[0;32mdef\u001b[0m \u001b[0mgame_over\u001b[0m\u001b[0;34m(\u001b[0m\u001b[0mself\u001b[0m\u001b[0;34m)\u001b[0m\u001b[0;34m:\u001b[0m\u001b[0;34m\u001b[0m\u001b[0m\n",
      "\u001b[0;31mKeyboardInterrupt\u001b[0m: "
     ]
    }
   ],
   "source": [
    "actionmax = 0\n",
    "for e in range(10000000):\n",
    "    if e % K == 0:\n",
    "        action = ctrl.get_action()\n",
    "        actionmax = np.argmax(np.array(action))\n",
    "    \n",
    "    new_obs, reward, is_term, _ = env.step(actionmax)\n",
    "    if is_term:\n",
    "        new_obs = env.reset()\n",
    "    if e % K == 0:\n",
    "        new_obs = preprocess(new_obs).squeeze()\n",
    "        ctrl.observe(new_obs, action, reward, is_term)"
   ]
  },
  {
   "cell_type": "code",
   "execution_count": 152,
   "metadata": {
    "collapsed": true
   },
   "outputs": [],
   "source": [
    "obs = env.reset()"
   ]
  },
  {
   "cell_type": "code",
   "execution_count": 93,
   "metadata": {},
   "outputs": [
    {
     "name": "stdout",
     "output_type": "stream",
     "text": [
      "Reward: 0.0, terminal?: False\n"
     ]
    },
    {
     "data": {
      "image/png": "[encoded data removed]",
      "text/plain": [
       "<Figure size 432x288 with 1 Axes>"
      ]
     },
     "metadata": {},
     "output_type": "display_data"
    },
    {
     "data": {
      "image/png": "[encoded data removed]",
      "text/plain": [
       "<Figure size 432x288 with 1 Axes>"
      ]
     },
     "metadata": {},
     "output_type": "display_data"
    }
   ],
   "source": [
    "act = act_idle\n",
    "# act = act_up\n",
    "# act = act_down\n",
    "obs, reward, is_term, _ = env.step(act)\n",
    "print('Reward: {}, terminal?: {}'.format(reward, is_term))\n",
    "show(preprocess(obs))\n",
    "show(obs)"
   ]
  },
  {
   "cell_type": "code",
   "execution_count": 185,
   "metadata": {},
   "outputs": [
    {
     "data": {
      "image/png": "[encoded data removed]",
      "text/plain": [
       "<Figure size 432x288 with 1 Axes>"
      ]
     },
     "metadata": {},
     "output_type": "display_data"
    }
   ],
   "source": [
    "show(obs)"
   ]
  },
  {
   "cell_type": "code",
   "execution_count": null,
   "metadata": {
    "collapsed": true
   },
   "outputs": [],
   "source": []
  },
  {
   "cell_type": "code",
   "execution_count": null,
   "metadata": {
    "collapsed": true
   },
   "outputs": [],
   "source": []
  },
  {
   "cell_type": "code",
   "execution_count": null,
   "metadata": {
    "collapsed": true
   },
   "outputs": [],
   "source": []
  }
 ],
 "metadata": {
  "kernelspec": {
   "display_name": "Python 3",
   "language": "python",
   "name": "python3"
  },
  "language_info": {
   "codemirror_mode": {
    "name": "ipython",
    "version": 3
   },
   "file_extension": ".py",
   "mimetype": "text/x-python",
   "name": "python",
   "nbconvert_exporter": "python",
   "pygments_lexer": "ipython3",
   "version": "3.5.2"
  }
 },
 "nbformat": 4,
 "nbformat_minor": 1
}
