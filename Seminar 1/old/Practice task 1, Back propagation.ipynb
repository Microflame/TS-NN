{
 "cells": [
  {
   "cell_type": "markdown",
   "metadata": {},
   "source": [
    "## Семинар 1 \"Полносвязные нейронные сети\""
   ]
  },
  {
   "cell_type": "markdown",
   "metadata": {},
   "source": [
    "ФИО: "
   ]
  },
  {
   "cell_type": "markdown",
   "metadata": {},
   "source": [
    "В этом задании вам предстоит реализовать проход \"вперед\" для полносвязной нейронную сети. В дальнейшем мы реализуем процедуру обучения и научим сеть распознавать рукописные цифры.\n",
    "\n",
    "На первой лекции мы познакомились с тем, что такое нейронные сети и изучили три слоя — линейный, сигмоида и SoftMax. Из этих слоев можно составлять глубокие архитектуры и обучать их при помощи градиентного спуска. Чтобы конструировать сложные архитектуры, можно реализовать каждый тип слоя как отдельный \"кирпичик\" и затем собирать полную архитектуру как конструктор. Это мы и попробуем сделать на первом и втором семинарах."
   ]
  },
  {
   "cell_type": "markdown",
   "metadata": {},
   "source": [
    "Каждый тип слоя мы будем реализовывать при помощи класса, который будет поддерживать три функции: forward, которая будет применять функцию, реализуемую слоем, к входной матрице и backward, которая будет вычислять градиенты и step, которая будет обновлять веса. Чтобы не применять функцию к каждому объекту в отдельности, мы будем подавать на вход слою матрицу размера (N, d), где N — количество объектов, а d — размерность каждого объекта."
   ]
  },
  {
   "cell_type": "markdown",
   "metadata": {},
   "source": [
    "<img src=backprop.pdf width=400>"
   ]
  },
  {
   "cell_type": "markdown",
   "metadata": {},
   "source": [
    "Функция forward будет вычислять по $x$ значение $y$, backward — по $\\frac{\\partial L}{\\partial y}$ вычислять $\\frac{\\partial L}{\\partial x}$ и обновлять внутри себя $\\frac{\\partial L}{\\partial w}$.\n",
    "\n",
    "Важным требованием к реализации является векторизация всех слоев: все операции должны быть сведены к матричным, не должно быть циклов. Это значительно уменьшает временные затраты."
   ]
  },
  {
   "cell_type": "code",
   "execution_count": 1,
   "metadata": {
    "collapsed": true
   },
   "outputs": [],
   "source": [
    "import matplotlib.pyplot as plt\n",
    "import matplotlib as pl\n",
    "import numpy as np\n",
    "%matplotlib inline"
   ]
  },
  {
   "cell_type": "markdown",
   "metadata": {},
   "source": [
    "### Часть 1: Линейный слой\n"
   ]
  },
  {
   "cell_type": "code",
   "execution_count": 11,
   "metadata": {
    "collapsed": true
   },
   "outputs": [],
   "source": [
    "class Linear:\n",
    "    def __init__(self, input_size, output_size):\n",
    "        '''\n",
    "        Creates weights and biases for linear layer.\n",
    "        Dimention of inputs is *input_size*, of output: *output_size*.\n",
    "        '''\n",
    "        #### YOUR CODE HERE\n",
    "        #### Create weights, initialize them with samples from N(0, 0.1).\n",
    "        self.w = np.random.rand(output_size, input_size) / 10.0\n",
    "        self.b = np.random.rand(output_size)\n",
    "    \n",
    "    def forward(self, X):\n",
    "        '''\n",
    "        Passes objects through this layer.\n",
    "        X is np.array of size (N, input_size).\n",
    "        Returns output of size (N, output_size).\n",
    "        Hint: You may need to store X for backward pass\n",
    "        '''\n",
    "        #### YOUR CODE HERE\n",
    "        #### Apply layer to input\n",
    "        self.X = X\n",
    "        return np.dot(X, self.w.T) + self.b\n",
    "    \n",
    "    def backward(self, dLdy):\n",
    "        '''\n",
    "        1. Compute dLdw and dLdx.\n",
    "        2. Store dLdw for step() call\n",
    "        3. Return dLdx\n",
    "        '''\n",
    "        #### YOUR CODE HERE\n",
    "        self.dLdw = np.dot(dLdy.T, self.X)\n",
    "        self.dLdb = np.sum(dLdy, axis=0)\n",
    "        return np.dot(dLdy, self.w)\n",
    "    \n",
    "    def step(self, learning_rate):\n",
    "        '''\n",
    "        1. Apply gradient dLdw to network:\n",
    "        w <- w - l*dLdw\n",
    "        '''\n",
    "        #### YOUR CODE HERE\n",
    "        self.w -= learning_rate * self.dLdw\n",
    "        self.b -= learning_rate * self.dLdb"
   ]
  },
  {
   "cell_type": "markdown",
   "metadata": {},
   "source": [
    "### Часть 2: Численный градиент"
   ]
  },
  {
   "cell_type": "markdown",
   "metadata": {},
   "source": [
    "Релизуйте функцию проверки численного градиента. Для этого для каждой переменной, по которой считается градиент, надо вычислить численный градиент: $f'(x) \\approx \\frac{f(x+\\epsilon)-f(x-\\epsilon)}{2\\epsilon}$. Функция должна возвращать максимальное абсолютное отклонение аналитического градиента от численного. В качестве $\\epsilon$ рекомендуется взять $10^{-6}$. При правильной реализации максимальное отличие будет иметь порядок $10^{-8}-10^{-6}$."
   ]
  },
  {
   "cell_type": "code",
   "execution_count": 12,
   "metadata": {
    "collapsed": true
   },
   "outputs": [],
   "source": [
    "def check_gradient(func, X, gradient, verbose=False, eps=1e-6):\n",
    "    '''\n",
    "    Computes numerical gradient and compares it with analytcal.\n",
    "    func: callable, function of which gradient we are interested. Example call: func(X)\n",
    "    X: np.array of size (n x m)\n",
    "    gradient: np.array of size (n x m)\n",
    "    Returns: maximum absolute diviation between numerical gradient and analytical.\n",
    "    '''\n",
    "    #### YOUR CODE HERE\n",
    "    g = np.empty_like(X)\n",
    "    for index, _ in np.ndenumerate(X):\n",
    "        X[index] += eps\n",
    "        right = func(X)\n",
    "        X[index] -= 2 * eps\n",
    "        left = func(X)\n",
    "        X[index] += eps\n",
    "        g[index] = (right - left) / (2 * eps)\n",
    "    if verbose:\n",
    "        print(g)\n",
    "    return np.max(np.abs(g - gradient))"
   ]
  },
  {
   "cell_type": "markdown",
   "metadata": {},
   "source": [
    "Протестируйте линейный слой при помощи реализованной функции check_gradient: $\\frac{\\partial L}{\\partial x}$ и $\\frac{\\partial L}{\\partial w}$."
   ]
  },
  {
   "cell_type": "code",
   "execution_count": 13,
   "metadata": {
    "scrolled": false
   },
   "outputs": [
    {
     "name": "stdout",
     "output_type": "stream",
     "text": [
      "DdL/dx:  4.57427178358e-08\n",
      "DdL/dw:  4.86256954702e-08\n",
      "DdL/db:  3.15958459396e-08\n"
     ]
    }
   ],
   "source": [
    "#### YOUR CODE HERE\n",
    "# dL/dx\n",
    "input_size = 30\n",
    "output_size = 20\n",
    "N = 10\n",
    "lin = Linear(input_size=input_size, output_size=output_size)\n",
    "\n",
    "def func_L_x(X):\n",
    "    # let L = \\sum y. Then dL/dy = \\vec{1}\n",
    "    return np.sum(lin.forward(X))\n",
    "X = np.random.rand(N, input_size)\n",
    "lin.forward(X)\n",
    "print('DdL/dx: ', check_gradient(func_L_x, X, lin.backward(np.ones((N, output_size)))))\n",
    "\n",
    "# dL/dw\n",
    "def func_L_w(w):\n",
    "    lin.w = w\n",
    "    return np.sum(lin.forward(X))\n",
    "print('DdL/dw: ', check_gradient(func_L_w, lin.w, lin.dLdw))\n",
    "\n",
    "# dL/db\n",
    "def func_L_b(b):\n",
    "    lin.b = b\n",
    "    return np.sum(lin.forward(X))\n",
    "print('DdL/db: ', check_gradient(func_L_b, lin.b, lin.dLdb))"
   ]
  },
  {
   "cell_type": "markdown",
   "metadata": {},
   "source": [
    "### Часть 3: Сигмоида"
   ]
  },
  {
   "cell_type": "code",
   "execution_count": 14,
   "metadata": {
    "collapsed": true
   },
   "outputs": [],
   "source": [
    "class Sigmoid:\n",
    "    def __init__(self):\n",
    "        pass\n",
    "    \n",
    "    def forward(self, X):\n",
    "        '''\n",
    "        Passes objects through this layer.\n",
    "        X is np.array of size (N, d)\n",
    "        '''\n",
    "        #### YOUR CODE HERE\n",
    "        #### Apply layer to input\n",
    "        self.X = X\n",
    "        return 1 / (1 + np.exp(-X))\n",
    "    \n",
    "    def backward(self, dLdy):\n",
    "        '''\n",
    "        1. Compute dLdx.\n",
    "        2. Return dLdx\n",
    "        '''\n",
    "        #### YOUR CODE HERE\n",
    "        return dLdy * (self.forward(self.X) * (1 - self.forward(self.X)))\n",
    "    \n",
    "    def step(self, learning_rate):\n",
    "        pass"
   ]
  },
  {
   "cell_type": "markdown",
   "metadata": {},
   "source": [
    "Протестируйте слой при помощи реализованной функции check_gradient: $\\frac{\\partial L}{\\partial x}$."
   ]
  },
  {
   "cell_type": "code",
   "execution_count": 15,
   "metadata": {},
   "outputs": [
    {
     "name": "stdout",
     "output_type": "stream",
     "text": [
      "DdL/dx:  1.72718641334e-08\n"
     ]
    }
   ],
   "source": [
    "#### YOUR CODE HERE\n",
    "input_size = 30\n",
    "N = 10\n",
    "sig = Sigmoid()\n",
    "\n",
    "def func_sig_L_x(X):\n",
    "    # let L = \\sum y. Then dL/dy = \\vec{1}\n",
    "    return np.sum(sig.forward(X))\n",
    "\n",
    "X = np.random.rand(N, input_size)\n",
    "sig.forward(X)\n",
    "\n",
    "print('DdL/dx: ', check_gradient(func_sig_L_x, X, sig.backward(np.ones((N, input_size)))))"
   ]
  },
  {
   "cell_type": "markdown",
   "metadata": {},
   "source": [
    "### Часть 4: Функция потерь"
   ]
  },
  {
   "cell_type": "markdown",
   "metadata": {},
   "source": [
    "Как мы увидели на семинаре, вычисление производной для связки SoftMax + Negative log-likelihood проще чем для этих двух слоев по отдельности. Поэтому мы реализуем их как один класс. Важное замечание: на проходе \"вперед\" важно воспользоваться трюком <a href=\"https://hips.seas.harvard.edu/blog/2013/01/09/computing-log-sum-exp/\">log-sum-exp</a>, чтобы не столкнуться с численными неустойчивостями."
   ]
  },
  {
   "cell_type": "code",
   "execution_count": 16,
   "metadata": {
    "collapsed": true
   },
   "outputs": [],
   "source": [
    "class NLLLoss:\n",
    "    def __init__(self):\n",
    "        '''\n",
    "        Applies Softmax operation to inputs and computes NLL loss\n",
    "        '''\n",
    "        #### YOUR CODE HERE\n",
    "        #### (Hint: No code is expected here, just joking)\n",
    "        pass\n",
    "    \n",
    "    def forward(self, X, y):\n",
    "        '''\n",
    "        Passes objects through this layer.\n",
    "        X is np.array of size (N, C), where C is the number of classes\n",
    "        y is np.array of size (N), contains correct labels\n",
    "        '''\n",
    "        #### YOUR CODE HERE\n",
    "        #### Apply layer to input\n",
    "        self.X = X\n",
    "        self.y = y\n",
    "        self.p = np.exp(X) / np.sum(np.exp(X), axis=1, keepdims=True)\n",
    "        return -np.mean(np.log(self.p[np.arange(X.shape[0]), y]))\n",
    "    \n",
    "    def backward(self):\n",
    "        '''\n",
    "        Note that here dLdy = 1 since L = y\n",
    "        1. Compute dLdx\n",
    "        2. Return dLdx\n",
    "        '''\n",
    "        #### YOUR CODE HERE\n",
    "        dLdx = self.p.copy()\n",
    "        dLdx[np.arange(self.X.shape[0]), self.y] -= 1\n",
    "        return dLdx"
   ]
  },
  {
   "cell_type": "markdown",
   "metadata": {},
   "source": [
    "Протестируйте слой при помощи реализованной функции check_gradient: $\\frac{\\partial L}{\\partial x}$."
   ]
  },
  {
   "cell_type": "code",
   "execution_count": 18,
   "metadata": {},
   "outputs": [
    {
     "name": "stdout",
     "output_type": "stream",
     "text": [
      "DdL/dx:  1.72853e-06\n"
     ]
    }
   ],
   "source": [
    "#### YOUR CODE HERE\n",
    "X = np.array([\n",
    "    [1,0,0],\n",
    "], dtype='float32')\n",
    "y = np.array([\n",
    "    0,\n",
    "])\n",
    "\n",
    "snll = NLLLoss()\n",
    "snll.forward(X, y)\n",
    "g = snll.backward()\n",
    "\n",
    "def func_snll_L_x(X):\n",
    "    return snll.forward(X, y)\n",
    "\n",
    "\n",
    "\n",
    "print('DdL/dx: ', check_gradient(func_snll_L_x, X, g, eps=1e-2))"
   ]
  },
  {
   "cell_type": "markdown",
   "metadata": {},
   "source": [
    "### Часть 5, нейронная сеть"
   ]
  },
  {
   "cell_type": "markdown",
   "metadata": {},
   "source": [
    "Теперь, когда у нас есть \"кирпичики\", мы можем написать класс, который будет собирать всю сеть вместе "
   ]
  },
  {
   "cell_type": "code",
   "execution_count": 5,
   "metadata": {
    "collapsed": true
   },
   "outputs": [],
   "source": [
    "class NeuralNetwork:\n",
    "    def __init__(self, modules):\n",
    "        '''\n",
    "        Constructs network with *modules* as its layers\n",
    "        '''\n",
    "        #### YOUR CODE HERE\n",
    "        self.modules = modules\n",
    "    \n",
    "    def forward(self, X):\n",
    "        #### YOUR CODE HERE\n",
    "        #### Apply layers to input\n",
    "        for m in self.modules:\n",
    "            X = m.forward(X)\n",
    "        \n",
    "        return X\n",
    "    \n",
    "    def backward(self, dLdy):\n",
    "        '''\n",
    "        dLdy here is a gradient from loss function\n",
    "        '''\n",
    "        #### YOUR CODE HERE\n",
    "        for m in self.modules[::-1]:\n",
    "            dLdy = m.backward(dLdy)\n",
    "        \n",
    "    \n",
    "    def step(self, learning_rate):\n",
    "        for m in self.modules:\n",
    "            m.step(learning_rate)"
   ]
  },
  {
   "cell_type": "markdown",
   "metadata": {},
   "source": [
    "### Часть 6, обучение на простых данных"
   ]
  },
  {
   "cell_type": "code",
   "execution_count": 6,
   "metadata": {},
   "outputs": [
    {
     "data": {
      "image/png": "[encoded data removed]",
      "text/plain": [
       "<matplotlib.figure.Figure at 0x10e05eb38>"
      ]
     },
     "metadata": {},
     "output_type": "display_data"
    }
   ],
   "source": [
    "data = np.load('data.npz')\n",
    "X, y = data['arr_0'], data['arr_1']\n",
    "plt.scatter(X[:, 0], X[:, 1], c=y)\n",
    "plt.axis('equal')\n",
    "plt.show()"
   ]
  },
  {
   "cell_type": "markdown",
   "metadata": {},
   "source": [
    "Обучите архитектуру вида 2 -> 10 -> 10 -> 3:\n",
    "* Linear(2, 10)\n",
    "* Sigmoid()\n",
    "* Linear(10, 10)\n",
    "* Sigmoid()\n",
    "* Linear(10, 3)\n",
    "\n",
    "В качестве функции потерь используйте NLLLoss.\n",
    "1. Создайте сеть, в цикле запускайте forward, backward, step (используйте learning rate 0.01). \n",
    "2. Нарисуйте график сходимости (изменение NLL со временем).\n",
    "3. Нарисуйте разделяющую поверхность"
   ]
  },
  {
   "cell_type": "markdown",
   "metadata": {},
   "source": [
    "Отличная визуализация: http://playground.tensorflow.org/"
   ]
  },
  {
   "cell_type": "code",
   "execution_count": 8,
   "metadata": {
    "scrolled": true
   },
   "outputs": [
    {
     "name": "stdout",
     "output_type": "stream",
     "text": [
      "0 :  1.15747357779\n",
      "10 :  1.05234246708\n",
      "20 :  1.05149339083\n",
      "30 :  1.05051496986\n",
      "40 :  1.04924126951\n",
      "50 :  1.0473657413\n",
      "60 :  1.04420567707\n",
      "70 :  1.0379111025\n",
      "80 :  1.02214793522\n",
      "90 :  0.971367313896\n",
      "100 :  0.832101521392\n",
      "110 :  0.657012318068\n",
      "120 :  0.510077355496\n",
      "130 :  0.384937733738\n",
      "140 :  0.306761704719\n",
      "150 :  0.260554376345\n",
      "160 :  2.07091044227\n",
      "170 :  0.534821796751\n",
      "180 :  0.425595744285\n",
      "190 :  0.351851878424\n",
      "200 :  0.275463385713\n",
      "210 :  0.276422585808\n",
      "220 :  0.359618908515\n",
      "230 :  0.203616288537\n",
      "240 :  0.157463732764\n",
      "250 :  0.140050479279\n",
      "260 :  0.130428977332\n",
      "270 :  0.184221717299\n",
      "280 :  0.264416463367\n",
      "290 :  0.0681009169263\n",
      "300 :  0.0522818631879\n",
      "310 :  0.0416976913074\n",
      "320 :  0.0341851791645\n",
      "330 :  0.0286535758099\n",
      "340 :  0.0244672815039\n",
      "350 :  0.0212253926108\n",
      "360 :  0.018663608559\n",
      "370 :  0.0166025007236\n",
      "380 :  0.0149173740784\n",
      "390 :  0.0135197563473\n",
      "400 :  0.0123456667721\n",
      "410 :  0.0113480090766\n",
      "420 :  0.0104915406693\n",
      "430 :  0.00974948440634\n",
      "440 :  0.00910120682996\n",
      "450 :  0.00853060081835\n",
      "460 :  0.00802494121668\n",
      "470 :  0.0075740631064\n",
      "480 :  0.00716976350478\n",
      "490 :  0.00680536002923\n"
     ]
    }
   ],
   "source": [
    "### YOUR CODE HERE:\n",
    "nn = NeuralNetwork([\n",
    "    Linear(2, 10),\n",
    "    Sigmoid(),\n",
    "    Linear(10, 10),\n",
    "    Sigmoid(),\n",
    "    Linear(10, 3),\n",
    "])\n",
    "# print(X)\n",
    "# print(y)\n",
    "nll = NLLLoss()\n",
    "losses = []\n",
    "for i in range(500):\n",
    "    y_ = nn.forward(X)\n",
    "    loss = nll.forward(y_, y)\n",
    "    if i % 10 == 0:\n",
    "        losses.append(loss)\n",
    "        print(i, ': ', loss)\n",
    "    dLdy = nll.backward()\n",
    "    nn.backward(dLdy)\n",
    "    nn.step(1e-2)"
   ]
  },
  {
   "cell_type": "code",
   "execution_count": 323,
   "metadata": {},
   "outputs": [
    {
     "data": {
      "text/plain": [
       "[<matplotlib.lines.Line2D at 0x10c776e48>]"
      ]
     },
     "execution_count": 323,
     "metadata": {},
     "output_type": "execute_result"
    },
    {
     "data": {
      "image/png": "[encoded data removed]",
      "text/plain": [
       "<matplotlib.figure.Figure at 0x10d531208>"
      ]
     },
     "metadata": {},
     "output_type": "display_data"
    }
   ],
   "source": [
    "plt.plot(range(0, 500, 10), losses)"
   ]
  },
  {
   "cell_type": "code",
   "execution_count": 324,
   "metadata": {},
   "outputs": [
    {
     "data": {
      "text/plain": [
       "<matplotlib.collections.PathCollection at 0x10d2af438>"
      ]
     },
     "execution_count": 324,
     "metadata": {},
     "output_type": "execute_result"
    },
    {
     "data": {
      "image/png": "[encoded data removed]",
      "text/plain": [
       "<matplotlib.figure.Figure at 0x10c76f470>"
      ]
     },
     "metadata": {},
     "output_type": "display_data"
    }
   ],
   "source": [
    "h = 0.001\n",
    "x_min, x_max = -0.2, 1.2\n",
    "y_min, y_max = -0.2, 1.2\n",
    "xx, yy = np.meshgrid(np.arange(x_min, x_max, h),\n",
    "                     np.arange(y_min, y_max, h))\n",
    "\n",
    "\n",
    "# here \"model\" is your model's prediction (classification) function\n",
    "xr = xx.ravel()\n",
    "yr = yy.ravel()\n",
    "xy = np.vstack((xr, yr)).T\n",
    "\n",
    "y_ = np.argmax(nn.forward(xy), axis=1)\n",
    "\n",
    "# Put the result into a color plot\n",
    "y_ = y_.reshape(xx.shape)\n",
    "plt.contourf(xx, yy, y_)\n",
    "plt.scatter(X[:, 0], X[:, 1], c=y, cmap=pl.cm.Paired)\n",
    "# plt.show()"
   ]
  },
  {
   "cell_type": "code",
   "execution_count": 269,
   "metadata": {},
   "outputs": [
    {
     "data": {
      "image/png": "[encoded data removed]",
      "text/plain": [
       "<matplotlib.figure.Figure at 0x10ba022b0>"
      ]
     },
     "metadata": {},
     "output_type": "display_data"
    }
   ],
   "source": [
    "plt.scatter(X[:, 0], X[:, 1], c=np.argmax(y_, axis=1))\n",
    "plt.axis('equal')\n",
    "plt.show()"
   ]
  },
  {
   "cell_type": "code",
   "execution_count": null,
   "metadata": {
    "collapsed": true
   },
   "outputs": [],
   "source": []
  }
 ],
 "metadata": {
  "kernelspec": {
   "display_name": "Python 3",
   "language": "python",
   "name": "python3"
  },
  "language_info": {
   "codemirror_mode": {
    "name": "ipython",
    "version": 3
   },
   "file_extension": ".py",
   "mimetype": "text/x-python",
   "name": "python",
   "nbconvert_exporter": "python",
   "pygments_lexer": "ipython3",
   "version": "3.6.1"
  }
 },
 "nbformat": 4,
 "nbformat_minor": 2
}
