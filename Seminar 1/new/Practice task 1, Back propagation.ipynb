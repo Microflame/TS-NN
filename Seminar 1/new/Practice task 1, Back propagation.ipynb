{
 "cells": [
  {
   "cell_type": "markdown",
   "metadata": {},
   "source": [
    "## Семинар 1 \"Полносвязные нейронные сети\""
   ]
  },
  {
   "cell_type": "markdown",
   "metadata": {},
   "source": [
    "ФИО: "
   ]
  },
  {
   "cell_type": "markdown",
   "metadata": {},
   "source": [
    "В этом задании вам предстоит реализовать проход \"вперед\" для полносвязной нейронную сети. В дальнейшем мы реализуем процедуру обучения и научим сеть распознавать рукописные цифры.\n",
    "\n",
    "На первой лекции мы познакомились с тем, что такое нейронные сети и изучили три слоя — линейный, сигмоида и SoftMax. Из этих слоев можно составлять глубокие архитектуры и обучать их при помощи градиентного спуска. Чтобы конструировать сложные архитектуры, можно реализовать каждый тип слоя как отдельный \"кирпичик\" и затем собирать полную архитектуру как конструктор. Это мы и попробуем сделать на первом и втором семинарах."
   ]
  },
  {
   "cell_type": "markdown",
   "metadata": {},
   "source": [
    "Каждый тип слоя мы будем реализовывать при помощи класса, который будет поддерживать три функции: forward, которая будет применять функцию, реализуемую слоем, к входной матрице и backward, которая будет вычислять градиенты и step, которая будет обновлять веса. Чтобы не применять функцию к каждому объекту в отдельности, мы будем подавать на вход слою матрицу размера (N, d), где N — количество объектов, а d — размерность каждого объекта."
   ]
  },
  {
   "cell_type": "markdown",
   "metadata": {},
   "source": [
    "<img src=backprop.pdf width=400>"
   ]
  },
  {
   "cell_type": "markdown",
   "metadata": {},
   "source": [
    "Функция forward будет вычислять по $x$ значение $y$, backward — по $\\frac{\\partial L}{\\partial y}$ вычислять $\\frac{\\partial L}{\\partial x}$ и обновлять внутри себя $\\frac{\\partial L}{\\partial w}$.\n",
    "\n",
    "Важным требованием к реализации является векторизация всех слоев: все операции должны быть сведены к матричным, не должно быть циклов. Это значительно уменьшает временные затраты."
   ]
  },
  {
   "cell_type": "code",
   "execution_count": 24,
   "metadata": {
    "collapsed": true
   },
   "outputs": [],
   "source": [
    "import matplotlib.pyplot as plt\n",
    "import matplotlib as pl\n",
    "import numpy as np\n",
    "%matplotlib inline"
   ]
  },
  {
   "cell_type": "markdown",
   "metadata": {},
   "source": [
    "### Часть 1: Линейный слой\n"
   ]
  },
  {
   "cell_type": "markdown",
   "metadata": {},
   "source": [
    "Приведем пример вычисления градиентов для линейного слоя: $y = xW^T$, $x \\in \\mathbb{R}^{K \\times n}$, $y \\in \\mathbb{R}^{K \\times n}$, $W \\in \\mathbb{R}^{m \\times n}$, где $K$ — число объектов.\n",
    "\n",
    "Рассмотрим $L$ как функцию от выходов нейронной сети: $L = L(y_{11}, y_{12}, \\dots)$\n",
    "\n",
    "$$y_i = (Wx)_i = \\sum_j W_{i, j}x_j$$\n",
    "\n",
    "$$\\frac{\\partial L}{\\partial x_{ij}} = \\sum_{kt} \\frac{\\partial L}{\\partial y_{kt}}\\frac{\\partial y_{kt}}{\\partial x_{ij}} = \\sum_{kt} \\frac{\\partial L}{\\partial y_{kt}}\\frac{\\partial \\sum_z x_{kz}w_{zt}}{\\partial x_{ij}}= \\sum_{t} \\frac{\\partial L}{\\partial y_{it}}\\frac{\\partial w_{jt}}{\\partial x_{ij}}$$\n",
    "\n",
    "$$\\frac{\\partial{L}}{\\partial x} = \\frac{\\partial{L}}{\\partial y}W$$"
   ]
  },
  {
   "cell_type": "code",
   "execution_count": 8,
   "metadata": {
    "collapsed": true
   },
   "outputs": [],
   "source": [
    "class Linear:\n",
    "    def __init__(self, input_size, output_size):\n",
    "        '''\n",
    "        Creates weights and biases for linear layer.\n",
    "        Dimention of inputs is *input_size*, of output: *output_size*.\n",
    "        '''\n",
    "        #### YOUR CODE HERE\n",
    "        #### Create weights, initialize them with samples from N(0, 0.1).\n",
    "        self.w = np.random.normal(scale=0.1, size=(output_size, input_size))\n",
    "        self.b = np.zeros(output_size)\n",
    "    \n",
    "    def forward(self, X):\n",
    "        '''\n",
    "        Passes objects through this layer.\n",
    "        X is np.array of size (N, input_size).\n",
    "        Returns output of size (N, output_size).\n",
    "        Hint: You may need to store X for backward pass\n",
    "        '''\n",
    "        #### YOUR CODE HERE\n",
    "        #### Apply layer to input\n",
    "        self.X = X\n",
    "        return np.dot(X, self.w.T) + self.b\n",
    "    \n",
    "    def backward(self, dLdy):\n",
    "        '''\n",
    "        1. Compute dLdw and dLdx.\n",
    "        2. Store dLdw for step() call\n",
    "        3. Return dLdx\n",
    "        '''\n",
    "        #### YOUR CODE HERE\n",
    "        self.dLdw = np.dot(dLdy.T, self.X)\n",
    "        self.dLdb = np.sum(dLdy, axis=0)\n",
    "        return np.dot(dLdy, self.w)\n",
    "    \n",
    "    def step(self, learning_rate):\n",
    "        '''\n",
    "        1. Apply gradient dLdw to network:\n",
    "        w <- w - l*dLdw\n",
    "        '''\n",
    "        #### YOUR CODE HERE\n",
    "        self.w -= learning_rate * self.dLdw\n",
    "        self.b -= learning_rate * self.dLdb"
   ]
  },
  {
   "cell_type": "code",
   "execution_count": 9,
   "metadata": {},
   "outputs": [
    {
     "data": {
      "text/plain": [
       "array([[-0.25578694,  0.12772713],\n",
       "       [-0.25578694,  0.12772713],\n",
       "       [-0.25578694,  0.12772713],\n",
       "       [-0.25578694,  0.12772713],\n",
       "       [-0.25578694,  0.12772713]])"
      ]
     },
     "execution_count": 9,
     "metadata": {},
     "output_type": "execute_result"
    }
   ],
   "source": [
    "lin = Linear(10, 2)\n",
    "\n",
    "X = np.ones((5, 10))\n",
    "\n",
    "lin.forward(X)"
   ]
  },
  {
   "cell_type": "markdown",
   "metadata": {},
   "source": [
    "### Часть 2: Численный градиент"
   ]
  },
  {
   "cell_type": "markdown",
   "metadata": {},
   "source": [
    "Релизуйте функцию проверки численного градиента. Для этого для каждой переменной, по которой считается градиент, надо вычислить численный градиент: $f'(x) \\approx \\frac{f(x+\\epsilon)-f(x-\\epsilon)}{2\\epsilon}$. Функция должна возвращать максимальное абсолютное отклонение аналитического градиента от численного. В качестве $\\epsilon$ рекомендуется взять $10^{-6}$. При правильной реализации максимальное отличие будет иметь порядок $10^{-8}-10^{-6}$."
   ]
  },
  {
   "cell_type": "code",
   "execution_count": 10,
   "metadata": {
    "collapsed": true
   },
   "outputs": [],
   "source": [
    "def check_gradient(func, X, gradient, verbose=False, eps=1e-6):\n",
    "    '''\n",
    "    Computes numerical gradient and compares it with analytcal.\n",
    "    func: callable, function of which gradient we are interested. Example call: func(X)\n",
    "    X: np.array of size (n x m)\n",
    "    gradient: np.array of size (n x m)\n",
    "    Returns: maximum absolute diviation between numerical gradient and analytical.\n",
    "    '''\n",
    "    #### YOUR CODE HERE\n",
    "    g = np.empty_like(X)\n",
    "    for index, _ in np.ndenumerate(X):\n",
    "        X[index] += eps\n",
    "        right = func(X)\n",
    "        X[index] -= 2 * eps\n",
    "        left = func(X)\n",
    "        X[index] += eps\n",
    "        g[index] = (right - left) / (2 * eps)\n",
    "    if verbose:\n",
    "        print(g)\n",
    "    return np.max(np.abs(g - gradient))"
   ]
  },
  {
   "cell_type": "markdown",
   "metadata": {},
   "source": [
    "Протестируйте линейный слой при помощи реализованной функции check_gradient: $\\frac{\\partial L}{\\partial x}$ и $\\frac{\\partial L}{\\partial w}$."
   ]
  },
  {
   "cell_type": "code",
   "execution_count": 11,
   "metadata": {},
   "outputs": [
    {
     "name": "stdout",
     "output_type": "stream",
     "text": [
      "DdL/dx:  1.58806945372e-09\n",
      "DdL/dw:  1.76462400248e-09\n",
      "DdL/db:  5.09601250087e-10\n"
     ]
    }
   ],
   "source": [
    "#### YOUR CODE HERE\n",
    "y = lambda x: (x ** 2).sum()\n",
    "x = np.random.rand(10, 20)\n",
    "check_gradient(y, x, 2*x)\n",
    "\n",
    "# dL/dx\n",
    "input_size = 30\n",
    "output_size = 20\n",
    "N = 10\n",
    "lin = Linear(input_size=input_size, output_size=output_size)\n",
    "\n",
    "def func_L_x(X):\n",
    "    # let L = \\sum y. Then dL/dy = \\vec{1}\n",
    "    return np.sum(lin.forward(X))\n",
    "X = np.random.rand(N, input_size)\n",
    "lin.forward(X)\n",
    "print('DdL/dx: ', check_gradient(func_L_x, X, lin.backward(np.ones((N, output_size)))))\n",
    "\n",
    "# dL/dw\n",
    "def func_L_w(w):\n",
    "    w_old = lin.w\n",
    "    lin.w = w\n",
    "    lin.w = w_old\n",
    "    return np.sum(lin.forward(X))\n",
    "print('DdL/dw: ', check_gradient(func_L_w, lin.w, lin.dLdw))\n",
    "\n",
    "# dL/db\n",
    "def func_L_b(b):\n",
    "    lin.b = b\n",
    "    return np.sum(lin.forward(X))\n",
    "print('DdL/db: ', check_gradient(func_L_b, lin.b, lin.dLdb))"
   ]
  },
  {
   "cell_type": "markdown",
   "metadata": {},
   "source": [
    "### Часть 3: Сигмоида"
   ]
  },
  {
   "cell_type": "code",
   "execution_count": 12,
   "metadata": {
    "collapsed": true
   },
   "outputs": [],
   "source": [
    "class Sigmoid:\n",
    "    def __init__(self):\n",
    "        pass\n",
    "    \n",
    "    def forward(self, X):\n",
    "        '''\n",
    "        Passes objects through this layer.\n",
    "        X is np.array of size (N, d)\n",
    "        '''\n",
    "        #### YOUR CODE HERE\n",
    "        #### Apply layer to input\n",
    "        self.s = 1 / (1 + np.exp(-X))\n",
    "        return self.s\n",
    "    \n",
    "    def backward(self, dLdy):\n",
    "        '''\n",
    "        1. Compute dLdx.\n",
    "        2. Return dLdx\n",
    "        '''\n",
    "        #### YOUR CODE HERE\n",
    "        return dLdy * (self.s * (1 - self.s))\n",
    "    \n",
    "    def step(self, learning_rate):\n",
    "        pass"
   ]
  },
  {
   "cell_type": "markdown",
   "metadata": {},
   "source": [
    "Протестируйте слой при помощи реализованной функции check_gradient: $\\frac{\\partial L}{\\partial x}$."
   ]
  },
  {
   "cell_type": "code",
   "execution_count": 14,
   "metadata": {},
   "outputs": [
    {
     "name": "stdout",
     "output_type": "stream",
     "text": [
      "DdL/dx:  2.36303802359e-08\n"
     ]
    }
   ],
   "source": [
    "#### YOUR CODE HERE\n",
    "input_size = 30\n",
    "N = 10\n",
    "sig = Sigmoid()\n",
    "\n",
    "def func_sig_L_x(X):\n",
    "    # let L = \\sum y. Then dL/dy = \\vec{1}\n",
    "    return np.sum(sig.forward(X))\n",
    "\n",
    "X = np.random.rand(N, input_size)\n",
    "sig.forward(X)\n",
    "\n",
    "print('DdL/dx: ', check_gradient(func_sig_L_x, X, sig.backward(np.ones((N, input_size)))))"
   ]
  },
  {
   "cell_type": "markdown",
   "metadata": {},
   "source": [
    "### Часть 4: Функция потерь"
   ]
  },
  {
   "cell_type": "markdown",
   "metadata": {},
   "source": [
    "Как мы увидели на семинаре, вычисление производной для связки SoftMax + Negative log-likelihood проще чем для этих двух слоев по отдельности. Поэтому мы реализуем их как один класс. Важное замечание: на проходе \"вперед\" важно воспользоваться трюком <a href=\"https://hips.seas.harvard.edu/blog/2013/01/09/computing-log-sum-exp/\">log-sum-exp</a>, чтобы не столкнуться с численными неустойчивостями."
   ]
  },
  {
   "cell_type": "code",
   "execution_count": 79,
   "metadata": {
    "collapsed": true
   },
   "outputs": [],
   "source": [
    "class NLLLoss:\n",
    "    def __init__(self):\n",
    "        '''\n",
    "        Applies Softmax operation to inputs and computes NLL loss\n",
    "        '''\n",
    "        #### YOUR CODE HERE\n",
    "        #### (Hint: No code is expected here, just joking)\n",
    "        pass\n",
    "    \n",
    "    def forward(self, X, y):\n",
    "        '''\n",
    "        Passes objects through this layer.\n",
    "        X is np.array of size (N, C), where C is the number of classes\n",
    "        y is np.array of size (N), contains correct labels\n",
    "        '''\n",
    "        #### YOUR CODE HERE\n",
    "        #### Apply layer to input\n",
    "#         X -= np.min(X, axis=0,)\n",
    "        self.X = X\n",
    "        self.y = y\n",
    "        self.p = np.exp(X) / np.sum(np.exp(X), axis=1, keepdims=True)\n",
    "        return -np.sum(np.log(self.p[np.arange(X.shape[0]), y]))\n",
    "    \n",
    "    def backward(self):\n",
    "        '''\n",
    "        Note that here dLdy = 1 since L = y\n",
    "        1. Compute dLdx\n",
    "        2. Return dLdx\n",
    "        '''\n",
    "        #### YOUR CODE HERE\n",
    "        dLdx = self.p.copy()\n",
    "        dLdx[np.arange(self.X.shape[0]), self.y] -= 1\n",
    "        return dLdx"
   ]
  },
  {
   "cell_type": "markdown",
   "metadata": {},
   "source": [
    "Протестируйте слой при помощи реализованной функции check_gradient: $\\frac{\\partial L}{\\partial x}$."
   ]
  },
  {
   "cell_type": "code",
   "execution_count": 80,
   "metadata": {},
   "outputs": [
    {
     "name": "stdout",
     "output_type": "stream",
     "text": [
      "DdL/dx:  1.35554317771e-10\n"
     ]
    }
   ],
   "source": [
    "#### YOUR CODE HERE\n",
    "X = np.random.rand(20, 20)\n",
    "y = np.random.randint(0, 20, 20)\n",
    "\n",
    "# X = np.random.rand(10, 20)\n",
    "# y = np.random.rand(20)\n",
    "\n",
    "snll = NLLLoss()\n",
    "snll.forward(X, y)\n",
    "g = snll.backward()\n",
    "\n",
    "def func_snll_L_x(X):\n",
    "    return snll.forward(X, y)\n",
    "\n",
    "print('DdL/dx: ', check_gradient(func_snll_L_x, X, g, eps=1e-4))"
   ]
  },
  {
   "cell_type": "markdown",
   "metadata": {},
   "source": [
    "### Часть 5, нейронная сеть"
   ]
  },
  {
   "cell_type": "markdown",
   "metadata": {},
   "source": [
    "Теперь, когда у нас есть \"кирпичики\", мы можем написать класс, который будет собирать всю сеть вместе "
   ]
  },
  {
   "cell_type": "code",
   "execution_count": 30,
   "metadata": {
    "collapsed": true
   },
   "outputs": [],
   "source": [
    "class NeuralNetwork:\n",
    "    def __init__(self, modules):\n",
    "        '''\n",
    "        Constructs network with *modules* as its layers\n",
    "        '''\n",
    "        #### YOUR CODE HERE\n",
    "        self.modules = modules\n",
    "    \n",
    "    def forward(self, X):\n",
    "        #### YOUR CODE HERE\n",
    "        #### Apply layers to input\n",
    "        for m in self.modules:\n",
    "            X = m.forward(X)\n",
    "        \n",
    "        return X\n",
    "    \n",
    "    def backward(self, dLdy):\n",
    "        '''\n",
    "        dLdy here is a gradient from loss function\n",
    "        '''\n",
    "        #### YOUR CODE HERE\n",
    "        for m in self.modules[::-1]:\n",
    "            dLdy = m.backward(dLdy)\n",
    "        \n",
    "    \n",
    "    def step(self, learning_rate):\n",
    "        for m in self.modules:\n",
    "            m.step(learning_rate)"
   ]
  },
  {
   "cell_type": "markdown",
   "metadata": {},
   "source": [
    "### Часть 6, обучение на простых данных"
   ]
  },
  {
   "cell_type": "code",
   "execution_count": 88,
   "metadata": {},
   "outputs": [
    {
     "data": {
      "image/png": "[encoded data removed]",
      "text/plain": [
       "<matplotlib.figure.Figure at 0x10d218ac8>"
      ]
     },
     "metadata": {},
     "output_type": "display_data"
    }
   ],
   "source": [
    "data = np.load('data.npz')\n",
    "X, y = data['arr_0'], data['arr_1']\n",
    "plt.scatter(X[:, 0], X[:, 1], c=y)\n",
    "plt.axis('equal')\n",
    "plt.show()"
   ]
  },
  {
   "cell_type": "markdown",
   "metadata": {},
   "source": [
    "Обучите архитектуру вида 2 -> 10 -> 10 -> 3:\n",
    "* Linear(2, 10)\n",
    "* Sigmoid()\n",
    "* Linear(10, 10)\n",
    "* Sigmoid()\n",
    "* Linear(10, 3)\n",
    "\n",
    "В качестве функции потерь используйте NLLLoss.\n",
    "1. Создайте сеть, в цикле запускайте forward, backward, step (используйте learning rate 0.005). \n",
    "2. Нарисуйте график сходимости (величина NLL после каждого обновления).\n",
    "3. Нарисуйте разделяющую поверхность\n",
    "4. Попробуйте подобрать темп обучения. Как меняется сходимость?"
   ]
  },
  {
   "cell_type": "code",
   "execution_count": 89,
   "metadata": {},
   "outputs": [
    {
     "name": "stdout",
     "output_type": "stream",
     "text": [
      "0 :  383.653448643\n",
      "1 :  352.228582958\n",
      "2 :  359.896507566\n",
      "3 :  577.464550389\n",
      "4 :  639.796137615\n",
      "5 :  320.825015254\n",
      "6 :  322.110327903\n",
      "7 :  326.168292803\n",
      "8 :  295.137849503\n",
      "9 :  210.059955037\n",
      "10 :  139.822074724\n",
      "11 :  100.820369402\n",
      "12 :  60.28262794\n",
      "13 :  48.6198751086\n",
      "14 :  44.4750964306\n",
      "15 :  42.7533268651\n",
      "16 :  41.4058367858\n",
      "17 :  40.1831208015\n",
      "18 :  39.0474031556\n",
      "19 :  37.987508929\n",
      "20 :  36.9956179279\n",
      "21 :  36.0650814803\n",
      "22 :  35.1901134826\n",
      "23 :  34.3656482731\n",
      "24 :  33.5872303454\n",
      "25 :  32.8509241361\n",
      "26 :  32.1532394642\n",
      "27 :  31.4910695344\n",
      "28 :  30.8616390895\n",
      "29 :  30.2624608156\n",
      "30 :  29.6912985001\n",
      "31 :  29.1461357473\n",
      "32 :  28.6251492926\n",
      "33 :  28.1266861412\n",
      "34 :  27.6492439042\n",
      "35 :  27.1914538185\n",
      "36 :  26.7520660322\n",
      "37 :  26.3299368066\n",
      "38 :  25.92401735\n",
      "39 :  25.5333440428\n",
      "40 :  25.1570298563\n",
      "41 :  24.7942567958\n",
      "42 :  24.4442692292\n",
      "43 :  24.1063679799\n",
      "44 :  23.7799050847\n",
      "45 :  23.4642791297\n",
      "46 :  23.1589310907\n",
      "47 :  22.8633406159\n",
      "48 :  22.5770226956\n",
      "49 :  22.2995246739\n",
      "50 :  22.0304235599\n",
      "51 :  21.7693236061\n",
      "52 :  21.5158541213\n",
      "53 :  21.2696674928\n",
      "54 :  21.0304373949\n",
      "55 :  20.7978571628\n",
      "56 :  20.5716383145\n",
      "57 :  20.3515092054\n",
      "58 :  20.1372138015\n",
      "59 :  19.9285105596\n",
      "60 :  19.7251714023\n",
      "61 :  19.5269807808\n",
      "62 :  19.3337348148\n",
      "63 :  19.1452405029\n",
      "64 :  18.9613149973\n",
      "65 :  18.7817849355\n",
      "66 :  18.6064858252\n",
      "67 :  18.4352614769\n",
      "68 :  18.2679634789\n",
      "69 :  18.1044507134\n",
      "70 :  17.9445889072\n",
      "71 :  17.7882502169\n",
      "72 :  17.6353128427\n",
      "73 :  17.4856606711\n",
      "74 :  17.3391829424\n",
      "75 :  17.1957739411\n",
      "76 :  17.0553327087\n",
      "77 :  16.9177627752\n",
      "78 :  16.7829719088\n",
      "79 :  16.6508718829\n"
     ]
    }
   ],
   "source": [
    "### YOUR CODE HERE:\n",
    "# nn = NeuralNetwork([\n",
    "#     Linear(2, 10),\n",
    "#     Sigmoid(),\n",
    "#     Linear(10, 10),\n",
    "#     Sigmoid(),\n",
    "#     Linear(10, 3),\n",
    "# ])\n",
    "\n",
    "nn = NeuralNetwork([\n",
    "    Linear(2, 3),\n",
    "])\n",
    "\n",
    "\n",
    "# print(X)\n",
    "# print(y)\n",
    "nll = NLLLoss()\n",
    "losses = []\n",
    "for i in range(80):\n",
    "    y_ = nn.forward(X)\n",
    "    loss = nll.forward(y_, y)\n",
    "    if i % 1 == 0:\n",
    "        losses.append(loss)\n",
    "        print(i, ': ', loss)\n",
    "    dLdy = nll.backward()\n",
    "    nn.backward(dLdy)\n",
    "    nn.step(2e-2)"
   ]
  },
  {
   "cell_type": "code",
   "execution_count": 98,
   "metadata": {},
   "outputs": [
    {
     "data": {
      "text/plain": [
       "array([ True,  True,  True,  True,  True,  True,  True,  True,  True,\n",
       "        True,  True,  True,  True,  True,  True,  True,  True,  True,\n",
       "        True,  True,  True,  True,  True,  True,  True,  True,  True,\n",
       "        True,  True,  True,  True,  True,  True,  True,  True,  True,\n",
       "        True,  True,  True,  True,  True,  True,  True,  True,  True,\n",
       "        True,  True,  True,  True,  True,  True,  True,  True,  True,\n",
       "        True,  True,  True,  True,  True,  True,  True,  True,  True,\n",
       "        True,  True,  True,  True,  True,  True,  True,  True,  True,\n",
       "        True,  True,  True,  True,  True,  True,  True,  True,  True,\n",
       "        True,  True,  True,  True,  True,  True,  True,  True,  True,\n",
       "        True,  True,  True,  True,  True,  True,  True,  True,  True,\n",
       "        True,  True,  True,  True,  True,  True,  True,  True,  True,\n",
       "        True,  True,  True,  True,  True,  True,  True,  True,  True,\n",
       "        True,  True,  True,  True,  True,  True,  True,  True,  True,\n",
       "        True,  True,  True,  True,  True,  True,  True,  True,  True,\n",
       "        True,  True,  True,  True,  True,  True,  True,  True,  True,\n",
       "        True,  True,  True,  True,  True,  True,  True,  True,  True,\n",
       "        True,  True,  True,  True,  True,  True,  True,  True,  True,\n",
       "        True,  True,  True,  True,  True,  True,  True,  True,  True,\n",
       "        True,  True,  True,  True,  True,  True,  True,  True,  True,\n",
       "        True,  True,  True,  True,  True,  True,  True,  True,  True,\n",
       "        True,  True,  True,  True,  True,  True,  True,  True,  True,\n",
       "        True,  True,  True,  True,  True,  True,  True,  True,  True,\n",
       "        True,  True,  True,  True,  True,  True,  True,  True,  True,\n",
       "        True,  True,  True,  True,  True,  True,  True,  True,  True,\n",
       "        True,  True,  True,  True,  True,  True,  True,  True,  True,\n",
       "        True,  True,  True,  True,  True,  True,  True,  True,  True,\n",
       "        True,  True,  True,  True,  True,  True,  True,  True,  True,\n",
       "        True,  True,  True,  True,  True,  True,  True,  True,  True,\n",
       "        True,  True,  True,  True,  True,  True,  True,  True,  True,\n",
       "        True,  True,  True,  True,  True,  True,  True,  True,  True,\n",
       "        True,  True,  True,  True,  True,  True,  True,  True,  True,\n",
       "        True,  True,  True,  True,  True,  True,  True,  True,  True,\n",
       "        True,  True,  True,  True,  True,  True,  True,  True,  True,\n",
       "        True,  True,  True,  True,  True,  True,  True,  True,  True,\n",
       "        True,  True,  True,  True,  True,  True,  True,  True,  True,\n",
       "        True,  True,  True,  True,  True,  True,  True,  True,  True,\n",
       "        True,  True,  True,  True,  True,  True,  True,  True,  True,\n",
       "        True,  True,  True,  True], dtype=bool)"
      ]
     },
     "execution_count": 98,
     "metadata": {},
     "output_type": "execute_result"
    }
   ],
   "source": [
    "y_ = nn.forward(X)\n",
    "np.argmax(y_, axis=1) == y"
   ]
  },
  {
   "cell_type": "code",
   "execution_count": 73,
   "metadata": {},
   "outputs": [
    {
     "data": {
      "text/plain": [
       "[<matplotlib.lines.Line2D at 0x10d064278>]"
      ]
     },
     "execution_count": 73,
     "metadata": {},
     "output_type": "execute_result"
    },
    {
     "data": {
      "image/png": "[encoded data removed]",
      "text/plain": [
       "<matplotlib.figure.Figure at 0x10cfb7358>"
      ]
     },
     "metadata": {},
     "output_type": "display_data"
    }
   ],
   "source": [
    "plt.plot(range(0, len(losses)), losses)"
   ]
  },
  {
   "cell_type": "markdown",
   "metadata": {},
   "source": [
    "Отличная визуализация: http://playground.tensorflow.org/"
   ]
  },
  {
   "cell_type": "code",
   "execution_count": 75,
   "metadata": {},
   "outputs": [
    {
     "data": {
      "text/plain": [
       "<matplotlib.collections.PathCollection at 0x10cfe24e0>"
      ]
     },
     "execution_count": 75,
     "metadata": {},
     "output_type": "execute_result"
    },
    {
     "data": {
      "image/png": "[encoded data removed]",
      "text/plain": [
       "<matplotlib.figure.Figure at 0x10ce22048>"
      ]
     },
     "metadata": {},
     "output_type": "display_data"
    }
   ],
   "source": [
    "### YOUR CODE HERE:\n",
    "h = 0.001\n",
    "x_min, x_max = -0.2, 1.2\n",
    "y_min, y_max = -0.2, 1.2\n",
    "xx, yy = np.meshgrid(np.arange(x_min, x_max, h),\n",
    "                     np.arange(y_min, y_max, h))\n",
    "\n",
    "\n",
    "# here \"model\" is your model's prediction (classification) function\n",
    "xr = xx.ravel()\n",
    "yr = yy.ravel()\n",
    "xy = np.vstack((xr, yr)).T\n",
    "\n",
    "y_ = np.argmax(nn.forward(xy), axis=1)\n",
    "\n",
    "# Put the result into a color plot\n",
    "y_ = y_.reshape(xx.shape)\n",
    "plt.contourf(xx, yy, y_)\n",
    "plt.scatter(X[:, 0], X[:, 1], c=y, cmap=pl.cm.Paired)\n",
    "# plt.show()"
   ]
  },
  {
   "cell_type": "code",
   "execution_count": null,
   "metadata": {
    "collapsed": true
   },
   "outputs": [],
   "source": []
  }
 ],
 "metadata": {
  "kernelspec": {
   "display_name": "Python 3",
   "language": "python",
   "name": "python3"
  },
  "language_info": {
   "codemirror_mode": {
    "name": "ipython",
    "version": 3
   },
   "file_extension": ".py",
   "mimetype": "text/x-python",
   "name": "python",
   "nbconvert_exporter": "python",
   "pygments_lexer": "ipython3",
   "version": "3.6.1"
  }
 },
 "nbformat": 4,
 "nbformat_minor": 2
}
