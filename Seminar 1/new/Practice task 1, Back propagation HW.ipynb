{
 "cells": [
  {
   "cell_type": "markdown",
   "metadata": {},
   "source": [
    "## Семинар 1 \"Полносвязные нейронные сети\""
   ]
  },
  {
   "cell_type": "markdown",
   "metadata": {},
   "source": [
    "ФИО: Дорожинский Владислав Игоревич"
   ]
  },
  {
   "cell_type": "markdown",
   "metadata": {},
   "source": [
    "В этом задании вам предстоит реализовать проход \"вперед\" для полносвязной нейронную сети. В дальнейшем мы реализуем процедуру обучения и научим сеть распознавать рукописные цифры.\n",
    "\n",
    "На первой лекции мы познакомились с тем, что такое нейронные сети и изучили три слоя — линейный, сигмоида и SoftMax. Из этих слоев можно составлять глубокие архитектуры и обучать их при помощи градиентного спуска. Чтобы конструировать сложные архитектуры, можно реализовать каждый тип слоя как отдельный \"кирпичик\" и затем собирать полную архитектуру как конструктор. Это мы и попробуем сделать на первом и втором семинарах."
   ]
  },
  {
   "cell_type": "markdown",
   "metadata": {},
   "source": [
    "Каждый тип слоя мы будем реализовывать при помощи класса, который будет поддерживать три функции: forward, которая будет применять функцию, реализуемую слоем, к входной матрице и backward, которая будет вычислять градиенты и step, которая будет обновлять веса. Чтобы не применять функцию к каждому объекту в отдельности, мы будем подавать на вход слою матрицу размера (N, d), где N — количество объектов, а d — размерность каждого объекта."
   ]
  },
  {
   "cell_type": "markdown",
   "metadata": {},
   "source": [
    "<img src=backprop.pdf width=400>"
   ]
  },
  {
   "cell_type": "markdown",
   "metadata": {},
   "source": [
    "Функция forward будет вычислять по $x$ значение $y$, backward — по $\\frac{\\partial L}{\\partial y}$ вычислять $\\frac{\\partial L}{\\partial x}$ и обновлять внутри себя $\\frac{\\partial L}{\\partial w}$.\n",
    "\n",
    "Важным требованием к реализации является векторизация всех слоев: все операции должны быть сведены к матричным, не должно быть циклов. Это значительно уменьшает временные затраты."
   ]
  },
  {
   "cell_type": "code",
   "execution_count": 1,
   "metadata": {
    "collapsed": true
   },
   "outputs": [],
   "source": [
    "import matplotlib.pyplot as plt\n",
    "import matplotlib as pl\n",
    "import numpy as np\n",
    "%matplotlib inline\n"
   ]
  },
  {
   "cell_type": "markdown",
   "metadata": {},
   "source": [
    "### Часть 1: Линейный слой\n"
   ]
  },
  {
   "cell_type": "markdown",
   "metadata": {},
   "source": [
    "Приведем пример вычисления градиентов для линейного слоя: $y = xW^T$, $x \\in \\mathbb{R}^{K \\times n}$, $y \\in \\mathbb{R}^{K \\times n}$, $W \\in \\mathbb{R}^{m \\times n}$, где $K$ — число объектов.\n",
    "\n",
    "Рассмотрим $L$ как функцию от выходов нейронной сети: $L = L(y_{11}, y_{12}, \\dots)$\n",
    "\n",
    "$$y_i = (Wx)_i = \\sum_j W_{i, j}x_j$$\n",
    "\n",
    "$$\\frac{\\partial L}{\\partial x_{ij}} = \\sum_{kt} \\frac{\\partial L}{\\partial y_{kt}}\\frac{\\partial y_{kt}}{\\partial x_{ij}} = \\sum_{kt} \\frac{\\partial L}{\\partial y_{kt}}\\frac{\\partial \\sum_z x_{kz}w_{zt}}{\\partial x_{ij}}= \\sum_{t} \\frac{\\partial L}{\\partial y_{it}}\\frac{\\partial w_{jt}}{\\partial x_{ij}}$$\n",
    "\n",
    "$$\\frac{\\partial{L}}{\\partial x} = \\frac{\\partial{L}}{\\partial y}W$$"
   ]
  },
  {
   "cell_type": "code",
   "execution_count": 2,
   "metadata": {
    "collapsed": true
   },
   "outputs": [],
   "source": [
    "class Linear:\n",
    "    def __init__(self, input_size, output_size):\n",
    "        '''\n",
    "        Creates weights and biases for linear layer.\n",
    "        Dimention of inputs is *input_size*, of output: *output_size*.\n",
    "        '''\n",
    "        #### YOUR CODE HERE\n",
    "        #### Create weights, initialize them with samples from N(0, 0.1).\n",
    "        self.w = np.random.normal(scale=0.1, size=(output_size, input_size))\n",
    "        self.b = np.zeros(output_size)\n",
    "    \n",
    "    def forward(self, X):\n",
    "        '''\n",
    "        Passes objects through this layer.\n",
    "        X is np.array of size (N, input_size).\n",
    "        Returns output of size (N, output_size).\n",
    "        Hint: You may need to store X for backward pass\n",
    "        '''\n",
    "        #### YOUR CODE HERE\n",
    "        #### Apply layer to input\n",
    "        self.X = X\n",
    "        return np.dot(X, self.w.T) + self.b\n",
    "    \n",
    "    def backward(self, dLdy):\n",
    "        '''\n",
    "        1. Compute dLdw and dLdx.\n",
    "        2. Store dLdw for step() call\n",
    "        3. Return dLdx\n",
    "        '''\n",
    "        #### YOUR CODE HERE\n",
    "        self.dLdw = np.dot(dLdy.T, self.X)\n",
    "        self.dLdb = np.sum(dLdy, axis=0)\n",
    "        return np.dot(dLdy, self.w)\n",
    "    \n",
    "    def step(self, learning_rate):\n",
    "        '''\n",
    "        1. Apply gradient dLdw to network:\n",
    "        w <- w - l*dLdw\n",
    "        '''\n",
    "        #### YOUR CODE HERE\n",
    "        self.w -= learning_rate * self.dLdw\n",
    "        self.b -= learning_rate * self.dLdb"
   ]
  },
  {
   "cell_type": "code",
   "execution_count": 3,
   "metadata": {},
   "outputs": [
    {
     "data": {
      "text/plain": [
       "array([[-0.21030739, -0.171498  ],\n",
       "       [-0.21030739, -0.171498  ],\n",
       "       [-0.21030739, -0.171498  ],\n",
       "       [-0.21030739, -0.171498  ],\n",
       "       [-0.21030739, -0.171498  ]])"
      ]
     },
     "execution_count": 3,
     "metadata": {},
     "output_type": "execute_result"
    }
   ],
   "source": [
    "lin = Linear(10, 2)\n",
    "\n",
    "X = np.ones((5, 10))\n",
    "\n",
    "lin.forward(X)"
   ]
  },
  {
   "cell_type": "markdown",
   "metadata": {},
   "source": [
    "### Часть 2: Численный градиент"
   ]
  },
  {
   "cell_type": "markdown",
   "metadata": {},
   "source": [
    "Релизуйте функцию проверки численного градиента. Для этого для каждой переменной, по которой считается градиент, надо вычислить численный градиент: $f'(x) \\approx \\frac{f(x+\\epsilon)-f(x-\\epsilon)}{2\\epsilon}$. Функция должна возвращать максимальное абсолютное отклонение аналитического градиента от численного. В качестве $\\epsilon$ рекомендуется взять $10^{-6}$. При правильной реализации максимальное отличие будет иметь порядок $10^{-8}-10^{-6}$."
   ]
  },
  {
   "cell_type": "code",
   "execution_count": 4,
   "metadata": {
    "collapsed": true
   },
   "outputs": [],
   "source": [
    "def check_gradient(func, X, gradient, verbose=False, eps=1e-6):\n",
    "    '''\n",
    "    Computes numerical gradient and compares it with analytcal.\n",
    "    func: callable, function of which gradient we are interested. Example call: func(X)\n",
    "    X: np.array of size (n x m)\n",
    "    gradient: np.array of size (n x m)\n",
    "    Returns: maximum absolute diviation between numerical gradient and analytical.\n",
    "    '''\n",
    "    #### YOUR CODE HERE\n",
    "    g = np.empty_like(X)\n",
    "    for index, _ in np.ndenumerate(X):\n",
    "        X[index] += eps\n",
    "        right = func(X)\n",
    "        X[index] -= 2 * eps\n",
    "        left = func(X)\n",
    "        X[index] += eps\n",
    "        g[index] = (right - left) / (2 * eps)\n",
    "    if verbose:\n",
    "        print('=' * 5 + ' Numerical ' + '=' * 5)\n",
    "        print(g)\n",
    "        print('=' * 5 + ' Provided ' + '=' * 5)\n",
    "        print(gradient)\n",
    "    return np.max(np.abs(g - gradient))"
   ]
  },
  {
   "cell_type": "markdown",
   "metadata": {},
   "source": [
    "Протестируйте линейный слой при помощи реализованной функции check_gradient: $\\frac{\\partial L}{\\partial x}$ и $\\frac{\\partial L}{\\partial w}$."
   ]
  },
  {
   "cell_type": "code",
   "execution_count": 5,
   "metadata": {},
   "outputs": [
    {
     "name": "stdout",
     "output_type": "stream",
     "text": [
      "DdL/dx:  1.3138358734288147e-09\n",
      "DdL/dw:  1.2319212316924677e-09\n",
      "DdL/db:  1.397779669787269e-09\n"
     ]
    }
   ],
   "source": [
    "#### YOUR CODE HERE\n",
    "y = lambda x: (x ** 2).sum()\n",
    "x = np.random.rand(10, 20)\n",
    "check_gradient(y, x, 2*x)\n",
    "\n",
    "# dL/dx\n",
    "input_size = 30\n",
    "output_size = 20\n",
    "N = 10\n",
    "lin = Linear(input_size=input_size, output_size=output_size)\n",
    "\n",
    "def func_L_x(X):\n",
    "    # let L = \\sum y. Then dL/dy = \\vec{1}\n",
    "    return np.sum(lin.forward(X))\n",
    "X = np.random.rand(N, input_size)\n",
    "lin.forward(X)\n",
    "print('DdL/dx: ', check_gradient(func_L_x, X, lin.backward(np.ones((N, output_size)))))\n",
    "\n",
    "# dL/dw\n",
    "def func_L_w(w):\n",
    "    w_old = lin.w\n",
    "    lin.w = w\n",
    "    lin.w = w_old\n",
    "    return np.sum(lin.forward(X))\n",
    "print('DdL/dw: ', check_gradient(func_L_w, lin.w, lin.dLdw))\n",
    "\n",
    "# dL/db\n",
    "def func_L_b(b):\n",
    "    lin.b = b\n",
    "    return np.sum(lin.forward(X))\n",
    "print('DdL/db: ', check_gradient(func_L_b, lin.b, lin.dLdb))"
   ]
  },
  {
   "cell_type": "markdown",
   "metadata": {},
   "source": [
    "### Часть 3: Сигмоида"
   ]
  },
  {
   "cell_type": "code",
   "execution_count": 6,
   "metadata": {
    "collapsed": true
   },
   "outputs": [],
   "source": [
    "class Sigmoid:\n",
    "    def __init__(self):\n",
    "        pass\n",
    "    \n",
    "    def forward(self, X):\n",
    "        '''\n",
    "        Passes objects through this layer.\n",
    "        X is np.array of size (N, d)\n",
    "        '''\n",
    "        #### YOUR CODE HERE\n",
    "        #### Apply layer to input\n",
    "        self.s = 1 / (1 + np.exp(-X))\n",
    "        return self.s\n",
    "    \n",
    "    def backward(self, dLdy):\n",
    "        '''\n",
    "        1. Compute dLdx.\n",
    "        2. Return dLdx\n",
    "        '''\n",
    "        #### YOUR CODE HERE\n",
    "        return dLdy * (self.s * (1 - self.s))\n",
    "    \n",
    "    def step(self, learning_rate):\n",
    "        pass"
   ]
  },
  {
   "cell_type": "markdown",
   "metadata": {},
   "source": [
    "Протестируйте слой при помощи реализованной функции check_gradient: $\\frac{\\partial L}{\\partial x}$."
   ]
  },
  {
   "cell_type": "code",
   "execution_count": 7,
   "metadata": {},
   "outputs": [
    {
     "name": "stdout",
     "output_type": "stream",
     "text": [
      "DdL/dx:  2.2004602084901848e-08\n"
     ]
    }
   ],
   "source": [
    "#### YOUR CODE HERE\n",
    "input_size = 30\n",
    "N = 10\n",
    "sig = Sigmoid()\n",
    "\n",
    "def func_sig_L_x(X):\n",
    "    # let L = \\sum y. Then dL/dy = \\vec{1}\n",
    "    return np.sum(sig.forward(X))\n",
    "\n",
    "X = np.random.rand(N, input_size)\n",
    "sig.forward(X)\n",
    "\n",
    "print('DdL/dx: ', check_gradient(func_sig_L_x, X, sig.backward(np.ones((N, input_size)))))"
   ]
  },
  {
   "cell_type": "markdown",
   "metadata": {},
   "source": [
    "### Часть 4: Функция потерь"
   ]
  },
  {
   "cell_type": "markdown",
   "metadata": {},
   "source": [
    "Как мы увидели на семинаре, вычисление производной для связки SoftMax + Negative log-likelihood проще чем для этих двух слоев по отдельности. Поэтому мы реализуем их как один класс. Важное замечание: на проходе \"вперед\" важно воспользоваться трюком <a href=\"https://hips.seas.harvard.edu/blog/2013/01/09/computing-log-sum-exp/\">log-sum-exp</a>, чтобы не столкнуться с численными неустойчивостями."
   ]
  },
  {
   "cell_type": "code",
   "execution_count": 8,
   "metadata": {
    "collapsed": true
   },
   "outputs": [],
   "source": [
    "class NLLLoss:\n",
    "    def __init__(self):\n",
    "        pass\n",
    "    \n",
    "    def forward(self, X, y):\n",
    "        '''\n",
    "        Passes objects through this layer.\n",
    "        X is np.array of size (N, C), where C is the number of classes\n",
    "        y is np.array of size (N), contains correct labels\n",
    "        '''\n",
    "        #### YOUR CODE HERE\n",
    "        #### Apply layer to input\n",
    "        X = X - np.max(X, axis=1, keepdims=True)\n",
    "        self.y = y.reshape(-1)\n",
    "        self.p = np.exp(X) / np.sum(np.exp(X), axis=1, keepdims=True)\n",
    "        return -np.sum(np.log(self.p[np.arange(X.shape[0]), self.y])) / self.p.shape[0]\n",
    "    \n",
    "    def backward(self):\n",
    "        '''\n",
    "        Note that here dLdy = 1 since L = y\n",
    "        1. Compute dLdx\n",
    "        2. Return dLdx\n",
    "        '''\n",
    "        #### YOUR CODE HERE\n",
    "        dLdx = self.p.copy()\n",
    "        dLdx[np.arange(self.p.shape[0]), self.y] -= 1\n",
    "        return dLdx / self.p.shape[0]\n",
    "    \n",
    "# class NLLLoss:\n",
    "#     def __init__(self):\n",
    "#         pass\n",
    "    \n",
    "#     def forward(self, X, y):\n",
    "#         '''\n",
    "#         Passes objects through this layer.\n",
    "#         X is np.array of size (N, C), where C is the number of classes\n",
    "#         y is np.array of size (N), contains correct labels\n",
    "#         '''\n",
    "#         self.p = np.exp(X)\n",
    "#         self.p /= self.p.sum(1, keepdims=True)\n",
    "#         self.y = np.zeros((X.shape[0], X.shape[1]))\n",
    "#         self.y[np.arange(X.shape[0]), y] =1\n",
    "#         return -(np.log(self.p)*self.y).sum(1).mean(0)\n",
    "    \n",
    "#     def backward(self):\n",
    "#         '''\n",
    "#         Note that here dLdy = 1 since L = y\n",
    "#         1. Compute dLdx\n",
    "#         2. Return dLdx\n",
    "#         '''\n",
    "#         return (self.p - self.y) / X.shape[0]"
   ]
  },
  {
   "cell_type": "markdown",
   "metadata": {},
   "source": [
    "Протестируйте слой при помощи реализованной функции check_gradient: $\\frac{\\partial L}{\\partial x}$."
   ]
  },
  {
   "cell_type": "code",
   "execution_count": 9,
   "metadata": {},
   "outputs": [
    {
     "name": "stdout",
     "output_type": "stream",
     "text": [
      "DdL/dx:  6.754755609017504e-12\n"
     ]
    }
   ],
   "source": [
    "#### YOUR CODE HERE\n",
    "X = np.random.rand(30, 20)\n",
    "y = np.random.randint(0, 20, 30)\n",
    "\n",
    "snll = NLLLoss()\n",
    "snll.forward(X, y)\n",
    "g = snll.backward()\n",
    "\n",
    "def func_snll_L_x(X):\n",
    "    return snll.forward(X, y)\n",
    "\n",
    "print('DdL/dx: ', check_gradient(func_snll_L_x, X, g, eps=1e-4))"
   ]
  },
  {
   "cell_type": "markdown",
   "metadata": {},
   "source": [
    "### Часть 5, нейронная сеть"
   ]
  },
  {
   "cell_type": "markdown",
   "metadata": {},
   "source": [
    "Теперь, когда у нас есть \"кирпичики\", мы можем написать класс, который будет собирать всю сеть вместе "
   ]
  },
  {
   "cell_type": "code",
   "execution_count": 10,
   "metadata": {
    "collapsed": true
   },
   "outputs": [],
   "source": [
    "class NeuralNetwork:\n",
    "    def __init__(self, modules):\n",
    "        '''\n",
    "        Constructs network with *modules* as its layers\n",
    "        '''\n",
    "        #### YOUR CODE HERE\n",
    "        self.modules = modules\n",
    "    \n",
    "    def forward(self, X):\n",
    "        #### YOUR CODE HERE\n",
    "        #### Apply layers to input\n",
    "        for m in self.modules:\n",
    "            X = m.forward(X)\n",
    "        \n",
    "        return X\n",
    "    \n",
    "    def backward(self, dLdy):\n",
    "        '''\n",
    "        dLdy here is a gradient from loss function\n",
    "        '''\n",
    "        #### YOUR CODE HERE\n",
    "        for m in self.modules[::-1]:\n",
    "            dLdy = m.backward(dLdy)\n",
    "        \n",
    "    \n",
    "    def step(self, learning_rate):\n",
    "        for m in self.modules:\n",
    "            m.step(learning_rate)"
   ]
  },
  {
   "cell_type": "markdown",
   "metadata": {},
   "source": [
    "### Часть 6, обучение на простых данных"
   ]
  },
  {
   "cell_type": "code",
   "execution_count": 11,
   "metadata": {},
   "outputs": [
    {
     "data": {
      "image/png": "[encoded data removed]",
      "text/plain": [
       "<matplotlib.figure.Figure at 0x103e23208>"
      ]
     },
     "metadata": {},
     "output_type": "display_data"
    }
   ],
   "source": [
    "data = np.load('data.npz')\n",
    "X, y = data['arr_0'], data['arr_1']\n",
    "plt.scatter(X[:, 0], X[:, 1], c=y)\n",
    "plt.axis('equal')\n",
    "plt.show()"
   ]
  },
  {
   "cell_type": "markdown",
   "metadata": {},
   "source": [
    "Обучите архитектуру вида 2 -> 10 -> 10 -> 3:\n",
    "* Linear(2, 10)\n",
    "* Sigmoid()\n",
    "* Linear(10, 10)\n",
    "* Sigmoid()\n",
    "* Linear(10, 3)\n",
    "\n",
    "В качестве функции потерь используйте NLLLoss.\n",
    "1. Создайте сеть, в цикле запускайте forward, backward, step (используйте learning rate 0.005). \n",
    "2. Нарисуйте график сходимости (величина NLL после каждого обновления).\n",
    "3. Нарисуйте разделяющую поверхность\n",
    "4. Попробуйте подобрать темп обучения. Как меняется сходимость?"
   ]
  },
  {
   "cell_type": "code",
   "execution_count": 13,
   "metadata": {
    "scrolled": false
   },
   "outputs": [],
   "source": [
    "### YOUR CODE HERE:\n",
    "nn = NeuralNetwork([\n",
    "    Linear(2, 10),\n",
    "    Sigmoid(),\n",
    "    Linear(10, 10),\n",
    "    Sigmoid(),\n",
    "    Linear(10, 3),\n",
    "])\n",
    "\n",
    "nll = NLLLoss()\n",
    "losses = []\n",
    "for i in range(1000):\n",
    "    y_ = nn.forward(X)\n",
    "    loss = nll.forward(y_, y)\n",
    "    dLdy = nll.backward()\n",
    "    nn.backward(dLdy)\n",
    "    nn.step(5.0)\n",
    "    if i % 10 == 0:\n",
    "        losses.append(loss)\n",
    "#         print(i, ': ', loss)"
   ]
  },
  {
   "cell_type": "code",
   "execution_count": 14,
   "metadata": {},
   "outputs": [
    {
     "data": {
      "text/plain": [
       "[<matplotlib.lines.Line2D at 0x104316518>]"
      ]
     },
     "execution_count": 14,
     "metadata": {},
     "output_type": "execute_result"
    },
    {
     "data": {
      "image/png": "[encoded data removed]",
      "text/plain": [
       "<matplotlib.figure.Figure at 0x1042ebfd0>"
      ]
     },
     "metadata": {},
     "output_type": "display_data"
    }
   ],
   "source": [
    "plt.plot(range(0, len(losses)), losses)"
   ]
  },
  {
   "cell_type": "markdown",
   "metadata": {},
   "source": [
    "Отличная визуализация: http://playground.tensorflow.org/"
   ]
  },
  {
   "cell_type": "markdown",
   "metadata": {
    "collapsed": true
   },
   "source": [
    "## Домашнее задание:"
   ]
  },
  {
   "cell_type": "markdown",
   "metadata": {},
   "source": [
    "* Подоберите темп обучения. Как меняется сходимость? Нарисуйте график оптимального значения функции потерь для различных значений learning_rate\n",
    "* Решите поставленную выше задачу как задачу регрессии с MSE. Изменилась ли разделяющая поверхность?"
   ]
  },
  {
   "cell_type": "code",
   "execution_count": 15,
   "metadata": {
    "collapsed": true
   },
   "outputs": [],
   "source": [
    "def get_loss(lr, loss_f, nn, n_iter=20000):\n",
    "    \n",
    "    for i in range(n_iter):\n",
    "        y_ = nn.forward(X)\n",
    "        loss = loss_f.forward(y_, y.reshape((-1, 1)))\n",
    "        dLdy = loss_f.backward()\n",
    "        nn.backward(dLdy)\n",
    "        nn.step(lr)\n",
    "#         if i % 100 == 0:\n",
    "#             print(str(i), loss)\n",
    "    return loss_f.forward(y_, y.reshape((-1, 1))), nn"
   ]
  },
  {
   "cell_type": "markdown",
   "metadata": {},
   "source": [
    "### Loss от learning rate для NLL"
   ]
  },
  {
   "cell_type": "code",
   "execution_count": 329,
   "metadata": {},
   "outputs": [
    {
     "name": "stdout",
     "output_type": "stream",
     "text": [
      "0.0007569064510715669\n",
      "0.0002643186680120468\n",
      "0.00014453396352329237\n",
      "9.48724365573245e-05\n",
      "0.00019477372514554967\n",
      "4.89969742391917e-05\n",
      "3.6027624082563867\n"
     ]
    }
   ],
   "source": [
    "lrs = np.arange(1.0, 15.0, 2.0)\n",
    "losses = np.empty_like(lrs)\n",
    "\n",
    "for i, lr in enumerate(lrs):\n",
    "    losses[i], _ = get_loss(lr, NLLLoss(), NeuralNetwork([\n",
    "                 Linear(2, 10),\n",
    "                 Sigmoid(),\n",
    "                 Linear(10, 10),\n",
    "                 Sigmoid(),\n",
    "                 Linear(10, 3),\n",
    "            ]), 5000)\n",
    "    print(losses[i])"
   ]
  },
  {
   "cell_type": "code",
   "execution_count": 330,
   "metadata": {},
   "outputs": [
    {
     "data": {
      "image/png": "[encoded data removed]",
      "text/plain": [
       "<matplotlib.figure.Figure at 0x1071ade80>"
      ]
     },
     "metadata": {},
     "output_type": "display_data"
    }
   ],
   "source": [
    "plt.plot(lrs, losses)\n",
    "plt.xlabel('Learning rate', fontsize=16)\n",
    "plt.ylabel('Loss', fontsize=16)\n",
    "plt.ylim(0, losses[0] * 2)\n",
    "plt.grid('on')"
   ]
  },
  {
   "cell_type": "code",
   "execution_count": 16,
   "metadata": {
    "collapsed": true
   },
   "outputs": [],
   "source": [
    "class MSELoss:\n",
    "    def __init__(self):\n",
    "        pass\n",
    "    \n",
    "    def forward(self, X, y):\n",
    "        '''\n",
    "        Passes objects through this layer.\n",
    "        X is np.array of size (N, C), where C is the number of classes\n",
    "        y is np.array of size (N), contains correct labels\n",
    "        '''\n",
    "        self.D = X - y\n",
    "        return np.sum(self.D ** 2) / self.D.shape[0]\n",
    "    \n",
    "    def backward(self):\n",
    "        '''\n",
    "        Note that here dLdy = 1 since L = y\n",
    "        1. Compute dLdx\n",
    "        2. Return dLdx\n",
    "        '''\n",
    "        dLdx = 2.0 * self.D / self.D.shape[0]\n",
    "        return dLdx"
   ]
  },
  {
   "cell_type": "code",
   "execution_count": 17,
   "metadata": {
    "scrolled": false
   },
   "outputs": [
    {
     "name": "stdout",
     "output_type": "stream",
     "text": [
      "DdL/dx:  3.887224014897939e-09\n"
     ]
    }
   ],
   "source": [
    "X = np.random.rand(5, 2)\n",
    "y = np.random.rand(5, 2)\n",
    "\n",
    "mse = MSELoss()\n",
    "mse.forward(X, y)\n",
    "g = mse.backward()\n",
    "\n",
    "def func_mse_L_x(X):\n",
    "    return mse.forward(X, y)\n",
    "\n",
    "print('DdL/dx: ', check_gradient(func_mse_L_x, X, g, eps=1e-8))"
   ]
  },
  {
   "cell_type": "code",
   "execution_count": 18,
   "metadata": {
    "collapsed": true
   },
   "outputs": [],
   "source": [
    "data = np.load('data.npz')\n",
    "X, y = data['arr_0'], data['arr_1']"
   ]
  },
  {
   "cell_type": "markdown",
   "metadata": {},
   "source": [
    "### Loss от learning rate для MSE"
   ]
  },
  {
   "cell_type": "code",
   "execution_count": 334,
   "metadata": {},
   "outputs": [
    {
     "name": "stdout",
     "output_type": "stream",
     "text": [
      "0.04410736834932601\n",
      "0.02545047067019036\n",
      "0.02350516080183693\n",
      "0.021781137009686948\n",
      "0.03239967924061845\n",
      "0.02638941085062331\n",
      "0.021745236821033347\n",
      "0.019298806159659794\n",
      "0.23791007282613505\n",
      "229.78966249895453\n"
     ]
    }
   ],
   "source": [
    "lrs = np.arange(0.1, 1.1, 0.1)\n",
    "losses = np.empty_like(lrs)\n",
    "\n",
    "for i, lr in enumerate(lrs):\n",
    "    losses[i], _ = get_loss(lr, MSELoss(), NeuralNetwork([\n",
    "        Linear(2, 10),\n",
    "        Sigmoid(),\n",
    "        Linear(10, 10),\n",
    "        Sigmoid(),\n",
    "        Linear(10, 1),\n",
    "    ]), 5000)\n",
    "    print(losses[i])"
   ]
  },
  {
   "cell_type": "code",
   "execution_count": 335,
   "metadata": {},
   "outputs": [
    {
     "data": {
      "image/png": "[encoded data removed]",
      "text/plain": [
       "<matplotlib.figure.Figure at 0x106ae4048>"
      ]
     },
     "metadata": {},
     "output_type": "display_data"
    }
   ],
   "source": [
    "plt.plot(lrs, losses)\n",
    "plt.xlabel('Learning rate', fontsize=16)\n",
    "plt.ylabel('Loss', fontsize=16)\n",
    "plt.ylim(0, losses[0] * 2)\n",
    "plt.grid('on')"
   ]
  },
  {
   "cell_type": "code",
   "execution_count": 61,
   "metadata": {},
   "outputs": [
    {
     "name": "stdout",
     "output_type": "stream",
     "text": [
      "Final MSE loss: 0.008187465251530815\n"
     ]
    }
   ],
   "source": [
    "loss, net_mse = get_loss(0.8, MSELoss(), NeuralNetwork([\n",
    "        Linear(2, 10),\n",
    "        Sigmoid(),\n",
    "        Linear(10, 10),\n",
    "        Sigmoid(),\n",
    "        Linear(10, 1),\n",
    "    ]), 20000)\n",
    "print('Final MSE loss: ' + str(loss))\n",
    "loss, net_nll = get_loss(8.0, NLLLoss(), NeuralNetwork([\n",
    "        Linear(2, 10),\n",
    "        Sigmoid(),\n",
    "        Linear(10, 10),\n",
    "        Sigmoid(),\n",
    "        Linear(10, 3),\n",
    "    ]), 5000)\n",
    "print('Final NLL loss: ' + str(loss))"
   ]
  },
  {
   "cell_type": "markdown",
   "metadata": {},
   "source": [
    "### Разделяющие поверхности:"
   ]
  },
  {
   "cell_type": "code",
   "execution_count": 65,
   "metadata": {
    "scrolled": true
   },
   "outputs": [
    {
     "data": {
      "text/plain": [
       "Text(0.5,1,'NLL Surface')"
      ]
     },
     "execution_count": 65,
     "metadata": {},
     "output_type": "execute_result"
    },
    {
     "data": {
      "image/png": "[encoded data removed]",
      "text/plain": [
       "<matplotlib.figure.Figure at 0x10e63b5f8>"
      ]
     },
     "metadata": {},
     "output_type": "display_data"
    }
   ],
   "source": [
    "h = 0.005\n",
    "x_min, x_max = -0.2, 1.2\n",
    "y_min, y_max = -0.2, 1.2\n",
    "xx, yy = np.meshgrid(np.arange(x_min, x_max, h),\n",
    "                     np.arange(y_min, y_max, h))\n",
    "\n",
    "xr = xx.ravel()\n",
    "yr = yy.ravel()\n",
    "xy = np.vstack((xr, yr)).T\n",
    "\n",
    "y_ = np.argmax(nn.forward(xy), axis=1)\n",
    "\n",
    "y_ = y_.reshape(xx.shape)\n",
    "plt.ion()\n",
    "plt.contourf(xx, yy, y_)\n",
    "plt.scatter(X[:, 0], X[:, 1], c=y, cmap=pl.cm.Paired)\n",
    "plt.title('NLL Surface', fontsize=16)"
   ]
  },
  {
   "cell_type": "code",
   "execution_count": 68,
   "metadata": {},
   "outputs": [
    {
     "data": {
      "text/plain": [
       "Text(0.5,1,'MSE Surface')"
      ]
     },
     "execution_count": 68,
     "metadata": {},
     "output_type": "execute_result"
    },
    {
     "data": {
      "image/png": "[encoded data removed]",
      "text/plain": [
       "<matplotlib.figure.Figure at 0x110a19ba8>"
      ]
     },
     "metadata": {},
     "output_type": "display_data"
    }
   ],
   "source": [
    "h = 0.005\n",
    "x_min, x_max = -0.2, 1.2\n",
    "y_min, y_max = -0.2, 1.2\n",
    "xx, yy = np.meshgrid(np.arange(x_min, x_max, h),\n",
    "                     np.arange(y_min, y_max, h))\n",
    "\n",
    "xr = xx.ravel()\n",
    "yr = yy.ravel()\n",
    "xy = np.vstack((xr, yr)).T\n",
    "\n",
    "y_ = np.digitize(net_mse.forward(xy), [0.5, 1.5]).reshape(-1)\n",
    "\n",
    "y_ = y_.reshape(xx.shape)\n",
    "plt.ion()\n",
    "plt.contourf(xx, yy, y_)\n",
    "plt.scatter(X[:, 0], X[:, 1], c=y, cmap=pl.cm.Paired)\n",
    "plt.title('MSE Surface', fontsize=16)"
   ]
  },
  {
   "cell_type": "code",
   "execution_count": 81,
   "metadata": {},
   "outputs": [
    {
     "data": {
      "text/plain": [
       "Text(0.5,1,'Difference of NLL and MSE')"
      ]
     },
     "execution_count": 81,
     "metadata": {},
     "output_type": "execute_result"
    },
    {
     "data": {
      "image/png": "[encoded data removed]",
      "text/plain": [
       "<matplotlib.figure.Figure at 0x111094e80>"
      ]
     },
     "metadata": {},
     "output_type": "display_data"
    }
   ],
   "source": [
    "y_mse = np.digitize(net_mse.forward(xy), [0.5, 1.5]).reshape(-1)\n",
    "y_nll = np.argmax(net_nll.forward(xy), axis=1)\n",
    "y_diff = y_mse - y_nll\n",
    "\n",
    "y_diff = y_diff.reshape(xx.shape)\n",
    "plt.contourf(xx, yy, y_diff)\n",
    "plt.title('Difference of NLL and MSE', fontsize=16)"
   ]
  },
  {
   "cell_type": "code",
   "execution_count": null,
   "metadata": {
    "collapsed": true
   },
   "outputs": [],
   "source": []
  },
  {
   "cell_type": "code",
   "execution_count": null,
   "metadata": {
    "collapsed": true
   },
   "outputs": [],
   "source": []
  }
 ],
 "metadata": {
  "kernelspec": {
   "display_name": "Python 3",
   "language": "python",
   "name": "python3"
  },
  "language_info": {
   "codemirror_mode": {
    "name": "ipython",
    "version": 3
   },
   "file_extension": ".py",
   "mimetype": "text/x-python",
   "name": "python",
   "nbconvert_exporter": "python",
   "pygments_lexer": "ipython3",
   "version": "3.6.1"
  }
 },
 "nbformat": 4,
 "nbformat_minor": 2
}
