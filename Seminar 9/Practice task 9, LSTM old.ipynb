{
 "cells": [
  {
   "cell_type": "markdown",
   "metadata": {},
   "source": [
    "## Семинар 9: \"LSTM\""
   ]
  },
  {
   "cell_type": "markdown",
   "metadata": {},
   "source": [
    "ФИО: Дорожинский Владислав Игоревич"
   ]
  },
  {
   "cell_type": "code",
   "execution_count": 1,
   "metadata": {},
   "outputs": [
    {
     "name": "stderr",
     "output_type": "stream",
     "text": [
      "/home/user/Documents/MachineLearning/mlenv/lib/python3.5/site-packages/sklearn/cross_validation.py:41: DeprecationWarning: This module was deprecated in version 0.18 in favor of the model_selection module into which all the refactored classes and functions are moved. Also note that the interface of the new CV iterators are different from that of this module. This module will be removed in 0.20.\n",
      "  \"This module will be removed in 0.20.\", DeprecationWarning)\n"
     ]
    }
   ],
   "source": [
    "import numpy as np\n",
    "from sklearn.datasets import fetch_olivetti_faces\n",
    "from sklearn.cross_validation import train_test_split\n",
    "import matplotlib.pyplot as plt\n",
    "from torch import optim\n",
    "import torch\n",
    "from torch import nn\n",
    "from torch.autograd import Variable\n",
    "from torch.utils.data import Dataset, DataLoader\n",
    "from torch.nn.utils.rnn import pack_sequence\n",
    "from torch.nn.utils.rnn import pad_packed_sequence\n",
    "from torch.optim.lr_scheduler import ReduceLROnPlateau\n",
    "import pandas\n",
    "from sklearn.preprocessing import MinMaxScaler\n",
    "%matplotlib inline"
   ]
  },
  {
   "cell_type": "markdown",
   "metadata": {},
   "source": [
    "Этот семинар посвящен реализации RNN в pyTorch"
   ]
  },
  {
   "cell_type": "markdown",
   "metadata": {},
   "source": [
    "## Задание 1"
   ]
  },
  {
   "cell_type": "markdown",
   "metadata": {},
   "source": [
    "Напишите свою реализацию LSTM."
   ]
  },
  {
   "cell_type": "code",
   "execution_count": 3,
   "metadata": {
    "collapsed": true
   },
   "outputs": [],
   "source": [
    "class LSTM(nn.Module):\n",
    "    def __init__(self, input_size, hidden_size):\n",
    "        super(LSTM, self).__init__()\n",
    "        self.input_size = input_size\n",
    "        self.hidden_size = hidden_size\n",
    "        \n",
    "        self.W_ii = nn.Parameter(torch.Tensor(hidden_size, input_size).zero_())\n",
    "        self.W_if = nn.Parameter(torch.Tensor(hidden_size, input_size).zero_())\n",
    "        self.W_ig = nn.Parameter(torch.Tensor(hidden_size, input_size).zero_())\n",
    "        self.W_io = nn.Parameter(torch.Tensor(hidden_size, input_size).zero_())\n",
    "        \n",
    "        self.W_hi = nn.Parameter(torch.Tensor(hidden_size, hidden_size).zero_())\n",
    "        self.W_hf = nn.Parameter(torch.Tensor(hidden_size, hidden_size).zero_())\n",
    "        self.W_hg = nn.Parameter(torch.Tensor(hidden_size, hidden_size).zero_())\n",
    "        self.W_ho = nn.Parameter(torch.Tensor(hidden_size, hidden_size).zero_())\n",
    "        \n",
    "        self.b_i = nn.Parameter(torch.Tensor(hidden_size).zero_())\n",
    "        self.b_f = nn.Parameter(torch.Tensor(hidden_size).zero_())\n",
    "        self.b_g = nn.Parameter(torch.Tensor(hidden_size).zero_())\n",
    "        self.b_o = nn.Parameter(torch.Tensor(hidden_size).zero_())\n",
    "        \n",
    "    def forward(self, inputs, hidden):\n",
    "        h_0, c_0 = hidden\n",
    "        \n",
    "        seq_length = inputs.size(0)\n",
    "        out = Variable(torch.Tensor(seq_length, 1, self.hidden_size))\n",
    "        \n",
    "        for i, inp in enumerate(inputs):\n",
    "            i_1 = torch.sigmoid(torch.matmul(self.W_ii, inp) + torch.matmul(self.W_hi, h_0) + self.b_i)\n",
    "            f_1 = torch.sigmoid(torch.matmul(self.W_if, inp) + torch.matmul(self.W_hf, h_0) + self.b_f)\n",
    "            g_1 = torch.tanh(torch.matmul(self.W_ig, inp) + torch.matmul(self.W_hg, h_0) + self.b_g)\n",
    "            o_1 = torch.sigmoid(torch.matmul(self.W_io, inp) + torch.matmul(self.W_ho, h_0) + self.b_o)\n",
    "            \n",
    "            c_0 = f_1 * c_0 + i_1 * g_1\n",
    "            h_0 = o_1 * torch.tanh(c_0)\n",
    "            out[i, 0] = h_0\n",
    "        return out, (h_0, c_0)\n",
    "            \n",
    "        "
   ]
  },
  {
   "cell_type": "markdown",
   "metadata": {
    "collapsed": true
   },
   "source": [
    "## Задание 2"
   ]
  },
  {
   "cell_type": "markdown",
   "metadata": {},
   "source": [
    "Используя свою реализацию LSTM и torch.nn.LSTM сделать решить задачу предсказания временного ряда.\n",
    "Попробуйте разные длины входной и выходной последовательности."
   ]
  },
  {
   "cell_type": "markdown",
   "metadata": {},
   "source": [
    "Данные о количестве пассажиров\n",
    "https://datamarket.com/data/set/22u3/international-airline-passengers-monthly-totals-in-thousands-jan-49-dec-60#!ds=22u3&display=line"
   ]
  },
  {
   "cell_type": "code",
   "execution_count": 2,
   "metadata": {},
   "outputs": [
    {
     "data": {
      "image/png": "[encoded data removed]",
      "text/plain": [
       "<Figure size 432x288 with 1 Axes>"
      ]
     },
     "metadata": {},
     "output_type": "display_data"
    }
   ],
   "source": [
    "dataset = pandas.read_csv('international-airline-passengers.csv', usecols=[1], delimiter=\";\", engine='python', skipfooter=3)\n",
    "plt.plot(dataset)\n",
    "plt.show()"
   ]
  },
  {
   "cell_type": "code",
   "execution_count": 3,
   "metadata": {
    "collapsed": true
   },
   "outputs": [],
   "source": [
    "# подготовливаем данные\n",
    "\n",
    "dataset = dataset.values\n",
    "dataset = dataset.astype('float32')\n",
    "scaler = MinMaxScaler(feature_range=(0, 1))\n",
    "dataset = scaler.fit_transform(dataset)"
   ]
  },
  {
   "cell_type": "code",
   "execution_count": 4,
   "metadata": {},
   "outputs": [
    {
     "name": "stdout",
     "output_type": "stream",
     "text": [
      "96 48\n"
     ]
    }
   ],
   "source": [
    "# разбиваем данные на train / test\n",
    "train_size = int(len(dataset) * 0.67)\n",
    "test_size = len(dataset) - train_size\n",
    "train, test = dataset[0:train_size,:], dataset[train_size:len(dataset),:]\n",
    "print(len(train), len(test))"
   ]
  },
  {
   "cell_type": "code",
   "execution_count": 5,
   "metadata": {
    "collapsed": true
   },
   "outputs": [],
   "source": [
    "# Целевая переменная - сдвинутая последовательность значений входов\n",
    "\n",
    "def create_dataset(dataset, look_back=1):\n",
    "    dataX, dataY = [], []\n",
    "    for i in range(len(dataset)-look_back-1):\n",
    "        a = dataset[i:(i+look_back), 0]\n",
    "        dataX.append(a)\n",
    "        dataY.append(dataset[i + look_back, 0])\n",
    "\n",
    "    return np.array(dataX), np.array(dataY)"
   ]
  },
  {
   "cell_type": "code",
   "execution_count": 168,
   "metadata": {
    "collapsed": true
   },
   "outputs": [],
   "source": [
    "look_back = 20\n",
    "trainX, trainY = create_dataset(train, look_back)\n",
    "testX, testY = create_dataset(test, look_back)"
   ]
  },
  {
   "cell_type": "code",
   "execution_count": 169,
   "metadata": {
    "collapsed": true
   },
   "outputs": [],
   "source": [
    "class PassengerDataset(Dataset):\n",
    "    def __init__(self, trainX, trainY):\n",
    "        self.trainX = trainX\n",
    "        self.trainY = trainY\n",
    "\n",
    "    def __len__(self):\n",
    "        return len(self.trainY)\n",
    "\n",
    "    def __getitem__(self, idx):\n",
    "        return self.trainX[idx], self.trainY[idx]\n",
    "    \n",
    "train_dataset = PassengerDataset(trainX, trainY)\n",
    "train_dataloader = DataLoader(train_dataset, shuffle=True, batch_size=64)\n",
    "\n",
    "test_dataset = PassengerDataset(testX, testY)\n",
    "test_dataloader = DataLoader(test_dataset, batch_size=64)"
   ]
  },
  {
   "cell_type": "code",
   "execution_count": 182,
   "metadata": {
    "collapsed": true
   },
   "outputs": [],
   "source": [
    "class LSTMModel(nn.Module):\n",
    "    def __init__(self, hidden_dim, num_layers=1):\n",
    "        super(LSTMModel, self).__init__()\n",
    "        self.hidden_dim = hidden_dim\n",
    "        self.num_layers = num_layers\n",
    "\n",
    "        self.lstm = nn.LSTM(1, hidden_dim, num_layers=num_layers)\n",
    "\n",
    "        self.hidden2out = nn.Sequential(nn.Linear(hidden_dim, 1))\n",
    "\n",
    "    def forward(self, inp):\n",
    "        seq_length = inp.size(1)\n",
    "        batch_size = inp.size(0)\n",
    "        hidden = (Variable(torch.zeros(self.num_layers, batch_size, self.hidden_dim)).cuda().detach(),\n",
    "                  Variable(torch.zeros(self.num_layers, batch_size, self.hidden_dim)).cuda().detach())\n",
    "        inp = pack_sequence(inp)\n",
    "        \n",
    "#         o, _ = pad_packed_sequence(inp)\n",
    "#         print(o.size())\n",
    "#         plt.plot(o.cpu().data.numpy()[:,0,0])\n",
    "        \n",
    "        lstm_out, self.hidden = self.lstm(inp, hidden)\n",
    "        lstm_out, _ = pad_packed_sequence(lstm_out)\n",
    "#         print(lstm_out.size())\n",
    "        lstm_out = lstm_out[-1]\n",
    "        \n",
    "        out = self.hidden2out(lstm_out.view(batch_size, self.hidden_dim))\n",
    "        return out"
   ]
  },
  {
   "cell_type": "code",
   "execution_count": 286,
   "metadata": {
    "collapsed": true
   },
   "outputs": [],
   "source": [
    "lstm = LSTMModel(8, 1).cuda()"
   ]
  },
  {
   "cell_type": "code",
   "execution_count": 292,
   "metadata": {
    "collapsed": true
   },
   "outputs": [],
   "source": [
    "optimizer = torch.optim.Adam(lstm.parameters(), lr=1e-4)\n",
    "# scheduler = ReduceLROnPlateau(optimizer, verbose=True, patience=100)"
   ]
  },
  {
   "cell_type": "code",
   "execution_count": 294,
   "metadata": {},
   "outputs": [
    {
     "name": "stdout",
     "output_type": "stream",
     "text": [
      "[0]: 6.708600994898006e-05\n",
      "[100]: 5.521522143681068e-05\n",
      "[200]: 9.870983376458753e-05\n",
      "[300]: 7.175587597885169e-05\n",
      "[400]: 5.6208942623925395e-05\n",
      "[500]: 6.745362043147907e-05\n",
      "[600]: 7.850187103031203e-05\n",
      "[700]: 6.705013220198452e-05\n",
      "[800]: 6.393254443537444e-05\n",
      "[900]: 7.011498382780701e-05\n"
     ]
    }
   ],
   "source": [
    "n_epochs = 1000\n",
    "loss_f = nn.MSELoss()\n",
    "for epoch in range(n_epochs):\n",
    "    losses = []\n",
    "    for X, Y in train_dataloader:\n",
    "        lstm.zero_grad()\n",
    "        X = Variable(torch.FloatTensor(X)).view(-1, look_back, 1).cuda()\n",
    "        Y = Variable(torch.FloatTensor(Y)).view(-1, 1).cuda()\n",
    "        p = lstm(X)\n",
    "        \n",
    "#         plt.plot(X.cpu().data.numpy()[0,:,0])\n",
    "#         plt.scatter([look_back], p.cpu().data.numpy()[0])\n",
    "#         plt.scatter([look_back], Y.cpu().data.numpy()[0])\n",
    "        \n",
    "        loss = loss_f(p, Y)\n",
    "        losses.append(loss.data.item())\n",
    "        loss.backward()\n",
    "        optimizer.step()\n",
    "#         break\n",
    "#     scheduler.step(np.mean(losses))\n",
    "    if epoch % 100 == 0:\n",
    "        print('[{}]: {}'.format(epoch, np.mean(losses)))\n",
    "#     break"
   ]
  },
  {
   "cell_type": "code",
   "execution_count": 284,
   "metadata": {
    "collapsed": true
   },
   "outputs": [],
   "source": [
    "def generate(model, n, inputs):\n",
    "    result = np.zeros(n + len(inputs))\n",
    "    result[:len(inputs)] = inputs\n",
    "    for i in range(n):\n",
    "        inp = Variable(torch.FloatTensor(result[i:i+len(inputs)])).view(1, len(inputs), 1).cuda()\n",
    "        res = lstm(inp)\n",
    "        result[i + len(inputs)] = res[-1].cpu().data.numpy()\n",
    "    return result"
   ]
  },
  {
   "cell_type": "code",
   "execution_count": 299,
   "metadata": {},
   "outputs": [
    {
     "data": {
      "text/plain": [
       "<matplotlib.legend.Legend at 0x7fbf12262588>"
      ]
     },
     "execution_count": 299,
     "metadata": {},
     "output_type": "execute_result"
    },
    {
     "data": {
      "image/png": "[encoded data removed]",
      "text/plain": [
       "<Figure size 432x288 with 1 Axes>"
      ]
     },
     "metadata": {},
     "output_type": "display_data"
    }
   ],
   "source": [
    "seq = train[:,0]\n",
    "start = 0\n",
    "plength = 90\n",
    "blength = 20\n",
    "base =  seq[start:start+blength]\n",
    "predicted = generate(lstm, plength, base)\n",
    "actual = seq[start:start+plength+blength]\n",
    "plt.plot(predicted, label='predicted')\n",
    "plt.plot(actual, label='actual')\n",
    "plt.legend(fontsize=16)"
   ]
  },
  {
   "cell_type": "code",
   "execution_count": null,
   "metadata": {
    "collapsed": true
   },
   "outputs": [],
   "source": []
  },
  {
   "cell_type": "code",
   "execution_count": 413,
   "metadata": {
    "collapsed": true
   },
   "outputs": [],
   "source": [
    "look_back = 20\n",
    "trainX, trainY = create_dataset(train, look_back)\n",
    "testX, testY = create_dataset(test, look_back)\n",
    "\n",
    "trainX = np.reshape(trainX, (trainX.shape[0], 1, trainX.shape[1]))\n",
    "testX = np.reshape(testX, (testX.shape[0], 1, testX.shape[1]))"
   ]
  },
  {
   "cell_type": "code",
   "execution_count": 414,
   "metadata": {
    "collapsed": true
   },
   "outputs": [],
   "source": [
    "lstm = LSTM(1, 1)\n",
    "optimizer = torch.optim.Adam(lstm.parameters(), lr=1e-2)"
   ]
  },
  {
   "cell_type": "code",
   "execution_count": 415,
   "metadata": {
    "scrolled": false
   },
   "outputs": [
    {
     "name": "stdout",
     "output_type": "stream",
     "text": [
      "0 0.00410097320813\n",
      "10 0.00238567652762\n",
      "20 0.00208885786625\n",
      "30 0.00198757237011\n",
      "40 0.00190304212827\n",
      "50 0.00193733459823\n",
      "60 0.00199093639325\n",
      "70 0.00189025864263\n",
      "80 0.00179251316435\n",
      "90 0.00192789669852\n",
      "100 0.00189876166984\n",
      "110 0.00200784298739\n",
      "120 0.00182594507721\n",
      "130 0.00185376005623\n",
      "140 0.00186396930482\n"
     ]
    }
   ],
   "source": [
    "for epoch in range(150):\n",
    "    losses = np.empty(shape=[trainX.shape[0]])\n",
    "    for i in range(trainX.shape[0]):\n",
    "        lstm.zero_grad()\n",
    "        hidden = (Variable(torch.randn(1, 1, 1) * 0.1),\n",
    "              Variable(torch.randn(1, 1, 1) * 0.1))\n",
    "        inputs = Variable(torch.from_numpy(trainX[i, 0, :])).view(-1, 1, 1)\n",
    "        out, hidden = lstm(inputs, hidden)\n",
    "        y = Variable(torch.from_numpy(trainY[i:i+1]), requires_grad=False)\n",
    "        y_ = out[-1].view(-1)\n",
    "#         y_ = Variable(torch.from_numpy(trainX[i, :, -1]), requires_grad=False).view(-1)\n",
    "        \n",
    "        loss = torch.nn.functional.mse_loss(y_, y)\n",
    "        losses[i] = loss.data[0]\n",
    "        loss.backward()\n",
    "        optimizer.step()\n",
    "    if epoch % 10 == 0:\n",
    "        print(epoch, np.mean(losses))"
   ]
  },
  {
   "cell_type": "markdown",
   "metadata": {},
   "source": [
    "#### Feedback (опционально)"
   ]
  },
  {
   "cell_type": "markdown",
   "metadata": {},
   "source": [
    "Здесь вы можете оставить список опечаток из лекции или семинара:"
   ]
  },
  {
   "cell_type": "raw",
   "metadata": {},
   "source": []
  },
  {
   "cell_type": "markdown",
   "metadata": {},
   "source": [
    "Здесь вы можете оставить комментарии по лекции или семинару:"
   ]
  },
  {
   "cell_type": "raw",
   "metadata": {},
   "source": []
  }
 ],
 "metadata": {
  "kernelspec": {
   "display_name": "Python 3",
   "language": "python",
   "name": "python3"
  },
  "language_info": {
   "codemirror_mode": {
    "name": "ipython",
    "version": 3
   },
   "file_extension": ".py",
   "mimetype": "text/x-python",
   "name": "python",
   "nbconvert_exporter": "python",
   "pygments_lexer": "ipython3",
   "version": "3.5.2"
  },
  "latex_envs": {
   "bibliofile": "biblio.bib",
   "cite_by": "apalike",
   "current_citInitial": 1,
   "eqLabelWithNumbers": true,
   "eqNumInitial": 0
  }
 },
 "nbformat": 4,
 "nbformat_minor": 1
}
