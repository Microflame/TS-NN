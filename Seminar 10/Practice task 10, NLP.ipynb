{
 "cells": [
  {
   "cell_type": "markdown",
   "metadata": {},
   "source": [
    "## Семинар 10: \"Генерация текстов\""
   ]
  },
  {
   "cell_type": "markdown",
   "metadata": {},
   "source": [
    "ФИО:"
   ]
  },
  {
   "cell_type": "code",
   "execution_count": 47,
   "metadata": {
    "collapsed": true
   },
   "outputs": [],
   "source": [
    "import numpy as np\n",
    "import re\n",
    "from torch import nn\n",
    "from torch.autograd import Variable\n",
    "import matplotlib.pyplot as plt\n",
    "import torch\n",
    "from torch.utils.data import Dataset, DataLoader\n",
    "import sys\n",
    "%matplotlib inline"
   ]
  },
  {
   "cell_type": "markdown",
   "metadata": {},
   "source": [
    "Этот семинар посвящен чат-ботам. Вам предстоит реализовать модель, генерирующую определенные тексты. В качестве текстов можно взять сборник цитат умных людей, предсказаний и т.д. На семинаре мы используем данные https://github.com/alvations/Quotables/blob/master/author-quote.txt\n",
    "\n",
    "При реализации задания вы можете пользоваться кодом из этого примера: <a href=https://github.com/spro/practical-pytorch/blob/master/char-rnn-generation/char-rnn-generation.ipynb>Generating Shakespeare with a Character-Level RNN</a>"
   ]
  },
  {
   "cell_type": "markdown",
   "metadata": {},
   "source": [
    "### Часть 1: подготовка данных"
   ]
  },
  {
   "cell_type": "markdown",
   "metadata": {},
   "source": [
    "Реализуйте датасет для дальнейшего обучения (будем использовать batch size=1)"
   ]
  },
  {
   "cell_type": "code",
   "execution_count": 48,
   "metadata": {},
   "outputs": [
    {
     "name": "stdout",
     "output_type": "stream",
     "text": [
      "A. A. Milne\tIf you live to be a hundred, I want to live to be a hundred minus one day so I never have to live without you.\r\n",
      "A. A. Milne\tPromise me you'll always remember: You're braver than you believe, and stronger than you seem, and smarter than you think.\r\n"
     ]
    }
   ],
   "source": [
    "!head -n 2 author-quote.txt"
   ]
  },
  {
   "cell_type": "code",
   "execution_count": 49,
   "metadata": {
    "collapsed": true
   },
   "outputs": [],
   "source": [
    "lines = [x.split('\\t')[1].strip() for x in open('author-quote.txt').readlines()]"
   ]
  },
  {
   "cell_type": "code",
   "execution_count": 50,
   "metadata": {
    "collapsed": true
   },
   "outputs": [],
   "source": [
    "m = map(len, lines)"
   ]
  },
  {
   "cell_type": "code",
   "execution_count": 51,
   "metadata": {},
   "outputs": [
    {
     "data": {
      "image/png": "[encoded data removed]",
      "text/plain": [
       "<matplotlib.figure.Figure at 0x7f4339004898>"
      ]
     },
     "metadata": {},
     "output_type": "display_data"
    }
   ],
   "source": [
    "plt.hist(list(map(len, lines)), bins=100);"
   ]
  },
  {
   "cell_type": "code",
   "execution_count": 52,
   "metadata": {
    "collapsed": true
   },
   "outputs": [],
   "source": [
    "line = lines[0]"
   ]
  },
  {
   "cell_type": "code",
   "execution_count": 53,
   "metadata": {},
   "outputs": [
    {
     "data": {
      "text/plain": [
       "'If you live to be a hundred, I want to live to be a hundred minus one day so I never have to live without you.'"
      ]
     },
     "execution_count": 53,
     "metadata": {},
     "output_type": "execute_result"
    }
   ],
   "source": [
    "line"
   ]
  },
  {
   "cell_type": "code",
   "execution_count": 54,
   "metadata": {
    "collapsed": true
   },
   "outputs": [],
   "source": [
    "lines = list(filter(lambda x: len(x) <= 50, lines))"
   ]
  },
  {
   "cell_type": "code",
   "execution_count": 55,
   "metadata": {
    "collapsed": true
   },
   "outputs": [],
   "source": [
    "class Vocabulary:\n",
    "    def __init__(self, sentences):\n",
    "        all_characters = set()\n",
    "        for line in sentences:\n",
    "            all_characters |= set(line)\n",
    "        all_characters = list(all_characters)+['<eos>', '<go>']\n",
    "        self.char_to_id = {x[1]:x[0] for x in enumerate(all_characters)}\n",
    "        self.id_to_char = {x[0]:x[1] for x in enumerate(all_characters)}\n",
    "        self.size = len(all_characters)\n",
    "\n",
    "    def encode(self, line):\n",
    "        return np.array([self.char_to_id[x] for x in line])\n",
    "    \n",
    "    def decode(self, tokens):\n",
    "        return ''.join([self.id_to_char[x] for x in tokens])"
   ]
  },
  {
   "cell_type": "code",
   "execution_count": 56,
   "metadata": {
    "collapsed": true
   },
   "outputs": [],
   "source": [
    "vocab = Vocabulary(lines)"
   ]
  },
  {
   "cell_type": "code",
   "execution_count": 57,
   "metadata": {
    "collapsed": true
   },
   "outputs": [],
   "source": [
    "assert vocab.decode(vocab.encode(lines[0])) == lines[0]"
   ]
  },
  {
   "cell_type": "code",
   "execution_count": 58,
   "metadata": {
    "collapsed": true
   },
   "outputs": [],
   "source": [
    "class Quotes(Dataset):\n",
    "    def __init__(self, sentences, vocab):\n",
    "        # Construct vocabulary + EOS & GO tokens\n",
    "        self.sentences = sentences\n",
    "        self.vocab = vocab\n",
    "        \n",
    "    def __len__(self):\n",
    "        return len(self.sentences)\n",
    "        \n",
    "    def __getitem__(self, idx):\n",
    "        input = self.vocab.encode(['<go>'] + list(self.sentences[idx]))\n",
    "        output = self.vocab.encode(list(self.sentences[idx])+['<eos>'])\n",
    "        return input, output"
   ]
  },
  {
   "cell_type": "code",
   "execution_count": 59,
   "metadata": {
    "collapsed": true
   },
   "outputs": [],
   "source": [
    "dataset = Quotes(lines, vocab)"
   ]
  },
  {
   "cell_type": "code",
   "execution_count": 60,
   "metadata": {
    "collapsed": true
   },
   "outputs": [],
   "source": [
    "dataloader = DataLoader(dataset, shuffle=True)"
   ]
  },
  {
   "cell_type": "markdown",
   "metadata": {},
   "source": [
    "### Часть 2: определение модели"
   ]
  },
  {
   "cell_type": "code",
   "execution_count": 71,
   "metadata": {
    "collapsed": true
   },
   "outputs": [],
   "source": [
    "class Oracle(nn.Module):\n",
    "    def __init__(self, vocabulary_size, embedding_size=128, hidden_size=256, layers=2):\n",
    "        super(Oracle, self).__init__()\n",
    "        self.embedding_size = embedding_size\n",
    "        self.layers = layers\n",
    "        self.hidden_size = hidden_size\n",
    "        self.embedding = nn.Embedding(vocabulary_size, embedding_size)\n",
    "        self.generator = nn.GRU(embedding_size, hidden_size, layers, batch_first=True)\n",
    "        self.classifier = nn.Linear(hidden_size, vocabulary_size)\n",
    "    \n",
    "    def forward(self, input):\n",
    "        embedding = self.embedding(input)\n",
    "        h = Variable(torch.Tensor(self.layers, 1, self.hidden_size).normal_().cuda(), requires_grad=False)*0\n",
    "        output, _ = self.generator(embedding, (h))\n",
    "        classes = self.classifier(output[0])\n",
    "        return classes\n",
    "    \n",
    "    def generate(self, vocab, max_len=100, T=1.0):\n",
    "        h = Variable(torch.Tensor(self.layers, 1, self.hidden_size).normal_().cuda(), requires_grad=False)*0\n",
    "        current_token = '<go>'\n",
    "        line = ''\n",
    "        while (current_token != '<eos>') and len(line) < max_len:\n",
    "            token = torch.Tensor([[vocab.char_to_id[current_token]]]).long().cuda()\n",
    "            token_id = Variable(token, volatile=True)\n",
    "            embedding = self.embedding(token_id)\n",
    "            output, (h) = self.generator(embedding, (h))\n",
    "            classes = self.classifier(output[0])\n",
    "#             new_token_id = np.argmax(classes.data.cpu().numpy())\n",
    "            probs = classes.data.cpu().numpy().reshape(-1)\n",
    "            probs = np.exp(probs / T - np.max(probs / T)) / np.sum(np.exp(probs / T - np.max(probs / T)))\n",
    "            new_token_id = np.random.choice(probs.shape[0], size=1, p=probs)[0]\n",
    "            current_token = vocab.id_to_char[new_token_id]\n",
    "            line = line + current_token\n",
    "        return line"
   ]
  },
  {
   "cell_type": "code",
   "execution_count": 72,
   "metadata": {},
   "outputs": [],
   "source": [
    "oracle = Oracle(vocab.size, embedding_size=32, hidden_size=64, layers=2).cuda()"
   ]
  },
  {
   "cell_type": "markdown",
   "metadata": {},
   "source": [
    "### Часть 3: обучение модели"
   ]
  },
  {
   "cell_type": "code",
   "execution_count": 73,
   "metadata": {
    "collapsed": true
   },
   "outputs": [],
   "source": [
    "optimizer = torch.optim.Adam(oracle.parameters(), lr=0.01)"
   ]
  },
  {
   "cell_type": "code",
   "execution_count": 74,
   "metadata": {
    "collapsed": true
   },
   "outputs": [],
   "source": [
    "criterion = nn.CrossEntropyLoss()"
   ]
  },
  {
   "cell_type": "code",
   "execution_count": 75,
   "metadata": {
    "collapsed": true
   },
   "outputs": [],
   "source": [
    "losses = []"
   ]
  },
  {
   "cell_type": "code",
   "execution_count": 76,
   "metadata": {
    "scrolled": true
   },
   "outputs": [
    {
     "name": "stdout",
     "output_type": "stream",
     "text": [
      "0 / 1000: 4.2887396812438965 lFaioenh xttyaeeeaate.rtaueft?aeexr..tr<go>-tfBxeee..tvvr-uee.'ertuaaerr$8CDfeB.aK6Wt6I-.kieaYeeefut\n",
      "0 / 1000: 4.15047550201416 .r6Beyueee.u.e....'mn-e  aa s e aeaeead eaaeae es aaeee.e. enyeese  aeaae eeaea emdeaaue .ea eueaes \n",
      "0 / 1000: 3.757392406463623 e aeaaa eaea   aaaaeeaea eaa aaee ea a anaaaae   aaaaeeae ea aae aaaea a  aeaea  aae aaaae e a aaeaa\n",
      "0 / 1000: 3.3503518104553223 d     e        e   e      e      e  e                          e        e    e e      e      e   n  \n",
      "0 / 1000: 3.155200719833374 o                                                                                                   \n",
      "0 / 1000: 3.073493242263794                                                                                                     \n",
      "0 / 1000: 3.3842451572418213                  e    t           e              e                       e                e         \n",
      "0 / 1000: 3.307743549346924  e    e e e  e              e  e  e      e  e     e  e e    e      ee             e    e   e    ee  \n",
      "0 / 1000: 2.8996710777282715  e e   e  e  e  e e ae e  e e e   e   e  ae e     e e     e  t e     e   e  e      e   ee     e e   \n",
      "0 / 1000: 3.0388760566711426  e  e e ae e  e  e e e  e n   e a  e e    e  e  e e  e e e  e  e  e     e  e e  e e   e  e e    e e \n",
      "0 / 1000: 2.930544376373291  a  e e e e e e e e  a e e e a e    e e e e i e e e  a e e  e e  e    e e e a  e  a  a  e e e e e  e\n",
      "0 / 1000: 2.94962739944458  e a ae     a e  a e e a a   ai e a e e  e e    e e  a a    e e  a e  e i e   e       e  ae a e   e \n",
      "0 / 1000: 3.052809715270996  a e ae  aae i   aae  a e  e  a a e     t e    e t e  e  ae e ae e  i  ae e i   e i   e e e  a e i e\n",
      "0 / 1000: 2.8850982189178467  e e  e e e e i at t e  e ie o e  at t e e ie e t e  e e e i t e e t e e e   e t i e t e t e i e e i\n",
      "0 / 1000: 2.9414069652557373  e e t e e o  e e e e  e t t e e t e e e e to t e e e e e e t e t  e t e e e e e e e e e ee te e ie \n",
      "0 / 1000: 2.777578353881836  e e e te e e e e e e e to e e e e e e e t e e e e e t e e ee e e e e e e e e e e te e e e e e te e \n",
      "0 / 1000: 3.079091787338257  e e e e e e e e e e e e e e e ae e e e e e e e e e e e ae e e e e e e e e e e e e e e e e e e ae e \n",
      "0 / 1000: 2.8130571842193604  e e e e e e e e ee e e e e e e e e e e e e e e te e e e e e e e e e e e e e e e e e ae e e e e e ae\n",
      "0 / 1000: 2.8633670806884766 I an as ain e an an e e ae an e ee ae e e e e e e ae ae e e ae e e ae ae ae e ae ae e e ae e e a e a\n",
      "0 / 1000: 2.923931837081909 I aae ee an ae ae an ae ae ae ae ae ae ae ae ae an ae e at an ae an e an an an e ae an e ae an e ae \n",
      "0 / 1000: 2.901768922805786  ae on ee an ee ae in ae an ee ee as ae ae ae e ae ae in aan ae an ae a ae ae as ae ae ee ae ae an e\n",
      "0 / 1000: 2.538942337036133  an an ie ae an ee ae is ae ae ae ae ae in ae an an an an is ee ae an ae an in an at ee in an ae ae \n",
      "0 / 1000: 2.73404860496521 I ae ee ae an an at an an an as ae ae ain ae as an an are is an an at an an an ee an it an at an an \n",
      "0 / 1000: 2.641127109527588 I an an an an an an an an an at an an an in at an an an te an in in an ee tan is an an an in as se i\n",
      "0 / 1000: 3.486689567565918 I an an it in an an an tot in is an tot an an at ie at tot an at at it as in in at at ton at an is i\n",
      "0 / 1000: 2.7060492038726807 I on tot te tot in in tot tot in in an tot tot an in tot to at on tos tot tot tan it an tot to an an\n",
      "0 / 1000: 2.5706803798675537 I an in ton an on on tot at tot tot at tan an tot an tot in an in an tot an on ton tot tot an tot no\n",
      "0 / 1000: 2.6124439239501953 I an an tot ee an an tan an on an on ee an ee on an ton te ton te in tot ton ton on tot in in tot in\n",
      "0 / 1000: 3.0770418643951416 I an an an an an an on an an an an an in on an on ee at ee tee an on te an on an tot an an on ee an \n",
      "1 / 1000: 2.6673104763031006 I eee in an an an ee an ee are an an an an an ee an an an an an on an an in tan an an an an an ee an\n",
      "1 / 1000: 2.4395973682403564 I an an an an an an an an in an an an an te an an an an an ar an an an an an ee an an an an an an in\n",
      "1 / 1000: 2.7467238903045654 I an an an an an an an an an in an an an an an an an an is an an an ar an tan an an an an an an an a\n",
      "1 / 1000: 2.544567823410034 I an an an an an at an an in an an an tan an an an an an an an an an an an an an an an in an an an a\n",
      "1 / 1000: 2.475247859954834 I an an an an an an an an an an an an an an an an an an an an an an an on an an in an an tan an in a\n",
      "1 / 1000: 2.505117177963257 I an an an an an an an on an an an an an an in an an an is in an to on an an an an at an an o an an \n",
      "1 / 1000: 2.5036814212799072 I an an an an an on to an an on an an an an an are on an an to on on on ton on an on an an ton on on\n",
      "1 / 1000: 2.583979606628418 I an ee an on to on an on an an an on on an on on an an on an on ton on an an on an on tor an on on \n",
      "1 / 1000: 2.4774491786956787 I an an ton at to to to to tor ton on to to to ton tot on an an on on an ton tot tor on ton tor tot \n",
      "1 / 1000: 2.4115521907806396 I an a to to to tot an an an tor an an ton an an an an tor to tot on tot an ton or tor on tor tor to\n",
      "1 / 1000: 2.3221185207366943 I an an an to to to to tan an tor an an on to to tor an tan an an an on ton tor tor tor an are tor t\n",
      "1 / 1000: 2.492119073867798 I an an an an an an on an an an an an an an an an an an an an an an tor an an an an an tor an an an \n",
      "1 / 1000: 2.978205442428589 I an an an an an an an an an an an on an an an an are to to to to ton an an an tan an are tot an an \n",
      "1 / 1000: 2.3106510639190674 I an an an an an an an an an tan an an an an an an an tan an an an an an an an an an an an tor tan t\n",
      "1 / 1000: 2.544241189956665 I me an an an an an an an an an an an an an an an tor an an an an tor an an an an an an to to to tor\n",
      "1 / 1000: 2.562077760696411 I an an an an an to to to tor an are an an an an an an are an an tor an an are an an an an tor an an\n",
      "1 / 1000: 2.379730463027954 I me an ar an are an an an are an an an are tor are to to tor are an an an an are an are an.<eos>\n",
      "1 / 1000: 2.315002202987671 I me an a to to to to to to to to to to to to to to to to to to to tor on an.<eos>\n",
      "1 / 1000: 2.6828203201293945 I me to to to to to to to to to to to to to to to to to to to to to on on to son on an an.<eos>\n",
      "1 / 1000: 2.4216952323913574 I mon a to to to to to to to to to to to to to to to to to to to to to to to to to to to to to to to\n",
      "1 / 1000: 2.3845746517181396 I me an to to to to to to to to to to to to to to to to to to to to to to to to to to to to to to to\n",
      "1 / 1000: 2.3243305683135986 I me an an a to to to to to to to the in to on on.<eos>\n",
      "1 / 1000: 2.515596866607666 I dan a to to to to an an a to to to to to to to to to to to to the are to to to the an.<eos>\n",
      "1 / 1000: 2.039655923843384 I me an are a to to to to to to to are are are are are are are to to to to to to to to to to to are \n",
      "1 / 1000: 2.2154879570007324 I mere an a to to to to to to to to to to to to to the to to to to to to on.<eos>\n",
      "1 / 1000: 2.5967965126037598 I mere to to to to to the to to the to to the to to to to to the to the tor.<eos>\n",
      "1 / 1000: 2.659024715423584 I me to to the to to to the to to the to the on.<eos>\n",
      "1 / 1000: 2.596794605255127 I me to to to to to to to the to to to to to to on on to to the on.<eos>\n",
      "1 / 1000: 2.2236955165863037 I mere a to to to to to to to to to to to to to to the on an on.<eos>\n",
      "2 / 1000: 2.275797128677368 I mere an a to to to to to to to to on ar on on an to to to to thing.<eos>\n",
      "2 / 1000: 2.3808305263519287 I wo to to to to to in to to to to to to to to to to to to to to to to to to in.<eos>\n",
      "2 / 1000: 2.3647031784057617 I lan a to to to to to to to to to to to to to to the to tor.<eos>\n",
      "2 / 1000: 2.408794641494751 I man a to to to to to to to to are are are are to to to to to to to the to to to to to the to to to\n",
      "2 / 1000: 1.8537871837615967 I me to to to to the to the to to the the to the to to the to the to to the to to to the.<eos>\n",
      "2 / 1000: 2.9380035400390625 I me to to to the the to the to the the to the the to to the the are.<eos>\n",
      "2 / 1000: 2.1078784465789795 I me an a to the to to the a the the an are are the to the the to the the the are.<eos>\n",
      "2 / 1000: 2.585515260696411 I me an a to to the to the the to to the the the the to to to the the the to the the the the the on.\n"
     ]
    },
    {
     "name": "stdout",
     "output_type": "stream",
     "text": [
      "2 / 1000: 2.273136854171753 I mean a to to to to to to the are are are.<eos>\n",
      "2 / 1000: 2.08303165435791 I man a to to the to in to in to to the the on in to to on.<eos>\n",
      "2 / 1000: 2.3417248725891113 I meat a to to to the the to to to to to the to to to the to the to the to to to to to to the to the\n",
      "2 / 1000: 2.2350893020629883 I mean a to to to to to the the to the the to the to the to the the to the to to to the to the.<eos>\n",
      "2 / 1000: 2.3612091541290283 I man a the to to the to to the to to the the the to the to the.<eos>\n",
      "2 / 1000: 1.9488457441329956 I won the to to the to the the the the are in the the to the to the the to the.<eos>\n",
      "2 / 1000: 2.0677175521850586 I man a to the to the to the to the to the the to the to the the the the the to the the the the.<eos>\n",
      "2 / 1000: 2.1589102745056152 I mere a to the to the to to the to the the to the the on.<eos>\n",
      "2 / 1000: 2.068168878555298 I don a the to the a to the a to the are are are.<eos>\n",
      "2 / 1000: 1.9708341360092163 I don to the to the the the to the to the to the are.<eos>\n",
      "2 / 1000: 2.2958486080169678 I don a the the a to to the the the to to the the to the the the the to the the are.<eos>\n",
      "2 / 1000: 1.7478556632995605 I don the to the to the to the the the the the to the the in the the are.<eos>\n",
      "2 / 1000: 2.6451122760772705 I don a the to to the the to the the the the the the the man.<eos>\n",
      "2 / 1000: 2.067493438720703 I don a the to the to the the the the the the the the the the the the the the the the to the the the\n",
      "2 / 1000: 1.9483132362365723 I don the the the the to the the an an the the the the the the the the the the the to the the the th\n",
      "2 / 1000: 2.0759365558624268 I don the the the are an an a the the to the the the the the the the to the.<eos>\n",
      "2 / 1000: 2.2995526790618896 I a a the to to the a the to the the the the the the the the the the the the the the the the the the\n",
      "2 / 1000: 2.5004920959472656 I do to the to the are a to the the the the the the the the the the the the the the the the to the t\n",
      "2 / 1000: 2.2666187286376953 I lon a the the to the the to the the the the the the the the an a the the to the the the to the the\n",
      "2 / 1000: 2.167562961578369 I don a the the to the the the the the to the the an a the the to the to the the the the the the.<eos>\n",
      "2 / 1000: 2.207136869430542 I man a the a the to the the the the the the the the to the the the the the the the the the the the \n",
      "3 / 1000: 2.1886167526245117 I love a a the the the a the to the wore an a to the the the to the mere.<eos>\n",
      "3 / 1000: 2.0014307498931885 I won't a to the the the to the the the the the the the the the to to the to to the the the the the \n",
      "3 / 1000: 1.2885383367538452 I don a the to the a to the the the the the the the the the the the the the the the the the the to w\n",
      "3 / 1000: 1.8537005186080933 I dond to the the the to the to the the the the the to the the the to the the the the for.<eos>\n",
      "3 / 1000: 2.160172700881958 I do the the the the the the the the the the the the the the the the the the the to the the the the \n",
      "3 / 1000: 1.9119584560394287 I do the the the to the the the the the the the the the the the the the the the the the the the the \n",
      "3 / 1000: 2.3564000129699707 I done and a the the the the the the to the the the the the the the the the the the the to to the to\n",
      "3 / 1000: 1.8008016347885132 I don a the the the the the the the the the the and a to the the the the the the the the the the and\n",
      "3 / 1000: 2.0049831867218018 I don a the the the the a the the the the the the the the the the the an a the the a the the sto the\n",
      "3 / 1000: 2.198716640472412 I dond a wan a the the the a the a wor the the the wore.<eos>\n",
      "3 / 1000: 2.0249271392822266 I don a the a the a the a the wore a the mere is a the a the the sout a the ming.<eos>\n",
      "3 / 1000: 2.200626850128174 I don a the a the the a the wores.<eos>\n",
      "3 / 1000: 2.45320725440979 I don the be a to a be a to the the the mere.<eos>\n",
      "3 / 1000: 2.012777328491211 I don't a the to the to the the be.<eos>\n",
      "3 / 1000: 2.4840259552001953 I love a to the to the the the the to to the the the the the the the to me.<eos>\n",
      "3 / 1000: 2.0899064540863037 I don a to the to a the to a to to a the to the to to a to the to the an the to the to the the the t\n",
      "3 / 1000: 2.1779274940490723 I don't a the a the to a the the a to the the an a to a the the a to a the to the the a to the to a \n",
      "3 / 1000: 1.71531343460083 I don't a a the a the a the the a the the and a the to the and the to a the the and a the to the the\n",
      "3 / 1000: 1.9811537265777588 I don't a the the the a a the the the the the the the the the and the the the and a the a and a the \n",
      "3 / 1000: 2.3491201400756836 I don the sout a the a to the the and a the the the the dond.<eos>\n",
      "3 / 1000: 1.908245325088501 I don the a the a a the a the to the and the the the and a the the and a sound.<eos>\n",
      "3 / 1000: 1.9398839473724365 I don the the a the the a wore a the a and the and the the and the the the the the the the and the s\n",
      "3 / 1000: 2.282947301864624 I wan the a the long a the the and the the the the the and and the the the the the the the me.<eos>\n",
      "3 / 1000: 2.442500352859497 I want a the and a the the the the the be.<eos>\n",
      "3 / 1000: 2.070003032684326 I don a the and the the and and the and and the and the and the and the me.<eos>\n",
      "3 / 1000: 1.6811820268630981 I wan the a the a to the the and a the to the and and and the and the and the the the the and and th\n",
      "3 / 1000: 2.0879297256469727 I wan a the the the a the the the the the and the the to for.<eos>\n",
      "3 / 1000: 2.0647122859954834 I don the the the the the the the the the the the the the the the the the the the the the the and th\n",
      "3 / 1000: 1.9308604001998901 I love a the the the to the the the the the the the the the the the the the the the the the the the \n",
      "4 / 1000: 1.8305310010910034 I don a the the the the the the the the the the the the the the the the the the the the the the the \n",
      "4 / 1000: 1.8320163488388062 I don a the the the the the the the the the the the the the the the the the the the the the the the \n",
      "4 / 1000: 2.105074882507324 I don a the the the the the the the the the the the the the the the the the the the the the the the \n",
      "4 / 1000: 2.101346254348755 I love the the the the the a the the the the the the the the the the the the the the the the the the\n",
      "4 / 1000: 1.8677608966827393 I love a the the the the the the the the the the the the the the the the the the the the the the the\n",
      "4 / 1000: 2.067575216293335 I love a to the the the the the the the the the the the the the the the the the the the the the the \n",
      "4 / 1000: 2.238149881362915 I don a to a be a the and a the be is the to the the the the the and a the the to the the the cond.<eos>\n",
      "4 / 1000: 1.9148144721984863 I and a strate a to a woren is a to the and a to the to the the to me a the the the the the man.<eos>\n",
      "4 / 1000: 2.2114923000335693 I don't a stor the and a the the a to the mant.<eos>\n",
      "4 / 1000: 1.6961302757263184 I want the like the beate a the be the and the the a the the the the sous.<eos>\n",
      "4 / 1000: 2.258791446685791 I don a deate a the a strate a the the the some.<eos>\n",
      "4 / 1000: 2.168590784072876 I don't a a the a sore a some.<eos>\n",
      "4 / 1000: 2.4576404094696045 I don't a don't a strange a sone.<eos>\n",
      "4 / 1000: 2.087446928024292 I love a the a store a the and a the and the best and a sond and the the and a sone.<eos>\n",
      "4 / 1000: 1.8019773960113525 I love a the the a the the a some a the the the the some.<eos>\n",
      "4 / 1000: 1.9137029647827148 I love a stor the the stor the bealler the best a the some.<eos>\n",
      "4 / 1000: 1.8724828958511353 I love a the the a sount the the the the and the and a the a to the the the the the and the the and \n",
      "4 / 1000: 2.2624082565307617 I love a the a the a to the and a the and a to the the the the and a the to the and a sount.<eos>\n",
      "4 / 1000: 2.2493581771850586 I don't a the a so the the the the cones.<eos>\n",
      "4 / 1000: 1.766069769859314 I love the the a the the a the the the the the the the the and the the the the the the the the the t\n",
      "4 / 1000: 1.9837814569473267 I love a the a the the best a the the the best and the the man.<eos>\n",
      "4 / 1000: 1.5785990953445435 I love a seate a so the the best the and a sount.<eos>\n",
      "4 / 1000: 1.5813274383544922 I love a the a so wored the the and and a sound.<eos>\n",
      "4 / 1000: 1.8115564584732056 I love a so the a so wored of a soul.<eos>\n"
     ]
    },
    {
     "name": "stdout",
     "output_type": "stream",
     "text": [
      "4 / 1000: 1.8813560009002686 I love a so the the wored is the so the some.<eos>\n",
      "4 / 1000: 1.578196406364441 I love a so the be the bealling the the man.<eos>\n",
      "4 / 1000: 1.9842604398727417 I love and a some and a some.<eos>\n",
      "4 / 1000: 1.9304285049438477 I love a some and a some the the the some.<eos>\n",
      "4 / 1000: 1.9734790325164795 I love the strang the the the be is the the the sour.<eos>\n",
      "5 / 1000: 1.9939031600952148 I love a some a sound is a sour and a sour man.<eos>\n",
      "5 / 1000: 1.6725691556930542 I love a the the the the the a the the the the be.<eos>\n",
      "5 / 1000: 1.5664786100387573 I love a the the the be the be a the be is a wor.<eos>\n",
      "5 / 1000: 1.836038589477539 I love a the the the the be is the the the the the be.<eos>\n",
      "5 / 1000: 1.2049875259399414 I love a the the be of a the the the the the more is the the the more.<eos>\n",
      "5 / 1000: 2.2746195793151855 I love a the the the the the be the the the the be.<eos>\n",
      "5 / 1000: 2.4214837551116943 I love a the the the the the the be is the the the the the be.<eos>\n",
      "5 / 1000: 2.1722676753997803 I love a the the the the the the the the the the the best the comes.<eos>\n",
      "5 / 1000: 1.7797682285308838 I love a the the the the best the the some.<eos>\n",
      "5 / 1000: 1.9777833223342896 I love a seed the the the the the the the the sear.<eos>\n",
      "5 / 1000: 1.6502712965011597 I love a see the beart is the the the man.<eos>\n",
      "5 / 1000: 1.7474026679992676 I love a see the the the the the the the the man.<eos>\n",
      "5 / 1000: 1.6928694248199463 I love a seed to be a sound the the more is and a like.<eos>\n",
      "5 / 1000: 1.9552236795425415 I love a sear a see the be is the and a seat.<eos>\n",
      "5 / 1000: 1.3708734512329102 I love a sore a sore a sount.<eos>\n",
      "5 / 1000: 1.9900941848754883 I love a sore to so be is the the the soul.<eos>\n",
      "5 / 1000: 1.6475307941436768 I like a sount the be is a stor the wor.<eos>\n",
      "5 / 1000: 2.6468544006347656 I want the strang the best wornge is the best.<eos>\n",
      "5 / 1000: 1.589219093322754 I love a like a some a some.<eos>\n",
      "5 / 1000: 2.531323194503784 I love a been a the been a the the been and and a soung.<eos>\n",
      "5 / 1000: 1.9703915119171143 I don't a beed a the a beate a cong.<eos>\n",
      "5 / 1000: 2.1172471046447754 I don't a be the good a the a stor the cong.<eos>\n",
      "5 / 1000: 1.6682699918746948 I don't a like a the the be is a the wored.<eos>\n",
      "5 / 1000: 1.7178215980529785 I love a sould is a the beally the the man.<eos>\n",
      "5 / 1000: 2.080618381500244 I don't a don't a don't a beally me.<eos>\n",
      "5 / 1000: 1.8641307353973389 I love a the the the beally me a the man.<eos>\n",
      "5 / 1000: 1.9209110736846924 I love a the the the a stor the man is the the the man.<eos>\n",
      "5 / 1000: 2.0210378170013428 I love a seate is a some is a strath.<eos>\n",
      "5 / 1000: 1.7776650190353394 I love a seate is a soung the soul.<eos>\n",
      "6 / 1000: 2.122342824935913 I love a seate is a sore the and and a seating.<eos>\n",
      "6 / 1000: 1.762416124343872 I love a sever to be a seart.<eos>\n",
      "6 / 1000: 1.825578212738037 I love a seate is the the be a sore and the string.<eos>\n",
      "6 / 1000: 1.6969982385635376 I love a strate a strate is and a star.<eos>\n",
      "6 / 1000: 2.1049461364746094 I love the a been a starter the been and a star.<eos>\n",
      "6 / 1000: 1.6390283107757568 I love a the a seate a love a can a man.<eos>\n",
      "6 / 1000: 1.6833900213241577 I love a the the beally the man the man.<eos>\n",
      "6 / 1000: 1.49927818775177 I love the be is the be is a be is the man the more.<eos>\n",
      "6 / 1000: 1.6435977220535278 I love the be is the be is the be in the for the be.<eos>\n",
      "6 / 1000: 2.0670034885406494 I love the be is an a love to be and a be.<eos>\n",
      "6 / 1000: 1.510452151298523 I love the and a beally the wored is a best the fan.<eos>\n",
      "6 / 1000: 1.934332013130188 I love is a some is a beally to be is a some.<eos>\n",
      "6 / 1000: 1.6870819330215454 I don't do the want the be is a some.<eos>\n",
      "6 / 1000: 1.5586638450622559 I don't do want the want the be is the want.<eos>\n",
      "6 / 1000: 1.616529941558838 I like the want the work the more is the more is the more.<eos>\n",
      "6 / 1000: 1.1783109903335571 I like the the work the work the work the wored.<eos>\n",
      "6 / 1000: 1.7955515384674072 I love the want the want the wored the wored the wored.<eos>\n",
      "6 / 1000: 1.7814340591430664 I love the the the the a sore the the wored.<eos>\n",
      "6 / 1000: 1.9092353582382202 I love a seate a seate a sould.<eos>\n",
      "6 / 1000: 2.0965182781219482 I love a see a strate to be a strate.<eos>\n",
      "6 / 1000: 1.5440195798873901 I love a be is the best the best a stor.<eos>\n",
      "6 / 1000: 2.186522960662842 I don't do be is a beally to be a beally the for is a be.<eos>\n",
      "6 / 1000: 1.871944785118103 I don't do the be is a beally the better is a beally a be.<eos>\n",
      "6 / 1000: 1.4595115184783936 I don't do the be is a beally the best the be.<eos>\n",
      "6 / 1000: 1.8118743896484375 I love to be a strate is an you man.<eos>\n",
      "6 / 1000: 1.8153624534606934 I love the beally the word the comes of a man.<eos>\n",
      "6 / 1000: 1.6335409879684448 I don't a sall to so man the man.<eos>\n",
      "6 / 1000: 1.7086495161056519 I love to a saent the saent the man.<eos>\n",
      "6 / 1000: 2.1585915088653564 I don't a love a soung to a saent.<eos>\n",
      "7 / 1000: 1.8401967287063599 I love a saent the best a saent of my man.<eos>\n",
      "7 / 1000: 1.4136167764663696 I love the saent the power is the man.<eos>\n",
      "7 / 1000: 1.4578957557678223 I love the man the prong of a sest the man.<eos>\n",
      "7 / 1000: 1.79351806640625 I love a sear the prong is the prong.<eos>\n",
      "7 / 1000: 1.3786262273788452 I love the prally the prove is the prong.<eos>\n",
      "7 / 1000: 1.4306535720825195 I love is a beally a pare is a sear.<eos>\n",
      "7 / 1000: 2.18691349029541 I love a seate a good and a the can a cand.<eos>\n",
      "7 / 1000: 1.7558168172836304 I love a love a like a beally to a seate.<eos>\n",
      "7 / 1000: 2.134622812271118 I love a love a straes a straes the wor.<eos>\n",
      "7 / 1000: 1.6572834253311157 I love a seed in a can the for the the fating.<eos>\n",
      "7 / 1000: 1.8124756813049316 I love the want the beally to be a strate.<eos>\n",
      "7 / 1000: 2.1571578979492188 I don't do want the beally the best the man.<eos>\n",
      "7 / 1000: 2.145484685897827 I have the beally the beally the a stror.<eos>\n",
      "7 / 1000: 1.6205614805221558 I don't a like the life the beally a chate.<eos>\n",
      "7 / 1000: 1.5185916423797607 I have a stree a can the word.<eos>\n",
      "7 / 1000: 1.681977391242981 I love a stree a power.<eos>\n",
      "7 / 1000: 1.8971819877624512 I don't a like a can the persed is the comes.<eos>\n",
      "7 / 1000: 1.7529335021972656 I love is a strong of a can the for is and a stror.<eos>\n",
      "7 / 1000: 1.6706463098526 I love a saent to be and and a sear.<eos>\n",
      "7 / 1000: 1.2846148014068604 I love to be a sear to be and a sear.<eos>\n",
      "7 / 1000: 1.8759571313858032 I love the sae is the poless to be the soul.<eos>\n",
      "7 / 1000: 1.9337406158447266 I love to be a love to be a sear.<eos>\n",
      "7 / 1000: 1.5400499105453491 I love the be in the preal to be a cand.<eos>\n",
      "7 / 1000: 1.5295871496200562 I love a can the preal the prest.<eos>\n",
      "7 / 1000: 1.719999074935913 I love a strange is the men a candal.<eos>\n",
      "7 / 1000: 1.5145416259765625 I don't a beally a beally a call the work.<eos>\n",
      "7 / 1000: 1.6227176189422607 I love a seate in a past in a come.<eos>\n",
      "7 / 1000: 2.049910068511963 I love a seate in a some.<eos>\n",
      "7 / 1000: 2.1734137535095215 I love to do work the beally to be and so man.<eos>\n",
      "8 / 1000: 1.7513585090637207 I love to be a bon't work to be a bood.<eos>\n",
      "8 / 1000: 1.6598215103149414 I don't do the want the beally the beally to be a bored.<eos>\n",
      "8 / 1000: 2.1700198650360107 I don't a like to do the was a the persent.<eos>\n",
      "8 / 1000: 1.5724420547485352 I don't a bead a beally a strange.<eos>\n",
      "8 / 1000: 1.8234988451004028 I like the beally a conesting of a more a consersent.<eos>\n",
      "8 / 1000: 1.4373044967651367 I love the can the be is a sear.<eos>\n",
      "8 / 1000: 1.7407212257385254 I love the sear the be in my strong of my some.<eos>\n",
      "8 / 1000: 1.8661761283874512 I don't be the be to be the beally the pole.<eos>\n",
      "8 / 1000: 1.3938868045806885 I don't a strortrond and the sould.<eos>\n",
      "8 / 1000: 1.8705639839172363 I don't a star is the work to be a strae.<eos>\n",
      "8 / 1000: 1.234168529510498 I was a star is the was to be a strae.<eos>\n",
      "8 / 1000: 1.6200231313705444 I was a stally a star is the with to a strae.<eos>\n",
      "8 / 1000: 2.0002214908599854 I want to be a beally to be a beally to be and an at a man.<eos>\n",
      "8 / 1000: 1.3280303478240967 I want to be a don't a start.<eos>\n"
     ]
    },
    {
     "name": "stdout",
     "output_type": "stream",
     "text": [
      "8 / 1000: 1.4446470737457275 I don't good to be and stality.<eos>\n",
      "8 / 1000: 1.8691178560256958 I don't great to be a cand in the the some.<eos>\n",
      "8 / 1000: 1.8433483839035034 I don't go the can the comes in my some.<eos>\n",
      "8 / 1000: 1.867987036705017 I love a chant the persess.<eos>\n",
      "8 / 1000: 1.559664011001587 I love the persed a chally a chally and a chart.<eos>\n",
      "8 / 1000: 1.9940154552459717 I love a part the persess.<eos>\n",
      "8 / 1000: 1.7058571577072144 I love a start is a strong and a stray.<eos>\n",
      "8 / 1000: 2.3788723945617676 I love to a straes a prest.<eos>\n",
      "8 / 1000: 1.8753117322921753 I love to be a strong to be a strong.<eos>\n",
      "8 / 1000: 1.6504613161087036 I love to be a booker to be a strolition.<eos>\n",
      "8 / 1000: 1.577694296836853 I love to be a sear to be a beally to be to be a book.<eos>\n",
      "8 / 1000: 1.9319360256195068 I love a salite in the be are a strong.<eos>\n",
      "8 / 1000: 1.9535231590270996 I love the be of a comes a comes.<eos>\n",
      "8 / 1000: 1.8964513540267944 I love the be in a can the best a cand.<eos>\n",
      "8 / 1000: 2.158851146697998 I love a seak the beally the beally the be.<eos>\n",
      "9 / 1000: 1.4807645082473755 I love is a sale in a life.<eos>\n",
      "9 / 1000: 1.853784441947937 I love the see in the saler is the soul.<eos>\n",
      "9 / 1000: 1.5159305334091187 I love to be a beally to be any the some.<eos>\n",
      "9 / 1000: 1.4298713207244873 I love to be a sear the be in the strong.<eos>\n",
      "9 / 1000: 1.821743369102478 I love to be any the polity is the polity.<eos>\n",
      "9 / 1000: 1.6406255960464478 I love a can the polition is a pare in the polition.<eos>\n",
      "9 / 1000: 1.8195466995239258 I love in a life is a seasing to be a strang.<eos>\n",
      "9 / 1000: 1.5256808996200562 I was a sent the was a pare is a be.<eos>\n",
      "9 / 1000: 1.7415130138397217 I was a be a can the was a dese.<eos>\n",
      "9 / 1000: 1.471312403678894 I was a like a pare to be a can.<eos>\n",
      "9 / 1000: 1.8018085956573486 I love the was a good a chally a canting.<eos>\n",
      "9 / 1000: 1.8104552030563354 I don't a deate a cating a callent.<eos>\n",
      "9 / 1000: 1.905221700668335 I don't a pating to be a caent.<eos>\n",
      "9 / 1000: 1.6703920364379883 I don't a part to be a cant.<eos>\n",
      "9 / 1000: 1.763508915901184 I don't do be a self a constal.<eos>\n",
      "9 / 1000: 1.8086340427398682 I love to be a be of my seed of me.<eos>\n",
      "9 / 1000: 1.5578038692474365 I don't be a love to be a beally the been the see.<eos>\n",
      "9 / 1000: 1.830550193786621 I love the been the been the been the been the be.<eos>\n",
      "9 / 1000: 2.0650086402893066 I love the was a breate a can the some.<eos>\n",
      "9 / 1000: 1.6203747987747192 I love the star is a start.<eos>\n",
      "9 / 1000: 1.4880294799804688 I love a star to be a can a can a chand.<eos>\n",
      "9 / 1000: 1.567765474319458 I was a past of a can and a strorting.<eos>\n",
      "9 / 1000: 1.5657821893692017 I love a pays a pays a start.<eos>\n",
      "9 / 1000: 1.5109707117080688 I love the be to be a beally to be a power.<eos>\n",
      "9 / 1000: 1.6875234842300415 I love to be a prove people.<eos>\n",
      "9 / 1000: 1.8901193141937256 I love the be to be the be to be the be.<eos>\n",
      "9 / 1000: 1.7458674907684326 I love the be to be the be to be the best the be.<eos>\n",
      "9 / 1000: 2.0884463787078857 I love the more the be the more the more me.<eos>\n",
      "9 / 1000: 1.4905154705047607 I love a seak the beally the me.<eos>\n",
      "10 / 1000: 1.704656958580017 I like the and and and and and and and and and and and and and and and and and and and and and and a\n",
      "10 / 1000: 1.4607939720153809 I like a and a can the fear.<eos>\n",
      "10 / 1000: 1.4315173625946045 I love a sear to be a coung of a coung of a can.<eos>\n",
      "10 / 1000: 1.676577091217041 I love a star to be a can the star.<eos>\n",
      "10 / 1000: 1.323360562324524 I love a strong to be a strong of all the strook.<eos>\n",
      "10 / 1000: 2.0533249378204346 I love a strong to be a cheart.<eos>\n",
      "10 / 1000: 1.8685743808746338 I love a past to be a past to be a people.<eos>\n",
      "10 / 1000: 1.5006498098373413 I don't a more a started the best a star.<eos>\n",
      "10 / 1000: 1.557429313659668 I love a seas to be a pay to be a boness.<eos>\n",
      "10 / 1000: 1.3254077434539795 I love a past of a more to be a pool.<eos>\n",
      "10 / 1000: 1.427773118019104 I love a sent in the soon the soon.<eos>\n",
      "10 / 1000: 1.616931676864624 I love a change to be a constion.<eos>\n",
      "10 / 1000: 1.4060263633728027 I love the see the prot the better.<eos>\n",
      "10 / 1000: 1.871437668800354 I love a chate a chart of my been the better.<eos>\n",
      "10 / 1000: 1.6030006408691406 I love a dead to be a cheart.<eos>\n",
      "10 / 1000: 1.4822674989700317 I love a coung and a good a chand.<eos>\n",
      "10 / 1000: 2.051870584487915 I love a can a comes and a comes.<eos>\n",
      "10 / 1000: 1.8926736116409302 I love to be a good a can the find.<eos>\n",
      "10 / 1000: 1.652869701385498 I love to be a comes and the beally.<eos>\n",
      "10 / 1000: 2.0743019580841064 I love to be an at a conest.<eos>\n",
      "10 / 1000: 1.7450275421142578 I love the be the be to be a bones.<eos>\n",
      "10 / 1000: 1.7567572593688965 I love to be a persenter and the past.<eos>\n",
      "10 / 1000: 1.6562597751617432 I love a canday to be a strong to be a bead.<eos>\n",
      "10 / 1000: 1.292975902557373 I love a sention is a strange.<eos>\n",
      "10 / 1000: 1.474340796470642 I love to be a bally a stality.<eos>\n",
      "10 / 1000: 2.035945415496826 I like the breate in a cantion.<eos>\n",
      "10 / 1000: 1.96860933303833 I like a cantion in my persent.<eos>\n",
      "10 / 1000: 1.5034912824630737 I like a cantion in the beaution the best a start.<eos>\n",
      "10 / 1000: 1.0841840505599976 I love a bally a bally a serent of a more.<eos>\n",
      "11 / 1000: 1.355096459388733 I like to be a pare a cand.<eos>\n",
      "11 / 1000: 1.641282320022583 I love to be a serent of the prover.<eos>\n",
      "11 / 1000: 1.5626834630966187 I don't a star to be a strange.<eos>\n",
      "11 / 1000: 1.686772346496582 I don't a strae to be a strae to be a star.<eos>\n",
      "11 / 1000: 1.997431993484497 I don't a star to be a stall of a strong.<eos>\n",
      "11 / 1000: 1.6816939115524292 I don't a stall of a cound.<eos>\n",
      "11 / 1000: 1.380220890045166 I love to be a stally a stally and a strong.<eos>\n",
      "11 / 1000: 2.2583084106445312 I love a see a best a strong.<eos>\n",
      "11 / 1000: 1.7631580829620361 I love the be of the be is the see the sang.<eos>\n",
      "11 / 1000: 1.5594761371612549 I like to be a bor to be a good a stressent.<eos>\n",
      "11 / 1000: 1.9637084007263184 I am a book a can the polity.<eos>\n",
      "11 / 1000: 1.519167423248291 I am a parent to be a bork.<eos>\n",
      "11 / 1000: 1.927288293838501 I like the bore a past the more to be a polition.<eos>\n",
      "11 / 1000: 1.427063226699829 I am a part of a like the short of a can.<eos>\n",
      "11 / 1000: 2.4079344272613525 I don't a start to be a start to be a start.<eos>\n",
      "11 / 1000: 1.1996616125106812 I don't and I like to be and and so me and and so man.<eos>\n",
      "11 / 1000: 2.072810649871826 I love to do a start of all the seed.<eos>\n",
      "11 / 1000: 1.733890175819397 I love to do to be a condent of a conest.<eos>\n",
      "11 / 1000: 1.5565643310546875 I love to be a can to be a conestion.<eos>\n",
      "11 / 1000: 1.2017415761947632 I was a conestion in a conestion.<eos>\n",
      "11 / 1000: 1.4874379634857178 I love to be a cant a can to be a can.<eos>\n",
      "11 / 1000: 1.3116763830184937 I love to be a cant of a conestion.<eos>\n",
      "11 / 1000: 1.4604634046554565 I love to do the find of the best a bality.<eos>\n",
      "11 / 1000: 2.0990095138549805 I was a stally to be a soness.<eos>\n",
      "11 / 1000: 1.7172380685806274 I love the start of a good start.<eos>\n",
      "11 / 1000: 1.924393653869629 I love to be and and I love the best and the best the best.<eos>\n",
      "11 / 1000: 1.8232342004776 I love the people to be and the best the be.<eos>\n",
      "11 / 1000: 1.6468044519424438 I love the with to be a good a stretter.<eos>\n",
      "11 / 1000: 2.025053024291992 I don't a love a condent of a man.<eos>\n",
      "12 / 1000: 1.8336933851242065 I don't a man to be a good a come.<eos>\n",
      "12 / 1000: 1.9139670133590698 I love a come is a seen a come.<eos>\n",
      "12 / 1000: 1.8899513483047485 I am a beally a can a come.<eos>\n",
      "12 / 1000: 1.8903100490570068 I don't all the things a cand.<eos>\n",
      "12 / 1000: 1.6573249101638794 I don't all the best a sentic to be a star.<eos>\n",
      "12 / 1000: 1.8221067190170288 I like the polity in the soul to be a strong.<eos>\n",
      "12 / 1000: 1.5017929077148438 I don't like the soul to be a senting.<eos>\n",
      "12 / 1000: 1.2110719680786133 I like a past a some in a strong.<eos>\n",
      "12 / 1000: 1.4262045621871948 I like a seas to do to do the see.<eos>\n",
      "12 / 1000: 1.8281599283218384 I don't a stality a seas.<eos>\n",
      "12 / 1000: 1.6356704235076904 I love to do make a seas.<eos>\n"
     ]
    },
    {
     "name": "stdout",
     "output_type": "stream",
     "text": [
      "12 / 1000: 1.7311291694641113 I love to do to do the best the more the more.<eos>\n",
      "12 / 1000: 1.517758846282959 I love to be a coung to who stay.<eos>\n",
      "12 / 1000: 2.0319712162017822 I love to be a conestion in a coung.<eos>\n",
      "12 / 1000: 1.2171744108200073 I love a can the pressent.<eos>\n",
      "12 / 1000: 1.7431262731552124 I like the pear the pressent.<eos>\n",
      "12 / 1000: 1.2554253339767456 I love to be a beat a compally.<eos>\n",
      "12 / 1000: 1.7810335159301758 I don't like the people to be a beauty.<eos>\n",
      "12 / 1000: 1.980692982673645 I don't do the beauty to be a beauty.<eos>\n",
      "12 / 1000: 1.7945061922073364 I don't like to be a start.<eos>\n",
      "12 / 1000: 1.6382277011871338 I don't a good a soul the polity.<eos>\n",
      "12 / 1000: 1.4255261421203613 I am a start of the soul to be a star.<eos>\n",
      "12 / 1000: 1.6910122632980347 I am a soul the work to be a start.<eos>\n",
      "12 / 1000: 1.469460129737854 I love to be a sex of the soul.<eos>\n",
      "12 / 1000: 1.2532283067703247 I don't be all to be a self.<eos>\n",
      "12 / 1000: 1.6160277128219604 I don't like to be a get a coung and a strong.<eos>\n",
      "12 / 1000: 2.3511600494384766 I don't a get a good a beauty.<eos>\n",
      "12 / 1000: 1.7686047554016113 I don't be a conest a can a confrom a sex.<eos>\n",
      "12 / 1000: 2.147455930709839 I love to be a condening a star.<eos>\n",
      "13 / 1000: 1.9567677974700928 I don't love a love a strong.<eos>\n",
      "13 / 1000: 1.4791865348815918 I love to be a comes a strong of a love.<eos>\n",
      "13 / 1000: 1.3557403087615967 I love a strong a strong of a lot of the best.<eos>\n",
      "13 / 1000: 1.7314825057983398 I love the see the be in the best the strong.<eos>\n",
      "13 / 1000: 1.913913369178772 I love the see fan to be a sention.<eos>\n",
      "13 / 1000: 2.3009371757507324 I love the some to be a coung.<eos>\n",
      "13 / 1000: 1.7605587244033813 I was a good to be a controuse.<eos>\n",
      "13 / 1000: 1.4499943256378174 I love to be a constrouse a canger of a could.<eos>\n",
      "13 / 1000: 1.7710902690887451 I was a break to be a controuse to be a controus.<eos>\n",
      "13 / 1000: 1.415242075920105 I love a condent of the beauty.<eos>\n",
      "13 / 1000: 1.4637540578842163 I love a beauty is a beauty.<eos>\n",
      "13 / 1000: 1.3844062089920044 I like a be a child only my soul to be a be.<eos>\n",
      "13 / 1000: 1.8147047758102417 I like and and I like a be of my being in a child.<eos>\n",
      "13 / 1000: 1.4665589332580566 I like a be of my life is a bood of myself.<eos>\n",
      "13 / 1000: 1.6889259815216064 I like a be in the best the best the strain.<eos>\n",
      "13 / 1000: 1.482945203781128 I like the be and a be in the straint the stration.<eos>\n",
      "13 / 1000: 1.2371937036514282 I want to be a book and a ball the seem.<eos>\n",
      "13 / 1000: 1.307661533355713 I like the be in the best the strain.<eos>\n",
      "13 / 1000: 1.3746342658996582 I was a bous a bould the seem.<eos>\n",
      "13 / 1000: 1.9518624544143677 I love the beaution of a more a seas.<eos>\n",
      "13 / 1000: 1.7330933809280396 I love the believe is a soul.<eos>\n",
      "13 / 1000: 1.1573117971420288 I am a beaute a start of a candanger.<eos>\n",
      "13 / 1000: 1.5454999208450317 I am a beauty a strong a conestiality.<eos>\n",
      "13 / 1000: 1.4026232957839966 I love to be a start to do the soung.<eos>\n",
      "13 / 1000: 2.253432273864746 I love the soung to be a strong to be a stratered.<eos>\n",
      "13 / 1000: 1.8835577964782715 I love to do the soung to be a start.<eos>\n",
      "13 / 1000: 1.507748007774353 I love to be a passion of a conessice.<eos>\n",
      "13 / 1000: 1.3702665567398071 I love a starrice a conest.<eos>\n",
      "13 / 1000: 1.6248024702072144 I don't like to be a condent of a condent.<eos>\n",
      "14 / 1000: 1.318356990814209 I am a but a starrice a condent.<eos>\n",
      "14 / 1000: 2.2431371212005615 I don't a good a cant of a condent.<eos>\n",
      "14 / 1000: 1.5498199462890625 I don't was a good a start of a more a star.<eos>\n",
      "14 / 1000: 1.4584599733352661 I don't have a sear a sear the best.<eos>\n",
      "14 / 1000: 1.6710690259933472 I am a seen a conden of a controction.<eos>\n",
      "14 / 1000: 1.8264023065567017 I am a star to be a star.<eos>\n",
      "14 / 1000: 1.2296411991119385 I am a strong of a strong.<eos>\n",
      "14 / 1000: 1.2580868005752563 I like a strong of a coung.<eos>\n",
      "14 / 1000: 1.3141624927520752 I am a start of the best a start.<eos>\n",
      "14 / 1000: 1.3620421886444092 I like a strong of the streence is a star.<eos>\n",
      "14 / 1000: 1.8037210702896118 I like to be a strong of the best a start.<eos>\n",
      "14 / 1000: 1.7251681089401245 I love to be a good a seed of the soul.<eos>\n",
      "14 / 1000: 2.0046756267547607 I like to be a good a see the soul.<eos>\n",
      "14 / 1000: 2.302720069885254 I like to do the sore to be a good the sore.<eos>\n",
      "14 / 1000: 1.8770672082901 I do a see the people to be a good and I like to be a see.<eos>\n",
      "14 / 1000: 1.422250747680664 I do a strain that I love that I am a star.<eos>\n",
      "14 / 1000: 1.5717016458511353 I do a start of the but in the poor that is a star.<eos>\n",
      "14 / 1000: 1.7342394590377808 I like a start of a condenicnate.<eos>\n",
      "14 / 1000: 1.7593293190002441 I was a strange of the best a strain.<eos>\n",
      "14 / 1000: 1.185644268989563 I was a be in a controctor.<eos>\n",
      "14 / 1000: 1.4666038751602173 I like to be a start of the best the short with the soul.<eos>\n",
      "14 / 1000: 1.4711754322052002 I was a soul to be a soul to be a soul.<eos>\n",
      "14 / 1000: 1.2885034084320068 I love to be a can the but of a more.<eos>\n",
      "14 / 1000: 1.9741363525390625 I am a good to be a soul to be a soul.<eos>\n",
      "14 / 1000: 1.6082911491394043 I am a good a cangers.<eos>\n",
      "14 / 1000: 1.63516366481781 I am a good a cangers a cangers.<eos>\n",
      "14 / 1000: 1.0860562324523926 I love the people the person to be a cands.<eos>\n",
      "14 / 1000: 1.3664381504058838 I was a parent to love a start.<eos>\n",
      "14 / 1000: 1.8434027433395386 I want to do to be a canthing to live.<eos>\n",
      "15 / 1000: 1.0634629726409912 I want to do to be a candanger.<eos>\n",
      "15 / 1000: 1.5994458198547363 I was a candanger to do to do to be a strange.<eos>\n",
      "15 / 1000: 1.4235700368881226 I don't always the strange to be a start.<eos>\n",
      "15 / 1000: 1.5812127590179443 I don't be a citer a start to be a book.<eos>\n",
      "15 / 1000: 1.7969235181808472 I love to be a believe to be a believe the best.<eos>\n",
      "15 / 1000: 1.6315321922302246 I love the best the best a beauty.<eos>\n",
      "15 / 1000: 1.9372384548187256 I love to be a beauty is the strain.<eos>\n",
      "15 / 1000: 1.5861101150512695 I love to be a call in a call.<eos>\n",
      "15 / 1000: 1.4000777006149292 I love to be a change a caility.<eos>\n",
      "15 / 1000: 1.7647677659988403 I love to do to do the soul to be a cail.<eos>\n",
      "15 / 1000: 1.896205186843872 I don't always the straint.<eos>\n",
      "15 / 1000: 1.5315535068511963 I don't want to do the sornal the filled.<eos>\n",
      "15 / 1000: 1.3650888204574585 I want to do the best the find of the best.<eos>\n",
      "15 / 1000: 1.455688714981079 I want the present the person.<eos>\n",
      "15 / 1000: 1.4144998788833618 I like the people the people an it the people.<eos>\n",
      "15 / 1000: 0.9438513517379761 I was a seed to be a give the big.<eos>\n",
      "15 / 1000: 2.0142383575439453 I love that the be it the big of my said.<eos>\n",
      "15 / 1000: 2.004657030105591 I love to be a bore a bores and a soul to be a book.<eos>\n",
      "15 / 1000: 1.810180902481079 I love to be a bored to be a book of the bores.<eos>\n",
      "15 / 1000: 1.4419279098510742 I have a bored to be a bored to be a bored.<eos>\n",
      "15 / 1000: 1.3014891147613525 I was a bics work the bored to be a bonder.<eos>\n",
      "15 / 1000: 1.162601113319397 I was a beding to be a strong in the soul.<eos>\n",
      "15 / 1000: 1.5200250148773193 I am a sentice a sentice.<eos>\n",
      "15 / 1000: 1.698046326637268 I do a start of a man the more in my saes.<eos>\n",
      "15 / 1000: 1.5079017877578735 I was a be in a start of a more of a man.<eos>\n",
      "15 / 1000: 1.4565728902816772 I love to be a start of all of all that I am.<eos>\n",
      "15 / 1000: 1.668086290359497 I like a start of a life.<eos>\n",
      "15 / 1000: 1.6936261653900146 I love a like the bright the but of life.<eos>\n",
      "15 / 1000: 1.9818392992019653 I don't like the best the best be a soul.<eos>\n",
      "16 / 1000: 1.444817304611206 I don't like the best for to be a good some sool.<eos>\n"
     ]
    },
    {
     "ename": "KeyboardInterrupt",
     "evalue": "",
     "output_type": "error",
     "traceback": [
      "\u001b[0;31m---------------------------------------------------------------------------\u001b[0m",
      "\u001b[0;31mKeyboardInterrupt\u001b[0m                         Traceback (most recent call last)",
      "\u001b[0;32m<ipython-input-76-d994b065eb24>\u001b[0m in \u001b[0;36m<module>\u001b[0;34m()\u001b[0m\n\u001b[1;32m      5\u001b[0m         \u001b[0mprediction\u001b[0m \u001b[0;34m=\u001b[0m \u001b[0moracle\u001b[0m\u001b[0;34m(\u001b[0m\u001b[0mbatch\u001b[0m\u001b[0;34m)\u001b[0m\u001b[0;34m\u001b[0m\u001b[0m\n\u001b[1;32m      6\u001b[0m         \u001b[0mloss\u001b[0m \u001b[0;34m=\u001b[0m \u001b[0mcriterion\u001b[0m\u001b[0;34m(\u001b[0m\u001b[0mprediction\u001b[0m\u001b[0;34m,\u001b[0m \u001b[0mtarget\u001b[0m\u001b[0;34m)\u001b[0m\u001b[0;34m\u001b[0m\u001b[0m\n\u001b[0;32m----> 7\u001b[0;31m         \u001b[0mloss\u001b[0m\u001b[0;34m.\u001b[0m\u001b[0mbackward\u001b[0m\u001b[0;34m(\u001b[0m\u001b[0;34m)\u001b[0m\u001b[0;34m\u001b[0m\u001b[0m\n\u001b[0m\u001b[1;32m      8\u001b[0m         \u001b[0;32mif\u001b[0m \u001b[0mi\u001b[0m \u001b[0;34m%\u001b[0m \u001b[0;36m128\u001b[0m \u001b[0;34m==\u001b[0m \u001b[0;36m0\u001b[0m\u001b[0;34m:\u001b[0m \u001b[0;31m# aka batch\u001b[0m\u001b[0;34m\u001b[0m\u001b[0m\n\u001b[1;32m      9\u001b[0m             \u001b[0moptimizer\u001b[0m\u001b[0;34m.\u001b[0m\u001b[0mstep\u001b[0m\u001b[0;34m(\u001b[0m\u001b[0;34m)\u001b[0m\u001b[0;34m\u001b[0m\u001b[0m\n",
      "\u001b[0;32m~/Documents/MachineLearning/mlenv/lib/python3.5/site-packages/torch/autograd/variable.py\u001b[0m in \u001b[0;36mbackward\u001b[0;34m(self, gradient, retain_graph, create_graph, retain_variables)\u001b[0m\n\u001b[1;32m    154\u001b[0m                 \u001b[0mVariable\u001b[0m\u001b[0;34m.\u001b[0m\u001b[0;34m\u001b[0m\u001b[0m\n\u001b[1;32m    155\u001b[0m         \"\"\"\n\u001b[0;32m--> 156\u001b[0;31m         \u001b[0mtorch\u001b[0m\u001b[0;34m.\u001b[0m\u001b[0mautograd\u001b[0m\u001b[0;34m.\u001b[0m\u001b[0mbackward\u001b[0m\u001b[0;34m(\u001b[0m\u001b[0mself\u001b[0m\u001b[0;34m,\u001b[0m \u001b[0mgradient\u001b[0m\u001b[0;34m,\u001b[0m \u001b[0mretain_graph\u001b[0m\u001b[0;34m,\u001b[0m \u001b[0mcreate_graph\u001b[0m\u001b[0;34m,\u001b[0m \u001b[0mretain_variables\u001b[0m\u001b[0;34m)\u001b[0m\u001b[0;34m\u001b[0m\u001b[0m\n\u001b[0m\u001b[1;32m    157\u001b[0m \u001b[0;34m\u001b[0m\u001b[0m\n\u001b[1;32m    158\u001b[0m     \u001b[0;32mdef\u001b[0m \u001b[0mregister_hook\u001b[0m\u001b[0;34m(\u001b[0m\u001b[0mself\u001b[0m\u001b[0;34m,\u001b[0m \u001b[0mhook\u001b[0m\u001b[0;34m)\u001b[0m\u001b[0;34m:\u001b[0m\u001b[0;34m\u001b[0m\u001b[0m\n",
      "\u001b[0;32m~/Documents/MachineLearning/mlenv/lib/python3.5/site-packages/torch/autograd/__init__.py\u001b[0m in \u001b[0;36mbackward\u001b[0;34m(variables, grad_variables, retain_graph, create_graph, retain_variables)\u001b[0m\n\u001b[1;32m     96\u001b[0m \u001b[0;34m\u001b[0m\u001b[0m\n\u001b[1;32m     97\u001b[0m     Variable._execution_engine.run_backward(\n\u001b[0;32m---> 98\u001b[0;31m         variables, grad_variables, retain_graph)\n\u001b[0m\u001b[1;32m     99\u001b[0m \u001b[0;34m\u001b[0m\u001b[0m\n\u001b[1;32m    100\u001b[0m \u001b[0;34m\u001b[0m\u001b[0m\n",
      "\u001b[0;31mKeyboardInterrupt\u001b[0m: "
     ]
    }
   ],
   "source": [
    "for epoch in range(1000):\n",
    "    for i, (batch, target) in enumerate(dataloader):\n",
    "        batch = Variable(batch).cuda()\n",
    "        target = Variable(target, requires_grad=False)[0].cuda()\n",
    "        prediction = oracle(batch)\n",
    "        loss = criterion(prediction, target)\n",
    "        loss.backward()\n",
    "        if i % 512 == 0: # aka batch\n",
    "            optimizer.step()\n",
    "            oracle.zero_grad()\n",
    "            losses.append(loss.data[0])\n",
    "            print('{} / {}:'.format(epoch, 1000), loss.data[0], oracle.generate(vocab, T=0.1))"
   ]
  },
  {
   "cell_type": "code",
   "execution_count": 95,
   "metadata": {},
   "outputs": [
    {
     "data": {
      "text/plain": [
       "'All the can is the sing for before.<eos>'"
      ]
     },
     "execution_count": 95,
     "metadata": {},
     "output_type": "execute_result"
    }
   ],
   "source": [
    "oracle.generate(vocab, T=0.5)"
   ]
  },
  {
   "cell_type": "markdown",
   "metadata": {},
   "source": [
    "### Часть 4: оценивание модели"
   ]
  },
  {
   "cell_type": "markdown",
   "metadata": {},
   "source": [
    "<i> Приведите примеры сгенерированных предложений </i>"
   ]
  },
  {
   "cell_type": "code",
   "execution_count": 90,
   "metadata": {},
   "outputs": [
    {
     "data": {
      "text/plain": [
       "[<matplotlib.lines.Line2D at 0x7fe64991bdd8>]"
      ]
     },
     "execution_count": 90,
     "metadata": {},
     "output_type": "execute_result"
    },
    {
     "data": {
      "image/png": "[encoded data removed]",
      "text/plain": [
       "<matplotlib.figure.Figure at 0x7fe6497b4be0>"
      ]
     },
     "metadata": {},
     "output_type": "display_data"
    }
   ],
   "source": [
    "plt.plot(losses)"
   ]
  },
  {
   "cell_type": "markdown",
   "metadata": {},
   "source": [
    "#### Feedback (опционально)"
   ]
  },
  {
   "cell_type": "markdown",
   "metadata": {},
   "source": [
    "Здесь вы можете оставить список опечаток из лекции или семинара:"
   ]
  },
  {
   "cell_type": "raw",
   "metadata": {},
   "source": []
  },
  {
   "cell_type": "markdown",
   "metadata": {},
   "source": [
    "Здесь вы можете оставить комментарии по лекции или семинару:"
   ]
  },
  {
   "cell_type": "raw",
   "metadata": {},
   "source": []
  }
 ],
 "metadata": {
  "kernelspec": {
   "display_name": "Python 3",
   "language": "python",
   "name": "python3"
  },
  "language_info": {
   "codemirror_mode": {
    "name": "ipython",
    "version": 3
   },
   "file_extension": ".py",
   "mimetype": "text/x-python",
   "name": "python",
   "nbconvert_exporter": "python",
   "pygments_lexer": "ipython3",
   "version": "3.5.2"
  },
  "latex_envs": {
   "bibliofile": "biblio.bib",
   "cite_by": "apalike",
   "current_citInitial": 1,
   "eqLabelWithNumbers": true,
   "eqNumInitial": 0
  }
 },
 "nbformat": 4,
 "nbformat_minor": 1
}
