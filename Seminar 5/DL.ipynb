{
 "cells": [
  {
   "cell_type": "markdown",
   "metadata": {},
   "source": [
    "## Семинар 5: \"Улучшение сходимости нейросетей\""
   ]
  },
  {
   "cell_type": "markdown",
   "metadata": {},
   "source": [
    "ФИО:"
   ]
  },
  {
   "cell_type": "code",
   "execution_count": 1,
   "metadata": {},
   "outputs": [
    {
     "name": "stderr",
     "output_type": "stream",
     "text": [
      "/usr/local/lib/python3.6/site-packages/sklearn/cross_validation.py:41: DeprecationWarning: This module was deprecated in version 0.18 in favor of the model_selection module into which all the refactored classes and functions are moved. Also note that the interface of the new CV iterators are different from that of this module. This module will be removed in 0.20.\n",
      "  \"This module will be removed in 0.20.\", DeprecationWarning)\n"
     ]
    }
   ],
   "source": [
    "import numpy as np\n",
    "from sklearn.datasets import fetch_mldata\n",
    "from sklearn.cross_validation import train_test_split\n",
    "import matplotlib.pyplot as plt\n",
    "import torch\n",
    "from torch import nn\n",
    "from torch.autograd import Variable\n",
    "from torch.utils.data import DataLoader\n",
    "from torchvision.datasets import MNIST\n",
    "from torchvision import transforms\n",
    "\n",
    "\n",
    "%matplotlib inline"
   ]
  },
  {
   "cell_type": "markdown",
   "metadata": {},
   "source": [
    "На этом семинаре мы попробуем улучшить результаты, полученные на предыдущем занятии\n",
    "Для этого нам понадобятся следующие вещи:\n",
    "* Dropout\n",
    "* Batch Normalization\n",
    "* Инициализация весов"
   ]
  },
  {
   "cell_type": "markdown",
   "metadata": {},
   "source": [
    "### Часть 1: Инициализация весов"
   ]
  },
  {
   "cell_type": "markdown",
   "metadata": {},
   "source": [
    "На лекции доказывалось, что при инициализации He и Glorot дисперсия активаций градиентов в каждом слое будут примерно равны. Давайте проверим это. "
   ]
  },
  {
   "cell_type": "code",
   "execution_count": 3,
   "metadata": {
    "collapsed": true
   },
   "outputs": [],
   "source": [
    "# Dataloader\n",
    "to_numpy = lambda x: x.numpy()\n",
    "transform = transforms.Compose([\n",
    "                       transforms.ToTensor(),\n",
    "                       transforms.Normalize((0.1307,), (0.3081,))\n",
    "                    ])\n",
    "train_dataset = MNIST('../data', train=True, download=False, transform=transform)\n",
    "test_dataset = MNIST('../data', train=False, download=False, transform=transform)\n",
    "\n",
    "train_loader = DataLoader(train_dataset, batch_size=32, shuffle=True)\n",
    "test_loader = DataLoader(test_dataset, batch_size=32, shuffle=True)"
   ]
  },
  {
   "cell_type": "code",
   "execution_count": 4,
   "metadata": {
    "collapsed": true
   },
   "outputs": [],
   "source": [
    "## Usage example:\n",
    "for X, y in train_loader:\n",
    "    X = X.view(X.size(0), -1)\n",
    "    X = X.numpy() ### Converts torch.Tensor to numpy array\n",
    "    y = y.numpy()\n",
    "    break"
   ]
  },
  {
   "cell_type": "code",
   "execution_count": 5,
   "metadata": {},
   "outputs": [
    {
     "data": {
      "image/png": "[encoded data removed]",
      "text/plain": [
       "<matplotlib.figure.Figure at 0x10a540cc0>"
      ]
     },
     "metadata": {},
     "output_type": "display_data"
    }
   ],
   "source": [
    "plt.figure(figsize=(6, 7))\n",
    "for i in range(25):\n",
    "    plt.subplot(5, 5, i+1)\n",
    "    plt.imshow(X[i].reshape(28, 28), cmap=plt.cm.Greys_r)\n",
    "    plt.title(y[i])\n",
    "    plt.axis('off')"
   ]
  },
  {
   "cell_type": "markdown",
   "metadata": {},
   "source": [
    "<i> 1.1 </i> Инициализируйте полносвязную сеть нормальным шумом N(0, 0.1) с архитектурой 784 -> 500 x (10 раз) -> 10. В качестве активации возьмите tanh"
   ]
  },
  {
   "cell_type": "code",
   "execution_count": 98,
   "metadata": {
    "collapsed": true
   },
   "outputs": [],
   "source": [
    "def init_layer(layer, mean=0.0, std=0.1):\n",
    "    # Тут надо быть аккуратным — можно случайно создать копию и менять значения у копии\n",
    "    weight = layer.state_dict()['weight']\n",
    "    bias = layer.state_dict()['bias']\n",
    "    bias.zero_()\n",
    "    weight.normal_(mean=mean, std=std)\n",
    "\n",
    "def forward_hook(self, input_, output):\n",
    "    std = input_[0].std().data[0]\n",
    "    print('forward', std)\n",
    "\n",
    "def backward_hook(self, grad_input, grad_output):\n",
    "    std = grad_input[0].std().data[0]\n",
    "    print('backward', std)\n",
    "\n",
    "    \n",
    "# пример:\n",
    "def get_layers(nl, ini):\n",
    "    h1 = nn.Linear(28*28, 500)\n",
    "    h1.register_forward_hook(forward_hook)\n",
    "    h1.register_backward_hook(backward_hook)\n",
    "    ini(h1)\n",
    "    h2 = nn.Linear(500, 10)\n",
    "    h2.register_forward_hook(forward_hook)\n",
    "    h2.register_backward_hook(backward_hook)\n",
    "    ini(h2)\n",
    "    \n",
    "    h_nl = [nl() for i in range(10)]\n",
    "    h_l = [nn.Linear(500, 500) for i in range(10)]\n",
    "    for h in h_l:\n",
    "        h.register_forward_hook(forward_hook)\n",
    "        h.register_backward_hook(backward_hook)\n",
    "        ini(h)\n",
    "    h_n = [(l, nl) for l, nl in zip(h_l, h_nl)]\n",
    "    h_n = [item for sublist in h_n for item in sublist]\n",
    "    \n",
    "    return nn.Sequential(h1, nl(), *h_n, h2)\n"
   ]
  },
  {
   "cell_type": "markdown",
   "metadata": {},
   "source": [
    "<i>1.2 Пропустите батч изображений через нейронную сеть и вычислите дисперсию активаций. Затем вычислите градиент и получите дисперсию градиентов. Сравните эти значения между собой для разных слоев.</i>"
   ]
  },
  {
   "cell_type": "code",
   "execution_count": 134,
   "metadata": {},
   "outputs": [
    {
     "name": "stdout",
     "output_type": "stream",
     "text": [
      "Tanh\n",
      "forward 0.9999999403953552\n",
      "forward 0.8466970324516296\n",
      "forward 0.7844488620758057\n",
      "forward 0.770916759967804\n",
      "forward 0.7651918530464172\n",
      "forward 0.7621558904647827\n",
      "forward 0.764372706413269\n",
      "forward 0.764044463634491\n",
      "forward 0.7646753191947937\n",
      "forward 0.7634903788566589\n",
      "forward 0.7646196484565735\n",
      "forward 0.7652658224105835\n",
      "backward 0.003001500852406025\n",
      "backward 0.0005391323356889188\n",
      "backward 0.0006570825935341418\n",
      "backward 0.0008009422454051673\n",
      "backward 0.000971737434156239\n",
      "backward 0.0011855032062157989\n",
      "backward 0.0014566790778189898\n",
      "backward 0.0017738742753863335\n",
      "backward 0.0021449693012982607\n",
      "backward 0.002569636097177863\n",
      "backward 0.003028351813554764\n",
      "backward 0.002975765848532319\n",
      "====================\n",
      "ReLU\n",
      "forward 0.9999999403953552\n",
      "forward 1.6085325479507446\n",
      "forward 2.568206548690796\n",
      "forward 4.18794059753418\n",
      "forward 6.532451629638672\n",
      "forward 10.467414855957031\n",
      "forward 15.769492149353027\n",
      "forward 24.04118537902832\n",
      "forward 37.05717849731445\n",
      "forward 58.6594123840332\n",
      "forward 90.78836059570312\n",
      "forward 137.2505645751953\n",
      "backward 0.003001500852406025\n",
      "backward 0.0007127053686417639\n",
      "backward 0.0010839171009138227\n",
      "backward 0.0016846214421093464\n",
      "backward 0.0026657897979021072\n",
      "backward 0.0042048245668411255\n",
      "backward 0.006687862332910299\n",
      "backward 0.010157845914363861\n",
      "backward 0.01611463911831379\n",
      "backward 0.025211552157998085\n",
      "backward 0.03990231081843376\n",
      "backward 0.06251112371683121\n"
     ]
    }
   ],
   "source": [
    "##### YOUR CODE HERE #####\n",
    "n_objects = 100\n",
    "X = Variable(train_dataset.train_data[:n_objects], requires_grad=False).view(n_objects, -1).float()\n",
    "y = Variable(train_dataset.train_labels[:n_objects], requires_grad=False)\n",
    "X -= X.mean()\n",
    "X /= X.std()\n",
    "print('Tanh')\n",
    "activations = get_layers(nn.Tanh, init_layer)(X)\n",
    "loss_fn = torch.nn.NLLLoss()\n",
    "optimizer = torch.optim.Adam(layers_tanh.parameters(), lr=0.001) \n",
    "loss = loss_fn(activations, y)\n",
    "loss.backward()\n",
    "print('=' * 20)\n",
    "print('ReLU')\n",
    "activations = get_layers(nn.ReLU, init_layer)(X)\n",
    "loss_fn = torch.nn.NLLLoss()\n",
    "optimizer = torch.optim.Adam(layers_relu.parameters(), lr=0.001) \n",
    "loss = loss_fn(activations, y)\n",
    "loss.backward()"
   ]
  },
  {
   "cell_type": "markdown",
   "metadata": {},
   "source": [
    "<i>1.3 Повторите эксперимент для инициализаций He и Xavier (формулы есть в лекции).</i>"
   ]
  },
  {
   "cell_type": "code",
   "execution_count": 138,
   "metadata": {
    "collapsed": true
   },
   "outputs": [],
   "source": [
    "##### YOUR CODE HERE #####\n",
    "def init_layer_Xavier(layer):\n",
    "    weight = layer.weight.data\n",
    "    bias = layer.state_dict()['bias']\n",
    "    bias.zero_()\n",
    "    n, n_next = weight.size()\n",
    "    span = np.sqrt(6.0 / (n + n_next))\n",
    "    weight.uniform_(-span, span)\n",
    "\n",
    "def init_layer_He(layer, mean=0, std=1):\n",
    "    weight = layer.weight.data\n",
    "    bias = layer.state_dict()['bias']\n",
    "    bias.zero_()\n",
    "    n, n_next = weight.size()\n",
    "    std = np.sqrt(2.0 / n_next)\n",
    "    weight.normal_(0, std)"
   ]
  },
  {
   "cell_type": "code",
   "execution_count": 140,
   "metadata": {},
   "outputs": [
    {
     "name": "stdout",
     "output_type": "stream",
     "text": [
      "Xavier @ Tanh\n",
      "forward 0.9999999403953552\n",
      "forward 0.6504268050193787\n",
      "forward 0.4935360848903656\n",
      "forward 0.41491150856018066\n",
      "forward 0.3633931577205658\n",
      "forward 0.32815638184547424\n",
      "forward 0.3046477735042572\n",
      "forward 0.2766125798225403\n",
      "forward 0.2561302185058594\n",
      "forward 0.24344931542873383\n",
      "forward 0.22868339717388153\n",
      "forward 0.21527162194252014\n",
      "backward 0.003001500852406025\n",
      "backward 0.000604793312959373\n",
      "backward 0.0005792404408566654\n",
      "backward 0.0005477545782923698\n",
      "backward 0.0005064128199592233\n",
      "backward 0.00048038651584647596\n",
      "backward 0.00044191244523972273\n",
      "backward 0.00039400800596922636\n",
      "backward 0.0003469786315690726\n",
      "backward 0.0002948962210211903\n",
      "backward 0.00023102789418771863\n",
      "backward 0.0001526943378848955\n",
      "====================\n",
      "He @ ReLU\n",
      "forward 0.9999999403953552\n",
      "forward 0.8425448536872864\n",
      "forward 0.838310956954956\n",
      "forward 0.8522908091545105\n",
      "forward 0.869313657283783\n",
      "forward 0.8905482292175293\n",
      "forward 0.8936737179756165\n",
      "forward 0.8871801495552063\n",
      "forward 0.8672576546669006\n",
      "forward 0.907284677028656\n",
      "forward 0.8723055720329285\n",
      "forward 0.9023467302322388\n",
      "backward 0.003001500852406025\n",
      "backward 0.0004486409015953541\n",
      "backward 0.0004602345870807767\n",
      "backward 0.00044970473391003907\n",
      "backward 0.0004478443006519228\n",
      "backward 0.0004493508895393461\n",
      "backward 0.00043659863877110183\n",
      "backward 0.0004326253547333181\n",
      "backward 0.00043814373202621937\n",
      "backward 0.00044711068039759994\n",
      "backward 0.00044948654249310493\n",
      "backward 0.0004601677064783871\n"
     ]
    }
   ],
   "source": [
    "n_objects = 100\n",
    "X = Variable(train_dataset.train_data[:n_objects], requires_grad=False).view(n_objects, -1).float()\n",
    "y = Variable(train_dataset.train_labels[:n_objects], requires_grad=False)\n",
    "X -= X.mean()\n",
    "X /= X.std()\n",
    "print('Xavier @ Tanh')\n",
    "activations = get_layers(nn.Tanh, init_layer_Xavier)(X)\n",
    "loss_fn = torch.nn.NLLLoss()\n",
    "optimizer = torch.optim.Adam(layers_tanh.parameters(), lr=0.001) \n",
    "loss = loss_fn(activations, y)\n",
    "loss.backward()\n",
    "print('=' * 20)\n",
    "print('He @ ReLU')\n",
    "activations = get_layers(nn.ReLU, init_layer_He)(X)\n",
    "loss_fn = torch.nn.NLLLoss()\n",
    "optimizer = torch.optim.Adam(layers_relu.parameters(), lr=0.001) \n",
    "loss = loss_fn(activations, y)\n",
    "loss.backward()"
   ]
  },
  {
   "cell_type": "markdown",
   "metadata": {},
   "source": [
    "<i> 1.4 Сделайте выводы по первой части </i>"
   ]
  },
  {
   "cell_type": "raw",
   "metadata": {},
   "source": []
  },
  {
   "cell_type": "markdown",
   "metadata": {},
   "source": [
    "### Часть 2: Dropout"
   ]
  },
  {
   "cell_type": "markdown",
   "metadata": {},
   "source": [
    "Другим полезным слоем является Dropout. В нем с вероятностью 1-p зануляется выход каждого нейрона. Этот слой уже реализован в pyTorch, поэтому вновь реализовывать его не интересно. Давайте реализуем DropConnect — аналог Dropout. В нем с вероятностью 1-p зануляется каждый вес слоя."
   ]
  },
  {
   "cell_type": "markdown",
   "metadata": {},
   "source": [
    "<i> 2.1 Реализуйте линейный слой с DropConnect </i>"
   ]
  },
  {
   "cell_type": "code",
   "execution_count": 35,
   "metadata": {
    "collapsed": true
   },
   "outputs": [],
   "source": [
    "# полезная функция: .bernoulli_(p)\n",
    "# не забывайте делать requires_grad=False у маски\n",
    "# помните, что в вычислениях должны участвовать Variable, а не тензоры\n",
    "# не забывайте, что в pyTorch нету broadcasting (делайте .expand)\n",
    "\n",
    "class DropConnect(nn.Module):\n",
    "    def __init__(self, input_dim, output_dim, p):\n",
    "        super(DropConnect, self).__init__()\n",
    "        self.weight = nn.Parameter(torch.cuda.FloatTensor(input_dim, output_dim).normal_(mean=0, std=0.01), requires_grad=True)\n",
    "        self.bias = nn.Parameter(torch.cuda.FloatTensor(1, output_dim).zero_(), requires_grad=True)\n",
    "        self.p = p\n",
    "\n",
    "    def forward(self, x): \n",
    "        # TODO: if not self.trainig: return torch.mm(x, self.weight) + self.bias\n",
    "        mask = torch.ones(self.weight.size(0), self.weight.size(1)) * self.p\n",
    "        mask = mask.cuda()\n",
    "        mask = mask.bernoulli() / self.p\n",
    "        mask = Variable(mask, requires_grad=False)\n",
    "        output = torch.mm(x, self.weight * mask) + self.bias\n",
    "        return output"
   ]
  },
  {
   "cell_type": "markdown",
   "metadata": {},
   "source": [
    "<i> \n",
    "2.2 Сравните графики обучения нейроных сетей:\n",
    "1. 784 -> 200 -> 200 -> 10 с ReLU и Dropout между всеми слоями \n",
    "2. 784 -> 200 -> 200 -> 10 с ReLU DropConnect вместо всех линейных слоев\n",
    "</i>"
   ]
  },
  {
   "cell_type": "code",
   "execution_count": 7,
   "metadata": {
    "collapsed": true
   },
   "outputs": [],
   "source": [
    "!export CUDA_LAUNCH_BLOCKING=1"
   ]
  },
  {
   "cell_type": "code",
   "execution_count": 45,
   "metadata": {
    "collapsed": true
   },
   "outputs": [],
   "source": [
    "def run(network, epochs):\n",
    "    accs = []\n",
    "    losses = []\n",
    "    for i in range(epochs):\n",
    "        network.train()\n",
    "        for data, target in train_loader:\n",
    "            data, target = data.cuda(), target.cuda()\n",
    "            data = Variable(data)\n",
    "            target = Variable(target, requires_grad=False)\n",
    "            network.train()\n",
    "            optimizer.zero_grad()\n",
    "            output = network(data)\n",
    "            loss = loss_fn(output, target)\n",
    "            loss.backward()\n",
    "            optimizer.step()\n",
    "        acc_ = []\n",
    "        loss_ = []\n",
    "        network.eval()\n",
    "        for data, target in test_loader:\n",
    "            target_numpy = target.numpy()\n",
    "            data, target = data.cuda(), target.cuda()\n",
    "            data = Variable(data, requires_grad=False)\n",
    "            target = Variable(target, requires_grad=False)\n",
    "            output = network(data)\n",
    "            loss = loss_fn(output, target)[0]\n",
    "            loss_.append(loss.data.cpu().numpy())\n",
    "            acc = np.mean(np.argmax(output.data.cpu().numpy(), axis=1) == target_numpy)\n",
    "            acc_.append(acc)\n",
    "        accs.append(np.mean(acc_))\n",
    "        losses.append(np.mean(loss_))\n",
    "        print('Epoch: {}. Loss: {}. Accuracy: {}'.format(i, np.mean(loss_), np.mean(acc_)))\n",
    "    return losses, accs"
   ]
  },
  {
   "cell_type": "code",
   "execution_count": 38,
   "metadata": {
    "collapsed": true
   },
   "outputs": [],
   "source": [
    "##### YOUR CODE HERE #####\n",
    "class ConvNet_Dropout(nn.Module):\n",
    "    def __init__(self):\n",
    "        super(ConvNet_Dropout, self).__init__()\n",
    "        self.linear_layers = nn.Sequential(nn.Linear(784, 200),\n",
    "                                           nn.Dropout(0.5),\n",
    "                                           nn.ReLU(),\n",
    "                                           nn.Linear(200, 200),\n",
    "                                           nn.Dropout(0.5),\n",
    "                                           nn.ReLU(),\n",
    "                                           nn.Linear(200, 10),\n",
    "                                           nn.LogSoftmax())\n",
    "    \n",
    "    def forward(self, x):\n",
    "        x = x.view(-1, 784)\n",
    "        x = self.linear_layers(x)\n",
    "        return x\n",
    "    \n",
    "network = ConvNet_Dropout()\n",
    "network.cuda()\n",
    "optimizer = torch.optim.Adam(network.parameters(), lr=1e-4) \n",
    "loss_fn = torch.nn.NLLLoss()"
   ]
  },
  {
   "cell_type": "code",
   "execution_count": 39,
   "metadata": {},
   "outputs": [
    {
     "name": "stdout",
     "output_type": "stream",
     "text": [
      "Epoch: 0. Loss: 0.38993191719055176. Accuracy: 0.8834864217252396\n",
      "Epoch: 1. Loss: 0.2838728129863739. Accuracy: 0.9157348242811502\n",
      "Epoch: 2. Loss: 0.23724964261054993. Accuracy: 0.9308107028753994\n",
      "Epoch: 3. Loss: 0.21560132503509521. Accuracy: 0.9369009584664537\n",
      "Epoch: 4. Loss: 0.1950795203447342. Accuracy: 0.9416932907348243\n",
      "Epoch: 5. Loss: 0.18131694197654724. Accuracy: 0.9463857827476039\n",
      "Epoch: 6. Loss: 0.1636180281639099. Accuracy: 0.9510782747603834\n",
      "Epoch: 7. Loss: 0.1608400046825409. Accuracy: 0.950379392971246\n",
      "Epoch: 8. Loss: 0.15443025529384613. Accuracy: 0.9542731629392971\n",
      "Epoch: 9. Loss: 0.14795835316181183. Accuracy: 0.9552715654952076\n",
      "Epoch: 10. Loss: 0.14890414476394653. Accuracy: 0.9554712460063898\n",
      "Epoch: 11. Loss: 0.1433742195367813. Accuracy: 0.9573682108626198\n",
      "Epoch: 12. Loss: 0.13778500258922577. Accuracy: 0.9581669329073482\n",
      "Epoch: 13. Loss: 0.1402508169412613. Accuracy: 0.9587659744408946\n",
      "Epoch: 14. Loss: 0.13391871750354767. Accuracy: 0.9621605431309904\n",
      "Epoch: 15. Loss: 0.13542979955673218. Accuracy: 0.9608626198083067\n",
      "Epoch: 16. Loss: 0.1290850192308426. Accuracy: 0.9616613418530351\n",
      "Epoch: 17. Loss: 0.1263931393623352. Accuracy: 0.963258785942492\n",
      "Epoch: 18. Loss: 0.13140812516212463. Accuracy: 0.9625599041533547\n",
      "Epoch: 19. Loss: 0.11920351535081863. Accuracy: 0.9663538338658147\n",
      "Epoch: 20. Loss: 0.12928803265094757. Accuracy: 0.9623602236421726\n",
      "Epoch: 21. Loss: 0.1284487545490265. Accuracy: 0.9628594249201278\n",
      "Epoch: 22. Loss: 0.12091303616762161. Accuracy: 0.9630591054313099\n",
      "Epoch: 23. Loss: 0.12327015399932861. Accuracy: 0.9656549520766773\n",
      "Epoch: 24. Loss: 0.13463810086250305. Accuracy: 0.9633586261980831\n"
     ]
    }
   ],
   "source": [
    "losses_out, accs_out = run(network, 25)"
   ]
  },
  {
   "cell_type": "code",
   "execution_count": 40,
   "metadata": {
    "collapsed": true
   },
   "outputs": [],
   "source": [
    "class ConvNet_Connect(nn.Module):\n",
    "    def __init__(self):\n",
    "        super(ConvNet_Connect, self).__init__()\n",
    "        self.linear_layers = nn.Sequential(DropConnect(784, 200, 0.5),\n",
    "                                           nn.ReLU(),\n",
    "                                           DropConnect(200, 200, 0.5),\n",
    "                                           nn.ReLU(),\n",
    "                                           DropConnect(200, 10, 0.5),\n",
    "                                           nn.LogSoftmax())\n",
    "    \n",
    "    def forward(self, x):\n",
    "        x = x.view(-1, 784)\n",
    "        x = self.linear_layers(x)\n",
    "        return x\n",
    "    \n",
    "network_con = ConvNet_Connect()\n",
    "network_con.cuda()\n",
    "optimizer = torch.optim.Adam(network_con.parameters(), lr=1e-4) \n",
    "loss_fn = torch.nn.NLLLoss()"
   ]
  },
  {
   "cell_type": "code",
   "execution_count": 41,
   "metadata": {},
   "outputs": [
    {
     "name": "stdout",
     "output_type": "stream",
     "text": [
      "Epoch: 0. Loss: 0.441010981798172. Accuracy: 0.8656150159744409\n",
      "Epoch: 1. Loss: 0.3361952006816864. Accuracy: 0.902555910543131\n",
      "Epoch: 2. Loss: 0.2839702069759369. Accuracy: 0.915535143769968\n",
      "Epoch: 3. Loss: 0.23559428751468658. Accuracy: 0.926417731629393\n",
      "Epoch: 4. Loss: 0.21259403228759766. Accuracy: 0.9341054313099042\n",
      "Epoch: 5. Loss: 0.18742342293262482. Accuracy: 0.9417931309904153\n",
      "Epoch: 6. Loss: 0.18377900123596191. Accuracy: 0.9424920127795527\n",
      "Epoch: 7. Loss: 0.1634024977684021. Accuracy: 0.9501797124600639\n",
      "Epoch: 8. Loss: 0.1500786691904068. Accuracy: 0.9526757188498403\n",
      "Epoch: 9. Loss: 0.14522020518779755. Accuracy: 0.9564696485623003\n",
      "Epoch: 10. Loss: 0.1390969306230545. Accuracy: 0.9579672523961661\n",
      "Epoch: 11. Loss: 0.1339758187532425. Accuracy: 0.9608626198083067\n",
      "Epoch: 12. Loss: 0.13503409922122955. Accuracy: 0.9596645367412141\n",
      "Epoch: 13. Loss: 0.12576456367969513. Accuracy: 0.9606629392971247\n",
      "Epoch: 14. Loss: 0.12772215902805328. Accuracy: 0.9614616613418531\n",
      "Epoch: 15. Loss: 0.12610675394535065. Accuracy: 0.9606629392971247\n",
      "Epoch: 16. Loss: 0.12110715359449387. Accuracy: 0.9630591054313099\n",
      "Epoch: 17. Loss: 0.11352379620075226. Accuracy: 0.9653554313099042\n",
      "Epoch: 18. Loss: 0.11688098311424255. Accuracy: 0.9647563897763578\n",
      "Epoch: 19. Loss: 0.11682970821857452. Accuracy: 0.9646565495207667\n",
      "Epoch: 20. Loss: 0.11122411489486694. Accuracy: 0.9644568690095847\n",
      "Epoch: 21. Loss: 0.11081989109516144. Accuracy: 0.9683506389776357\n",
      "Epoch: 22. Loss: 0.11267492920160294. Accuracy: 0.9659544728434505\n",
      "Epoch: 23. Loss: 0.10923882573843002. Accuracy: 0.9671525559105432\n",
      "Epoch: 24. Loss: 0.10688323527574539. Accuracy: 0.9682507987220448\n"
     ]
    }
   ],
   "source": [
    "losses_con, accs_con = run(network_con, 25)"
   ]
  },
  {
   "cell_type": "code",
   "execution_count": 42,
   "metadata": {},
   "outputs": [
    {
     "data": {
      "image/png": "[encoded data removed]",
      "text/plain": [
       "<matplotlib.figure.Figure at 0x7f7a59e9dc88>"
      ]
     },
     "metadata": {},
     "output_type": "display_data"
    },
    {
     "data": {
      "image/png": "[encoded data removed]",
      "text/plain": [
       "<matplotlib.figure.Figure at 0x7f7a50018940>"
      ]
     },
     "metadata": {},
     "output_type": "display_data"
    }
   ],
   "source": [
    "plt.plot(accs_out, '^', label='Dropout')\n",
    "plt.plot(accs_con, 'o', label='DropConnect')\n",
    "plt.legend()\n",
    "plt.title('Accuracies')\n",
    "plt.xlabel('Epoch')\n",
    "plt.show()\n",
    "\n",
    "plt.plot(losses_out, '^', label='Dropout')\n",
    "plt.plot(losses_con, 'o', label='DropConnect')\n",
    "plt.legend()\n",
    "plt.title('Losses')\n",
    "plt.xlabel('Epoch')\n",
    "plt.show()"
   ]
  },
  {
   "cell_type": "markdown",
   "metadata": {},
   "source": [
    "<i> 2.3 Сделайте выводы по третьей части </i>"
   ]
  },
  {
   "cell_type": "raw",
   "metadata": {},
   "source": []
  },
  {
   "cell_type": "markdown",
   "metadata": {},
   "source": [
    "В test-time стохастичность Dropout убирают и заменяют все веса на их ожидаемое значение: $\\mathbb{E}w = pw + (1-p)0 = pw$."
   ]
  },
  {
   "cell_type": "markdown",
   "metadata": {},
   "source": [
    "### Часть 3: Batch Normalization"
   ]
  },
  {
   "cell_type": "markdown",
   "metadata": {},
   "source": [
    "Наконец, давайте рассмотрим Batch Normalization. Этот слой вычитает среднее и делит на стандартное отклонение. Среднее и дисперсия вычисляются по батчу независимо для каждого нейрона. У этого слоя есть две важные проблемы: его нельзя использовать при обучении с размером батча 1 и он делает элементы батча зависимыми. Давайте реализуем аналог батч нормализации: <a href=https://arxiv.org/pdf/1607.06450.pdf>Layer normalization</a>. В layer normalization среднее и дисперсия вычисляются по активациям нейронов, независимо для каждого объекта."
   ]
  },
  {
   "cell_type": "markdown",
   "metadata": {},
   "source": [
    "<i> 3.1 Реализуйте Layer Normalization </i>"
   ]
  },
  {
   "cell_type": "code",
   "execution_count": 71,
   "metadata": {
    "collapsed": true
   },
   "outputs": [],
   "source": [
    "# полезные функции: .std(dim), .mean(dim)\n",
    "# не забывайте, что в pyTorch нету broadcasting (делайте .expand)\n",
    "\n",
    "class LayerNormalization(nn.Module):\n",
    "    def __init__(self, input_dim):\n",
    "        super(LayerNormalization, self).__init__()\n",
    "        self.g = nn.Parameter(torch.cuda.FloatTensor(input_dim).fill_(1.0), requires_grad=True)\n",
    "        \n",
    "    def forward(self, x):\n",
    "        output = self.g * (x - torch.mean(x, 1, True)) / torch.std(x, 1, True)\n",
    "        return output"
   ]
  },
  {
   "cell_type": "markdown",
   "metadata": {},
   "source": [
    "<i> \n",
    "3.2 Сравните графики обучения нейроных сетей:\n",
    "1. 784 -> 200 -> 200 -> 10 с ReLU и Batch normalization между всеми слоями \n",
    "2. 784 -> 200 -> 200 -> 10 с ReLU и Layer normalization между всеми слоями \n",
    "</i>"
   ]
  },
  {
   "cell_type": "code",
   "execution_count": 51,
   "metadata": {
    "collapsed": true
   },
   "outputs": [],
   "source": [
    "##### YOUR CODE HERE #####\n",
    "class ConvNet_BN(nn.Module):\n",
    "    def __init__(self):\n",
    "        super(ConvNet_BN, self).__init__()\n",
    "        self.linear_layers = nn.Sequential(nn.Linear(784, 200),\n",
    "                                           nn.ReLU(),\n",
    "                                           nn.BatchNorm1d(200),\n",
    "                                           nn.Linear(200, 200),\n",
    "                                           nn.ReLU(),\n",
    "                                           nn.BatchNorm1d(200),\n",
    "                                           nn.Linear(200, 10),\n",
    "                                           nn.LogSoftmax())\n",
    "    \n",
    "    def forward(self, x):\n",
    "        x = x.view(-1, 784)\n",
    "        x = self.linear_layers(x)\n",
    "        return x\n",
    "    \n",
    "network = ConvNet_BN()\n",
    "network.cuda()\n",
    "optimizer = torch.optim.Adam(network.parameters(), lr=5e-4) \n",
    "loss_fn = torch.nn.NLLLoss()"
   ]
  },
  {
   "cell_type": "code",
   "execution_count": 52,
   "metadata": {},
   "outputs": [
    {
     "name": "stdout",
     "output_type": "stream",
     "text": [
      "Epoch: 0. Loss: 0.11840473860502243. Accuracy: 0.9633586261980831\n",
      "Epoch: 1. Loss: 0.11234066635370255. Accuracy: 0.9731429712460063\n",
      "Epoch: 2. Loss: 0.09606943279504776. Accuracy: 0.9762380191693291\n",
      "Epoch: 3. Loss: 0.08594416826963425. Accuracy: 0.9773362619808307\n",
      "Epoch: 4. Loss: 0.10399869084358215. Accuracy: 0.9762380191693291\n",
      "Epoch: 5. Loss: 0.10767363011837006. Accuracy: 0.9763378594249201\n",
      "Epoch: 6. Loss: 0.14674285054206848. Accuracy: 0.9778354632587859\n",
      "Epoch: 7. Loss: 0.07739897817373276. Accuracy: 0.9830271565495208\n",
      "Epoch: 8. Loss: 0.06318249553442001. Accuracy: 0.9807308306709265\n",
      "Epoch: 9. Loss: 0.07069094479084015. Accuracy: 0.9795327476038339\n",
      "Epoch: 10. Loss: 0.07017713040113449. Accuracy: 0.9811301916932907\n",
      "Epoch: 11. Loss: 0.06724240630865097. Accuracy: 0.9810303514376997\n",
      "Epoch: 12. Loss: 0.06522030383348465. Accuracy: 0.9821285942492013\n",
      "Epoch: 13. Loss: 0.06224384158849716. Accuracy: 0.9812300319488818\n",
      "Epoch: 14. Loss: 0.07094451785087585. Accuracy: 0.9810303514376997\n",
      "Epoch: 15. Loss: 0.07471536844968796. Accuracy: 0.9805311501597445\n",
      "Epoch: 16. Loss: 0.07146279513835907. Accuracy: 0.981729233226837\n",
      "Epoch: 17. Loss: 0.06253897398710251. Accuracy: 0.9832268370607029\n",
      "Epoch: 18. Loss: 0.0746956616640091. Accuracy: 0.9822284345047924\n",
      "Epoch: 19. Loss: 0.07186581194400787. Accuracy: 0.9831269968051118\n"
     ]
    }
   ],
   "source": [
    "losses_bn, accs_bn = run(network, 20)"
   ]
  },
  {
   "cell_type": "code",
   "execution_count": 72,
   "metadata": {
    "collapsed": true
   },
   "outputs": [],
   "source": [
    "class ConvNet_LN(nn.Module):\n",
    "    def __init__(self):\n",
    "        super(ConvNet_LN, self).__init__()\n",
    "        self.linear_layers = nn.Sequential(nn.Linear(784, 200),\n",
    "                                           nn.ReLU(),\n",
    "                                           LayerNormalization(200),\n",
    "                                           nn.Linear(200, 200),\n",
    "                                           nn.ReLU(),\n",
    "                                           LayerNormalization(200),\n",
    "                                           nn.Linear(200, 10),\n",
    "                                           nn.LogSoftmax())\n",
    "    \n",
    "    def forward(self, x):\n",
    "        x = x.view(-1, 784)\n",
    "        x = self.linear_layers(x)\n",
    "        return x\n",
    "    \n",
    "network = ConvNet_LN()\n",
    "network.cuda()\n",
    "optimizer = torch.optim.Adam(network.parameters(), lr=5e-4) \n",
    "loss_fn = torch.nn.NLLLoss()"
   ]
  },
  {
   "cell_type": "code",
   "execution_count": 73,
   "metadata": {},
   "outputs": [
    {
     "name": "stdout",
     "output_type": "stream",
     "text": [
      "Epoch: 0. Loss: 0.10775024443864822. Accuracy: 0.9657547923322684\n",
      "Epoch: 1. Loss: 0.09349916875362396. Accuracy: 0.9703474440894568\n",
      "Epoch: 2. Loss: 0.08733934909105301. Accuracy: 0.9717452076677316\n",
      "Epoch: 3. Loss: 0.07395988702774048. Accuracy: 0.9772364217252396\n",
      "Epoch: 4. Loss: 0.08055459707975388. Accuracy: 0.9767372204472844\n",
      "Epoch: 5. Loss: 0.07622461766004562. Accuracy: 0.9763378594249201\n",
      "Epoch: 6. Loss: 0.07375898957252502. Accuracy: 0.9785343450479234\n",
      "Epoch: 7. Loss: 0.0676819235086441. Accuracy: 0.9811301916932907\n",
      "Epoch: 8. Loss: 0.06995338946580887. Accuracy: 0.9802316293929713\n",
      "Epoch: 9. Loss: 0.07861891388893127. Accuracy: 0.9800319488817891\n",
      "Epoch: 10. Loss: 0.071993388235569. Accuracy: 0.979832268370607\n",
      "Epoch: 11. Loss: 0.07287279516458511. Accuracy: 0.9822284345047924\n",
      "Epoch: 12. Loss: 0.07043267041444778. Accuracy: 0.9818290734824281\n",
      "Epoch: 13. Loss: 0.07819364964962006. Accuracy: 0.9810303514376997\n",
      "Epoch: 14. Loss: 0.07843354344367981. Accuracy: 0.981729233226837\n",
      "Epoch: 15. Loss: 0.08276517689228058. Accuracy: 0.9811301916932907\n",
      "Epoch: 16. Loss: 0.08837658166885376. Accuracy: 0.9807308306709265\n",
      "Epoch: 17. Loss: 0.1005348265171051. Accuracy: 0.9775359424920128\n",
      "Epoch: 18. Loss: 0.08534302562475204. Accuracy: 0.9822284345047924\n",
      "Epoch: 19. Loss: 0.09528291970491409. Accuracy: 0.9801317891373802\n"
     ]
    }
   ],
   "source": [
    "losses_ln, accs_ln = run(network, 20)"
   ]
  },
  {
   "cell_type": "code",
   "execution_count": 74,
   "metadata": {},
   "outputs": [
    {
     "data": {
      "image/png": "[encoded data removed]",
      "text/plain": [
       "<matplotlib.figure.Figure at 0x7f7a5af3c6a0>"
      ]
     },
     "metadata": {},
     "output_type": "display_data"
    },
    {
     "data": {
      "image/png": "[encoded data removed]",
      "text/plain": [
       "<matplotlib.figure.Figure at 0x7f79eed62400>"
      ]
     },
     "metadata": {},
     "output_type": "display_data"
    }
   ],
   "source": [
    "plt.plot(accs_bn, '^', label='Batch')\n",
    "plt.plot(accs_ln, 'o', label='Layer')\n",
    "plt.legend()\n",
    "plt.title('Accuracies')\n",
    "plt.xlabel('Epoch')\n",
    "plt.show()\n",
    "\n",
    "plt.plot(losses_bn, '^', label='Batch')\n",
    "plt.plot(losses_ln, 'o', label='Layer')\n",
    "plt.legend()\n",
    "plt.title('Losses')\n",
    "plt.xlabel('Epoch')\n",
    "plt.show()"
   ]
  },
  {
   "cell_type": "markdown",
   "metadata": {},
   "source": [
    "<i> 3.3 Сделайте выводы по третьей части </i>"
   ]
  },
  {
   "cell_type": "raw",
   "metadata": {},
   "source": []
  },
  {
   "cell_type": "markdown",
   "metadata": {},
   "source": [
    "#### Feedback (опционально)"
   ]
  },
  {
   "cell_type": "markdown",
   "metadata": {},
   "source": [
    "Здесь вы можете оставить список опечаток из лекции или семинара:"
   ]
  },
  {
   "cell_type": "raw",
   "metadata": {},
   "source": []
  },
  {
   "cell_type": "markdown",
   "metadata": {},
   "source": [
    "Здесь вы можете оставить комментарии по лекции или семинару:"
   ]
  },
  {
   "cell_type": "raw",
   "metadata": {},
   "source": []
  }
 ],
 "metadata": {
  "kernelspec": {
   "display_name": "Python 3",
   "language": "python",
   "name": "python3"
  },
  "language_info": {
   "codemirror_mode": {
    "name": "ipython",
    "version": 3
   },
   "file_extension": ".py",
   "mimetype": "text/x-python",
   "name": "python",
   "nbconvert_exporter": "python",
   "pygments_lexer": "ipython3",
   "version": "3.6.1"
  },
  "latex_envs": {
   "bibliofile": "biblio.bib",
   "cite_by": "apalike",
   "current_citInitial": 1,
   "eqLabelWithNumbers": true,
   "eqNumInitial": 0
  }
 },
 "nbformat": 4,
 "nbformat_minor": 1
}
