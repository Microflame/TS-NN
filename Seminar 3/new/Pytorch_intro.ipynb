{
 "cells": [
  {
   "cell_type": "markdown",
   "metadata": {},
   "source": [
    "# Лекция 3: Библиотеки для глубинного обучения. Примитивы фреймворка Pytorch. "
   ]
  },
  {
   "cell_type": "markdown",
   "metadata": {},
   "source": [
    "#        Пример обучения нейронной сети в numpy"
   ]
  },
  {
   "cell_type": "code",
   "execution_count": null,
   "metadata": {
    "collapsed": true
   },
   "outputs": [],
   "source": []
  },
  {
   "cell_type": "code",
   "execution_count": null,
   "metadata": {
    "collapsed": true
   },
   "outputs": [],
   "source": [
    "# -*- coding: utf-8 -*-\n",
    "import numpy as np\n",
    "\n",
    "# N - размер батча; D_in - размерность входа;\n",
    "# H - скрытая размероность; D_out размерность выхода.\n",
    "N, D_in, H, D_out = 64, 1000, 100, 10\n",
    "\n",
    "# Инициализируем вход и выход из нормального распределения\n",
    "x = np.random.randn(N, D_in)\n",
    "y = np.random.randn(N, D_out)\n",
    "\n",
    "# Инициализируем веса из нормального распределения\n",
    "w1 = np.random.randn(D_in, H)\n",
    "w2 = np.random.randn(H, D_out)\n",
    "\n",
    "learning_rate = 1e-6\n",
    "for t in range(500):\n",
    "\n",
    "    h = x.dot(w1)\n",
    "    h_relu = np.maximum(h, 0)\n",
    "    \n",
    "    # Используем функцию активации ReLU\n",
    "    \n",
    "    y_pred = h_relu.dot(w2)\n",
    "\n",
    "    # Считаем функцию потерь\n",
    "    loss = np.square(y_pred - y).sum()\n",
    "    print(t, loss)\n",
    "\n",
    "    # Считаем градиенты\n",
    "    grad_y_pred = 2.0 * (y_pred - y)\n",
    "    grad_w2 = h_relu.T.dot(grad_y_pred)\n",
    "    grad_h_relu = grad_y_pred.dot(w2.T)\n",
    "    grad_h = grad_h_relu.copy()\n",
    "    \n",
    "    # Считаем композицию с производной ReLU\n",
    "    grad_h[h < 0] = 0\n",
    "    grad_w1 = x.T.dot(grad_h)\n",
    "\n",
    "    # Обновляем веса\n",
    "    w1 -= learning_rate * grad_w1\n",
    "    w2 -= learning_rate * grad_w2"
   ]
  },
  {
   "cell_type": "markdown",
   "metadata": {
    "collapsed": true
   },
   "source": [
    "# Первая и основная составляющая типичного современного фреймворка для машинного обучения - Tensor"
   ]
  },
  {
   "cell_type": "markdown",
   "metadata": {},
   "source": [
    "В интерфейсе базовых операций тензор ничем не отличается от np.array, но при этом тензоры можно эффективно использовать при обучении на gpu. "
   ]
  },
  {
   "cell_type": "code",
   "execution_count": 2,
   "metadata": {
    "collapsed": true
   },
   "outputs": [],
   "source": [
    "import torch"
   ]
  },
  {
   "cell_type": "code",
   "execution_count": 3,
   "metadata": {
    "collapsed": true
   },
   "outputs": [],
   "source": [
    "# Создаем неинициализированный тензор\n",
    "x = torch.Tensor(5, 3)"
   ]
  },
  {
   "cell_type": "code",
   "execution_count": 7,
   "metadata": {},
   "outputs": [
    {
     "data": {
      "text/plain": [
       "\n",
       " 0.0000e+00 -4.6566e-10  0.0000e+00\n",
       "-4.6566e-10  1.2612e-44  1.1614e-41\n",
       " 0.0000e+00  2.2369e+08  0.0000e+00\n",
       " 0.0000e+00  1.4349e-42  1.4349e-42\n",
       "        nan         nan -1.2287e+03\n",
       "[torch.FloatTensor of size 5x3]"
      ]
     },
     "execution_count": 7,
     "metadata": {},
     "output_type": "execute_result"
    }
   ],
   "source": [
    "x"
   ]
  },
  {
   "cell_type": "code",
   "execution_count": 8,
   "metadata": {},
   "outputs": [
    {
     "data": {
      "text/plain": [
       "torch.LongTensor"
      ]
     },
     "execution_count": 8,
     "metadata": {},
     "output_type": "execute_result"
    }
   ],
   "source": [
    "# Типы\n",
    "torch.FloatTensor\n",
    "torch.LongTensor"
   ]
  },
  {
   "cell_type": "code",
   "execution_count": 9,
   "metadata": {
    "collapsed": true
   },
   "outputs": [],
   "source": [
    "x = torch.Tensor(5, 3).type(torch.FloatTensor)"
   ]
  },
  {
   "cell_type": "code",
   "execution_count": 10,
   "metadata": {},
   "outputs": [],
   "source": [
    "# инициализируем тензор нормальным распределением\n",
    "x = torch.randn(5, 3)"
   ]
  },
  {
   "cell_type": "code",
   "execution_count": 6,
   "metadata": {},
   "outputs": [
    {
     "data": {
      "text/plain": [
       "\n",
       " 0.4182  0.7082  0.2494\n",
       " 0.7768  0.2455  0.5667\n",
       " 0.9181  0.8303  0.0754\n",
       " 0.2917  0.0540  0.5722\n",
       " 0.8588  0.4882  0.1710\n",
       "[torch.FloatTensor of size 5x3]"
      ]
     },
     "execution_count": 6,
     "metadata": {},
     "output_type": "execute_result"
    }
   ],
   "source": [
    "x"
   ]
  },
  {
   "cell_type": "code",
   "execution_count": 10,
   "metadata": {},
   "outputs": [
    {
     "data": {
      "text/plain": [
       "torch.Size([5, 3])"
      ]
     },
     "execution_count": 10,
     "metadata": {},
     "output_type": "execute_result"
    }
   ],
   "source": [
    "x.shape"
   ]
  },
  {
   "cell_type": "code",
   "execution_count": 12,
   "metadata": {},
   "outputs": [
    {
     "data": {
      "text/plain": [
       "torch.Size([5, 3])"
      ]
     },
     "execution_count": 12,
     "metadata": {},
     "output_type": "execute_result"
    }
   ],
   "source": [
    "x.size()"
   ]
  },
  {
   "cell_type": "code",
   "execution_count": null,
   "metadata": {
    "collapsed": true
   },
   "outputs": [],
   "source": []
  },
  {
   "cell_type": "code",
   "execution_count": 8,
   "metadata": {
    "collapsed": true
   },
   "outputs": [],
   "source": [
    "y = torch.rand(5, 3)"
   ]
  },
  {
   "cell_type": "code",
   "execution_count": 9,
   "metadata": {},
   "outputs": [
    {
     "data": {
      "text/plain": [
       "\n",
       " 0.7304  0.9615  0.2586\n",
       " 0.3227  0.7867  0.0043\n",
       " 0.8287  0.2735  0.0115\n",
       " 0.2667  0.1086  0.5766\n",
       " 0.4664  0.3912  0.6080\n",
       "[torch.FloatTensor of size 5x3]"
      ]
     },
     "execution_count": 9,
     "metadata": {},
     "output_type": "execute_result"
    }
   ],
   "source": [
    "y"
   ]
  },
  {
   "cell_type": "code",
   "execution_count": 10,
   "metadata": {},
   "outputs": [
    {
     "data": {
      "text/plain": [
       "\n",
       " 1.1486  1.6697  0.5079\n",
       " 1.0996  1.0322  0.5710\n",
       " 1.7468  1.1038  0.0869\n",
       " 0.5584  0.1626  1.1488\n",
       " 1.3252  0.8794  0.7790\n",
       "[torch.FloatTensor of size 5x3]"
      ]
     },
     "execution_count": 10,
     "metadata": {},
     "output_type": "execute_result"
    }
   ],
   "source": [
    "# Первый способ сложить 2 тензора\n",
    "x + y"
   ]
  },
  {
   "cell_type": "code",
   "execution_count": 11,
   "metadata": {},
   "outputs": [
    {
     "data": {
      "text/plain": [
       "\n",
       " 1.1486  1.6697  0.5079\n",
       " 1.0996  1.0322  0.5710\n",
       " 1.7468  1.1038  0.0869\n",
       " 0.5584  0.1626  1.1488\n",
       " 1.3252  0.8794  0.7790\n",
       "[torch.FloatTensor of size 5x3]"
      ]
     },
     "execution_count": 11,
     "metadata": {},
     "output_type": "execute_result"
    }
   ],
   "source": [
    "# Второй способ сложить 2 тензора\n",
    "x.add(y)"
   ]
  },
  {
   "cell_type": "code",
   "execution_count": 12,
   "metadata": {},
   "outputs": [
    {
     "data": {
      "text/plain": [
       "\n",
       " 1.1486  1.6697  0.5079\n",
       " 1.0996  1.0322  0.5710\n",
       " 1.7468  1.1038  0.0869\n",
       " 0.5584  0.1626  1.1488\n",
       " 1.3252  0.8794  0.7790\n",
       "[torch.FloatTensor of size 5x3]"
      ]
     },
     "execution_count": 12,
     "metadata": {},
     "output_type": "execute_result"
    }
   ],
   "source": [
    "# А еще можно так:\n",
    "torch.add(x, y)"
   ]
  },
  {
   "cell_type": "code",
   "execution_count": 13,
   "metadata": {},
   "outputs": [
    {
     "data": {
      "text/plain": [
       "\n",
       " 1.1486  1.6697  0.5079\n",
       " 1.0996  1.0322  0.5710\n",
       " 1.7468  1.1038  0.0869\n",
       " 0.5584  0.1626  1.1488\n",
       " 1.3252  0.8794  0.7790\n",
       "[torch.FloatTensor of size 5x3]"
      ]
     },
     "execution_count": 13,
     "metadata": {},
     "output_type": "execute_result"
    }
   ],
   "source": [
    "# Сохраняем выход в тензор result\n",
    "result = torch.Tensor(5, 3)\n",
    "torch.add(x, y, out=result)"
   ]
  },
  {
   "cell_type": "code",
   "execution_count": 14,
   "metadata": {},
   "outputs": [
    {
     "name": "stdout",
     "output_type": "stream",
     "text": [
      "[ 2.  2.  2.  2.  2.]\n",
      "\n",
      " 2\n",
      " 2\n",
      " 2\n",
      " 2\n",
      " 2\n",
      "[torch.DoubleTensor of size 5]\n",
      "\n"
     ]
    }
   ],
   "source": [
    "# Перевод из numpy в torch\n",
    "a = np.ones(5)\n",
    "b = torch.from_numpy(a)\n",
    "np.add(a, 1, out=a)\n",
    "print(a)\n",
    "print(b) "
   ]
  },
  {
   "cell_type": "code",
   "execution_count": null,
   "metadata": {
    "collapsed": true
   },
   "outputs": [],
   "source": []
  },
  {
   "cell_type": "code",
   "execution_count": 13,
   "metadata": {
    "collapsed": true
   },
   "outputs": [],
   "source": [
    "a = torch.randn(5, 3) \n",
    "b = torch.randn(3, 4)"
   ]
  },
  {
   "cell_type": "code",
   "execution_count": null,
   "metadata": {
    "collapsed": true
   },
   "outputs": [],
   "source": []
  },
  {
   "cell_type": "code",
   "execution_count": 14,
   "metadata": {},
   "outputs": [
    {
     "data": {
      "text/plain": [
       "\n",
       " 0.0066  0.3046 -0.3341 -0.2476\n",
       "-0.5096 -1.7409  1.0363  0.2693\n",
       " 0.3572  0.6899 -0.3999  0.0469\n",
       "-0.2880 -4.0160  0.6312  0.0274\n",
       "-0.0236 -0.3690 -0.0141 -0.0531\n",
       "[torch.FloatTensor of size 5x4]"
      ]
     },
     "execution_count": 14,
     "metadata": {},
     "output_type": "execute_result"
    }
   ],
   "source": [
    "# Матричное умножение\n",
    "\n",
    "torch.mm(a,b)\n",
    "a.mm(b)"
   ]
  },
  {
   "cell_type": "code",
   "execution_count": 17,
   "metadata": {},
   "outputs": [
    {
     "data": {
      "text/plain": [
       "\n",
       " 6.4576  2.0158 -0.4964  5.6783\n",
       " 2.9732  0.9977 -0.2714  2.6477\n",
       " 1.7898  1.6968  1.3408  0.8617\n",
       " 0.0795  1.6087  2.7669 -1.3341\n",
       "-1.3793 -0.9641 -1.4624 -0.3738\n",
       "[torch.FloatTensor of size 5x4]"
      ]
     },
     "execution_count": 17,
     "metadata": {},
     "output_type": "execute_result"
    }
   ],
   "source": [
    "# для python 3\n",
    "\n",
    "a @ b"
   ]
  },
  {
   "cell_type": "code",
   "execution_count": null,
   "metadata": {
    "collapsed": true
   },
   "outputs": [],
   "source": []
  },
  {
   "cell_type": "markdown",
   "metadata": {},
   "source": [
    "Поменяем пару строчек в обучении на np и код уже можно запускать и на GPU"
   ]
  },
  {
   "cell_type": "code",
   "execution_count": null,
   "metadata": {
    "collapsed": true
   },
   "outputs": [],
   "source": [
    "dtype = torch.FloatTensor\n",
    "# dtype = torch.cuda.FloatTensor # GPU\n",
    "\n",
    "N, D_in, H, D_out = 64, 1000, 100, 10\n",
    "\n",
    "x = torch.randn(N, D_in).type(dtype)\n",
    "y = torch.randn(N, D_out).type(dtype)\n",
    "\n",
    "w1 = torch.randn(D_in, H).type(dtype)\n",
    "w2 = torch.randn(H, D_out).type(dtype)\n",
    "\n",
    "learning_rate = 1e-6\n",
    "for t in range(500):\n",
    "\n",
    "    h = x.mm(w1)\n",
    "    h_relu = h.clamp(min=0)\n",
    "    y_pred = h_relu.mm(w2)\n",
    "\n",
    "    loss = (y_pred - y).pow(2).sum()\n",
    "    print(t, loss)\n",
    "\n",
    "    grad_y_pred = 2.0 * (y_pred - y)\n",
    "    grad_w2 = h_relu.t().mm(grad_y_pred)\n",
    "    grad_h_relu = grad_y_pred.mm(w2.t())\n",
    "    grad_h = grad_h_relu.clone()\n",
    "    grad_h[h < 0] = 0\n",
    "    grad_w1 = x.t().mm(grad_h)\n",
    "\n",
    "    w1 -= learning_rate * grad_w1\n",
    "    w2 -= learning_rate * grad_w2"
   ]
  },
  {
   "cell_type": "code",
   "execution_count": null,
   "metadata": {
    "collapsed": true
   },
   "outputs": [],
   "source": []
  },
  {
   "cell_type": "markdown",
   "metadata": {},
   "source": [
    "# Но самое важное в фреймворках - графы вычисления и автоматическое дифференцирование "
   ]
  },
  {
   "cell_type": "code",
   "execution_count": 13,
   "metadata": {},
   "outputs": [
    {
     "data": {
      "text/plain": [
       "Variable containing:\n",
       " 1  1\n",
       " 1  1\n",
       "[torch.FloatTensor of size 2x2]"
      ]
     },
     "execution_count": 13,
     "metadata": {},
     "output_type": "execute_result"
    }
   ],
   "source": [
    "# Variable - обертка над тензором, содержащая значения градиента и еще немного полезной информации\n",
    "import torch\n",
    "from torch.autograd import Variable\n",
    "x = Variable(torch.ones(2, 2), requires_grad = True)\n",
    "x  "
   ]
  },
  {
   "cell_type": "code",
   "execution_count": 14,
   "metadata": {},
   "outputs": [
    {
     "data": {
      "text/plain": [
       "\n",
       " 1  1\n",
       " 1  1\n",
       "[torch.FloatTensor of size 2x2]"
      ]
     },
     "execution_count": 14,
     "metadata": {},
     "output_type": "execute_result"
    }
   ],
   "source": [
    "x.data"
   ]
  },
  {
   "cell_type": "code",
   "execution_count": 20,
   "metadata": {},
   "outputs": [
    {
     "data": {
      "text/plain": [
       "Variable containing:\n",
       " 0.2500  0.2500\n",
       " 0.2500  0.2500\n",
       "[torch.FloatTensor of size 2x2]"
      ]
     },
     "execution_count": 20,
     "metadata": {},
     "output_type": "execute_result"
    }
   ],
   "source": [
    "x.grad"
   ]
  },
  {
   "cell_type": "code",
   "execution_count": 16,
   "metadata": {
    "collapsed": true
   },
   "outputs": [],
   "source": [
    "# производная операции, которая породила переменную.\n",
    "x.grad_fn"
   ]
  },
  {
   "cell_type": "code",
   "execution_count": 22,
   "metadata": {},
   "outputs": [
    {
     "data": {
      "text/plain": [
       "Variable containing:\n",
       " 3  3\n",
       " 3  3\n",
       "[torch.FloatTensor of size 2x2]"
      ]
     },
     "execution_count": 22,
     "metadata": {},
     "output_type": "execute_result"
    }
   ],
   "source": [
    "y = x + 2\n",
    "y"
   ]
  },
  {
   "cell_type": "code",
   "execution_count": 19,
   "metadata": {},
   "outputs": [],
   "source": [
    "z = y.mean()\n",
    "z.backward()"
   ]
  },
  {
   "cell_type": "markdown",
   "metadata": {},
   "source": [
    "В новой версии pytorch промежуточные градиенты не сохраняются.\n",
    "Но если мы хотим все-таки увидеть их значения можно использовать\n",
    "функцию variable.register_hook(print)\n",
    "или использовать Variable.retain_grad()"
   ]
  },
  {
   "cell_type": "code",
   "execution_count": 20,
   "metadata": {},
   "outputs": [
    {
     "name": "stdout",
     "output_type": "stream",
     "text": [
      "True\n"
     ]
    },
    {
     "data": {
      "text/plain": [
       "<torch.utils.hooks.RemovableHandle at 0x105e4b050>"
      ]
     },
     "execution_count": 20,
     "metadata": {},
     "output_type": "execute_result"
    }
   ],
   "source": [
    "from __future__ import print_function\n",
    "print (y.grad is None)\n",
    "y.register_hook(print)"
   ]
  },
  {
   "cell_type": "code",
   "execution_count": 21,
   "metadata": {},
   "outputs": [
    {
     "name": "stdout",
     "output_type": "stream",
     "text": [
      "True\n"
     ]
    },
    {
     "data": {
      "text/plain": [
       "<torch.utils.hooks.RemovableHandle at 0x105ea1a90>"
      ]
     },
     "execution_count": 21,
     "metadata": {},
     "output_type": "execute_result"
    }
   ],
   "source": [
    "z = y * y * 2\n",
    "z\n",
    "print (z.grad is None)\n",
    "z.register_hook(print)"
   ]
  },
  {
   "cell_type": "code",
   "execution_count": 22,
   "metadata": {},
   "outputs": [
    {
     "data": {
      "text/plain": [
       "Variable containing:\n",
       " 18\n",
       "[torch.FloatTensor of size 1]"
      ]
     },
     "execution_count": 22,
     "metadata": {},
     "output_type": "execute_result"
    }
   ],
   "source": [
    "out = z.mean()\n",
    "out"
   ]
  },
  {
   "cell_type": "code",
   "execution_count": 23,
   "metadata": {},
   "outputs": [
    {
     "name": "stdout",
     "output_type": "stream",
     "text": [
      "Variable containing:\n",
      " 0.2500  0.2500\n",
      " 0.2500  0.2500\n",
      "[torch.FloatTensor of size 2x2]\n",
      "\n",
      "Variable containing:\n",
      " 3  3\n",
      " 3  3\n",
      "[torch.FloatTensor of size 2x2]\n",
      "\n"
     ]
    }
   ],
   "source": [
    "# Запускаем бэкпроп\n",
    "# На выходе получаем градиенты из хуков\n",
    "out.backward()"
   ]
  },
  {
   "cell_type": "code",
   "execution_count": 24,
   "metadata": {},
   "outputs": [
    {
     "data": {
      "text/plain": [
       "Variable containing:\n",
       " 3  3\n",
       " 3  3\n",
       "[torch.FloatTensor of size 2x2]"
      ]
     },
     "execution_count": 24,
     "metadata": {},
     "output_type": "execute_result"
    }
   ],
   "source": [
    "\n",
    "x.grad"
   ]
  },
  {
   "cell_type": "code",
   "execution_count": 72,
   "metadata": {},
   "outputs": [
    {
     "data": {
      "text/plain": [
       "Variable containing:\n",
       " 1\n",
       " 1\n",
       " 1\n",
       "[torch.FloatTensor of size 3]"
      ]
     },
     "execution_count": 72,
     "metadata": {},
     "output_type": "execute_result"
    }
   ],
   "source": [
    "v = torch.autograd.Variable(torch.randn(3), requires_grad=True)\n",
    "v2 = v+1\n",
    "v2.retain_grad()\n",
    "v2.sum().backward()\n",
    "v2.grad"
   ]
  },
  {
   "cell_type": "code",
   "execution_count": null,
   "metadata": {
    "collapsed": true
   },
   "outputs": [],
   "source": []
  },
  {
   "cell_type": "markdown",
   "metadata": {},
   "source": [
    "# Что произошло?"
   ]
  },
  {
   "cell_type": "markdown",
   "metadata": {},
   "source": [
    "autograd строит ациклический граф вычисления из переменных и операций (функций)\n",
    "out.backward проходит по всему графу начиная от вершины out и считает градиенты вершин"
   ]
  },
  {
   "cell_type": "markdown",
   "metadata": {},
   "source": [
    "Если мы хотим сохранить значения переменных в графе, то используем retain_graph = True. \n",
    "Это может быть нужно, если мы хотим несколько раз подряд сделать backprop"
   ]
  },
  {
   "cell_type": "code",
   "execution_count": 70,
   "metadata": {},
   "outputs": [
    {
     "data": {
      "text/plain": [
       "Variable containing:\n",
       " 6\n",
       " 4\n",
       "[torch.FloatTensor of size 2]"
      ]
     },
     "execution_count": 70,
     "metadata": {},
     "output_type": "execute_result"
    }
   ],
   "source": [
    "f = Variable(torch.Tensor([2,3]), requires_grad=True)\n",
    "g = f[0] * f[1]\n",
    "g.backward(retain_graph=True)\n",
    "f.grad\n",
    "g.backward()\n",
    "f.grad"
   ]
  },
  {
   "cell_type": "code",
   "execution_count": null,
   "metadata": {
    "collapsed": true
   },
   "outputs": [],
   "source": [
    "f = Variable(torch.Tensor([2,3]), requires_grad=True)\n",
    "g = f[0] * f[1]\n",
    "g.backward()\n",
    "f.grad\n",
    "g.backward()\n",
    "f.grad"
   ]
  },
  {
   "cell_type": "code",
   "execution_count": null,
   "metadata": {
    "collapsed": true
   },
   "outputs": [],
   "source": [
    "x = Variable(torch.ones(2, 2), requires_grad = True)\n",
    "y = x + 2\n",
    "y.backward(torch.ones(2, 2), retain_graph=True)\n",
    "x.grad\n",
    "\n"
   ]
  },
  {
   "cell_type": "code",
   "execution_count": 35,
   "metadata": {
    "collapsed": true
   },
   "outputs": [],
   "source": [
    "class MyReLU(torch.autograd.Function):\n",
    "\n",
    "    def forward(self, input):\n",
    "        # forward pass\n",
    "        self.save_for_backward(input)\n",
    "        return input.clamp(min=0)\n",
    "\n",
    "    def backward(self, grad_output):\n",
    "        # backward pass\n",
    "        input, = self.saved_tensors\n",
    "        grad_input = grad_output.clone()\n",
    "        grad_input[input < 0] = 0\n",
    "        return grad_input\n",
    "\n"
   ]
  },
  {
   "cell_type": "markdown",
   "metadata": {},
   "source": [
    "# Снова вернемся к исходной двухслойной сети"
   ]
  },
  {
   "cell_type": "code",
   "execution_count": null,
   "metadata": {
    "collapsed": true
   },
   "outputs": [],
   "source": [
    "import torch\n",
    "from torch.autograd import Variable\n",
    "\n",
    "dtype = torch.FloatTensor\n",
    "# dtype = torch.cuda.FloatTensor # GPU\n",
    "\n",
    "N, D_in, H, D_out = 64, 1000, 100, 10\n",
    "\n",
    "\n",
    "x = Variable(torch.randn(N, D_in).type(dtype), requires_grad=False)\n",
    "y = Variable(torch.randn(N, D_out).type(dtype), requires_grad=False)\n",
    "\n",
    "\n",
    "w1 = Variable(torch.randn(D_in, H).type(dtype), requires_grad=True)\n",
    "w2 = Variable(torch.randn(H, D_out).type(dtype), requires_grad=True)\n",
    "\n",
    "learning_rate = 1e-6\n",
    "for t in range(500):\n",
    "    y_pred = x.mm(w1).clamp(min=0).mm(w2)\n",
    "\n",
    "    loss = (y_pred - y).pow(2).sum()\n",
    "    print(t, loss.data[0])\n",
    "    \n",
    "    # Обнуляем градиенты\n",
    "    if w1.grad is not None:\n",
    "        w1.grad.data.zero_()\n",
    "    if w2.grad is not None:\n",
    "        w2.grad.data.zero_()\n",
    "\n",
    "    loss.backward()\n",
    "\n",
    "    w1.data -= learning_rate * w1.grad.data\n",
    "    w2.data -= learning_rate * w2.grad.data"
   ]
  },
  {
   "cell_type": "code",
   "execution_count": null,
   "metadata": {
    "collapsed": true
   },
   "outputs": [],
   "source": []
  },
  {
   "cell_type": "markdown",
   "metadata": {},
   "source": [
    "# Наконец, в PyTorch базовые слои нейронных сетей уже реализованы."
   ]
  },
  {
   "cell_type": "code",
   "execution_count": null,
   "metadata": {
    "collapsed": true
   },
   "outputs": [],
   "source": [
    "from torch.autograd import Variable\n",
    "\n",
    "N, D_in, D_out = 64, 1000, 10\n",
    "\n",
    "x = Variable(torch.randn(N, D_in))\n",
    "y = Variable(torch.randn(N, D_out), requires_grad=False)\n",
    "\n",
    "model = torch.nn.Sequential(\n",
    "          torch.nn.Linear(D_in, D_out)\n",
    "        )\n",
    "\n",
    "loss_fn = torch.nn.MSELoss(size_average=False)\n",
    "\n",
    "learning_rate = 1e-4\n",
    "for t in range(500):\n",
    "    y_pred = model(x)\n",
    "\n",
    "    loss = loss_fn(y_pred, y)\n",
    "    print(t, loss.data[0])\n",
    "\n",
    "    model.zero_grad()\n",
    "\n",
    "    loss.backward()\n",
    "\n",
    "    for param in model.parameters():\n",
    "        param.data -= learning_rate * param.grad.data"
   ]
  },
  {
   "cell_type": "code",
   "execution_count": 87,
   "metadata": {},
   "outputs": [
    {
     "data": {
      "text/plain": [
       "Variable containing:\n",
       "1.00000e-12 *\n",
       "  1.6793\n",
       "[torch.FloatTensor of size 1]"
      ]
     },
     "execution_count": 87,
     "metadata": {},
     "output_type": "execute_result"
    }
   ],
   "source": [
    "loss_fn(model(x), y)"
   ]
  },
  {
   "cell_type": "markdown",
   "metadata": {},
   "source": [
    "# А еще там есть уже готовые оптимизаторы, такие как GD, SGD, ADAM, etc."
   ]
  },
  {
   "cell_type": "code",
   "execution_count": null,
   "metadata": {
    "collapsed": true
   },
   "outputs": [],
   "source": [
    "N, D_in, D_out = 64, 1000, 10\n",
    "\n",
    "x = Variable(torch.randn(N, D_in))\n",
    "y = Variable(torch.randn(N, D_out), requires_grad=False)\n",
    "\n",
    "model = torch.nn.Sequential(\n",
    "          torch.nn.Linear(D_in, D_out),\n",
    "\n",
    "        )\n",
    "loss_fn = torch.nn.MSELoss(size_average=False)\n",
    "\n",
    "learning_rate = 1e-4\n",
    "optimizer = torch.optim.Adam(model.parameters(), lr=learning_rate)\n",
    "\n",
    "for t in range(500):\n",
    "    y_pred = model(x)\n",
    "\n",
    "    loss = loss_fn(y_pred, y)\n",
    "    print(t, loss.data[0])\n",
    "\n",
    "    optimizer.zero_grad()\n",
    "\n",
    "    loss.backward()\n",
    "\n",
    "    optimizer.step()"
   ]
  },
  {
   "cell_type": "code",
   "execution_count": 6,
   "metadata": {
    "collapsed": true
   },
   "outputs": [],
   "source": [
    "sgd = torch.optim.SGD\n",
    "adadelta = torch.optim.Adadelta\n",
    "adagrad = torch.optim.Adagrad\n",
    "rmsprop = torch.optim.RMSprop"
   ]
  },
  {
   "cell_type": "markdown",
   "metadata": {
    "collapsed": true
   },
   "source": [
    "# Сохранение и загрузка модели"
   ]
  },
  {
   "cell_type": "code",
   "execution_count": 51,
   "metadata": {},
   "outputs": [],
   "source": [
    "class Test(torch.nn.Module):\n",
    "    def __init__(self, A):\n",
    "        \"\"\"\n",
    "        In the constructor we instantiate two nn.Linear modules and assign them as\n",
    "        member variables.\n",
    "        \"\"\"\n",
    "        super(Test, self).__init__()\n",
    "        self.linear1 = torch.nn.Linear(A, A)\n",
    "        self.linear2 = torch.nn.Linear(A, A)\n",
    "\n",
    "    def forward(self, x, n_layers):\n",
    "        \"\"\"\n",
    "        In the forward function we accept a Variable of input data and we must return\n",
    "        a Variable of output data. We can use Modules defined in the constructor as\n",
    "        well as arbitrary operators on Variables.\n",
    "        \"\"\"\n",
    "        x = self.linear1(x)\n",
    "        if n_layers == 2:\n",
    "            print(1)\n",
    "            x = self.linear2(x)\n",
    "        return x.mean()\n",
    "\n",
    "model = Test(5)\n",
    "opt = torch.optim.Adam(model.parameters())"
   ]
  },
  {
   "cell_type": "code",
   "execution_count": 52,
   "metadata": {},
   "outputs": [],
   "source": [
    "inp = Variable(torch.Tensor(5,5))\n",
    "f = model.forward(inp, 1)\n",
    "f.backward()\n",
    "opt.step()"
   ]
  },
  {
   "cell_type": "code",
   "execution_count": 53,
   "metadata": {
    "collapsed": true
   },
   "outputs": [],
   "source": [
    "# Сохранение\n",
    "\n",
    "def save_checkpoint(state, filename='checkpoint.pth.tar'):\n",
    "    torch.save(state, filename)\n",
    "epoch =1    "
   ]
  },
  {
   "cell_type": "code",
   "execution_count": 54,
   "metadata": {},
   "outputs": [],
   "source": [
    "save_checkpoint({\n",
    "            'epoch': epoch,\n",
    "            'state_dict': model.state_dict(),\n",
    "            'optimizer' : opt.state_dict(),\n",
    "        })"
   ]
  },
  {
   "cell_type": "code",
   "execution_count": null,
   "metadata": {
    "collapsed": true
   },
   "outputs": [],
   "source": []
  },
  {
   "cell_type": "code",
   "execution_count": 55,
   "metadata": {},
   "outputs": [],
   "source": [
    "# Пример загрузки\n",
    "model = Test(5)\n",
    "opt = torch.optim.Adam(model.parameters())\n",
    "\n",
    "checkpoint = torch.load('checkpoint.pth.tar')\n",
    "start_epoch = checkpoint['epoch']\n",
    "model.load_state_dict(checkpoint['state_dict'])\n",
    "opt.load_state_dict(checkpoint['optimizer'])"
   ]
  },
  {
   "cell_type": "code",
   "execution_count": 56,
   "metadata": {},
   "outputs": [
    {
     "name": "stdout",
     "output_type": "stream",
     "text": [
      "1\n"
     ]
    }
   ],
   "source": [
    "f = model.forward(inp, 2)\n",
    "f.backward()\n",
    "opt.step()"
   ]
  },
  {
   "cell_type": "markdown",
   "metadata": {},
   "source": [
    "# Модели с произвольно сложной архитектурой"
   ]
  },
  {
   "cell_type": "code",
   "execution_count": null,
   "metadata": {
    "collapsed": true
   },
   "outputs": [],
   "source": [
    "class Net(nn.Module):\n",
    "    def __init__(self):\n",
    "        super(Net, self).__init__()\n",
    "        self.layer1 = \n",
    "        self.layer2 = \n",
    "\n",
    "    def forward(self, x):\n",
    "        pass"
   ]
  },
  {
   "cell_type": "code",
   "execution_count": null,
   "metadata": {
    "collapsed": true
   },
   "outputs": [],
   "source": []
  },
  {
   "cell_type": "markdown",
   "metadata": {},
   "source": [
    "## Datasets and Dataloaders"
   ]
  },
  {
   "cell_type": "markdown",
   "metadata": {},
   "source": [
    "Важная составляющая машинного обучения - работа с данными (загрузка, предобработка, аугментация). PyTorch имеет встроенные средства для этих операций.\n",
    "\n",
    "\n",
    "Разберем эти операции на примере датасета особых точек лица, находить которые мы будем учиться на семинаре.\n"
   ]
  },
  {
   "cell_type": "markdown",
   "metadata": {},
   "source": [
    "Примеры особых точек\n",
    "\n",
    "\n",
    "left_eye_center, right_eye_center, left_eye_inner_corner, left_eye_outer_corner, right_eye_inner_corner, right_eye_outer_corner, left_eyebrow_inner_end, left_eyebrow_outer_end, right_eyebrow_inner_end, right_eyebrow_outer_end, nose_tip, mouth_left_corner, mouth_right_corner, mouth_center_top_lip, mouth_center_bottom_lip"
   ]
  },
  {
   "cell_type": "code",
   "execution_count": 45,
   "metadata": {},
   "outputs": [
    {
     "name": "stdout",
     "output_type": "stream",
     "text": [
      "Image name: 1466.jpeg\n",
      "Landmarks shape: (68, 2)\n",
      "First 4 Landmarks: [[ 1. 34.]\n",
      " [-1. 45.]\n",
      " [ 0. 56.]\n",
      " [ 1. 66.]]\n"
     ]
    },
    {
     "data": {
      "image/png": "[encoded data removed]",
      "text/plain": [
       "<matplotlib.figure.Figure at 0x10a51e890>"
      ]
     },
     "metadata": {},
     "output_type": "display_data"
    }
   ],
   "source": [
    "%matplotlib inline\n",
    "from __future__ import print_function, division\n",
    "import os\n",
    "import torch\n",
    "import pandas as pd\n",
    "from skimage import io, transform\n",
    "import numpy as np\n",
    "import matplotlib.pyplot as plt\n",
    "from torch.utils.data import Dataset, DataLoader\n",
    "from torchvision import transforms, utils\n",
    "\n",
    "# Ignore warnings\n",
    "import warnings\n",
    "warnings.filterwarnings(\"ignore\")\n",
    "\n",
    "landmarks_frame = pd.read_csv('dataset/train/face_landmarks.csv')\n",
    "\n",
    "n = 500\n",
    "img_name = landmarks_frame.ix[n, 0]\n",
    "landmarks = landmarks_frame.ix[n, 1:].as_matrix().astype('float')\n",
    "landmarks = landmarks.reshape(-1, 2)\n",
    "\n",
    "print('Image name: {}'.format(img_name))\n",
    "print('Landmarks shape: {}'.format(landmarks.shape))\n",
    "print('First 4 Landmarks: {}'.format(landmarks[:4]))\n",
    "\n",
    "def show_landmarks(image, landmarks):\n",
    "    \"\"\"Show image with landmarks\"\"\"\n",
    "    plt.imshow(image, cmap='gray')\n",
    "    plt.scatter(landmarks[:, 0], landmarks[:, 1], s=10, marker='.', c='r')\n",
    "    plt.pause(0.001)  \n",
    "\n",
    "plt.figure()\n",
    "show_landmarks(io.imread(os.path.join('dataset/train/', img_name)),\n",
    "               landmarks)\n",
    "plt.show()"
   ]
  },
  {
   "cell_type": "markdown",
   "metadata": {},
   "source": [
    "Dataset class\n",
    "-------------\n",
    "\n",
    "``torch.utils.data.Dataset`` -- абстрактный класс представляющий датасет. \n",
    "\n",
    "\n",
    "Для нового класса датасета нужно отнаследоваться от класса Dataset и реализовать следующие функции:\n",
    "\n",
    "\n",
    "- ``__len__``  так что len(dataset) возвратит длину датасета.\n",
    "\n",
    "\n",
    "- ``__getitem__``  - индексация, такая что dataset[i] возвратит i-й элемент\n",
    "\n",
    "\n"
   ]
  },
  {
   "cell_type": "code",
   "execution_count": 46,
   "metadata": {
    "collapsed": true
   },
   "outputs": [],
   "source": [
    "class FaceLandmarksDataset(Dataset):\n",
    "    \"\"\"Face Landmarks dataset.\"\"\"\n",
    "\n",
    "    def __init__(self, csv_file, root_dir, transform=None):\n",
    "        \"\"\"\n",
    "        Args:\n",
    "            csv_file (string): Path to the csv file with annotations.\n",
    "            root_dir (string): Directory with all the images.\n",
    "            transform (callable, optional): Optional transform to be applied\n",
    "                on a sample.\n",
    "        \"\"\"\n",
    "        self.landmarks_frame = pd.read_csv(csv_file)\n",
    "        self.root_dir = root_dir\n",
    "        self.transform = transform\n",
    "\n",
    "    def __len__(self):\n",
    "        return len(self.landmarks_frame)\n",
    "\n",
    "    def __getitem__(self, idx):\n",
    "        img_name = os.path.join(self.root_dir, self.landmarks_frame.ix[idx, 0])\n",
    "        image = io.imread(img_name)\n",
    "        landmarks = self.landmarks_frame.ix[idx, 1:].as_matrix().astype('float')\n",
    "        landmarks = landmarks.reshape(-1, 2)\n",
    "        sample = {'image': image, 'landmarks': landmarks}\n",
    "\n",
    "        if self.transform:\n",
    "            sample = self.transform(sample)\n",
    "\n",
    "        return sample"
   ]
  },
  {
   "cell_type": "code",
   "execution_count": 47,
   "metadata": {},
   "outputs": [
    {
     "name": "stdout",
     "output_type": "stream",
     "text": [
      "0 (96, 96) (68, 2)\n"
     ]
    },
    {
     "data": {
      "image/png": "[encoded data removed]",
      "text/plain": [
       "<matplotlib.figure.Figure at 0x10a6e9d90>"
      ]
     },
     "metadata": {},
     "output_type": "display_data"
    },
    {
     "name": "stdout",
     "output_type": "stream",
     "text": [
      "1 (96, 96) (68, 2)\n"
     ]
    },
    {
     "data": {
      "image/png": "[encoded data removed]",
      "text/plain": [
       "<matplotlib.figure.Figure at 0x10a64d190>"
      ]
     },
     "metadata": {},
     "output_type": "display_data"
    },
    {
     "name": "stdout",
     "output_type": "stream",
     "text": [
      "2 (96, 96) (68, 2)\n"
     ]
    },
    {
     "data": {
      "image/png": "[encoded data removed]",
      "text/plain": [
       "<matplotlib.figure.Figure at 0x10a9c3e10>"
      ]
     },
     "metadata": {},
     "output_type": "display_data"
    },
    {
     "name": "stdout",
     "output_type": "stream",
     "text": [
      "3 (96, 96) (68, 2)\n"
     ]
    },
    {
     "data": {
      "image/png": "[encoded data removed]",
      "text/plain": [
       "<matplotlib.figure.Figure at 0x10a6e9850>"
      ]
     },
     "metadata": {},
     "output_type": "display_data"
    }
   ],
   "source": [
    "face_dataset = FaceLandmarksDataset(csv_file='dataset/train/face_landmarks.csv',\n",
    "                                    root_dir='dataset/train')\n",
    "\n",
    "fig = plt.figure()\n",
    "\n",
    "for i in range(len(face_dataset)):\n",
    "    sample = face_dataset[i]\n",
    "\n",
    "    print(i, sample['image'].shape, sample['landmarks'].shape)\n",
    "\n",
    "    ax = plt.subplot(1, 4, i + 1)\n",
    "    plt.tight_layout()\n",
    "    ax.set_title('Sample #{}'.format(i))\n",
    "    ax.axis('off')\n",
    "    show_landmarks(**sample)\n",
    "\n",
    "    if i == 3:\n",
    "        plt.show()\n",
    "        break"
   ]
  },
  {
   "cell_type": "markdown",
   "metadata": {},
   "source": [
    "Преобразования (transformations)\n",
    "----------\n",
    "\n",
    "Так как часто не все изображения одинакового размера, нужно уметь автоматически приводить их к таковому. Также полезно уметь увеличивать размер датасета (аугментация).\n",
    "\n",
    "-  ``Rescale``: приведение к определенному размеру\n",
    "-  ``RandomCrop``: случайный кроп изображения. (вариант аугментации)\n",
    "-  ``ToTensor``: приведение к тензору\n",
    "\n",
    "\n"
   ]
  },
  {
   "cell_type": "code",
   "execution_count": 59,
   "metadata": {
    "collapsed": true
   },
   "outputs": [],
   "source": [
    "class Rescale(object):\n",
    "    \"\"\"Rescale the image in a sample to a given size.\n",
    "\n",
    "    Args:\n",
    "        output_size (tuple or tuple): Desired output size. If tuple, output is\n",
    "            matched to output_size. If int, smaller of image edges is matched\n",
    "            to output_size keeping aspect ratio the same.\n",
    "    \"\"\"\n",
    "\n",
    "    def __init__(self, output_size):\n",
    "        assert isinstance(output_size, (int, tuple))\n",
    "        self.output_size = output_size\n",
    "\n",
    "    def __call__(self, sample):\n",
    "        image, landmarks = sample['image'], sample['landmarks']\n",
    "\n",
    "        h, w = image.shape[:2]\n",
    "        if isinstance(self.output_size, int):\n",
    "            if h > w:\n",
    "                new_h, new_w = self.output_size * h / w, self.output_size\n",
    "            else:\n",
    "                new_h, new_w = self.output_size, self.output_size * w / h\n",
    "        else:\n",
    "            new_h, new_w = self.output_size\n",
    "\n",
    "        new_h, new_w = int(new_h), int(new_w)\n",
    "\n",
    "        img = transform.resize(image, (new_h, new_w))\n",
    "\n",
    "        # h and w are swapped for landmarks because for images,\n",
    "        # x and y axes are axis 1 and 0 respectively\n",
    "        landmarks = landmarks * [new_w / w, new_h / h]\n",
    "\n",
    "        return {'image': img, 'landmarks': landmarks}\n",
    "\n",
    "\n",
    "class RandomCrop(object):\n",
    "    \"\"\"Crop randomly the image in a sample.\n",
    "\n",
    "    Args:\n",
    "        output_size (tuple or int): Desired output size. If int, square crop\n",
    "            is made.\n",
    "    \"\"\"\n",
    "\n",
    "    def __init__(self, output_size):\n",
    "        assert isinstance(output_size, (int, tuple))\n",
    "        if isinstance(output_size, int):\n",
    "            self.output_size = (output_size, output_size)\n",
    "        else:\n",
    "            assert len(output_size) == 2\n",
    "            self.output_size = output_size\n",
    "\n",
    "    def __call__(self, sample):\n",
    "        image, landmarks = sample['image'], sample['landmarks']\n",
    "\n",
    "        h, w = image.shape[:2]\n",
    "        new_h, new_w = self.output_size\n",
    "\n",
    "        top = np.random.randint(0, h - new_h)\n",
    "        left = np.random.randint(0, w - new_w)\n",
    "\n",
    "        image = image[top: top + new_h,\n",
    "                      left: left + new_w]\n",
    "\n",
    "        landmarks = landmarks - [left, top]\n",
    "\n",
    "        return {'image': image, 'landmarks': landmarks}\n",
    "\n",
    "\n",
    "class ToTensor(object):\n",
    "    \"\"\"Convert ndarrays in sample to Tensors.\"\"\"\n",
    "\n",
    "    def __call__(self, sample):\n",
    "        image, landmarks = sample['image'], sample['landmarks']\n",
    " \n",
    "        return {'image': torch.from_numpy(image),\n",
    "                'landmarks': torch.from_numpy(landmarks)}"
   ]
  },
  {
   "cell_type": "markdown",
   "metadata": {},
   "source": [
    "Приведем изображение к 68x68 и вырежем случайную область 60x60"
   ]
  },
  {
   "cell_type": "code",
   "execution_count": 55,
   "metadata": {},
   "outputs": [
    {
     "data": {
      "image/png": "[encoded data removed]",
      "text/plain": [
       "<matplotlib.figure.Figure at 0x10cc1f7d0>"
      ]
     },
     "metadata": {},
     "output_type": "display_data"
    },
    {
     "data": {
      "image/png": "[encoded data removed]",
      "text/plain": [
       "<matplotlib.figure.Figure at 0x10cea42d0>"
      ]
     },
     "metadata": {},
     "output_type": "display_data"
    },
    {
     "data": {
      "image/png": "[encoded data removed]",
      "text/plain": [
       "<matplotlib.figure.Figure at 0x103d69510>"
      ]
     },
     "metadata": {},
     "output_type": "display_data"
    }
   ],
   "source": [
    "scale = Rescale(68)\n",
    "crop = RandomCrop(60)\n",
    "composed = transforms.Compose([Rescale(68),\n",
    "                               RandomCrop(60)])\n",
    "\n",
    "# Apply each of the above transforms on sample.\n",
    "fig = plt.figure()\n",
    "sample = face_dataset[65]\n",
    "for i, tsfrm in enumerate([scale, crop, composed]):\n",
    "    transformed_sample = tsfrm(sample)\n",
    "\n",
    "    ax = plt.subplot(1, 3, i + 1)\n",
    "    plt.tight_layout()\n",
    "    ax.set_title(type(tsfrm).__name__)\n",
    "    show_landmarks(**transformed_sample)\n",
    "\n",
    "plt.show()"
   ]
  },
  {
   "cell_type": "markdown",
   "metadata": {},
   "source": [
    "## Итерирование по датасету"
   ]
  },
  {
   "cell_type": "code",
   "execution_count": 60,
   "metadata": {},
   "outputs": [
    {
     "name": "stdout",
     "output_type": "stream",
     "text": [
      "0 torch.Size([60, 60]) torch.Size([68, 2])\n",
      "1 torch.Size([60, 60]) torch.Size([68, 2])\n",
      "2 torch.Size([60, 60]) torch.Size([68, 2])\n",
      "3 torch.Size([60, 60]) torch.Size([68, 2])\n"
     ]
    }
   ],
   "source": [
    "transformed_dataset = FaceLandmarksDataset(csv_file='dataset/train/face_landmarks.csv',\n",
    "                                           root_dir='dataset/train/',\n",
    "                                           transform=transforms.Compose([\n",
    "                                               Rescale(68),\n",
    "                                               RandomCrop(60),\n",
    "                                               ToTensor()\n",
    "                                           ]))\n",
    "\n",
    "for i in range(len(transformed_dataset)):\n",
    "    sample = transformed_dataset[i]\n",
    "\n",
    "    print(i, sample['image'].size(), sample['landmarks'].size())\n",
    "\n",
    "    if i == 3:\n",
    "        break"
   ]
  },
  {
   "cell_type": "markdown",
   "metadata": {},
   "source": [
    "Для эффективного обучения хотим иметь еще следующие возможности:\n",
    "\n",
    "-  Батчи\n",
    "-  Шаффлы\n",
    "-  Параллельная загрузка\n",
    "\n",
    "``torch.utils.data.DataLoader`` итератор, который делает все что нам нужно. "
   ]
  },
  {
   "cell_type": "code",
   "execution_count": 63,
   "metadata": {},
   "outputs": [
    {
     "name": "stdout",
     "output_type": "stream",
     "text": [
      "0\n",
      "1\n",
      "2\n",
      "3\n"
     ]
    },
    {
     "data": {
      "image/png": "[encoded data removed]",
      "text/plain": [
       "<matplotlib.figure.Figure at 0x103c50d10>"
      ]
     },
     "metadata": {},
     "output_type": "display_data"
    }
   ],
   "source": [
    "dataloader = DataLoader(transformed_dataset, batch_size=4,\n",
    "                        shuffle=True, num_workers=4)\n",
    "\n",
    "\n",
    "# Helper function to show a batch\n",
    "def show_landmarks_batch(sample_batched):\n",
    "    \"\"\"Show image with landmarks for a batch of samples.\"\"\"\n",
    "    images_batch, landmarks_batch = \\\n",
    "            sample_batched['image'], sample_batched['landmarks']\n",
    "    batch_size = len(images_batch)\n",
    "    im_size = images_batch.size(2)\n",
    "\n",
    "    grid = utils.make_grid(images_batch)\n",
    "    plt.imshow(grid.numpy().transpose(1,0,2).reshape(im_size, -1), cmap=\"gray\")\n",
    "\n",
    "    for i in range(batch_size):\n",
    "        plt.scatter(landmarks_batch[i, :, 0].numpy() + i * im_size,\n",
    "                    landmarks_batch[i, :, 1].numpy(),\n",
    "                    s=10, marker='.', c='r')\n",
    "\n",
    "        plt.title('Batch from dataloader')\n",
    "\n",
    "for i_batch, sample_batched in enumerate(dataloader):\n",
    "    print(i_batch)\n",
    "\n",
    "    # observe 4th batch and stop.\n",
    "    if i_batch == 3:\n",
    "        plt.figure()\n",
    "        show_landmarks_batch(sample_batched)\n",
    "        plt.axis('off')\n",
    "        plt.ioff()\n",
    "        plt.show()\n",
    "        break"
   ]
  },
  {
   "cell_type": "code",
   "execution_count": 1,
   "metadata": {
    "collapsed": true
   },
   "outputs": [],
   "source": [
    "import pandas as pd"
   ]
  },
  {
   "cell_type": "code",
   "execution_count": 64,
   "metadata": {},
   "outputs": [
    {
     "data": {
      "text/html": [
       "<div>\n",
       "<table border=\"1\" class=\"dataframe\">\n",
       "  <thead>\n",
       "    <tr style=\"text-align: right;\">\n",
       "      <th></th>\n",
       "      <th>image_name</th>\n",
       "      <th>part_0_x</th>\n",
       "      <th>part_0_y</th>\n",
       "      <th>part_1_x</th>\n",
       "      <th>part_1_y</th>\n",
       "      <th>part_2_x</th>\n",
       "      <th>part_2_y</th>\n",
       "      <th>part_3_x</th>\n",
       "      <th>part_3_y</th>\n",
       "      <th>part_4_x</th>\n",
       "      <th>...</th>\n",
       "      <th>part_63_x</th>\n",
       "      <th>part_63_y</th>\n",
       "      <th>part_64_x</th>\n",
       "      <th>part_64_y</th>\n",
       "      <th>part_65_x</th>\n",
       "      <th>part_65_y</th>\n",
       "      <th>part_66_x</th>\n",
       "      <th>part_66_y</th>\n",
       "      <th>part_67_x</th>\n",
       "      <th>part_67_y</th>\n",
       "    </tr>\n",
       "  </thead>\n",
       "  <tbody>\n",
       "    <tr>\n",
       "      <th>0</th>\n",
       "      <td>0.jpeg</td>\n",
       "      <td>10</td>\n",
       "      <td>43</td>\n",
       "      <td>9</td>\n",
       "      <td>53</td>\n",
       "      <td>8</td>\n",
       "      <td>64</td>\n",
       "      <td>8</td>\n",
       "      <td>74</td>\n",
       "      <td>10</td>\n",
       "      <td>...</td>\n",
       "      <td>47</td>\n",
       "      <td>78</td>\n",
       "      <td>56</td>\n",
       "      <td>80</td>\n",
       "      <td>47</td>\n",
       "      <td>77</td>\n",
       "      <td>43</td>\n",
       "      <td>77</td>\n",
       "      <td>39</td>\n",
       "      <td>77</td>\n",
       "    </tr>\n",
       "    <tr>\n",
       "      <th>1</th>\n",
       "      <td>1.jpeg</td>\n",
       "      <td>9</td>\n",
       "      <td>32</td>\n",
       "      <td>8</td>\n",
       "      <td>42</td>\n",
       "      <td>9</td>\n",
       "      <td>52</td>\n",
       "      <td>12</td>\n",
       "      <td>62</td>\n",
       "      <td>15</td>\n",
       "      <td>...</td>\n",
       "      <td>48</td>\n",
       "      <td>74</td>\n",
       "      <td>53</td>\n",
       "      <td>76</td>\n",
       "      <td>48</td>\n",
       "      <td>77</td>\n",
       "      <td>46</td>\n",
       "      <td>77</td>\n",
       "      <td>42</td>\n",
       "      <td>77</td>\n",
       "    </tr>\n",
       "    <tr>\n",
       "      <th>2</th>\n",
       "      <td>10.jpeg</td>\n",
       "      <td>4</td>\n",
       "      <td>34</td>\n",
       "      <td>5</td>\n",
       "      <td>44</td>\n",
       "      <td>6</td>\n",
       "      <td>54</td>\n",
       "      <td>9</td>\n",
       "      <td>64</td>\n",
       "      <td>14</td>\n",
       "      <td>...</td>\n",
       "      <td>50</td>\n",
       "      <td>70</td>\n",
       "      <td>56</td>\n",
       "      <td>72</td>\n",
       "      <td>50</td>\n",
       "      <td>72</td>\n",
       "      <td>47</td>\n",
       "      <td>72</td>\n",
       "      <td>43</td>\n",
       "      <td>72</td>\n",
       "    </tr>\n",
       "    <tr>\n",
       "      <th>3</th>\n",
       "      <td>100.jpeg</td>\n",
       "      <td>12</td>\n",
       "      <td>41</td>\n",
       "      <td>13</td>\n",
       "      <td>51</td>\n",
       "      <td>15</td>\n",
       "      <td>60</td>\n",
       "      <td>17</td>\n",
       "      <td>70</td>\n",
       "      <td>21</td>\n",
       "      <td>...</td>\n",
       "      <td>54</td>\n",
       "      <td>72</td>\n",
       "      <td>61</td>\n",
       "      <td>71</td>\n",
       "      <td>54</td>\n",
       "      <td>73</td>\n",
       "      <td>51</td>\n",
       "      <td>73</td>\n",
       "      <td>47</td>\n",
       "      <td>73</td>\n",
       "    </tr>\n",
       "    <tr>\n",
       "      <th>4</th>\n",
       "      <td>1000.jpeg</td>\n",
       "      <td>8</td>\n",
       "      <td>46</td>\n",
       "      <td>9</td>\n",
       "      <td>55</td>\n",
       "      <td>10</td>\n",
       "      <td>64</td>\n",
       "      <td>12</td>\n",
       "      <td>73</td>\n",
       "      <td>16</td>\n",
       "      <td>...</td>\n",
       "      <td>54</td>\n",
       "      <td>65</td>\n",
       "      <td>62</td>\n",
       "      <td>70</td>\n",
       "      <td>54</td>\n",
       "      <td>72</td>\n",
       "      <td>50</td>\n",
       "      <td>72</td>\n",
       "      <td>46</td>\n",
       "      <td>71</td>\n",
       "    </tr>\n",
       "    <tr>\n",
       "      <th>5</th>\n",
       "      <td>1001.jpeg</td>\n",
       "      <td>10</td>\n",
       "      <td>38</td>\n",
       "      <td>12</td>\n",
       "      <td>48</td>\n",
       "      <td>14</td>\n",
       "      <td>58</td>\n",
       "      <td>16</td>\n",
       "      <td>66</td>\n",
       "      <td>19</td>\n",
       "      <td>...</td>\n",
       "      <td>51</td>\n",
       "      <td>68</td>\n",
       "      <td>60</td>\n",
       "      <td>71</td>\n",
       "      <td>52</td>\n",
       "      <td>76</td>\n",
       "      <td>48</td>\n",
       "      <td>76</td>\n",
       "      <td>44</td>\n",
       "      <td>76</td>\n",
       "    </tr>\n",
       "    <tr>\n",
       "      <th>6</th>\n",
       "      <td>1002.jpeg</td>\n",
       "      <td>5</td>\n",
       "      <td>30</td>\n",
       "      <td>5</td>\n",
       "      <td>42</td>\n",
       "      <td>6</td>\n",
       "      <td>53</td>\n",
       "      <td>7</td>\n",
       "      <td>63</td>\n",
       "      <td>9</td>\n",
       "      <td>...</td>\n",
       "      <td>49</td>\n",
       "      <td>79</td>\n",
       "      <td>57</td>\n",
       "      <td>81</td>\n",
       "      <td>49</td>\n",
       "      <td>81</td>\n",
       "      <td>44</td>\n",
       "      <td>81</td>\n",
       "      <td>39</td>\n",
       "      <td>80</td>\n",
       "    </tr>\n",
       "    <tr>\n",
       "      <th>7</th>\n",
       "      <td>1003.jpeg</td>\n",
       "      <td>11</td>\n",
       "      <td>36</td>\n",
       "      <td>13</td>\n",
       "      <td>46</td>\n",
       "      <td>15</td>\n",
       "      <td>56</td>\n",
       "      <td>18</td>\n",
       "      <td>66</td>\n",
       "      <td>21</td>\n",
       "      <td>...</td>\n",
       "      <td>54</td>\n",
       "      <td>73</td>\n",
       "      <td>62</td>\n",
       "      <td>73</td>\n",
       "      <td>54</td>\n",
       "      <td>77</td>\n",
       "      <td>50</td>\n",
       "      <td>77</td>\n",
       "      <td>45</td>\n",
       "      <td>77</td>\n",
       "    </tr>\n",
       "    <tr>\n",
       "      <th>8</th>\n",
       "      <td>1004.jpeg</td>\n",
       "      <td>8</td>\n",
       "      <td>31</td>\n",
       "      <td>8</td>\n",
       "      <td>41</td>\n",
       "      <td>9</td>\n",
       "      <td>51</td>\n",
       "      <td>10</td>\n",
       "      <td>61</td>\n",
       "      <td>14</td>\n",
       "      <td>...</td>\n",
       "      <td>48</td>\n",
       "      <td>76</td>\n",
       "      <td>55</td>\n",
       "      <td>77</td>\n",
       "      <td>48</td>\n",
       "      <td>75</td>\n",
       "      <td>44</td>\n",
       "      <td>75</td>\n",
       "      <td>41</td>\n",
       "      <td>73</td>\n",
       "    </tr>\n",
       "    <tr>\n",
       "      <th>9</th>\n",
       "      <td>1005.jpeg</td>\n",
       "      <td>15</td>\n",
       "      <td>36</td>\n",
       "      <td>16</td>\n",
       "      <td>45</td>\n",
       "      <td>17</td>\n",
       "      <td>53</td>\n",
       "      <td>19</td>\n",
       "      <td>61</td>\n",
       "      <td>22</td>\n",
       "      <td>...</td>\n",
       "      <td>48</td>\n",
       "      <td>66</td>\n",
       "      <td>54</td>\n",
       "      <td>69</td>\n",
       "      <td>48</td>\n",
       "      <td>70</td>\n",
       "      <td>45</td>\n",
       "      <td>70</td>\n",
       "      <td>42</td>\n",
       "      <td>69</td>\n",
       "    </tr>\n",
       "    <tr>\n",
       "      <th>10</th>\n",
       "      <td>1006.jpeg</td>\n",
       "      <td>7</td>\n",
       "      <td>48</td>\n",
       "      <td>6</td>\n",
       "      <td>57</td>\n",
       "      <td>8</td>\n",
       "      <td>66</td>\n",
       "      <td>10</td>\n",
       "      <td>75</td>\n",
       "      <td>13</td>\n",
       "      <td>...</td>\n",
       "      <td>50</td>\n",
       "      <td>73</td>\n",
       "      <td>59</td>\n",
       "      <td>79</td>\n",
       "      <td>51</td>\n",
       "      <td>80</td>\n",
       "      <td>47</td>\n",
       "      <td>80</td>\n",
       "      <td>43</td>\n",
       "      <td>80</td>\n",
       "    </tr>\n",
       "    <tr>\n",
       "      <th>11</th>\n",
       "      <td>1007.jpeg</td>\n",
       "      <td>7</td>\n",
       "      <td>36</td>\n",
       "      <td>8</td>\n",
       "      <td>47</td>\n",
       "      <td>10</td>\n",
       "      <td>57</td>\n",
       "      <td>12</td>\n",
       "      <td>67</td>\n",
       "      <td>15</td>\n",
       "      <td>...</td>\n",
       "      <td>50</td>\n",
       "      <td>79</td>\n",
       "      <td>58</td>\n",
       "      <td>80</td>\n",
       "      <td>49</td>\n",
       "      <td>80</td>\n",
       "      <td>45</td>\n",
       "      <td>80</td>\n",
       "      <td>42</td>\n",
       "      <td>80</td>\n",
       "    </tr>\n",
       "    <tr>\n",
       "      <th>12</th>\n",
       "      <td>1008.jpeg</td>\n",
       "      <td>1</td>\n",
       "      <td>33</td>\n",
       "      <td>3</td>\n",
       "      <td>44</td>\n",
       "      <td>5</td>\n",
       "      <td>55</td>\n",
       "      <td>7</td>\n",
       "      <td>65</td>\n",
       "      <td>11</td>\n",
       "      <td>...</td>\n",
       "      <td>49</td>\n",
       "      <td>71</td>\n",
       "      <td>55</td>\n",
       "      <td>74</td>\n",
       "      <td>49</td>\n",
       "      <td>74</td>\n",
       "      <td>44</td>\n",
       "      <td>74</td>\n",
       "      <td>39</td>\n",
       "      <td>74</td>\n",
       "    </tr>\n",
       "    <tr>\n",
       "      <th>13</th>\n",
       "      <td>1009.jpeg</td>\n",
       "      <td>6</td>\n",
       "      <td>33</td>\n",
       "      <td>7</td>\n",
       "      <td>44</td>\n",
       "      <td>9</td>\n",
       "      <td>54</td>\n",
       "      <td>12</td>\n",
       "      <td>64</td>\n",
       "      <td>16</td>\n",
       "      <td>...</td>\n",
       "      <td>50</td>\n",
       "      <td>69</td>\n",
       "      <td>55</td>\n",
       "      <td>72</td>\n",
       "      <td>50</td>\n",
       "      <td>75</td>\n",
       "      <td>47</td>\n",
       "      <td>76</td>\n",
       "      <td>44</td>\n",
       "      <td>75</td>\n",
       "    </tr>\n",
       "    <tr>\n",
       "      <th>14</th>\n",
       "      <td>101.jpeg</td>\n",
       "      <td>-2</td>\n",
       "      <td>43</td>\n",
       "      <td>0</td>\n",
       "      <td>55</td>\n",
       "      <td>2</td>\n",
       "      <td>66</td>\n",
       "      <td>6</td>\n",
       "      <td>76</td>\n",
       "      <td>12</td>\n",
       "      <td>...</td>\n",
       "      <td>56</td>\n",
       "      <td>79</td>\n",
       "      <td>60</td>\n",
       "      <td>80</td>\n",
       "      <td>57</td>\n",
       "      <td>81</td>\n",
       "      <td>54</td>\n",
       "      <td>82</td>\n",
       "      <td>50</td>\n",
       "      <td>82</td>\n",
       "    </tr>\n",
       "    <tr>\n",
       "      <th>15</th>\n",
       "      <td>1010.jpeg</td>\n",
       "      <td>10</td>\n",
       "      <td>36</td>\n",
       "      <td>10</td>\n",
       "      <td>46</td>\n",
       "      <td>12</td>\n",
       "      <td>55</td>\n",
       "      <td>14</td>\n",
       "      <td>65</td>\n",
       "      <td>17</td>\n",
       "      <td>...</td>\n",
       "      <td>51</td>\n",
       "      <td>71</td>\n",
       "      <td>60</td>\n",
       "      <td>73</td>\n",
       "      <td>52</td>\n",
       "      <td>78</td>\n",
       "      <td>47</td>\n",
       "      <td>79</td>\n",
       "      <td>43</td>\n",
       "      <td>79</td>\n",
       "    </tr>\n",
       "    <tr>\n",
       "      <th>16</th>\n",
       "      <td>1011.jpeg</td>\n",
       "      <td>14</td>\n",
       "      <td>47</td>\n",
       "      <td>15</td>\n",
       "      <td>56</td>\n",
       "      <td>16</td>\n",
       "      <td>66</td>\n",
       "      <td>18</td>\n",
       "      <td>75</td>\n",
       "      <td>23</td>\n",
       "      <td>...</td>\n",
       "      <td>54</td>\n",
       "      <td>72</td>\n",
       "      <td>63</td>\n",
       "      <td>71</td>\n",
       "      <td>54</td>\n",
       "      <td>72</td>\n",
       "      <td>51</td>\n",
       "      <td>73</td>\n",
       "      <td>47</td>\n",
       "      <td>73</td>\n",
       "    </tr>\n",
       "    <tr>\n",
       "      <th>17</th>\n",
       "      <td>1012.jpeg</td>\n",
       "      <td>5</td>\n",
       "      <td>36</td>\n",
       "      <td>6</td>\n",
       "      <td>47</td>\n",
       "      <td>7</td>\n",
       "      <td>56</td>\n",
       "      <td>9</td>\n",
       "      <td>66</td>\n",
       "      <td>13</td>\n",
       "      <td>...</td>\n",
       "      <td>49</td>\n",
       "      <td>72</td>\n",
       "      <td>56</td>\n",
       "      <td>74</td>\n",
       "      <td>49</td>\n",
       "      <td>74</td>\n",
       "      <td>46</td>\n",
       "      <td>74</td>\n",
       "      <td>43</td>\n",
       "      <td>74</td>\n",
       "    </tr>\n",
       "    <tr>\n",
       "      <th>18</th>\n",
       "      <td>1013.jpeg</td>\n",
       "      <td>5</td>\n",
       "      <td>38</td>\n",
       "      <td>5</td>\n",
       "      <td>48</td>\n",
       "      <td>6</td>\n",
       "      <td>57</td>\n",
       "      <td>8</td>\n",
       "      <td>66</td>\n",
       "      <td>11</td>\n",
       "      <td>...</td>\n",
       "      <td>50</td>\n",
       "      <td>69</td>\n",
       "      <td>58</td>\n",
       "      <td>70</td>\n",
       "      <td>50</td>\n",
       "      <td>69</td>\n",
       "      <td>46</td>\n",
       "      <td>70</td>\n",
       "      <td>42</td>\n",
       "      <td>69</td>\n",
       "    </tr>\n",
       "    <tr>\n",
       "      <th>19</th>\n",
       "      <td>1014.jpeg</td>\n",
       "      <td>0</td>\n",
       "      <td>34</td>\n",
       "      <td>1</td>\n",
       "      <td>46</td>\n",
       "      <td>4</td>\n",
       "      <td>56</td>\n",
       "      <td>6</td>\n",
       "      <td>67</td>\n",
       "      <td>10</td>\n",
       "      <td>...</td>\n",
       "      <td>49</td>\n",
       "      <td>72</td>\n",
       "      <td>55</td>\n",
       "      <td>74</td>\n",
       "      <td>49</td>\n",
       "      <td>75</td>\n",
       "      <td>44</td>\n",
       "      <td>76</td>\n",
       "      <td>39</td>\n",
       "      <td>75</td>\n",
       "    </tr>\n",
       "    <tr>\n",
       "      <th>20</th>\n",
       "      <td>1015.jpeg</td>\n",
       "      <td>12</td>\n",
       "      <td>38</td>\n",
       "      <td>12</td>\n",
       "      <td>48</td>\n",
       "      <td>14</td>\n",
       "      <td>58</td>\n",
       "      <td>16</td>\n",
       "      <td>68</td>\n",
       "      <td>20</td>\n",
       "      <td>...</td>\n",
       "      <td>54</td>\n",
       "      <td>71</td>\n",
       "      <td>62</td>\n",
       "      <td>70</td>\n",
       "      <td>54</td>\n",
       "      <td>72</td>\n",
       "      <td>50</td>\n",
       "      <td>72</td>\n",
       "      <td>46</td>\n",
       "      <td>72</td>\n",
       "    </tr>\n",
       "    <tr>\n",
       "      <th>21</th>\n",
       "      <td>1016.jpeg</td>\n",
       "      <td>4</td>\n",
       "      <td>39</td>\n",
       "      <td>6</td>\n",
       "      <td>50</td>\n",
       "      <td>8</td>\n",
       "      <td>60</td>\n",
       "      <td>10</td>\n",
       "      <td>70</td>\n",
       "      <td>13</td>\n",
       "      <td>...</td>\n",
       "      <td>52</td>\n",
       "      <td>80</td>\n",
       "      <td>57</td>\n",
       "      <td>82</td>\n",
       "      <td>51</td>\n",
       "      <td>81</td>\n",
       "      <td>47</td>\n",
       "      <td>82</td>\n",
       "      <td>43</td>\n",
       "      <td>81</td>\n",
       "    </tr>\n",
       "    <tr>\n",
       "      <th>22</th>\n",
       "      <td>1017.jpeg</td>\n",
       "      <td>6</td>\n",
       "      <td>44</td>\n",
       "      <td>7</td>\n",
       "      <td>54</td>\n",
       "      <td>9</td>\n",
       "      <td>64</td>\n",
       "      <td>11</td>\n",
       "      <td>74</td>\n",
       "      <td>15</td>\n",
       "      <td>...</td>\n",
       "      <td>57</td>\n",
       "      <td>72</td>\n",
       "      <td>64</td>\n",
       "      <td>73</td>\n",
       "      <td>57</td>\n",
       "      <td>73</td>\n",
       "      <td>53</td>\n",
       "      <td>73</td>\n",
       "      <td>49</td>\n",
       "      <td>73</td>\n",
       "    </tr>\n",
       "    <tr>\n",
       "      <th>23</th>\n",
       "      <td>1018.jpeg</td>\n",
       "      <td>6</td>\n",
       "      <td>32</td>\n",
       "      <td>6</td>\n",
       "      <td>43</td>\n",
       "      <td>7</td>\n",
       "      <td>53</td>\n",
       "      <td>9</td>\n",
       "      <td>62</td>\n",
       "      <td>13</td>\n",
       "      <td>...</td>\n",
       "      <td>48</td>\n",
       "      <td>75</td>\n",
       "      <td>52</td>\n",
       "      <td>77</td>\n",
       "      <td>48</td>\n",
       "      <td>78</td>\n",
       "      <td>44</td>\n",
       "      <td>79</td>\n",
       "      <td>42</td>\n",
       "      <td>78</td>\n",
       "    </tr>\n",
       "    <tr>\n",
       "      <th>24</th>\n",
       "      <td>1019.jpeg</td>\n",
       "      <td>6</td>\n",
       "      <td>46</td>\n",
       "      <td>7</td>\n",
       "      <td>55</td>\n",
       "      <td>8</td>\n",
       "      <td>65</td>\n",
       "      <td>11</td>\n",
       "      <td>74</td>\n",
       "      <td>15</td>\n",
       "      <td>...</td>\n",
       "      <td>52</td>\n",
       "      <td>75</td>\n",
       "      <td>62</td>\n",
       "      <td>75</td>\n",
       "      <td>53</td>\n",
       "      <td>75</td>\n",
       "      <td>50</td>\n",
       "      <td>76</td>\n",
       "      <td>46</td>\n",
       "      <td>76</td>\n",
       "    </tr>\n",
       "    <tr>\n",
       "      <th>25</th>\n",
       "      <td>1020.jpeg</td>\n",
       "      <td>6</td>\n",
       "      <td>37</td>\n",
       "      <td>6</td>\n",
       "      <td>48</td>\n",
       "      <td>8</td>\n",
       "      <td>58</td>\n",
       "      <td>10</td>\n",
       "      <td>68</td>\n",
       "      <td>13</td>\n",
       "      <td>...</td>\n",
       "      <td>51</td>\n",
       "      <td>74</td>\n",
       "      <td>60</td>\n",
       "      <td>75</td>\n",
       "      <td>51</td>\n",
       "      <td>74</td>\n",
       "      <td>47</td>\n",
       "      <td>74</td>\n",
       "      <td>43</td>\n",
       "      <td>74</td>\n",
       "    </tr>\n",
       "    <tr>\n",
       "      <th>26</th>\n",
       "      <td>1021.jpeg</td>\n",
       "      <td>11</td>\n",
       "      <td>39</td>\n",
       "      <td>11</td>\n",
       "      <td>50</td>\n",
       "      <td>12</td>\n",
       "      <td>60</td>\n",
       "      <td>13</td>\n",
       "      <td>71</td>\n",
       "      <td>16</td>\n",
       "      <td>...</td>\n",
       "      <td>53</td>\n",
       "      <td>76</td>\n",
       "      <td>61</td>\n",
       "      <td>77</td>\n",
       "      <td>53</td>\n",
       "      <td>76</td>\n",
       "      <td>49</td>\n",
       "      <td>77</td>\n",
       "      <td>45</td>\n",
       "      <td>77</td>\n",
       "    </tr>\n",
       "    <tr>\n",
       "      <th>27</th>\n",
       "      <td>1022.jpeg</td>\n",
       "      <td>10</td>\n",
       "      <td>42</td>\n",
       "      <td>10</td>\n",
       "      <td>52</td>\n",
       "      <td>12</td>\n",
       "      <td>62</td>\n",
       "      <td>14</td>\n",
       "      <td>71</td>\n",
       "      <td>17</td>\n",
       "      <td>...</td>\n",
       "      <td>49</td>\n",
       "      <td>78</td>\n",
       "      <td>57</td>\n",
       "      <td>79</td>\n",
       "      <td>49</td>\n",
       "      <td>78</td>\n",
       "      <td>45</td>\n",
       "      <td>79</td>\n",
       "      <td>41</td>\n",
       "      <td>78</td>\n",
       "    </tr>\n",
       "    <tr>\n",
       "      <th>28</th>\n",
       "      <td>1023.jpeg</td>\n",
       "      <td>7</td>\n",
       "      <td>39</td>\n",
       "      <td>8</td>\n",
       "      <td>49</td>\n",
       "      <td>10</td>\n",
       "      <td>59</td>\n",
       "      <td>13</td>\n",
       "      <td>69</td>\n",
       "      <td>16</td>\n",
       "      <td>...</td>\n",
       "      <td>53</td>\n",
       "      <td>71</td>\n",
       "      <td>61</td>\n",
       "      <td>74</td>\n",
       "      <td>53</td>\n",
       "      <td>79</td>\n",
       "      <td>49</td>\n",
       "      <td>79</td>\n",
       "      <td>44</td>\n",
       "      <td>79</td>\n",
       "    </tr>\n",
       "    <tr>\n",
       "      <th>29</th>\n",
       "      <td>1024.jpeg</td>\n",
       "      <td>7</td>\n",
       "      <td>38</td>\n",
       "      <td>9</td>\n",
       "      <td>48</td>\n",
       "      <td>10</td>\n",
       "      <td>58</td>\n",
       "      <td>12</td>\n",
       "      <td>68</td>\n",
       "      <td>15</td>\n",
       "      <td>...</td>\n",
       "      <td>50</td>\n",
       "      <td>76</td>\n",
       "      <td>60</td>\n",
       "      <td>78</td>\n",
       "      <td>50</td>\n",
       "      <td>81</td>\n",
       "      <td>46</td>\n",
       "      <td>82</td>\n",
       "      <td>42</td>\n",
       "      <td>81</td>\n",
       "    </tr>\n",
       "    <tr>\n",
       "      <th>...</th>\n",
       "      <td>...</td>\n",
       "      <td>...</td>\n",
       "      <td>...</td>\n",
       "      <td>...</td>\n",
       "      <td>...</td>\n",
       "      <td>...</td>\n",
       "      <td>...</td>\n",
       "      <td>...</td>\n",
       "      <td>...</td>\n",
       "      <td>...</td>\n",
       "      <td>...</td>\n",
       "      <td>...</td>\n",
       "      <td>...</td>\n",
       "      <td>...</td>\n",
       "      <td>...</td>\n",
       "      <td>...</td>\n",
       "      <td>...</td>\n",
       "      <td>...</td>\n",
       "      <td>...</td>\n",
       "      <td>...</td>\n",
       "      <td>...</td>\n",
       "    </tr>\n",
       "    <tr>\n",
       "      <th>6191</th>\n",
       "      <td>971.jpeg</td>\n",
       "      <td>10</td>\n",
       "      <td>43</td>\n",
       "      <td>10</td>\n",
       "      <td>52</td>\n",
       "      <td>12</td>\n",
       "      <td>61</td>\n",
       "      <td>14</td>\n",
       "      <td>70</td>\n",
       "      <td>18</td>\n",
       "      <td>...</td>\n",
       "      <td>51</td>\n",
       "      <td>66</td>\n",
       "      <td>59</td>\n",
       "      <td>69</td>\n",
       "      <td>51</td>\n",
       "      <td>68</td>\n",
       "      <td>48</td>\n",
       "      <td>69</td>\n",
       "      <td>46</td>\n",
       "      <td>69</td>\n",
       "    </tr>\n",
       "    <tr>\n",
       "      <th>6192</th>\n",
       "      <td>972.jpeg</td>\n",
       "      <td>8</td>\n",
       "      <td>42</td>\n",
       "      <td>10</td>\n",
       "      <td>52</td>\n",
       "      <td>12</td>\n",
       "      <td>61</td>\n",
       "      <td>14</td>\n",
       "      <td>71</td>\n",
       "      <td>18</td>\n",
       "      <td>...</td>\n",
       "      <td>54</td>\n",
       "      <td>73</td>\n",
       "      <td>61</td>\n",
       "      <td>74</td>\n",
       "      <td>54</td>\n",
       "      <td>75</td>\n",
       "      <td>50</td>\n",
       "      <td>76</td>\n",
       "      <td>45</td>\n",
       "      <td>76</td>\n",
       "    </tr>\n",
       "    <tr>\n",
       "      <th>6193</th>\n",
       "      <td>973.jpeg</td>\n",
       "      <td>14</td>\n",
       "      <td>42</td>\n",
       "      <td>14</td>\n",
       "      <td>52</td>\n",
       "      <td>15</td>\n",
       "      <td>61</td>\n",
       "      <td>16</td>\n",
       "      <td>71</td>\n",
       "      <td>19</td>\n",
       "      <td>...</td>\n",
       "      <td>50</td>\n",
       "      <td>77</td>\n",
       "      <td>60</td>\n",
       "      <td>78</td>\n",
       "      <td>51</td>\n",
       "      <td>80</td>\n",
       "      <td>46</td>\n",
       "      <td>80</td>\n",
       "      <td>42</td>\n",
       "      <td>80</td>\n",
       "    </tr>\n",
       "    <tr>\n",
       "      <th>6194</th>\n",
       "      <td>974.jpeg</td>\n",
       "      <td>10</td>\n",
       "      <td>42</td>\n",
       "      <td>11</td>\n",
       "      <td>53</td>\n",
       "      <td>12</td>\n",
       "      <td>62</td>\n",
       "      <td>14</td>\n",
       "      <td>72</td>\n",
       "      <td>16</td>\n",
       "      <td>...</td>\n",
       "      <td>52</td>\n",
       "      <td>78</td>\n",
       "      <td>61</td>\n",
       "      <td>79</td>\n",
       "      <td>52</td>\n",
       "      <td>79</td>\n",
       "      <td>48</td>\n",
       "      <td>79</td>\n",
       "      <td>43</td>\n",
       "      <td>79</td>\n",
       "    </tr>\n",
       "    <tr>\n",
       "      <th>6195</th>\n",
       "      <td>975.jpeg</td>\n",
       "      <td>8</td>\n",
       "      <td>41</td>\n",
       "      <td>8</td>\n",
       "      <td>52</td>\n",
       "      <td>10</td>\n",
       "      <td>62</td>\n",
       "      <td>12</td>\n",
       "      <td>72</td>\n",
       "      <td>15</td>\n",
       "      <td>...</td>\n",
       "      <td>51</td>\n",
       "      <td>81</td>\n",
       "      <td>57</td>\n",
       "      <td>84</td>\n",
       "      <td>51</td>\n",
       "      <td>81</td>\n",
       "      <td>49</td>\n",
       "      <td>82</td>\n",
       "      <td>46</td>\n",
       "      <td>81</td>\n",
       "    </tr>\n",
       "    <tr>\n",
       "      <th>6196</th>\n",
       "      <td>976.jpeg</td>\n",
       "      <td>6</td>\n",
       "      <td>38</td>\n",
       "      <td>7</td>\n",
       "      <td>49</td>\n",
       "      <td>9</td>\n",
       "      <td>59</td>\n",
       "      <td>10</td>\n",
       "      <td>69</td>\n",
       "      <td>12</td>\n",
       "      <td>...</td>\n",
       "      <td>50</td>\n",
       "      <td>79</td>\n",
       "      <td>58</td>\n",
       "      <td>80</td>\n",
       "      <td>50</td>\n",
       "      <td>79</td>\n",
       "      <td>46</td>\n",
       "      <td>79</td>\n",
       "      <td>42</td>\n",
       "      <td>79</td>\n",
       "    </tr>\n",
       "    <tr>\n",
       "      <th>6197</th>\n",
       "      <td>977.jpeg</td>\n",
       "      <td>17</td>\n",
       "      <td>40</td>\n",
       "      <td>17</td>\n",
       "      <td>49</td>\n",
       "      <td>18</td>\n",
       "      <td>58</td>\n",
       "      <td>19</td>\n",
       "      <td>66</td>\n",
       "      <td>23</td>\n",
       "      <td>...</td>\n",
       "      <td>52</td>\n",
       "      <td>71</td>\n",
       "      <td>60</td>\n",
       "      <td>69</td>\n",
       "      <td>53</td>\n",
       "      <td>70</td>\n",
       "      <td>50</td>\n",
       "      <td>70</td>\n",
       "      <td>46</td>\n",
       "      <td>70</td>\n",
       "    </tr>\n",
       "    <tr>\n",
       "      <th>6198</th>\n",
       "      <td>978.jpeg</td>\n",
       "      <td>5</td>\n",
       "      <td>34</td>\n",
       "      <td>7</td>\n",
       "      <td>45</td>\n",
       "      <td>9</td>\n",
       "      <td>56</td>\n",
       "      <td>12</td>\n",
       "      <td>66</td>\n",
       "      <td>15</td>\n",
       "      <td>...</td>\n",
       "      <td>53</td>\n",
       "      <td>77</td>\n",
       "      <td>61</td>\n",
       "      <td>77</td>\n",
       "      <td>53</td>\n",
       "      <td>77</td>\n",
       "      <td>48</td>\n",
       "      <td>78</td>\n",
       "      <td>44</td>\n",
       "      <td>78</td>\n",
       "    </tr>\n",
       "    <tr>\n",
       "      <th>6199</th>\n",
       "      <td>979.jpeg</td>\n",
       "      <td>9</td>\n",
       "      <td>39</td>\n",
       "      <td>9</td>\n",
       "      <td>49</td>\n",
       "      <td>10</td>\n",
       "      <td>59</td>\n",
       "      <td>12</td>\n",
       "      <td>68</td>\n",
       "      <td>14</td>\n",
       "      <td>...</td>\n",
       "      <td>51</td>\n",
       "      <td>73</td>\n",
       "      <td>61</td>\n",
       "      <td>74</td>\n",
       "      <td>51</td>\n",
       "      <td>77</td>\n",
       "      <td>47</td>\n",
       "      <td>78</td>\n",
       "      <td>43</td>\n",
       "      <td>77</td>\n",
       "    </tr>\n",
       "    <tr>\n",
       "      <th>6200</th>\n",
       "      <td>98.jpeg</td>\n",
       "      <td>8</td>\n",
       "      <td>37</td>\n",
       "      <td>8</td>\n",
       "      <td>48</td>\n",
       "      <td>10</td>\n",
       "      <td>58</td>\n",
       "      <td>12</td>\n",
       "      <td>67</td>\n",
       "      <td>15</td>\n",
       "      <td>...</td>\n",
       "      <td>50</td>\n",
       "      <td>75</td>\n",
       "      <td>58</td>\n",
       "      <td>80</td>\n",
       "      <td>50</td>\n",
       "      <td>81</td>\n",
       "      <td>45</td>\n",
       "      <td>81</td>\n",
       "      <td>40</td>\n",
       "      <td>80</td>\n",
       "    </tr>\n",
       "    <tr>\n",
       "      <th>6201</th>\n",
       "      <td>980.jpeg</td>\n",
       "      <td>7</td>\n",
       "      <td>40</td>\n",
       "      <td>8</td>\n",
       "      <td>51</td>\n",
       "      <td>9</td>\n",
       "      <td>60</td>\n",
       "      <td>12</td>\n",
       "      <td>70</td>\n",
       "      <td>16</td>\n",
       "      <td>...</td>\n",
       "      <td>54</td>\n",
       "      <td>74</td>\n",
       "      <td>65</td>\n",
       "      <td>74</td>\n",
       "      <td>54</td>\n",
       "      <td>81</td>\n",
       "      <td>50</td>\n",
       "      <td>81</td>\n",
       "      <td>45</td>\n",
       "      <td>80</td>\n",
       "    </tr>\n",
       "    <tr>\n",
       "      <th>6202</th>\n",
       "      <td>981.jpeg</td>\n",
       "      <td>0</td>\n",
       "      <td>34</td>\n",
       "      <td>2</td>\n",
       "      <td>45</td>\n",
       "      <td>5</td>\n",
       "      <td>56</td>\n",
       "      <td>8</td>\n",
       "      <td>67</td>\n",
       "      <td>11</td>\n",
       "      <td>...</td>\n",
       "      <td>53</td>\n",
       "      <td>78</td>\n",
       "      <td>62</td>\n",
       "      <td>78</td>\n",
       "      <td>53</td>\n",
       "      <td>80</td>\n",
       "      <td>49</td>\n",
       "      <td>80</td>\n",
       "      <td>44</td>\n",
       "      <td>80</td>\n",
       "    </tr>\n",
       "    <tr>\n",
       "      <th>6203</th>\n",
       "      <td>982.jpeg</td>\n",
       "      <td>8</td>\n",
       "      <td>39</td>\n",
       "      <td>9</td>\n",
       "      <td>49</td>\n",
       "      <td>10</td>\n",
       "      <td>59</td>\n",
       "      <td>13</td>\n",
       "      <td>70</td>\n",
       "      <td>17</td>\n",
       "      <td>...</td>\n",
       "      <td>51</td>\n",
       "      <td>77</td>\n",
       "      <td>59</td>\n",
       "      <td>77</td>\n",
       "      <td>51</td>\n",
       "      <td>78</td>\n",
       "      <td>47</td>\n",
       "      <td>78</td>\n",
       "      <td>44</td>\n",
       "      <td>78</td>\n",
       "    </tr>\n",
       "    <tr>\n",
       "      <th>6204</th>\n",
       "      <td>983.jpeg</td>\n",
       "      <td>5</td>\n",
       "      <td>45</td>\n",
       "      <td>5</td>\n",
       "      <td>54</td>\n",
       "      <td>7</td>\n",
       "      <td>64</td>\n",
       "      <td>9</td>\n",
       "      <td>73</td>\n",
       "      <td>12</td>\n",
       "      <td>...</td>\n",
       "      <td>50</td>\n",
       "      <td>72</td>\n",
       "      <td>58</td>\n",
       "      <td>75</td>\n",
       "      <td>50</td>\n",
       "      <td>76</td>\n",
       "      <td>47</td>\n",
       "      <td>76</td>\n",
       "      <td>44</td>\n",
       "      <td>76</td>\n",
       "    </tr>\n",
       "    <tr>\n",
       "      <th>6205</th>\n",
       "      <td>984.jpeg</td>\n",
       "      <td>20</td>\n",
       "      <td>38</td>\n",
       "      <td>20</td>\n",
       "      <td>46</td>\n",
       "      <td>20</td>\n",
       "      <td>53</td>\n",
       "      <td>22</td>\n",
       "      <td>61</td>\n",
       "      <td>26</td>\n",
       "      <td>...</td>\n",
       "      <td>51</td>\n",
       "      <td>70</td>\n",
       "      <td>70</td>\n",
       "      <td>69</td>\n",
       "      <td>52</td>\n",
       "      <td>79</td>\n",
       "      <td>47</td>\n",
       "      <td>79</td>\n",
       "      <td>42</td>\n",
       "      <td>77</td>\n",
       "    </tr>\n",
       "    <tr>\n",
       "      <th>6206</th>\n",
       "      <td>985.jpeg</td>\n",
       "      <td>5</td>\n",
       "      <td>40</td>\n",
       "      <td>6</td>\n",
       "      <td>50</td>\n",
       "      <td>9</td>\n",
       "      <td>60</td>\n",
       "      <td>12</td>\n",
       "      <td>69</td>\n",
       "      <td>16</td>\n",
       "      <td>...</td>\n",
       "      <td>53</td>\n",
       "      <td>74</td>\n",
       "      <td>60</td>\n",
       "      <td>75</td>\n",
       "      <td>53</td>\n",
       "      <td>75</td>\n",
       "      <td>49</td>\n",
       "      <td>76</td>\n",
       "      <td>45</td>\n",
       "      <td>76</td>\n",
       "    </tr>\n",
       "    <tr>\n",
       "      <th>6207</th>\n",
       "      <td>986.jpeg</td>\n",
       "      <td>9</td>\n",
       "      <td>35</td>\n",
       "      <td>11</td>\n",
       "      <td>45</td>\n",
       "      <td>13</td>\n",
       "      <td>55</td>\n",
       "      <td>16</td>\n",
       "      <td>65</td>\n",
       "      <td>20</td>\n",
       "      <td>...</td>\n",
       "      <td>53</td>\n",
       "      <td>74</td>\n",
       "      <td>60</td>\n",
       "      <td>74</td>\n",
       "      <td>54</td>\n",
       "      <td>77</td>\n",
       "      <td>50</td>\n",
       "      <td>77</td>\n",
       "      <td>47</td>\n",
       "      <td>77</td>\n",
       "    </tr>\n",
       "    <tr>\n",
       "      <th>6208</th>\n",
       "      <td>987.jpeg</td>\n",
       "      <td>11</td>\n",
       "      <td>41</td>\n",
       "      <td>10</td>\n",
       "      <td>51</td>\n",
       "      <td>9</td>\n",
       "      <td>61</td>\n",
       "      <td>9</td>\n",
       "      <td>70</td>\n",
       "      <td>10</td>\n",
       "      <td>...</td>\n",
       "      <td>46</td>\n",
       "      <td>74</td>\n",
       "      <td>56</td>\n",
       "      <td>78</td>\n",
       "      <td>46</td>\n",
       "      <td>76</td>\n",
       "      <td>42</td>\n",
       "      <td>76</td>\n",
       "      <td>37</td>\n",
       "      <td>75</td>\n",
       "    </tr>\n",
       "    <tr>\n",
       "      <th>6209</th>\n",
       "      <td>988.jpeg</td>\n",
       "      <td>5</td>\n",
       "      <td>30</td>\n",
       "      <td>5</td>\n",
       "      <td>41</td>\n",
       "      <td>6</td>\n",
       "      <td>52</td>\n",
       "      <td>7</td>\n",
       "      <td>62</td>\n",
       "      <td>9</td>\n",
       "      <td>...</td>\n",
       "      <td>48</td>\n",
       "      <td>76</td>\n",
       "      <td>55</td>\n",
       "      <td>77</td>\n",
       "      <td>47</td>\n",
       "      <td>76</td>\n",
       "      <td>42</td>\n",
       "      <td>76</td>\n",
       "      <td>38</td>\n",
       "      <td>76</td>\n",
       "    </tr>\n",
       "    <tr>\n",
       "      <th>6210</th>\n",
       "      <td>989.jpeg</td>\n",
       "      <td>8</td>\n",
       "      <td>30</td>\n",
       "      <td>10</td>\n",
       "      <td>41</td>\n",
       "      <td>12</td>\n",
       "      <td>51</td>\n",
       "      <td>15</td>\n",
       "      <td>62</td>\n",
       "      <td>19</td>\n",
       "      <td>...</td>\n",
       "      <td>55</td>\n",
       "      <td>74</td>\n",
       "      <td>63</td>\n",
       "      <td>72</td>\n",
       "      <td>55</td>\n",
       "      <td>75</td>\n",
       "      <td>51</td>\n",
       "      <td>75</td>\n",
       "      <td>48</td>\n",
       "      <td>74</td>\n",
       "    </tr>\n",
       "    <tr>\n",
       "      <th>6211</th>\n",
       "      <td>99.jpeg</td>\n",
       "      <td>10</td>\n",
       "      <td>40</td>\n",
       "      <td>11</td>\n",
       "      <td>49</td>\n",
       "      <td>12</td>\n",
       "      <td>59</td>\n",
       "      <td>15</td>\n",
       "      <td>68</td>\n",
       "      <td>17</td>\n",
       "      <td>...</td>\n",
       "      <td>51</td>\n",
       "      <td>74</td>\n",
       "      <td>59</td>\n",
       "      <td>76</td>\n",
       "      <td>51</td>\n",
       "      <td>76</td>\n",
       "      <td>47</td>\n",
       "      <td>77</td>\n",
       "      <td>43</td>\n",
       "      <td>76</td>\n",
       "    </tr>\n",
       "    <tr>\n",
       "      <th>6212</th>\n",
       "      <td>990.jpeg</td>\n",
       "      <td>9</td>\n",
       "      <td>34</td>\n",
       "      <td>10</td>\n",
       "      <td>44</td>\n",
       "      <td>12</td>\n",
       "      <td>54</td>\n",
       "      <td>15</td>\n",
       "      <td>64</td>\n",
       "      <td>19</td>\n",
       "      <td>...</td>\n",
       "      <td>54</td>\n",
       "      <td>74</td>\n",
       "      <td>61</td>\n",
       "      <td>74</td>\n",
       "      <td>54</td>\n",
       "      <td>76</td>\n",
       "      <td>51</td>\n",
       "      <td>76</td>\n",
       "      <td>47</td>\n",
       "      <td>76</td>\n",
       "    </tr>\n",
       "    <tr>\n",
       "      <th>6213</th>\n",
       "      <td>991.jpeg</td>\n",
       "      <td>-1</td>\n",
       "      <td>34</td>\n",
       "      <td>0</td>\n",
       "      <td>46</td>\n",
       "      <td>3</td>\n",
       "      <td>57</td>\n",
       "      <td>5</td>\n",
       "      <td>68</td>\n",
       "      <td>8</td>\n",
       "      <td>...</td>\n",
       "      <td>50</td>\n",
       "      <td>83</td>\n",
       "      <td>56</td>\n",
       "      <td>84</td>\n",
       "      <td>50</td>\n",
       "      <td>81</td>\n",
       "      <td>45</td>\n",
       "      <td>82</td>\n",
       "      <td>41</td>\n",
       "      <td>81</td>\n",
       "    </tr>\n",
       "    <tr>\n",
       "      <th>6214</th>\n",
       "      <td>992.jpeg</td>\n",
       "      <td>8</td>\n",
       "      <td>38</td>\n",
       "      <td>8</td>\n",
       "      <td>49</td>\n",
       "      <td>9</td>\n",
       "      <td>59</td>\n",
       "      <td>11</td>\n",
       "      <td>69</td>\n",
       "      <td>14</td>\n",
       "      <td>...</td>\n",
       "      <td>50</td>\n",
       "      <td>82</td>\n",
       "      <td>56</td>\n",
       "      <td>83</td>\n",
       "      <td>50</td>\n",
       "      <td>82</td>\n",
       "      <td>46</td>\n",
       "      <td>82</td>\n",
       "      <td>43</td>\n",
       "      <td>82</td>\n",
       "    </tr>\n",
       "    <tr>\n",
       "      <th>6215</th>\n",
       "      <td>993.jpeg</td>\n",
       "      <td>7</td>\n",
       "      <td>34</td>\n",
       "      <td>8</td>\n",
       "      <td>46</td>\n",
       "      <td>10</td>\n",
       "      <td>57</td>\n",
       "      <td>13</td>\n",
       "      <td>67</td>\n",
       "      <td>17</td>\n",
       "      <td>...</td>\n",
       "      <td>56</td>\n",
       "      <td>70</td>\n",
       "      <td>62</td>\n",
       "      <td>72</td>\n",
       "      <td>57</td>\n",
       "      <td>74</td>\n",
       "      <td>53</td>\n",
       "      <td>75</td>\n",
       "      <td>48</td>\n",
       "      <td>75</td>\n",
       "    </tr>\n",
       "    <tr>\n",
       "      <th>6216</th>\n",
       "      <td>994.jpeg</td>\n",
       "      <td>10</td>\n",
       "      <td>41</td>\n",
       "      <td>11</td>\n",
       "      <td>50</td>\n",
       "      <td>13</td>\n",
       "      <td>59</td>\n",
       "      <td>15</td>\n",
       "      <td>68</td>\n",
       "      <td>19</td>\n",
       "      <td>...</td>\n",
       "      <td>55</td>\n",
       "      <td>72</td>\n",
       "      <td>63</td>\n",
       "      <td>71</td>\n",
       "      <td>55</td>\n",
       "      <td>72</td>\n",
       "      <td>51</td>\n",
       "      <td>73</td>\n",
       "      <td>47</td>\n",
       "      <td>73</td>\n",
       "    </tr>\n",
       "    <tr>\n",
       "      <th>6217</th>\n",
       "      <td>995.jpeg</td>\n",
       "      <td>4</td>\n",
       "      <td>33</td>\n",
       "      <td>5</td>\n",
       "      <td>44</td>\n",
       "      <td>7</td>\n",
       "      <td>55</td>\n",
       "      <td>8</td>\n",
       "      <td>66</td>\n",
       "      <td>11</td>\n",
       "      <td>...</td>\n",
       "      <td>53</td>\n",
       "      <td>75</td>\n",
       "      <td>60</td>\n",
       "      <td>76</td>\n",
       "      <td>52</td>\n",
       "      <td>76</td>\n",
       "      <td>48</td>\n",
       "      <td>77</td>\n",
       "      <td>44</td>\n",
       "      <td>76</td>\n",
       "    </tr>\n",
       "    <tr>\n",
       "      <th>6218</th>\n",
       "      <td>997.jpeg</td>\n",
       "      <td>4</td>\n",
       "      <td>52</td>\n",
       "      <td>4</td>\n",
       "      <td>62</td>\n",
       "      <td>6</td>\n",
       "      <td>72</td>\n",
       "      <td>8</td>\n",
       "      <td>82</td>\n",
       "      <td>11</td>\n",
       "      <td>...</td>\n",
       "      <td>53</td>\n",
       "      <td>78</td>\n",
       "      <td>64</td>\n",
       "      <td>81</td>\n",
       "      <td>53</td>\n",
       "      <td>80</td>\n",
       "      <td>49</td>\n",
       "      <td>80</td>\n",
       "      <td>44</td>\n",
       "      <td>80</td>\n",
       "    </tr>\n",
       "    <tr>\n",
       "      <th>6219</th>\n",
       "      <td>998.jpeg</td>\n",
       "      <td>9</td>\n",
       "      <td>42</td>\n",
       "      <td>9</td>\n",
       "      <td>52</td>\n",
       "      <td>10</td>\n",
       "      <td>62</td>\n",
       "      <td>11</td>\n",
       "      <td>72</td>\n",
       "      <td>14</td>\n",
       "      <td>...</td>\n",
       "      <td>51</td>\n",
       "      <td>77</td>\n",
       "      <td>60</td>\n",
       "      <td>79</td>\n",
       "      <td>51</td>\n",
       "      <td>80</td>\n",
       "      <td>47</td>\n",
       "      <td>80</td>\n",
       "      <td>43</td>\n",
       "      <td>79</td>\n",
       "    </tr>\n",
       "    <tr>\n",
       "      <th>6220</th>\n",
       "      <td>999.jpeg</td>\n",
       "      <td>8</td>\n",
       "      <td>38</td>\n",
       "      <td>8</td>\n",
       "      <td>49</td>\n",
       "      <td>9</td>\n",
       "      <td>59</td>\n",
       "      <td>10</td>\n",
       "      <td>70</td>\n",
       "      <td>14</td>\n",
       "      <td>...</td>\n",
       "      <td>49</td>\n",
       "      <td>83</td>\n",
       "      <td>55</td>\n",
       "      <td>84</td>\n",
       "      <td>49</td>\n",
       "      <td>81</td>\n",
       "      <td>46</td>\n",
       "      <td>82</td>\n",
       "      <td>43</td>\n",
       "      <td>81</td>\n",
       "    </tr>\n",
       "  </tbody>\n",
       "</table>\n",
       "<p>6221 rows × 137 columns</p>\n",
       "</div>"
      ],
      "text/plain": [
       "     image_name  part_0_x  part_0_y  part_1_x  part_1_y  part_2_x  part_2_y  \\\n",
       "0        0.jpeg        10        43         9        53         8        64   \n",
       "1        1.jpeg         9        32         8        42         9        52   \n",
       "2       10.jpeg         4        34         5        44         6        54   \n",
       "3      100.jpeg        12        41        13        51        15        60   \n",
       "4     1000.jpeg         8        46         9        55        10        64   \n",
       "5     1001.jpeg        10        38        12        48        14        58   \n",
       "6     1002.jpeg         5        30         5        42         6        53   \n",
       "7     1003.jpeg        11        36        13        46        15        56   \n",
       "8     1004.jpeg         8        31         8        41         9        51   \n",
       "9     1005.jpeg        15        36        16        45        17        53   \n",
       "10    1006.jpeg         7        48         6        57         8        66   \n",
       "11    1007.jpeg         7        36         8        47        10        57   \n",
       "12    1008.jpeg         1        33         3        44         5        55   \n",
       "13    1009.jpeg         6        33         7        44         9        54   \n",
       "14     101.jpeg        -2        43         0        55         2        66   \n",
       "15    1010.jpeg        10        36        10        46        12        55   \n",
       "16    1011.jpeg        14        47        15        56        16        66   \n",
       "17    1012.jpeg         5        36         6        47         7        56   \n",
       "18    1013.jpeg         5        38         5        48         6        57   \n",
       "19    1014.jpeg         0        34         1        46         4        56   \n",
       "20    1015.jpeg        12        38        12        48        14        58   \n",
       "21    1016.jpeg         4        39         6        50         8        60   \n",
       "22    1017.jpeg         6        44         7        54         9        64   \n",
       "23    1018.jpeg         6        32         6        43         7        53   \n",
       "24    1019.jpeg         6        46         7        55         8        65   \n",
       "25    1020.jpeg         6        37         6        48         8        58   \n",
       "26    1021.jpeg        11        39        11        50        12        60   \n",
       "27    1022.jpeg        10        42        10        52        12        62   \n",
       "28    1023.jpeg         7        39         8        49        10        59   \n",
       "29    1024.jpeg         7        38         9        48        10        58   \n",
       "...         ...       ...       ...       ...       ...       ...       ...   \n",
       "6191   971.jpeg        10        43        10        52        12        61   \n",
       "6192   972.jpeg         8        42        10        52        12        61   \n",
       "6193   973.jpeg        14        42        14        52        15        61   \n",
       "6194   974.jpeg        10        42        11        53        12        62   \n",
       "6195   975.jpeg         8        41         8        52        10        62   \n",
       "6196   976.jpeg         6        38         7        49         9        59   \n",
       "6197   977.jpeg        17        40        17        49        18        58   \n",
       "6198   978.jpeg         5        34         7        45         9        56   \n",
       "6199   979.jpeg         9        39         9        49        10        59   \n",
       "6200    98.jpeg         8        37         8        48        10        58   \n",
       "6201   980.jpeg         7        40         8        51         9        60   \n",
       "6202   981.jpeg         0        34         2        45         5        56   \n",
       "6203   982.jpeg         8        39         9        49        10        59   \n",
       "6204   983.jpeg         5        45         5        54         7        64   \n",
       "6205   984.jpeg        20        38        20        46        20        53   \n",
       "6206   985.jpeg         5        40         6        50         9        60   \n",
       "6207   986.jpeg         9        35        11        45        13        55   \n",
       "6208   987.jpeg        11        41        10        51         9        61   \n",
       "6209   988.jpeg         5        30         5        41         6        52   \n",
       "6210   989.jpeg         8        30        10        41        12        51   \n",
       "6211    99.jpeg        10        40        11        49        12        59   \n",
       "6212   990.jpeg         9        34        10        44        12        54   \n",
       "6213   991.jpeg        -1        34         0        46         3        57   \n",
       "6214   992.jpeg         8        38         8        49         9        59   \n",
       "6215   993.jpeg         7        34         8        46        10        57   \n",
       "6216   994.jpeg        10        41        11        50        13        59   \n",
       "6217   995.jpeg         4        33         5        44         7        55   \n",
       "6218   997.jpeg         4        52         4        62         6        72   \n",
       "6219   998.jpeg         9        42         9        52        10        62   \n",
       "6220   999.jpeg         8        38         8        49         9        59   \n",
       "\n",
       "      part_3_x  part_3_y  part_4_x    ...      part_63_x  part_63_y  \\\n",
       "0            8        74        10    ...             47         78   \n",
       "1           12        62        15    ...             48         74   \n",
       "2            9        64        14    ...             50         70   \n",
       "3           17        70        21    ...             54         72   \n",
       "4           12        73        16    ...             54         65   \n",
       "5           16        66        19    ...             51         68   \n",
       "6            7        63         9    ...             49         79   \n",
       "7           18        66        21    ...             54         73   \n",
       "8           10        61        14    ...             48         76   \n",
       "9           19        61        22    ...             48         66   \n",
       "10          10        75        13    ...             50         73   \n",
       "11          12        67        15    ...             50         79   \n",
       "12           7        65        11    ...             49         71   \n",
       "13          12        64        16    ...             50         69   \n",
       "14           6        76        12    ...             56         79   \n",
       "15          14        65        17    ...             51         71   \n",
       "16          18        75        23    ...             54         72   \n",
       "17           9        66        13    ...             49         72   \n",
       "18           8        66        11    ...             50         69   \n",
       "19           6        67        10    ...             49         72   \n",
       "20          16        68        20    ...             54         71   \n",
       "21          10        70        13    ...             52         80   \n",
       "22          11        74        15    ...             57         72   \n",
       "23           9        62        13    ...             48         75   \n",
       "24          11        74        15    ...             52         75   \n",
       "25          10        68        13    ...             51         74   \n",
       "26          13        71        16    ...             53         76   \n",
       "27          14        71        17    ...             49         78   \n",
       "28          13        69        16    ...             53         71   \n",
       "29          12        68        15    ...             50         76   \n",
       "...        ...       ...       ...    ...            ...        ...   \n",
       "6191        14        70        18    ...             51         66   \n",
       "6192        14        71        18    ...             54         73   \n",
       "6193        16        71        19    ...             50         77   \n",
       "6194        14        72        16    ...             52         78   \n",
       "6195        12        72        15    ...             51         81   \n",
       "6196        10        69        12    ...             50         79   \n",
       "6197        19        66        23    ...             52         71   \n",
       "6198        12        66        15    ...             53         77   \n",
       "6199        12        68        14    ...             51         73   \n",
       "6200        12        67        15    ...             50         75   \n",
       "6201        12        70        16    ...             54         74   \n",
       "6202         8        67        11    ...             53         78   \n",
       "6203        13        70        17    ...             51         77   \n",
       "6204         9        73        12    ...             50         72   \n",
       "6205        22        61        26    ...             51         70   \n",
       "6206        12        69        16    ...             53         74   \n",
       "6207        16        65        20    ...             53         74   \n",
       "6208         9        70        10    ...             46         74   \n",
       "6209         7        62         9    ...             48         76   \n",
       "6210        15        62        19    ...             55         74   \n",
       "6211        15        68        17    ...             51         74   \n",
       "6212        15        64        19    ...             54         74   \n",
       "6213         5        68         8    ...             50         83   \n",
       "6214        11        69        14    ...             50         82   \n",
       "6215        13        67        17    ...             56         70   \n",
       "6216        15        68        19    ...             55         72   \n",
       "6217         8        66        11    ...             53         75   \n",
       "6218         8        82        11    ...             53         78   \n",
       "6219        11        72        14    ...             51         77   \n",
       "6220        10        70        14    ...             49         83   \n",
       "\n",
       "      part_64_x  part_64_y  part_65_x  part_65_y  part_66_x  part_66_y  \\\n",
       "0            56         80         47         77         43         77   \n",
       "1            53         76         48         77         46         77   \n",
       "2            56         72         50         72         47         72   \n",
       "3            61         71         54         73         51         73   \n",
       "4            62         70         54         72         50         72   \n",
       "5            60         71         52         76         48         76   \n",
       "6            57         81         49         81         44         81   \n",
       "7            62         73         54         77         50         77   \n",
       "8            55         77         48         75         44         75   \n",
       "9            54         69         48         70         45         70   \n",
       "10           59         79         51         80         47         80   \n",
       "11           58         80         49         80         45         80   \n",
       "12           55         74         49         74         44         74   \n",
       "13           55         72         50         75         47         76   \n",
       "14           60         80         57         81         54         82   \n",
       "15           60         73         52         78         47         79   \n",
       "16           63         71         54         72         51         73   \n",
       "17           56         74         49         74         46         74   \n",
       "18           58         70         50         69         46         70   \n",
       "19           55         74         49         75         44         76   \n",
       "20           62         70         54         72         50         72   \n",
       "21           57         82         51         81         47         82   \n",
       "22           64         73         57         73         53         73   \n",
       "23           52         77         48         78         44         79   \n",
       "24           62         75         53         75         50         76   \n",
       "25           60         75         51         74         47         74   \n",
       "26           61         77         53         76         49         77   \n",
       "27           57         79         49         78         45         79   \n",
       "28           61         74         53         79         49         79   \n",
       "29           60         78         50         81         46         82   \n",
       "...         ...        ...        ...        ...        ...        ...   \n",
       "6191         59         69         51         68         48         69   \n",
       "6192         61         74         54         75         50         76   \n",
       "6193         60         78         51         80         46         80   \n",
       "6194         61         79         52         79         48         79   \n",
       "6195         57         84         51         81         49         82   \n",
       "6196         58         80         50         79         46         79   \n",
       "6197         60         69         53         70         50         70   \n",
       "6198         61         77         53         77         48         78   \n",
       "6199         61         74         51         77         47         78   \n",
       "6200         58         80         50         81         45         81   \n",
       "6201         65         74         54         81         50         81   \n",
       "6202         62         78         53         80         49         80   \n",
       "6203         59         77         51         78         47         78   \n",
       "6204         58         75         50         76         47         76   \n",
       "6205         70         69         52         79         47         79   \n",
       "6206         60         75         53         75         49         76   \n",
       "6207         60         74         54         77         50         77   \n",
       "6208         56         78         46         76         42         76   \n",
       "6209         55         77         47         76         42         76   \n",
       "6210         63         72         55         75         51         75   \n",
       "6211         59         76         51         76         47         77   \n",
       "6212         61         74         54         76         51         76   \n",
       "6213         56         84         50         81         45         82   \n",
       "6214         56         83         50         82         46         82   \n",
       "6215         62         72         57         74         53         75   \n",
       "6216         63         71         55         72         51         73   \n",
       "6217         60         76         52         76         48         77   \n",
       "6218         64         81         53         80         49         80   \n",
       "6219         60         79         51         80         47         80   \n",
       "6220         55         84         49         81         46         82   \n",
       "\n",
       "      part_67_x  part_67_y  \n",
       "0            39         77  \n",
       "1            42         77  \n",
       "2            43         72  \n",
       "3            47         73  \n",
       "4            46         71  \n",
       "5            44         76  \n",
       "6            39         80  \n",
       "7            45         77  \n",
       "8            41         73  \n",
       "9            42         69  \n",
       "10           43         80  \n",
       "11           42         80  \n",
       "12           39         74  \n",
       "13           44         75  \n",
       "14           50         82  \n",
       "15           43         79  \n",
       "16           47         73  \n",
       "17           43         74  \n",
       "18           42         69  \n",
       "19           39         75  \n",
       "20           46         72  \n",
       "21           43         81  \n",
       "22           49         73  \n",
       "23           42         78  \n",
       "24           46         76  \n",
       "25           43         74  \n",
       "26           45         77  \n",
       "27           41         78  \n",
       "28           44         79  \n",
       "29           42         81  \n",
       "...         ...        ...  \n",
       "6191         46         69  \n",
       "6192         45         76  \n",
       "6193         42         80  \n",
       "6194         43         79  \n",
       "6195         46         81  \n",
       "6196         42         79  \n",
       "6197         46         70  \n",
       "6198         44         78  \n",
       "6199         43         77  \n",
       "6200         40         80  \n",
       "6201         45         80  \n",
       "6202         44         80  \n",
       "6203         44         78  \n",
       "6204         44         76  \n",
       "6205         42         77  \n",
       "6206         45         76  \n",
       "6207         47         77  \n",
       "6208         37         75  \n",
       "6209         38         76  \n",
       "6210         48         74  \n",
       "6211         43         76  \n",
       "6212         47         76  \n",
       "6213         41         81  \n",
       "6214         43         82  \n",
       "6215         48         75  \n",
       "6216         47         73  \n",
       "6217         44         76  \n",
       "6218         44         80  \n",
       "6219         43         79  \n",
       "6220         43         81  \n",
       "\n",
       "[6221 rows x 137 columns]"
      ]
     },
     "execution_count": 64,
     "metadata": {},
     "output_type": "execute_result"
    }
   ],
   "source": [
    "pd.read_csv(\"dataset/train/face_landmarks.csv\")"
   ]
  },
  {
   "cell_type": "code",
   "execution_count": null,
   "metadata": {
    "collapsed": true
   },
   "outputs": [],
   "source": []
  }
 ],
 "metadata": {
  "kernelspec": {
   "display_name": "Python 3",
   "language": "python",
   "name": "python3"
  },
  "language_info": {
   "codemirror_mode": {
    "name": "ipython",
    "version": 3
   },
   "file_extension": ".py",
   "mimetype": "text/x-python",
   "name": "python",
   "nbconvert_exporter": "python",
   "pygments_lexer": "ipython3",
   "version": "3.6.1"
  }
 },
 "nbformat": 4,
 "nbformat_minor": 1
}
